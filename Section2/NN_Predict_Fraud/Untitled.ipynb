{
 "cells": [
  {
   "cell_type": "code",
   "execution_count": 1,
   "metadata": {},
   "outputs": [],
   "source": [
    "import numpy as np\n",
    "import pandas as pd"
   ]
  },
  {
   "cell_type": "code",
   "execution_count": 97,
   "metadata": {},
   "outputs": [],
   "source": [
    "df= pd.read_csv('new.csv')"
   ]
  },
  {
   "cell_type": "code",
   "execution_count": 98,
   "metadata": {},
   "outputs": [
    {
     "data": {
      "text/html": [
       "<div>\n",
       "<style scoped>\n",
       "    .dataframe tbody tr th:only-of-type {\n",
       "        vertical-align: middle;\n",
       "    }\n",
       "\n",
       "    .dataframe tbody tr th {\n",
       "        vertical-align: top;\n",
       "    }\n",
       "\n",
       "    .dataframe thead th {\n",
       "        text-align: right;\n",
       "    }\n",
       "</style>\n",
       "<table border=\"1\" class=\"dataframe\">\n",
       "  <thead>\n",
       "    <tr style=\"text-align: right;\">\n",
       "      <th></th>\n",
       "      <th>No. of FTE Request Raised</th>\n",
       "    </tr>\n",
       "  </thead>\n",
       "  <tbody>\n",
       "    <tr>\n",
       "      <th>No. of FTE Request Raised</th>\n",
       "      <td>1.0</td>\n",
       "    </tr>\n",
       "  </tbody>\n",
       "</table>\n",
       "</div>"
      ],
      "text/plain": [
       "                           No. of FTE Request Raised\n",
       "No. of FTE Request Raised                        1.0"
      ]
     },
     "execution_count": 98,
     "metadata": {},
     "output_type": "execute_result"
    }
   ],
   "source": [
    "df.corr()"
   ]
  },
  {
   "cell_type": "code",
   "execution_count": 99,
   "metadata": {},
   "outputs": [
    {
     "data": {
      "text/html": [
       "<div>\n",
       "<style scoped>\n",
       "    .dataframe tbody tr th:only-of-type {\n",
       "        vertical-align: middle;\n",
       "    }\n",
       "\n",
       "    .dataframe tbody tr th {\n",
       "        vertical-align: top;\n",
       "    }\n",
       "\n",
       "    .dataframe thead th {\n",
       "        text-align: right;\n",
       "    }\n",
       "</style>\n",
       "<table border=\"1\" class=\"dataframe\">\n",
       "  <thead>\n",
       "    <tr style=\"text-align: right;\">\n",
       "      <th></th>\n",
       "      <th>Month DD Raised</th>\n",
       "      <th>No. of FTE Request Raised</th>\n",
       "      <th>SkillList</th>\n",
       "      <th>Location</th>\n",
       "      <th>Experience Grade</th>\n",
       "      <th>Practice</th>\n",
       "      <th>Skill Group</th>\n",
       "      <th>Demand Source</th>\n",
       "    </tr>\n",
       "  </thead>\n",
       "  <tbody>\n",
       "    <tr>\n",
       "      <th>0</th>\n",
       "      <td>May</td>\n",
       "      <td>4</td>\n",
       "      <td>Salesforce (Functional)</td>\n",
       "      <td>Bangalore</td>\n",
       "      <td>A4</td>\n",
       "      <td>BANK</td>\n",
       "      <td>(F) IT Operations</td>\n",
       "      <td>Account</td>\n",
       "    </tr>\n",
       "    <tr>\n",
       "      <th>1</th>\n",
       "      <td>October</td>\n",
       "      <td>2</td>\n",
       "      <td>Amazon Web services - Build , Administration a...</td>\n",
       "      <td>Bhubaneswar</td>\n",
       "      <td>B2</td>\n",
       "      <td>M&amp;FT</td>\n",
       "      <td>(F) IT Operations</td>\n",
       "      <td>Account</td>\n",
       "    </tr>\n",
       "    <tr>\n",
       "      <th>2</th>\n",
       "      <td>March</td>\n",
       "      <td>2</td>\n",
       "      <td>Amazon Web services - Build , Administration a...</td>\n",
       "      <td>Pune</td>\n",
       "      <td>A3</td>\n",
       "      <td>TEST</td>\n",
       "      <td>NaN</td>\n",
       "      <td>Support</td>\n",
       "    </tr>\n",
       "    <tr>\n",
       "      <th>3</th>\n",
       "      <td>October</td>\n",
       "      <td>1</td>\n",
       "      <td>Test Automation</td>\n",
       "      <td>Bhubaneswar</td>\n",
       "      <td>B2</td>\n",
       "      <td>M&amp;FT</td>\n",
       "      <td>(F) IT Operations</td>\n",
       "      <td>Account</td>\n",
       "    </tr>\n",
       "    <tr>\n",
       "      <th>4</th>\n",
       "      <td>June</td>\n",
       "      <td>2</td>\n",
       "      <td>PMO (Account)</td>\n",
       "      <td>Noida</td>\n",
       "      <td>A5</td>\n",
       "      <td>I&amp;D</td>\n",
       "      <td>(D) Banking Sector</td>\n",
       "      <td>Proactive</td>\n",
       "    </tr>\n",
       "  </tbody>\n",
       "</table>\n",
       "</div>"
      ],
      "text/plain": [
       "  Month DD Raised  No. of FTE Request Raised  \\\n",
       "0             May                          4   \n",
       "1         October                          2   \n",
       "2           March                          2   \n",
       "3         October                          1   \n",
       "4            June                          2   \n",
       "\n",
       "                                           SkillList     Location  \\\n",
       "0                            Salesforce (Functional)    Bangalore   \n",
       "1  Amazon Web services - Build , Administration a...  Bhubaneswar   \n",
       "2  Amazon Web services - Build , Administration a...         Pune   \n",
       "3                                    Test Automation  Bhubaneswar   \n",
       "4                                      PMO (Account)        Noida   \n",
       "\n",
       "  Experience Grade Practice         Skill Group Demand Source  \n",
       "0               A4     BANK   (F) IT Operations       Account  \n",
       "1               B2     M&FT   (F) IT Operations       Account  \n",
       "2               A3     TEST                 NaN       Support  \n",
       "3               B2     M&FT   (F) IT Operations       Account  \n",
       "4               A5      I&D  (D) Banking Sector     Proactive  "
      ]
     },
     "execution_count": 99,
     "metadata": {},
     "output_type": "execute_result"
    }
   ],
   "source": [
    "df.head()"
   ]
  },
  {
   "cell_type": "code",
   "execution_count": 100,
   "metadata": {},
   "outputs": [
    {
     "data": {
      "text/html": [
       "<div>\n",
       "<style scoped>\n",
       "    .dataframe tbody tr th:only-of-type {\n",
       "        vertical-align: middle;\n",
       "    }\n",
       "\n",
       "    .dataframe tbody tr th {\n",
       "        vertical-align: top;\n",
       "    }\n",
       "\n",
       "    .dataframe thead th {\n",
       "        text-align: right;\n",
       "    }\n",
       "</style>\n",
       "<table border=\"1\" class=\"dataframe\">\n",
       "  <thead>\n",
       "    <tr style=\"text-align: right;\">\n",
       "      <th></th>\n",
       "      <th>No. of FTE Request Raised</th>\n",
       "    </tr>\n",
       "  </thead>\n",
       "  <tbody>\n",
       "    <tr>\n",
       "      <th>count</th>\n",
       "      <td>1023.000000</td>\n",
       "    </tr>\n",
       "    <tr>\n",
       "      <th>mean</th>\n",
       "      <td>2.482893</td>\n",
       "    </tr>\n",
       "    <tr>\n",
       "      <th>std</th>\n",
       "      <td>1.118012</td>\n",
       "    </tr>\n",
       "    <tr>\n",
       "      <th>min</th>\n",
       "      <td>1.000000</td>\n",
       "    </tr>\n",
       "    <tr>\n",
       "      <th>25%</th>\n",
       "      <td>2.000000</td>\n",
       "    </tr>\n",
       "    <tr>\n",
       "      <th>50%</th>\n",
       "      <td>2.000000</td>\n",
       "    </tr>\n",
       "    <tr>\n",
       "      <th>75%</th>\n",
       "      <td>4.000000</td>\n",
       "    </tr>\n",
       "    <tr>\n",
       "      <th>max</th>\n",
       "      <td>4.000000</td>\n",
       "    </tr>\n",
       "  </tbody>\n",
       "</table>\n",
       "</div>"
      ],
      "text/plain": [
       "       No. of FTE Request Raised\n",
       "count                1023.000000\n",
       "mean                    2.482893\n",
       "std                     1.118012\n",
       "min                     1.000000\n",
       "25%                     2.000000\n",
       "50%                     2.000000\n",
       "75%                     4.000000\n",
       "max                     4.000000"
      ]
     },
     "execution_count": 100,
     "metadata": {},
     "output_type": "execute_result"
    }
   ],
   "source": [
    "df.describe()"
   ]
  },
  {
   "cell_type": "code",
   "execution_count": 101,
   "metadata": {},
   "outputs": [],
   "source": [
    "df.columns = ['Month', 'Requests', 'Skill', 'Location', 'Exp' , 'Practice' , 'SkillGroup', 'Demand']"
   ]
  },
  {
   "cell_type": "code",
   "execution_count": 102,
   "metadata": {},
   "outputs": [
    {
     "data": {
      "text/html": [
       "<div>\n",
       "<style scoped>\n",
       "    .dataframe tbody tr th:only-of-type {\n",
       "        vertical-align: middle;\n",
       "    }\n",
       "\n",
       "    .dataframe tbody tr th {\n",
       "        vertical-align: top;\n",
       "    }\n",
       "\n",
       "    .dataframe thead th {\n",
       "        text-align: right;\n",
       "    }\n",
       "</style>\n",
       "<table border=\"1\" class=\"dataframe\">\n",
       "  <thead>\n",
       "    <tr style=\"text-align: right;\">\n",
       "      <th></th>\n",
       "      <th>Month</th>\n",
       "      <th>Requests</th>\n",
       "      <th>Skill</th>\n",
       "      <th>Location</th>\n",
       "      <th>Exp</th>\n",
       "      <th>Practice</th>\n",
       "      <th>SkillGroup</th>\n",
       "      <th>Demand</th>\n",
       "    </tr>\n",
       "  </thead>\n",
       "  <tbody>\n",
       "    <tr>\n",
       "      <th>0</th>\n",
       "      <td>May</td>\n",
       "      <td>4</td>\n",
       "      <td>Salesforce (Functional)</td>\n",
       "      <td>Bangalore</td>\n",
       "      <td>A4</td>\n",
       "      <td>BANK</td>\n",
       "      <td>(F) IT Operations</td>\n",
       "      <td>Account</td>\n",
       "    </tr>\n",
       "    <tr>\n",
       "      <th>1</th>\n",
       "      <td>October</td>\n",
       "      <td>2</td>\n",
       "      <td>Amazon Web services - Build , Administration a...</td>\n",
       "      <td>Bhubaneswar</td>\n",
       "      <td>B2</td>\n",
       "      <td>M&amp;FT</td>\n",
       "      <td>(F) IT Operations</td>\n",
       "      <td>Account</td>\n",
       "    </tr>\n",
       "    <tr>\n",
       "      <th>2</th>\n",
       "      <td>March</td>\n",
       "      <td>2</td>\n",
       "      <td>Amazon Web services - Build , Administration a...</td>\n",
       "      <td>Pune</td>\n",
       "      <td>A3</td>\n",
       "      <td>TEST</td>\n",
       "      <td>NaN</td>\n",
       "      <td>Support</td>\n",
       "    </tr>\n",
       "    <tr>\n",
       "      <th>3</th>\n",
       "      <td>October</td>\n",
       "      <td>1</td>\n",
       "      <td>Test Automation</td>\n",
       "      <td>Bhubaneswar</td>\n",
       "      <td>B2</td>\n",
       "      <td>M&amp;FT</td>\n",
       "      <td>(F) IT Operations</td>\n",
       "      <td>Account</td>\n",
       "    </tr>\n",
       "    <tr>\n",
       "      <th>4</th>\n",
       "      <td>June</td>\n",
       "      <td>2</td>\n",
       "      <td>PMO (Account)</td>\n",
       "      <td>Noida</td>\n",
       "      <td>A5</td>\n",
       "      <td>I&amp;D</td>\n",
       "      <td>(D) Banking Sector</td>\n",
       "      <td>Proactive</td>\n",
       "    </tr>\n",
       "  </tbody>\n",
       "</table>\n",
       "</div>"
      ],
      "text/plain": [
       "     Month  Requests                                              Skill  \\\n",
       "0      May         4                            Salesforce (Functional)   \n",
       "1  October         2  Amazon Web services - Build , Administration a...   \n",
       "2    March         2  Amazon Web services - Build , Administration a...   \n",
       "3  October         1                                    Test Automation   \n",
       "4     June         2                                      PMO (Account)   \n",
       "\n",
       "      Location Exp Practice          SkillGroup     Demand  \n",
       "0    Bangalore  A4     BANK   (F) IT Operations    Account  \n",
       "1  Bhubaneswar  B2     M&FT   (F) IT Operations    Account  \n",
       "2         Pune  A3     TEST                 NaN    Support  \n",
       "3  Bhubaneswar  B2     M&FT   (F) IT Operations    Account  \n",
       "4        Noida  A5      I&D  (D) Banking Sector  Proactive  "
      ]
     },
     "execution_count": 102,
     "metadata": {},
     "output_type": "execute_result"
    }
   ],
   "source": [
    "df.head()"
   ]
  },
  {
   "cell_type": "code",
   "execution_count": 103,
   "metadata": {},
   "outputs": [
    {
     "data": {
      "text/plain": [
       "Month           8\n",
       "Requests        4\n",
       "Skill         222\n",
       "Location        8\n",
       "Exp             8\n",
       "Practice       11\n",
       "SkillGroup     52\n",
       "Demand          3\n",
       "dtype: int64"
      ]
     },
     "execution_count": 103,
     "metadata": {},
     "output_type": "execute_result"
    }
   ],
   "source": [
    "df.nunique()"
   ]
  },
  {
   "cell_type": "code",
   "execution_count": 104,
   "metadata": {},
   "outputs": [],
   "source": [
    "df['Month'].unique()\n",
    "months = {'May':5, 'October':10, 'March':3, 'June':6, 'August':8, 'February':2, 'January':1,\n",
    "       'December':12}"
   ]
  },
  {
   "cell_type": "code",
   "execution_count": 105,
   "metadata": {},
   "outputs": [],
   "source": [
    "df.Month = df.Month.map(months)"
   ]
  },
  {
   "cell_type": "code",
   "execution_count": 106,
   "metadata": {},
   "outputs": [],
   "source": [
    "df.sort_values('Month', inplace=True)"
   ]
  },
  {
   "cell_type": "code",
   "execution_count": 107,
   "metadata": {},
   "outputs": [
    {
     "data": {
      "text/html": [
       "<div>\n",
       "<style scoped>\n",
       "    .dataframe tbody tr th:only-of-type {\n",
       "        vertical-align: middle;\n",
       "    }\n",
       "\n",
       "    .dataframe tbody tr th {\n",
       "        vertical-align: top;\n",
       "    }\n",
       "\n",
       "    .dataframe thead th {\n",
       "        text-align: right;\n",
       "    }\n",
       "</style>\n",
       "<table border=\"1\" class=\"dataframe\">\n",
       "  <thead>\n",
       "    <tr style=\"text-align: right;\">\n",
       "      <th></th>\n",
       "      <th>Month</th>\n",
       "      <th>Requests</th>\n",
       "      <th>Skill</th>\n",
       "      <th>Location</th>\n",
       "      <th>Exp</th>\n",
       "      <th>Practice</th>\n",
       "      <th>SkillGroup</th>\n",
       "      <th>Demand</th>\n",
       "    </tr>\n",
       "  </thead>\n",
       "  <tbody>\n",
       "    <tr>\n",
       "      <th>409</th>\n",
       "      <td>1</td>\n",
       "      <td>2</td>\n",
       "      <td>Testing Manual</td>\n",
       "      <td>Chennai</td>\n",
       "      <td>A1</td>\n",
       "      <td>DCX</td>\n",
       "      <td>(T) Microsoft Development Technologies</td>\n",
       "      <td>Proactive</td>\n",
       "    </tr>\n",
       "    <tr>\n",
       "      <th>356</th>\n",
       "      <td>1</td>\n",
       "      <td>4</td>\n",
       "      <td>Selenium,Test Automation,Cucumber, Behat,Java 7</td>\n",
       "      <td>Chennai</td>\n",
       "      <td>A1</td>\n",
       "      <td>DCX</td>\n",
       "      <td>(T) Guidewire</td>\n",
       "      <td>Account</td>\n",
       "    </tr>\n",
       "    <tr>\n",
       "      <th>166</th>\n",
       "      <td>1</td>\n",
       "      <td>4</td>\n",
       "      <td>CRM - Salesforce.com</td>\n",
       "      <td>Chennai</td>\n",
       "      <td>A1</td>\n",
       "      <td>DCX</td>\n",
       "      <td>(T) Mainframe Development Technologies</td>\n",
       "      <td>Proactive</td>\n",
       "    </tr>\n",
       "    <tr>\n",
       "      <th>500</th>\n",
       "      <td>1</td>\n",
       "      <td>1</td>\n",
       "      <td>Teradata</td>\n",
       "      <td>Chennai</td>\n",
       "      <td>A1</td>\n",
       "      <td>DCX</td>\n",
       "      <td>(F) IT Consulting</td>\n",
       "      <td>Proactive</td>\n",
       "    </tr>\n",
       "    <tr>\n",
       "      <th>909</th>\n",
       "      <td>1</td>\n",
       "      <td>1</td>\n",
       "      <td>Amazon Web services - Build , Administration a...</td>\n",
       "      <td>Chennai</td>\n",
       "      <td>A1</td>\n",
       "      <td>DCX</td>\n",
       "      <td>(T) Web Development Technologies</td>\n",
       "      <td>Proactive</td>\n",
       "    </tr>\n",
       "  </tbody>\n",
       "</table>\n",
       "</div>"
      ],
      "text/plain": [
       "     Month  Requests                                              Skill  \\\n",
       "409      1         2                                     Testing Manual   \n",
       "356      1         4    Selenium,Test Automation,Cucumber, Behat,Java 7   \n",
       "166      1         4                               CRM - Salesforce.com   \n",
       "500      1         1                                           Teradata   \n",
       "909      1         1  Amazon Web services - Build , Administration a...   \n",
       "\n",
       "    Location Exp Practice                              SkillGroup     Demand  \n",
       "409  Chennai  A1      DCX  (T) Microsoft Development Technologies  Proactive  \n",
       "356  Chennai  A1      DCX                           (T) Guidewire    Account  \n",
       "166  Chennai  A1      DCX  (T) Mainframe Development Technologies  Proactive  \n",
       "500  Chennai  A1      DCX                       (F) IT Consulting  Proactive  \n",
       "909  Chennai  A1      DCX        (T) Web Development Technologies  Proactive  "
      ]
     },
     "execution_count": 107,
     "metadata": {},
     "output_type": "execute_result"
    }
   ],
   "source": [
    "df.head()"
   ]
  },
  {
   "cell_type": "code",
   "execution_count": 108,
   "metadata": {},
   "outputs": [],
   "source": [
    "\n",
    "df.Month = df.Month.astype(str)"
   ]
  },
  {
   "cell_type": "code",
   "execution_count": 109,
   "metadata": {},
   "outputs": [
    {
     "data": {
      "text/plain": [
       "True"
      ]
     },
     "execution_count": 109,
     "metadata": {},
     "output_type": "execute_result"
    }
   ],
   "source": [
    "df.isnull().values.any()"
   ]
  },
  {
   "cell_type": "code",
   "execution_count": 110,
   "metadata": {},
   "outputs": [
    {
     "name": "stdout",
     "output_type": "stream",
     "text": [
      "<class 'pandas.core.frame.DataFrame'>\n",
      "Int64Index: 1023 entries, 409 to 543\n",
      "Data columns (total 8 columns):\n",
      "Month         1023 non-null object\n",
      "Requests      1023 non-null int64\n",
      "Skill         1023 non-null object\n",
      "Location      1023 non-null object\n",
      "Exp           1023 non-null object\n",
      "Practice      1023 non-null object\n",
      "SkillGroup    981 non-null object\n",
      "Demand        1023 non-null object\n",
      "dtypes: int64(1), object(7)\n",
      "memory usage: 71.9+ KB\n"
     ]
    }
   ],
   "source": [
    "df.info()"
   ]
  },
  {
   "cell_type": "code",
   "execution_count": 111,
   "metadata": {},
   "outputs": [],
   "source": [
    "df.loc[df['SkillGroup'].isnull() , 'SkillGroup'] = 'Undefined'"
   ]
  },
  {
   "cell_type": "code",
   "execution_count": null,
   "metadata": {},
   "outputs": [],
   "source": []
  },
  {
   "cell_type": "code",
   "execution_count": 112,
   "metadata": {},
   "outputs": [
    {
     "data": {
      "text/plain": [
       "(1023,)"
      ]
     },
     "execution_count": 112,
     "metadata": {},
     "output_type": "execute_result"
    }
   ],
   "source": [
    "y = np.array(df['Requests'])\n",
    "y.shape"
   ]
  },
  {
   "cell_type": "code",
   "execution_count": 89,
   "metadata": {},
   "outputs": [],
   "source": [
    "df_X = df.drop(columns='Requests', axis=1)"
   ]
  },
  {
   "cell_type": "code",
   "execution_count": 90,
   "metadata": {},
   "outputs": [],
   "source": [
    "df_new = pd.get_dummies(df_X)"
   ]
  },
  {
   "cell_type": "code",
   "execution_count": 91,
   "metadata": {},
   "outputs": [
    {
     "data": {
      "text/plain": [
       "(1023, 313)"
      ]
     },
     "execution_count": 91,
     "metadata": {},
     "output_type": "execute_result"
    }
   ],
   "source": [
    "df_new.shape"
   ]
  },
  {
   "cell_type": "code",
   "execution_count": 113,
   "metadata": {},
   "outputs": [
    {
     "ename": "TypeError",
     "evalue": "first argument must be an iterable of pandas objects, you passed an object of type \"DataFrame\"",
     "output_type": "error",
     "traceback": [
      "\u001b[1;31m---------------------------------------------------------------------------\u001b[0m",
      "\u001b[1;31mTypeError\u001b[0m                                 Traceback (most recent call last)",
      "\u001b[1;32m<ipython-input-113-4be8c052964c>\u001b[0m in \u001b[0;36m<module>\u001b[1;34m()\u001b[0m\n\u001b[1;32m----> 1\u001b[1;33m \u001b[0meda\u001b[0m \u001b[1;33m=\u001b[0m \u001b[0mpd\u001b[0m\u001b[1;33m.\u001b[0m\u001b[0mconcat\u001b[0m\u001b[1;33m(\u001b[0m\u001b[0mdf_new\u001b[0m\u001b[1;33m,\u001b[0m \u001b[0mdf\u001b[0m\u001b[1;33m[\u001b[0m\u001b[1;34m'Requests'\u001b[0m\u001b[1;33m]\u001b[0m\u001b[1;33m)\u001b[0m\u001b[1;33m\u001b[0m\u001b[0m\n\u001b[0m\u001b[0;32m      2\u001b[0m \u001b[0meda\u001b[0m\u001b[1;33m.\u001b[0m\u001b[0mcorr\u001b[0m\u001b[1;33m(\u001b[0m\u001b[1;33m)\u001b[0m\u001b[1;33m\u001b[0m\u001b[0m\n",
      "\u001b[1;32mc:\\users\\kanwal\\miniconda3\\lib\\site-packages\\pandas\\core\\reshape\\concat.py\u001b[0m in \u001b[0;36mconcat\u001b[1;34m(objs, axis, join, join_axes, ignore_index, keys, levels, names, verify_integrity, sort, copy)\u001b[0m\n\u001b[0;32m    223\u001b[0m                        \u001b[0mkeys\u001b[0m\u001b[1;33m=\u001b[0m\u001b[0mkeys\u001b[0m\u001b[1;33m,\u001b[0m \u001b[0mlevels\u001b[0m\u001b[1;33m=\u001b[0m\u001b[0mlevels\u001b[0m\u001b[1;33m,\u001b[0m \u001b[0mnames\u001b[0m\u001b[1;33m=\u001b[0m\u001b[0mnames\u001b[0m\u001b[1;33m,\u001b[0m\u001b[1;33m\u001b[0m\u001b[0m\n\u001b[0;32m    224\u001b[0m                        \u001b[0mverify_integrity\u001b[0m\u001b[1;33m=\u001b[0m\u001b[0mverify_integrity\u001b[0m\u001b[1;33m,\u001b[0m\u001b[1;33m\u001b[0m\u001b[0m\n\u001b[1;32m--> 225\u001b[1;33m                        copy=copy, sort=sort)\n\u001b[0m\u001b[0;32m    226\u001b[0m     \u001b[1;32mreturn\u001b[0m \u001b[0mop\u001b[0m\u001b[1;33m.\u001b[0m\u001b[0mget_result\u001b[0m\u001b[1;33m(\u001b[0m\u001b[1;33m)\u001b[0m\u001b[1;33m\u001b[0m\u001b[0m\n\u001b[0;32m    227\u001b[0m \u001b[1;33m\u001b[0m\u001b[0m\n",
      "\u001b[1;32mc:\\users\\kanwal\\miniconda3\\lib\\site-packages\\pandas\\core\\reshape\\concat.py\u001b[0m in \u001b[0;36m__init__\u001b[1;34m(self, objs, axis, join, join_axes, keys, levels, names, ignore_index, verify_integrity, copy, sort)\u001b[0m\n\u001b[0;32m    239\u001b[0m             raise TypeError('first argument must be an iterable of pandas '\n\u001b[0;32m    240\u001b[0m                             \u001b[1;34m'objects, you passed an object of type '\u001b[0m\u001b[1;33m\u001b[0m\u001b[0m\n\u001b[1;32m--> 241\u001b[1;33m                             '\"{name}\"'.format(name=type(objs).__name__))\n\u001b[0m\u001b[0;32m    242\u001b[0m \u001b[1;33m\u001b[0m\u001b[0m\n\u001b[0;32m    243\u001b[0m         \u001b[1;32mif\u001b[0m \u001b[0mjoin\u001b[0m \u001b[1;33m==\u001b[0m \u001b[1;34m'outer'\u001b[0m\u001b[1;33m:\u001b[0m\u001b[1;33m\u001b[0m\u001b[0m\n",
      "\u001b[1;31mTypeError\u001b[0m: first argument must be an iterable of pandas objects, you passed an object of type \"DataFrame\""
     ]
    }
   ],
   "source": [
    "eda = pd.concat(df_new, df['Requests'])\n",
    "eda.corr()"
   ]
  },
  {
   "cell_type": "code",
   "execution_count": 92,
   "metadata": {},
   "outputs": [
    {
     "data": {
      "text/plain": [
       "((971, 313), (52, 313), (971,), (52,))"
      ]
     },
     "execution_count": 92,
     "metadata": {},
     "output_type": "execute_result"
    }
   ],
   "source": [
    "from sklearn.model_selection import train_test_split\n",
    "X_train, X_test, y_train, y_test = train_test_split(np.array(df_new), y , test_size = 0.05)\n",
    "X_train.shape, X_test.shape, y_train.shape, y_test.shape"
   ]
  },
  {
   "cell_type": "code",
   "execution_count": 93,
   "metadata": {},
   "outputs": [],
   "source": [
    "import keras\n",
    "from keras.layers import BatchNormalization\n",
    "from keras.layers.core import Flatten,Dense,Dropout, Activation, Lambda\n",
    "from keras.models import Model, Sequential\n",
    "from keras.optimizers import Adam,SGD\n",
    "from keras.callbacks import TensorBoard"
   ]
  },
  {
   "cell_type": "code",
   "execution_count": 94,
   "metadata": {},
   "outputs": [],
   "source": [
    "model = Sequential()\n",
    "#model.add(Lambda(lambda x: x , input_shape = (24)))\n",
    "#model.add(Lambda(lambda x: x+0.1 , input_shape = (64,64,3)))\n",
    "#model.add(Flatten())\n",
    "#model.add(BatchNormalization(input_shape=(313,)))\n",
    "model.add(Dense(1000,input_shape=(313,)))\n",
    "model.add(Activation('elu'))\n",
    "\n",
    "\n",
    "model.add(Dropout(0.2))\n",
    "#model.add(BatchNormalization())\n",
    "model.add(Dense(500))\n",
    "model.add(Activation('elu'))\n",
    "model.add(Dropout(0.2))\n",
    "#model.add(BatchNormalization())\n",
    "model.add(Dense(50))\n",
    "model.add(Activation('elu'))\n",
    "\n",
    "model.add(Dense(1))\n",
    "model.add(Activation('linear'))\n",
    "model.compile(optimizer = 'Adam' , loss = 'mse', metrics=['accuracy'])"
   ]
  },
  {
   "cell_type": "code",
   "execution_count": 95,
   "metadata": {},
   "outputs": [
    {
     "name": "stdout",
     "output_type": "stream",
     "text": [
      "Train on 971 samples, validate on 52 samples\n",
      "Epoch 1/50\n",
      "971/971 [==============================] - 1s 1ms/step - loss: 2.1382 - acc: 0.2626 - val_loss: 1.0493 - val_acc: 0.4231\n",
      "Epoch 2/50\n",
      "971/971 [==============================] - 0s 175us/step - loss: 1.3254 - acc: 0.2678 - val_loss: 1.0127 - val_acc: 0.3462\n",
      "Epoch 3/50\n",
      "971/971 [==============================] - 0s 178us/step - loss: 1.2199 - acc: 0.2832 - val_loss: 1.1989 - val_acc: 0.3654\n",
      "Epoch 4/50\n",
      "971/971 [==============================] - 0s 178us/step - loss: 1.1823 - acc: 0.2842 - val_loss: 1.1394 - val_acc: 0.3077\n",
      "Epoch 5/50\n",
      "971/971 [==============================] - 0s 182us/step - loss: 1.1333 - acc: 0.3110 - val_loss: 1.1105 - val_acc: 0.4231\n",
      "Epoch 6/50\n",
      "971/971 [==============================] - 0s 180us/step - loss: 1.0016 - acc: 0.3326 - val_loss: 1.1400 - val_acc: 0.3846\n",
      "Epoch 7/50\n",
      "971/971 [==============================] - 0s 180us/step - loss: 1.0035 - acc: 0.3450 - val_loss: 1.1566 - val_acc: 0.3077\n",
      "Epoch 8/50\n",
      "971/971 [==============================] - 0s 173us/step - loss: 0.9417 - acc: 0.3563 - val_loss: 1.3113 - val_acc: 0.3654\n",
      "Epoch 9/50\n",
      "971/971 [==============================] - 0s 177us/step - loss: 0.9248 - acc: 0.3615 - val_loss: 1.1662 - val_acc: 0.3462\n",
      "Epoch 10/50\n",
      "971/971 [==============================] - 0s 182us/step - loss: 0.8436 - acc: 0.3769 - val_loss: 1.1977 - val_acc: 0.3846\n",
      "Epoch 11/50\n",
      "971/971 [==============================] - 0s 181us/step - loss: 0.8467 - acc: 0.3811 - val_loss: 1.1936 - val_acc: 0.3077\n",
      "Epoch 12/50\n",
      "971/971 [==============================] - 0s 180us/step - loss: 0.7956 - acc: 0.4027 - val_loss: 1.3292 - val_acc: 0.3654\n",
      "Epoch 13/50\n",
      "971/971 [==============================] - 0s 183us/step - loss: 0.7590 - acc: 0.4140 - val_loss: 1.1687 - val_acc: 0.3077\n",
      "Epoch 14/50\n",
      "971/971 [==============================] - 0s 179us/step - loss: 0.7304 - acc: 0.4336 - val_loss: 1.2425 - val_acc: 0.3077\n",
      "Epoch 15/50\n",
      "971/971 [==============================] - 0s 176us/step - loss: 0.6559 - acc: 0.4346 - val_loss: 1.2874 - val_acc: 0.3077\n",
      "Epoch 16/50\n",
      "971/971 [==============================] - 0s 179us/step - loss: 0.6122 - acc: 0.4634 - val_loss: 1.3082 - val_acc: 0.3077\n",
      "Epoch 17/50\n",
      "971/971 [==============================] - 0s 182us/step - loss: 0.5674 - acc: 0.4902 - val_loss: 1.3496 - val_acc: 0.3269\n",
      "Epoch 18/50\n",
      "971/971 [==============================] - 0s 184us/step - loss: 0.5393 - acc: 0.5108 - val_loss: 1.4657 - val_acc: 0.3077\n",
      "Epoch 19/50\n",
      "971/971 [==============================] - 0s 182us/step - loss: 0.4957 - acc: 0.5602 - val_loss: 1.5482 - val_acc: 0.2885\n",
      "Epoch 20/50\n",
      "971/971 [==============================] - 0s 182us/step - loss: 0.5000 - acc: 0.5355 - val_loss: 1.7573 - val_acc: 0.3077\n",
      "Epoch 21/50\n",
      "971/971 [==============================] - 0s 181us/step - loss: 0.4540 - acc: 0.5530 - val_loss: 1.5020 - val_acc: 0.3269\n",
      "Epoch 22/50\n",
      "971/971 [==============================] - 0s 180us/step - loss: 0.4276 - acc: 0.5994 - val_loss: 1.5337 - val_acc: 0.2692\n",
      "Epoch 23/50\n",
      "971/971 [==============================] - 0s 182us/step - loss: 0.3692 - acc: 0.6169 - val_loss: 1.6421 - val_acc: 0.2692\n",
      "Epoch 24/50\n",
      "971/971 [==============================] - 0s 181us/step - loss: 0.3568 - acc: 0.6437 - val_loss: 1.6394 - val_acc: 0.2885\n",
      "Epoch 25/50\n",
      "971/971 [==============================] - 0s 175us/step - loss: 0.3510 - acc: 0.6498 - val_loss: 1.6968 - val_acc: 0.3269\n",
      "Epoch 26/50\n",
      "971/971 [==============================] - 0s 185us/step - loss: 0.3612 - acc: 0.6437 - val_loss: 1.5600 - val_acc: 0.2885\n",
      "Epoch 27/50\n",
      "971/971 [==============================] - 0s 181us/step - loss: 0.3306 - acc: 0.6643 - val_loss: 1.6904 - val_acc: 0.2692\n",
      "Epoch 28/50\n",
      "971/971 [==============================] - 0s 184us/step - loss: 0.3298 - acc: 0.6560 - val_loss: 1.7021 - val_acc: 0.2885\n",
      "Epoch 29/50\n",
      "971/971 [==============================] - 0s 192us/step - loss: 0.3162 - acc: 0.6612 - val_loss: 1.6619 - val_acc: 0.2692\n",
      "Epoch 30/50\n",
      "971/971 [==============================] - 0s 186us/step - loss: 0.2823 - acc: 0.6849 - val_loss: 1.6790 - val_acc: 0.3462\n",
      "Epoch 31/50\n",
      "971/971 [==============================] - 0s 179us/step - loss: 0.3130 - acc: 0.6756 - val_loss: 1.8271 - val_acc: 0.2308\n",
      "Epoch 32/50\n",
      "971/971 [==============================] - 0s 174us/step - loss: 0.3097 - acc: 0.6694 - val_loss: 1.6380 - val_acc: 0.3462\n",
      "Epoch 33/50\n",
      "971/971 [==============================] - 0s 176us/step - loss: 0.2787 - acc: 0.6849 - val_loss: 1.6160 - val_acc: 0.2692\n",
      "Epoch 34/50\n",
      "971/971 [==============================] - 0s 182us/step - loss: 0.2414 - acc: 0.7364 - val_loss: 1.7388 - val_acc: 0.2885\n",
      "Epoch 35/50\n",
      "971/971 [==============================] - 0s 180us/step - loss: 0.2612 - acc: 0.7188 - val_loss: 1.7042 - val_acc: 0.2692\n",
      "Epoch 36/50\n",
      "971/971 [==============================] - 0s 174us/step - loss: 0.2417 - acc: 0.7353 - val_loss: 1.7121 - val_acc: 0.3269\n",
      "Epoch 37/50\n",
      "971/971 [==============================] - 0s 178us/step - loss: 0.2404 - acc: 0.7219 - val_loss: 1.7757 - val_acc: 0.2885\n",
      "Epoch 38/50\n",
      "971/971 [==============================] - 0s 180us/step - loss: 0.2434 - acc: 0.7364 - val_loss: 1.6319 - val_acc: 0.2692\n",
      "Epoch 39/50\n",
      "971/971 [==============================] - 0s 200us/step - loss: 0.2596 - acc: 0.7096 - val_loss: 1.6238 - val_acc: 0.3077\n",
      "Epoch 40/50\n",
      "971/971 [==============================] - 0s 189us/step - loss: 0.2409 - acc: 0.7230 - val_loss: 1.6932 - val_acc: 0.2885\n",
      "Epoch 41/50\n",
      "971/971 [==============================] - 0s 196us/step - loss: 0.2222 - acc: 0.7611 - val_loss: 1.6791 - val_acc: 0.2115\n",
      "Epoch 42/50\n",
      "971/971 [==============================] - 0s 187us/step - loss: 0.2279 - acc: 0.7364 - val_loss: 1.6640 - val_acc: 0.2692\n",
      "Epoch 43/50\n",
      "971/971 [==============================] - ETA: 0s - loss: 0.2170 - acc: 0.7443- ETA: 0s - loss: 0.2207 - acc: 0.74 - 0s 184us/step - loss: 0.2137 - acc: 0.7456 - val_loss: 1.7027 - val_acc: 0.2115\n",
      "Epoch 44/50\n",
      "971/971 [==============================] - 0s 188us/step - loss: 0.2123 - acc: 0.7600 - val_loss: 1.7169 - val_acc: 0.2885\n",
      "Epoch 45/50\n",
      "971/971 [==============================] - 0s 200us/step - loss: 0.2137 - acc: 0.7775 - val_loss: 1.8264 - val_acc: 0.2115\n",
      "Epoch 46/50\n",
      "971/971 [==============================] - 0s 204us/step - loss: 0.2222 - acc: 0.7642 - val_loss: 1.6532 - val_acc: 0.2692\n",
      "Epoch 47/50\n",
      "971/971 [==============================] - 0s 194us/step - loss: 0.1997 - acc: 0.7765 - val_loss: 1.7605 - val_acc: 0.2500\n",
      "Epoch 48/50\n",
      "971/971 [==============================] - 0s 192us/step - loss: 0.2027 - acc: 0.7806 - val_loss: 1.7598 - val_acc: 0.3462\n",
      "Epoch 49/50\n",
      "971/971 [==============================] - 0s 186us/step - loss: 0.2033 - acc: 0.7786 - val_loss: 1.8688 - val_acc: 0.2308\n",
      "Epoch 50/50\n",
      "971/971 [==============================] - 0s 186us/step - loss: 0.2336 - acc: 0.7425 - val_loss: 1.9453 - val_acc: 0.2308\n"
     ]
    },
    {
     "data": {
      "text/plain": [
       "<keras.callbacks.History at 0x229991f3898>"
      ]
     },
     "execution_count": 95,
     "metadata": {},
     "output_type": "execute_result"
    }
   ],
   "source": [
    "model.fit(X_train, y_train, epochs=50, verbose =1, validation_data=(X_test, y_test), batch_size =64)"
   ]
  },
  {
   "cell_type": "code",
   "execution_count": null,
   "metadata": {},
   "outputs": [],
   "source": []
  }
 ],
 "metadata": {
  "kernelspec": {
   "display_name": "Python 3",
   "language": "python",
   "name": "python3"
  },
  "language_info": {
   "codemirror_mode": {
    "name": "ipython",
    "version": 3
   },
   "file_extension": ".py",
   "mimetype": "text/x-python",
   "name": "python",
   "nbconvert_exporter": "python",
   "pygments_lexer": "ipython3",
   "version": "3.6.5"
  }
 },
 "nbformat": 4,
 "nbformat_minor": 2
}
