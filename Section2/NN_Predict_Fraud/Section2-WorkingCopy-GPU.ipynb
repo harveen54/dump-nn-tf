{
 "cells": [
  {
   "cell_type": "code",
   "execution_count": 1,
   "metadata": {},
   "outputs": [],
   "source": [
    "import pandas as pd\n",
    "import numpy as np"
   ]
  },
  {
   "cell_type": "markdown",
   "metadata": {},
   "source": [
    "### Step 1: Importing Data"
   ]
  },
  {
   "cell_type": "code",
   "execution_count": 2,
   "metadata": {},
   "outputs": [],
   "source": [
    "df= pd.read_csv('train.csv')"
   ]
  },
  {
   "cell_type": "code",
   "execution_count": 3,
   "metadata": {},
   "outputs": [
    {
     "data": {
      "text/html": [
       "<div>\n",
       "<style scoped>\n",
       "    .dataframe tbody tr th:only-of-type {\n",
       "        vertical-align: middle;\n",
       "    }\n",
       "\n",
       "    .dataframe tbody tr th {\n",
       "        vertical-align: top;\n",
       "    }\n",
       "\n",
       "    .dataframe thead th {\n",
       "        text-align: right;\n",
       "    }\n",
       "</style>\n",
       "<table border=\"1\" class=\"dataframe\">\n",
       "  <thead>\n",
       "    <tr style=\"text-align: right;\">\n",
       "      <th></th>\n",
       "      <th>Time</th>\n",
       "      <th>V1</th>\n",
       "      <th>V2</th>\n",
       "      <th>V3</th>\n",
       "      <th>V4</th>\n",
       "      <th>V5</th>\n",
       "      <th>V6</th>\n",
       "      <th>V7</th>\n",
       "      <th>V8</th>\n",
       "      <th>V9</th>\n",
       "      <th>...</th>\n",
       "      <th>V21</th>\n",
       "      <th>V22</th>\n",
       "      <th>V23</th>\n",
       "      <th>V24</th>\n",
       "      <th>V25</th>\n",
       "      <th>V26</th>\n",
       "      <th>V27</th>\n",
       "      <th>V28</th>\n",
       "      <th>Amount</th>\n",
       "      <th>Class</th>\n",
       "    </tr>\n",
       "  </thead>\n",
       "  <tbody>\n",
       "    <tr>\n",
       "      <th>0</th>\n",
       "      <td>144035</td>\n",
       "      <td>-0.795465</td>\n",
       "      <td>1.035145</td>\n",
       "      <td>0.629094</td>\n",
       "      <td>1.060550</td>\n",
       "      <td>0.185512</td>\n",
       "      <td>0.442982</td>\n",
       "      <td>0.367739</td>\n",
       "      <td>0.629104</td>\n",
       "      <td>-0.215407</td>\n",
       "      <td>...</td>\n",
       "      <td>-0.224165</td>\n",
       "      <td>-0.406332</td>\n",
       "      <td>-0.113468</td>\n",
       "      <td>-0.519506</td>\n",
       "      <td>0.062945</td>\n",
       "      <td>-0.625920</td>\n",
       "      <td>0.305893</td>\n",
       "      <td>0.130054</td>\n",
       "      <td>35.80</td>\n",
       "      <td>0</td>\n",
       "    </tr>\n",
       "    <tr>\n",
       "      <th>1</th>\n",
       "      <td>57027</td>\n",
       "      <td>-2.335655</td>\n",
       "      <td>2.225380</td>\n",
       "      <td>-3.379450</td>\n",
       "      <td>2.178538</td>\n",
       "      <td>-3.568264</td>\n",
       "      <td>0.316814</td>\n",
       "      <td>-1.734948</td>\n",
       "      <td>1.449139</td>\n",
       "      <td>-1.980033</td>\n",
       "      <td>...</td>\n",
       "      <td>0.785540</td>\n",
       "      <td>0.297412</td>\n",
       "      <td>0.308536</td>\n",
       "      <td>-0.598416</td>\n",
       "      <td>-0.121850</td>\n",
       "      <td>-0.491018</td>\n",
       "      <td>0.701606</td>\n",
       "      <td>0.206966</td>\n",
       "      <td>444.17</td>\n",
       "      <td>1</td>\n",
       "    </tr>\n",
       "    <tr>\n",
       "      <th>2</th>\n",
       "      <td>75347</td>\n",
       "      <td>1.485941</td>\n",
       "      <td>-0.325035</td>\n",
       "      <td>-0.551499</td>\n",
       "      <td>-0.845371</td>\n",
       "      <td>-0.216371</td>\n",
       "      <td>-0.917921</td>\n",
       "      <td>-0.011792</td>\n",
       "      <td>-0.375973</td>\n",
       "      <td>-1.136155</td>\n",
       "      <td>...</td>\n",
       "      <td>0.145207</td>\n",
       "      <td>0.346199</td>\n",
       "      <td>-0.281322</td>\n",
       "      <td>-0.404634</td>\n",
       "      <td>0.909394</td>\n",
       "      <td>-0.034868</td>\n",
       "      <td>-0.030328</td>\n",
       "      <td>-0.004064</td>\n",
       "      <td>25.00</td>\n",
       "      <td>0</td>\n",
       "    </tr>\n",
       "    <tr>\n",
       "      <th>3</th>\n",
       "      <td>75424</td>\n",
       "      <td>-0.804963</td>\n",
       "      <td>0.712653</td>\n",
       "      <td>1.360827</td>\n",
       "      <td>-0.332024</td>\n",
       "      <td>1.302313</td>\n",
       "      <td>1.623387</td>\n",
       "      <td>0.551873</td>\n",
       "      <td>0.637665</td>\n",
       "      <td>-0.844825</td>\n",
       "      <td>...</td>\n",
       "      <td>0.219177</td>\n",
       "      <td>0.644723</td>\n",
       "      <td>-0.258438</td>\n",
       "      <td>-1.357390</td>\n",
       "      <td>0.469040</td>\n",
       "      <td>-0.272856</td>\n",
       "      <td>0.023010</td>\n",
       "      <td>-0.053357</td>\n",
       "      <td>18.95</td>\n",
       "      <td>0</td>\n",
       "    </tr>\n",
       "    <tr>\n",
       "      <th>4</th>\n",
       "      <td>102676</td>\n",
       "      <td>-5.552122</td>\n",
       "      <td>5.678134</td>\n",
       "      <td>-9.775528</td>\n",
       "      <td>8.416295</td>\n",
       "      <td>-4.409844</td>\n",
       "      <td>-1.506235</td>\n",
       "      <td>-6.899839</td>\n",
       "      <td>3.750443</td>\n",
       "      <td>-3.879793</td>\n",
       "      <td>...</td>\n",
       "      <td>1.128472</td>\n",
       "      <td>0.228484</td>\n",
       "      <td>0.286258</td>\n",
       "      <td>-0.536294</td>\n",
       "      <td>-0.104925</td>\n",
       "      <td>0.420919</td>\n",
       "      <td>-0.297557</td>\n",
       "      <td>-0.946184</td>\n",
       "      <td>119.74</td>\n",
       "      <td>1</td>\n",
       "    </tr>\n",
       "  </tbody>\n",
       "</table>\n",
       "<p>5 rows × 31 columns</p>\n",
       "</div>"
      ],
      "text/plain": [
       "     Time        V1        V2        V3        V4        V5        V6  \\\n",
       "0  144035 -0.795465  1.035145  0.629094  1.060550  0.185512  0.442982   \n",
       "1   57027 -2.335655  2.225380 -3.379450  2.178538 -3.568264  0.316814   \n",
       "2   75347  1.485941 -0.325035 -0.551499 -0.845371 -0.216371 -0.917921   \n",
       "3   75424 -0.804963  0.712653  1.360827 -0.332024  1.302313  1.623387   \n",
       "4  102676 -5.552122  5.678134 -9.775528  8.416295 -4.409844 -1.506235   \n",
       "\n",
       "         V7        V8        V9  ...         V21       V22       V23  \\\n",
       "0  0.367739  0.629104 -0.215407  ...   -0.224165 -0.406332 -0.113468   \n",
       "1 -1.734948  1.449139 -1.980033  ...    0.785540  0.297412  0.308536   \n",
       "2 -0.011792 -0.375973 -1.136155  ...    0.145207  0.346199 -0.281322   \n",
       "3  0.551873  0.637665 -0.844825  ...    0.219177  0.644723 -0.258438   \n",
       "4 -6.899839  3.750443 -3.879793  ...    1.128472  0.228484  0.286258   \n",
       "\n",
       "        V24       V25       V26       V27       V28  Amount  Class  \n",
       "0 -0.519506  0.062945 -0.625920  0.305893  0.130054   35.80      0  \n",
       "1 -0.598416 -0.121850 -0.491018  0.701606  0.206966  444.17      1  \n",
       "2 -0.404634  0.909394 -0.034868 -0.030328 -0.004064   25.00      0  \n",
       "3 -1.357390  0.469040 -0.272856  0.023010 -0.053357   18.95      0  \n",
       "4 -0.536294 -0.104925  0.420919 -0.297557 -0.946184  119.74      1  \n",
       "\n",
       "[5 rows x 31 columns]"
      ]
     },
     "execution_count": 3,
     "metadata": {},
     "output_type": "execute_result"
    }
   ],
   "source": [
    "df.head()"
   ]
  },
  {
   "cell_type": "markdown",
   "metadata": {},
   "source": [
    "### Step 2: Cleaning Data"
   ]
  },
  {
   "cell_type": "code",
   "execution_count": 4,
   "metadata": {
    "scrolled": true
   },
   "outputs": [
    {
     "name": "stdout",
     "output_type": "stream",
     "text": [
      "<class 'pandas.core.frame.DataFrame'>\n",
      "RangeIndex: 902 entries, 0 to 901\n",
      "Data columns (total 31 columns):\n",
      "Time      902 non-null int64\n",
      "V1        902 non-null float64\n",
      "V2        902 non-null float64\n",
      "V3        902 non-null float64\n",
      "V4        901 non-null float64\n",
      "V5        901 non-null float64\n",
      "V6        901 non-null float64\n",
      "V7        901 non-null float64\n",
      "V8        901 non-null float64\n",
      "V9        902 non-null float64\n",
      "V10       902 non-null float64\n",
      "V11       902 non-null float64\n",
      "V12       902 non-null float64\n",
      "V13       902 non-null float64\n",
      "V14       901 non-null float64\n",
      "V15       901 non-null float64\n",
      "V16       901 non-null float64\n",
      "V17       901 non-null float64\n",
      "V18       901 non-null float64\n",
      "V19       901 non-null float64\n",
      "V20       902 non-null float64\n",
      "V21       902 non-null float64\n",
      "V22       902 non-null float64\n",
      "V23       902 non-null float64\n",
      "V24       902 non-null float64\n",
      "V25       902 non-null float64\n",
      "V26       902 non-null float64\n",
      "V27       902 non-null float64\n",
      "V28       902 non-null float64\n",
      "Amount    902 non-null float64\n",
      "Class     902 non-null int64\n",
      "dtypes: float64(29), int64(2)\n",
      "memory usage: 218.5 KB\n"
     ]
    }
   ],
   "source": [
    "df.info()"
   ]
  },
  {
   "cell_type": "code",
   "execution_count": 5,
   "metadata": {},
   "outputs": [
    {
     "data": {
      "text/plain": [
       "True"
      ]
     },
     "execution_count": 5,
     "metadata": {},
     "output_type": "execute_result"
    }
   ],
   "source": [
    "df.isnull().values.any()"
   ]
  },
  {
   "cell_type": "code",
   "execution_count": 6,
   "metadata": {
    "scrolled": true
   },
   "outputs": [
    {
     "data": {
      "text/plain": [
       "Time      0\n",
       "V1        0\n",
       "V2        0\n",
       "V3        0\n",
       "V4        1\n",
       "V5        1\n",
       "V6        1\n",
       "V7        1\n",
       "V8        1\n",
       "V9        0\n",
       "V10       0\n",
       "V11       0\n",
       "V12       0\n",
       "V13       0\n",
       "V14       1\n",
       "V15       1\n",
       "V16       1\n",
       "V17       1\n",
       "V18       1\n",
       "V19       1\n",
       "V20       0\n",
       "V21       0\n",
       "V22       0\n",
       "V23       0\n",
       "V24       0\n",
       "V25       0\n",
       "V26       0\n",
       "V27       0\n",
       "V28       0\n",
       "Amount    0\n",
       "Class     0\n",
       "dtype: int64"
      ]
     },
     "execution_count": 6,
     "metadata": {},
     "output_type": "execute_result"
    }
   ],
   "source": [
    "df.isnull().sum()"
   ]
  },
  {
   "cell_type": "code",
   "execution_count": 7,
   "metadata": {},
   "outputs": [
    {
     "data": {
      "text/html": [
       "<div>\n",
       "<style scoped>\n",
       "    .dataframe tbody tr th:only-of-type {\n",
       "        vertical-align: middle;\n",
       "    }\n",
       "\n",
       "    .dataframe tbody tr th {\n",
       "        vertical-align: top;\n",
       "    }\n",
       "\n",
       "    .dataframe thead th {\n",
       "        text-align: right;\n",
       "    }\n",
       "</style>\n",
       "<table border=\"1\" class=\"dataframe\">\n",
       "  <thead>\n",
       "    <tr style=\"text-align: right;\">\n",
       "      <th></th>\n",
       "      <th>Time</th>\n",
       "      <th>V1</th>\n",
       "      <th>V2</th>\n",
       "      <th>V3</th>\n",
       "      <th>V4</th>\n",
       "      <th>V5</th>\n",
       "      <th>V6</th>\n",
       "      <th>V7</th>\n",
       "      <th>V8</th>\n",
       "      <th>V9</th>\n",
       "      <th>...</th>\n",
       "      <th>V21</th>\n",
       "      <th>V22</th>\n",
       "      <th>V23</th>\n",
       "      <th>V24</th>\n",
       "      <th>V25</th>\n",
       "      <th>V26</th>\n",
       "      <th>V27</th>\n",
       "      <th>V28</th>\n",
       "      <th>Amount</th>\n",
       "      <th>Class</th>\n",
       "    </tr>\n",
       "  </thead>\n",
       "  <tbody>\n",
       "    <tr>\n",
       "      <th>900</th>\n",
       "      <td>11131</td>\n",
       "      <td>-1.426623</td>\n",
       "      <td>4.141986</td>\n",
       "      <td>-9.804103</td>\n",
       "      <td>NaN</td>\n",
       "      <td>NaN</td>\n",
       "      <td>NaN</td>\n",
       "      <td>NaN</td>\n",
       "      <td>NaN</td>\n",
       "      <td>-3.249516</td>\n",
       "      <td>...</td>\n",
       "      <td>1.865679</td>\n",
       "      <td>0.407809</td>\n",
       "      <td>0.605809</td>\n",
       "      <td>-0.769348</td>\n",
       "      <td>-1.746337</td>\n",
       "      <td>0.50204</td>\n",
       "      <td>1.977258</td>\n",
       "      <td>0.711607</td>\n",
       "      <td>1.0</td>\n",
       "      <td>1</td>\n",
       "    </tr>\n",
       "  </tbody>\n",
       "</table>\n",
       "<p>1 rows × 31 columns</p>\n",
       "</div>"
      ],
      "text/plain": [
       "      Time        V1        V2        V3  V4  V5  V6  V7  V8        V9  ...    \\\n",
       "900  11131 -1.426623  4.141986 -9.804103 NaN NaN NaN NaN NaN -3.249516  ...     \n",
       "\n",
       "          V21       V22       V23       V24       V25      V26       V27  \\\n",
       "900  1.865679  0.407809  0.605809 -0.769348 -1.746337  0.50204  1.977258   \n",
       "\n",
       "          V28  Amount  Class  \n",
       "900  0.711607     1.0      1  \n",
       "\n",
       "[1 rows x 31 columns]"
      ]
     },
     "execution_count": 7,
     "metadata": {},
     "output_type": "execute_result"
    }
   ],
   "source": [
    "df[df['V4'].isnull()]"
   ]
  },
  {
   "cell_type": "code",
   "execution_count": 8,
   "metadata": {},
   "outputs": [],
   "source": [
    "df.dropna(inplace=True)"
   ]
  },
  {
   "cell_type": "code",
   "execution_count": 9,
   "metadata": {},
   "outputs": [
    {
     "data": {
      "text/plain": [
       "False"
      ]
     },
     "execution_count": 9,
     "metadata": {},
     "output_type": "execute_result"
    }
   ],
   "source": [
    "df.isnull().values.any()"
   ]
  },
  {
   "cell_type": "markdown",
   "metadata": {},
   "source": [
    "### Step 3: Data Preprocessing"
   ]
  },
  {
   "cell_type": "code",
   "execution_count": 10,
   "metadata": {},
   "outputs": [
    {
     "data": {
      "text/html": [
       "<div>\n",
       "<style scoped>\n",
       "    .dataframe tbody tr th:only-of-type {\n",
       "        vertical-align: middle;\n",
       "    }\n",
       "\n",
       "    .dataframe tbody tr th {\n",
       "        vertical-align: top;\n",
       "    }\n",
       "\n",
       "    .dataframe thead th {\n",
       "        text-align: right;\n",
       "    }\n",
       "</style>\n",
       "<table border=\"1\" class=\"dataframe\">\n",
       "  <thead>\n",
       "    <tr style=\"text-align: right;\">\n",
       "      <th></th>\n",
       "      <th>Time</th>\n",
       "      <th>V1</th>\n",
       "      <th>V2</th>\n",
       "      <th>V3</th>\n",
       "      <th>V4</th>\n",
       "      <th>V5</th>\n",
       "      <th>V6</th>\n",
       "      <th>V7</th>\n",
       "      <th>V8</th>\n",
       "      <th>V9</th>\n",
       "      <th>...</th>\n",
       "      <th>V21</th>\n",
       "      <th>V22</th>\n",
       "      <th>V23</th>\n",
       "      <th>V24</th>\n",
       "      <th>V25</th>\n",
       "      <th>V26</th>\n",
       "      <th>V27</th>\n",
       "      <th>V28</th>\n",
       "      <th>Amount</th>\n",
       "      <th>Class</th>\n",
       "    </tr>\n",
       "  </thead>\n",
       "  <tbody>\n",
       "    <tr>\n",
       "      <th>count</th>\n",
       "      <td>900.000000</td>\n",
       "      <td>900.000000</td>\n",
       "      <td>900.000000</td>\n",
       "      <td>900.000000</td>\n",
       "      <td>900.000000</td>\n",
       "      <td>900.000000</td>\n",
       "      <td>900.000000</td>\n",
       "      <td>900.000000</td>\n",
       "      <td>900.000000</td>\n",
       "      <td>900.000000</td>\n",
       "      <td>...</td>\n",
       "      <td>900.000000</td>\n",
       "      <td>900.000000</td>\n",
       "      <td>900.000000</td>\n",
       "      <td>900.000000</td>\n",
       "      <td>900.000000</td>\n",
       "      <td>900.000000</td>\n",
       "      <td>900.000000</td>\n",
       "      <td>900.000000</td>\n",
       "      <td>900.000000</td>\n",
       "      <td>900.000000</td>\n",
       "    </tr>\n",
       "    <tr>\n",
       "      <th>mean</th>\n",
       "      <td>89579.985556</td>\n",
       "      <td>-2.302370</td>\n",
       "      <td>1.776772</td>\n",
       "      <td>-3.533859</td>\n",
       "      <td>2.210778</td>\n",
       "      <td>-1.613497</td>\n",
       "      <td>-0.699977</td>\n",
       "      <td>-2.703860</td>\n",
       "      <td>0.381013</td>\n",
       "      <td>-1.270022</td>\n",
       "      <td>...</td>\n",
       "      <td>0.366111</td>\n",
       "      <td>-0.005000</td>\n",
       "      <td>-0.031945</td>\n",
       "      <td>-0.038475</td>\n",
       "      <td>0.030377</td>\n",
       "      <td>0.025562</td>\n",
       "      <td>0.077531</td>\n",
       "      <td>0.036373</td>\n",
       "      <td>108.953633</td>\n",
       "      <td>0.500000</td>\n",
       "    </tr>\n",
       "    <tr>\n",
       "      <th>std</th>\n",
       "      <td>48739.857474</td>\n",
       "      <td>5.546627</td>\n",
       "      <td>3.672593</td>\n",
       "      <td>6.171931</td>\n",
       "      <td>3.174811</td>\n",
       "      <td>4.342731</td>\n",
       "      <td>1.890163</td>\n",
       "      <td>5.877914</td>\n",
       "      <td>4.853342</td>\n",
       "      <td>2.297901</td>\n",
       "      <td>...</td>\n",
       "      <td>2.702693</td>\n",
       "      <td>1.139523</td>\n",
       "      <td>1.196382</td>\n",
       "      <td>0.573055</td>\n",
       "      <td>0.661572</td>\n",
       "      <td>0.468758</td>\n",
       "      <td>0.989314</td>\n",
       "      <td>0.421468</td>\n",
       "      <td>308.928972</td>\n",
       "      <td>0.500278</td>\n",
       "    </tr>\n",
       "    <tr>\n",
       "      <th>min</th>\n",
       "      <td>406.000000</td>\n",
       "      <td>-30.552380</td>\n",
       "      <td>-8.402154</td>\n",
       "      <td>-31.103685</td>\n",
       "      <td>-4.401290</td>\n",
       "      <td>-29.730600</td>\n",
       "      <td>-6.406267</td>\n",
       "      <td>-43.557242</td>\n",
       "      <td>-41.044261</td>\n",
       "      <td>-13.434066</td>\n",
       "      <td>...</td>\n",
       "      <td>-22.797604</td>\n",
       "      <td>-8.887017</td>\n",
       "      <td>-19.254328</td>\n",
       "      <td>-2.028024</td>\n",
       "      <td>-4.781606</td>\n",
       "      <td>-1.149923</td>\n",
       "      <td>-7.263482</td>\n",
       "      <td>-1.869290</td>\n",
       "      <td>0.000000</td>\n",
       "      <td>0.000000</td>\n",
       "    </tr>\n",
       "    <tr>\n",
       "      <th>25%</th>\n",
       "      <td>47249.750000</td>\n",
       "      <td>-2.825991</td>\n",
       "      <td>-0.195431</td>\n",
       "      <td>-5.068730</td>\n",
       "      <td>-0.105275</td>\n",
       "      <td>-1.775001</td>\n",
       "      <td>-1.587624</td>\n",
       "      <td>-2.992775</td>\n",
       "      <td>-0.178557</td>\n",
       "      <td>-2.301580</td>\n",
       "      <td>...</td>\n",
       "      <td>-0.162558</td>\n",
       "      <td>-0.543180</td>\n",
       "      <td>-0.226998</td>\n",
       "      <td>-0.379574</td>\n",
       "      <td>-0.301918</td>\n",
       "      <td>-0.295559</td>\n",
       "      <td>-0.059425</td>\n",
       "      <td>-0.053411</td>\n",
       "      <td>1.625000</td>\n",
       "      <td>0.000000</td>\n",
       "    </tr>\n",
       "    <tr>\n",
       "      <th>50%</th>\n",
       "      <td>81674.500000</td>\n",
       "      <td>-0.712196</td>\n",
       "      <td>0.896925</td>\n",
       "      <td>-1.456225</td>\n",
       "      <td>1.206713</td>\n",
       "      <td>-0.458894</td>\n",
       "      <td>-0.672049</td>\n",
       "      <td>-0.602134</td>\n",
       "      <td>0.150282</td>\n",
       "      <td>-0.680745</td>\n",
       "      <td>...</td>\n",
       "      <td>0.130469</td>\n",
       "      <td>-0.017277</td>\n",
       "      <td>-0.025929</td>\n",
       "      <td>0.016212</td>\n",
       "      <td>0.049648</td>\n",
       "      <td>-0.026232</td>\n",
       "      <td>0.046411</td>\n",
       "      <td>0.027474</td>\n",
       "      <td>18.970000</td>\n",
       "      <td>0.500000</td>\n",
       "    </tr>\n",
       "    <tr>\n",
       "      <th>75%</th>\n",
       "      <td>138944.250000</td>\n",
       "      <td>1.138937</td>\n",
       "      <td>2.777569</td>\n",
       "      <td>0.366721</td>\n",
       "      <td>4.173330</td>\n",
       "      <td>0.529846</td>\n",
       "      <td>0.035199</td>\n",
       "      <td>0.266629</td>\n",
       "      <td>0.944850</td>\n",
       "      <td>0.213191</td>\n",
       "      <td>...</td>\n",
       "      <td>0.651412</td>\n",
       "      <td>0.570253</td>\n",
       "      <td>0.194164</td>\n",
       "      <td>0.382373</td>\n",
       "      <td>0.393059</td>\n",
       "      <td>0.350455</td>\n",
       "      <td>0.419129</td>\n",
       "      <td>0.206210</td>\n",
       "      <td>99.990000</td>\n",
       "      <td>1.000000</td>\n",
       "    </tr>\n",
       "    <tr>\n",
       "      <th>max</th>\n",
       "      <td>172622.000000</td>\n",
       "      <td>2.369906</td>\n",
       "      <td>22.057729</td>\n",
       "      <td>3.225532</td>\n",
       "      <td>12.114672</td>\n",
       "      <td>11.095089</td>\n",
       "      <td>21.307738</td>\n",
       "      <td>31.527244</td>\n",
       "      <td>20.007208</td>\n",
       "      <td>4.762324</td>\n",
       "      <td>...</td>\n",
       "      <td>27.202839</td>\n",
       "      <td>8.361985</td>\n",
       "      <td>5.466230</td>\n",
       "      <td>3.569702</td>\n",
       "      <td>2.208209</td>\n",
       "      <td>1.884741</td>\n",
       "      <td>4.655054</td>\n",
       "      <td>3.503999</td>\n",
       "      <td>6454.740000</td>\n",
       "      <td>1.000000</td>\n",
       "    </tr>\n",
       "  </tbody>\n",
       "</table>\n",
       "<p>8 rows × 31 columns</p>\n",
       "</div>"
      ],
      "text/plain": [
       "                Time          V1          V2          V3          V4  \\\n",
       "count     900.000000  900.000000  900.000000  900.000000  900.000000   \n",
       "mean    89579.985556   -2.302370    1.776772   -3.533859    2.210778   \n",
       "std     48739.857474    5.546627    3.672593    6.171931    3.174811   \n",
       "min       406.000000  -30.552380   -8.402154  -31.103685   -4.401290   \n",
       "25%     47249.750000   -2.825991   -0.195431   -5.068730   -0.105275   \n",
       "50%     81674.500000   -0.712196    0.896925   -1.456225    1.206713   \n",
       "75%    138944.250000    1.138937    2.777569    0.366721    4.173330   \n",
       "max    172622.000000    2.369906   22.057729    3.225532   12.114672   \n",
       "\n",
       "               V5          V6          V7          V8          V9     ...      \\\n",
       "count  900.000000  900.000000  900.000000  900.000000  900.000000     ...       \n",
       "mean    -1.613497   -0.699977   -2.703860    0.381013   -1.270022     ...       \n",
       "std      4.342731    1.890163    5.877914    4.853342    2.297901     ...       \n",
       "min    -29.730600   -6.406267  -43.557242  -41.044261  -13.434066     ...       \n",
       "25%     -1.775001   -1.587624   -2.992775   -0.178557   -2.301580     ...       \n",
       "50%     -0.458894   -0.672049   -0.602134    0.150282   -0.680745     ...       \n",
       "75%      0.529846    0.035199    0.266629    0.944850    0.213191     ...       \n",
       "max     11.095089   21.307738   31.527244   20.007208    4.762324     ...       \n",
       "\n",
       "              V21         V22         V23         V24         V25         V26  \\\n",
       "count  900.000000  900.000000  900.000000  900.000000  900.000000  900.000000   \n",
       "mean     0.366111   -0.005000   -0.031945   -0.038475    0.030377    0.025562   \n",
       "std      2.702693    1.139523    1.196382    0.573055    0.661572    0.468758   \n",
       "min    -22.797604   -8.887017  -19.254328   -2.028024   -4.781606   -1.149923   \n",
       "25%     -0.162558   -0.543180   -0.226998   -0.379574   -0.301918   -0.295559   \n",
       "50%      0.130469   -0.017277   -0.025929    0.016212    0.049648   -0.026232   \n",
       "75%      0.651412    0.570253    0.194164    0.382373    0.393059    0.350455   \n",
       "max     27.202839    8.361985    5.466230    3.569702    2.208209    1.884741   \n",
       "\n",
       "              V27         V28       Amount       Class  \n",
       "count  900.000000  900.000000   900.000000  900.000000  \n",
       "mean     0.077531    0.036373   108.953633    0.500000  \n",
       "std      0.989314    0.421468   308.928972    0.500278  \n",
       "min     -7.263482   -1.869290     0.000000    0.000000  \n",
       "25%     -0.059425   -0.053411     1.625000    0.000000  \n",
       "50%      0.046411    0.027474    18.970000    0.500000  \n",
       "75%      0.419129    0.206210    99.990000    1.000000  \n",
       "max      4.655054    3.503999  6454.740000    1.000000  \n",
       "\n",
       "[8 rows x 31 columns]"
      ]
     },
     "execution_count": 10,
     "metadata": {},
     "output_type": "execute_result"
    }
   ],
   "source": [
    "df.describe()"
   ]
  },
  {
   "cell_type": "code",
   "execution_count": 11,
   "metadata": {},
   "outputs": [
    {
     "data": {
      "text/html": [
       "<div>\n",
       "<style scoped>\n",
       "    .dataframe tbody tr th:only-of-type {\n",
       "        vertical-align: middle;\n",
       "    }\n",
       "\n",
       "    .dataframe tbody tr th {\n",
       "        vertical-align: top;\n",
       "    }\n",
       "\n",
       "    .dataframe thead th {\n",
       "        text-align: right;\n",
       "    }\n",
       "</style>\n",
       "<table border=\"1\" class=\"dataframe\">\n",
       "  <thead>\n",
       "    <tr style=\"text-align: right;\">\n",
       "      <th></th>\n",
       "      <th>Time</th>\n",
       "      <th>V1</th>\n",
       "      <th>V2</th>\n",
       "      <th>V3</th>\n",
       "      <th>V4</th>\n",
       "      <th>V5</th>\n",
       "      <th>V6</th>\n",
       "      <th>V7</th>\n",
       "      <th>V8</th>\n",
       "      <th>V9</th>\n",
       "      <th>...</th>\n",
       "      <th>V20</th>\n",
       "      <th>V21</th>\n",
       "      <th>V22</th>\n",
       "      <th>V23</th>\n",
       "      <th>V24</th>\n",
       "      <th>V25</th>\n",
       "      <th>V26</th>\n",
       "      <th>V27</th>\n",
       "      <th>V28</th>\n",
       "      <th>Amount</th>\n",
       "    </tr>\n",
       "    <tr>\n",
       "      <th>Class</th>\n",
       "      <th></th>\n",
       "      <th></th>\n",
       "      <th></th>\n",
       "      <th></th>\n",
       "      <th></th>\n",
       "      <th></th>\n",
       "      <th></th>\n",
       "      <th></th>\n",
       "      <th></th>\n",
       "      <th></th>\n",
       "      <th></th>\n",
       "      <th></th>\n",
       "      <th></th>\n",
       "      <th></th>\n",
       "      <th></th>\n",
       "      <th></th>\n",
       "      <th></th>\n",
       "      <th></th>\n",
       "      <th></th>\n",
       "      <th></th>\n",
       "      <th></th>\n",
       "    </tr>\n",
       "  </thead>\n",
       "  <tbody>\n",
       "    <tr>\n",
       "      <th>0</th>\n",
       "      <td>450</td>\n",
       "      <td>450</td>\n",
       "      <td>450</td>\n",
       "      <td>450</td>\n",
       "      <td>450</td>\n",
       "      <td>450</td>\n",
       "      <td>450</td>\n",
       "      <td>450</td>\n",
       "      <td>450</td>\n",
       "      <td>450</td>\n",
       "      <td>...</td>\n",
       "      <td>450</td>\n",
       "      <td>450</td>\n",
       "      <td>450</td>\n",
       "      <td>450</td>\n",
       "      <td>450</td>\n",
       "      <td>450</td>\n",
       "      <td>450</td>\n",
       "      <td>450</td>\n",
       "      <td>450</td>\n",
       "      <td>450</td>\n",
       "    </tr>\n",
       "    <tr>\n",
       "      <th>1</th>\n",
       "      <td>450</td>\n",
       "      <td>450</td>\n",
       "      <td>450</td>\n",
       "      <td>450</td>\n",
       "      <td>450</td>\n",
       "      <td>450</td>\n",
       "      <td>450</td>\n",
       "      <td>450</td>\n",
       "      <td>450</td>\n",
       "      <td>450</td>\n",
       "      <td>...</td>\n",
       "      <td>450</td>\n",
       "      <td>450</td>\n",
       "      <td>450</td>\n",
       "      <td>450</td>\n",
       "      <td>450</td>\n",
       "      <td>450</td>\n",
       "      <td>450</td>\n",
       "      <td>450</td>\n",
       "      <td>450</td>\n",
       "      <td>450</td>\n",
       "    </tr>\n",
       "  </tbody>\n",
       "</table>\n",
       "<p>2 rows × 30 columns</p>\n",
       "</div>"
      ],
      "text/plain": [
       "       Time   V1   V2   V3   V4   V5   V6   V7   V8   V9   ...    V20  V21  \\\n",
       "Class                                                      ...               \n",
       "0       450  450  450  450  450  450  450  450  450  450   ...    450  450   \n",
       "1       450  450  450  450  450  450  450  450  450  450   ...    450  450   \n",
       "\n",
       "       V22  V23  V24  V25  V26  V27  V28  Amount  \n",
       "Class                                             \n",
       "0      450  450  450  450  450  450  450     450  \n",
       "1      450  450  450  450  450  450  450     450  \n",
       "\n",
       "[2 rows x 30 columns]"
      ]
     },
     "execution_count": 11,
     "metadata": {},
     "output_type": "execute_result"
    }
   ],
   "source": [
    "df.groupby('Class').count()"
   ]
  },
  {
   "cell_type": "code",
   "execution_count": 12,
   "metadata": {},
   "outputs": [],
   "source": [
    "X_df = df.drop(columns=['Class'])\n",
    "y_df = df['Class']"
   ]
  },
  {
   "cell_type": "code",
   "execution_count": 13,
   "metadata": {},
   "outputs": [
    {
     "data": {
      "text/plain": [
       "((900, 30), (900,))"
      ]
     },
     "execution_count": 13,
     "metadata": {},
     "output_type": "execute_result"
    }
   ],
   "source": [
    "X_df.shape, y_df.shape"
   ]
  },
  {
   "cell_type": "code",
   "execution_count": 14,
   "metadata": {},
   "outputs": [],
   "source": [
    "X = np.array(X_df)\n",
    "y = np.array(y_df)"
   ]
  },
  {
   "cell_type": "code",
   "execution_count": 15,
   "metadata": {},
   "outputs": [
    {
     "data": {
      "text/plain": [
       "(900, 2)"
      ]
     },
     "execution_count": 15,
     "metadata": {},
     "output_type": "execute_result"
    }
   ],
   "source": [
    "from sklearn.preprocessing import OneHotEncoder\n",
    "onehot = OneHotEncoder(sparse=False)\n",
    "y = onehot.fit_transform(y.reshape(y.shape[0], 1))\n",
    "y.shape"
   ]
  },
  {
   "cell_type": "markdown",
   "metadata": {},
   "source": [
    "### Step 4: Splitting Data into Train and Valid Set"
   ]
  },
  {
   "cell_type": "code",
   "execution_count": 16,
   "metadata": {},
   "outputs": [],
   "source": [
    "from sklearn.model_selection import train_test_split"
   ]
  },
  {
   "cell_type": "code",
   "execution_count": 17,
   "metadata": {},
   "outputs": [],
   "source": [
    "X_train, X_valid, y_train, y_valid = train_test_split(X, y, test_size = 0.20, shuffle=True)"
   ]
  },
  {
   "cell_type": "code",
   "execution_count": 18,
   "metadata": {},
   "outputs": [],
   "source": [
    "# #optional step\n",
    "from sklearn.preprocessing import MinMaxScaler\n",
    "scale = MinMaxScaler()\n",
    "X_train = scale.fit_transform(X_train)\n",
    "X_valid = scale.transform(X_valid)"
   ]
  },
  {
   "cell_type": "code",
   "execution_count": 19,
   "metadata": {},
   "outputs": [
    {
     "data": {
      "text/plain": [
       "((720, 30), (180, 30), (720, 2), (180, 2))"
      ]
     },
     "execution_count": 19,
     "metadata": {},
     "output_type": "execute_result"
    }
   ],
   "source": [
    "X_train.shape , X_valid.shape, y_train.shape, y_valid.shape"
   ]
  },
  {
   "cell_type": "markdown",
   "metadata": {},
   "source": [
    "### Step 5: Modelling Data"
   ]
  },
  {
   "cell_type": "code",
   "execution_count": 20,
   "metadata": {},
   "outputs": [
    {
     "name": "stderr",
     "output_type": "stream",
     "text": [
      "/root/miniconda3/envs/tensorflow/lib/python3.6/importlib/_bootstrap.py:219: RuntimeWarning: compiletime version 3.5 of module 'tensorflow.python.framework.fast_tensor_util' does not match runtime version 3.6\n",
      "  return f(*args, **kwds)\n"
     ]
    }
   ],
   "source": [
    "import tensorflow as tf"
   ]
  },
  {
   "cell_type": "code",
   "execution_count": 21,
   "metadata": {},
   "outputs": [],
   "source": [
    "gpu_options = tf.GPUOptions(per_process_gpu_memory_fraction=0.25)\n"
   ]
  },
  {
   "cell_type": "code",
   "execution_count": 22,
   "metadata": {},
   "outputs": [],
   "source": [
    "# import numpy as np\n",
    "\n",
    "# X = np.random.random_integers(low=1, high= 5, size=(5,10))\n",
    "# y = np.random.random_integers(low=1, high= 5, size=(10,1))\n",
    "# X.shape, y.shape\n",
    "# #y=y.reshape(y.shape[0],1)\n",
    "# #y.shape\n",
    "# print(X, y)\n",
    "# z = X + y\n",
    "# print(z)\n",
    "# #z.shape"
   ]
  },
  {
   "cell_type": "code",
   "execution_count": 23,
   "metadata": {},
   "outputs": [],
   "source": [
    "# def model(x):\n",
    "#     mu = 0\n",
    "#     sigma = 0.05\n",
    "    \n",
    "    \n",
    "    \n",
    "#     weights_1 = tf.Variable(tf.random_normal(shape=(30,1000) ,mean = mu, stddev= sigma))\n",
    "#     bias_1 = tf.Variable(tf.zeros(1000))\n",
    "#     product_1 = tf.matmul(x, weights_1 ) + bias_1\n",
    "    \n",
    "#     layer_1 = tf.nn.relu(product_1)\n",
    "    \n",
    "#     weights_2 = tf.Variable(tf.random_normal(shape=(1000,500) , mean= mu, stddev=sigma))\n",
    "#     bias_2 = tf.Variable(tf.zeros(500))\n",
    "#     product_2 = tf.matmul(layer_1 , weights_2  ) + bias_2 \n",
    "\n",
    "#     layer_2 = tf.nn.relu(product_2)\n",
    "\n",
    "#     weights_3 = tf.Variable(tf.random_normal(shape=(500,50) , mean= mu, stddev=sigma))\n",
    "#     bias_3 = tf.Variable(tf.zeros(50))\n",
    "#     product_3 = tf.matmul( layer_2 , weights_3  ) + bias_3\n",
    "    \n",
    "#     layer_3= tf.nn.relu(product_3)\n",
    "    \n",
    "#     weights_4 = tf.Variable(tf.random_normal(shape=(50,1) , mean= mu, stddev=sigma))\n",
    "#     bias_4 = tf.Variable(tf.zeros(1))\n",
    "#     product_4 = tf.matmul( layer_3 , weights_4  ) + bias_4\n",
    "\n",
    "    \n",
    "#     return product_4\n",
    "    "
   ]
  },
  {
   "cell_type": "code",
   "execution_count": 24,
   "metadata": {},
   "outputs": [],
   "source": [
    "# def model_xe(x):\n",
    "#     mu = 0\n",
    "#     sigma = 0.004\n",
    "    \n",
    "#     print(x.shape)\n",
    "#     initializer = tf.contrib.layers.xavier_initializer()\n",
    "#     weights_1 = tf.Variable(initializer(shape=(1000,30)))\n",
    "#     bias_1 = tf.Variable(initializer(shape=(1000,1)))\n",
    "#     product_1 = tf.matmul(weights_1 , tf.transpose(x)) + bias_1\n",
    "    \n",
    "#     layer_1 = tf.nn.relu(product_1)\n",
    "#     print(layer_1.shape)\n",
    "    \n",
    "#     weights_2 = tf.Variable(initializer(shape=(500,1000)))\n",
    "#     bias_2 = tf.Variable(initializer((500,1)))\n",
    "#     product_2 = tf.matmul(weights_2 , layer_1 ) + bias_2 \n",
    "\n",
    "#     layer_2 = tf.nn.relu(product_2)\n",
    "\n",
    "#     weights_3 = tf.Variable(initializer(shape=(50,500) ))\n",
    "#     bias_3 = tf.Variable(initializer((50,1)))\n",
    "#     product_3 = tf.matmul(  weights_3 , layer_2  ) + bias_3\n",
    "    \n",
    "#     layer_3= tf.nn.relu(product_3)\n",
    "    \n",
    "#     weights_4 = tf.Variable(initializer(shape=(1,50) ))\n",
    "#     bias_4 = tf.Variable(initializer((1,1)))\n",
    "#     product_4 = tf.matmul(  weights_4 , layer_3  ) + bias_4\n",
    "\n",
    "    \n",
    "#     return product_4\n",
    "    "
   ]
  },
  {
   "cell_type": "code",
   "execution_count": 25,
   "metadata": {},
   "outputs": [],
   "source": [
    "# def model_keras(x):\n",
    "#     model_k = tf.keras.models.Sequential()\n",
    "#     model_k.add(tf.keras.layers.BatchNormalization(input_shape=(30,)))\n",
    "#     model_k.add(tf.keras.layers.Dense(1000, activation='relu'))\n",
    "#     model_k.add(tf.keras.layers.Dropout(0.2))\n",
    "\n",
    "#     model_k.add(tf.keras.layers.BatchNormalization())\n",
    "#     model_k.add(tf.keras.layers.Dense(500, activation='relu'))\n",
    "#     model_k.add(tf.keras.layers.BatchNormalization())\n",
    "\n",
    "#     model_k.add(tf.keras.layers.Dense(50, activation='relu'))\n",
    "#     model_k.add(tf.keras.layers.BatchNormalization())\n",
    "\n",
    "#     model_k.add(tf.keras.layers.Dense(1))\n",
    "#     model_k.add(tf.keras.layers.Activation('sigmoid'))\n",
    "#     model_k.compile(tf.keras.optimizers.Adam(lr=0.00001) , loss = 'binary_crossentropy', metrics=['accuracy'])\n",
    "#     return model_k"
   ]
  },
  {
   "cell_type": "code",
   "execution_count": 26,
   "metadata": {},
   "outputs": [],
   "source": [
    "# model_keras = model_keras(X_train)"
   ]
  },
  {
   "cell_type": "code",
   "execution_count": 27,
   "metadata": {
    "scrolled": true
   },
   "outputs": [],
   "source": [
    "# model_keras.fit(X_train, y_train, epochs=30, verbose =1, validation_data=(X_valid, y_valid))"
   ]
  },
  {
   "cell_type": "code",
   "execution_count": 28,
   "metadata": {},
   "outputs": [],
   "source": [
    "# def model_le(x):\n",
    "   \n",
    "#     #l1 = tf.layers.batch_normalization(x)\n",
    "#     l1 = tf.layers.Dense(units=1000,activation=tf.nn.relu, kernel_initializer= tf.glorot_uniform_initializer())(x)\n",
    "#     l1 =tf.layers.Dropout(rate=0.2)(l1)\n",
    "    \n",
    "#     #l1 = tf.layers.batch_normalization(l1)\n",
    "    \n",
    "#     l2 = tf.layers.Dense(500, activation= tf.nn.relu, kernel_initializer=tf.glorot_uniform_initializer())(l1)\n",
    "#     #l2 = tf.layers.batch_normalization(l2)\n",
    "    \n",
    "#     l3 = tf.layers.Dense(50, activation= tf.nn.relu, kernel_initializer=tf.glorot_uniform_initializer())(l2)\n",
    "#     #l3 = tf.layers.batch_normalization(l3)\n",
    "    \n",
    "#     l4 = tf.layers.Dense(1, kernel_initializer=tf.glorot_uniform_initializer())(l3)\n",
    "    \n",
    "#     return l4\n",
    "    "
   ]
  },
  {
   "cell_type": "code",
   "execution_count": 29,
   "metadata": {},
   "outputs": [],
   "source": [
    "# # forward propagation \n",
    "# # model(x)\n",
    "\n",
    "# learn_rate = 0.0001\n",
    "\n",
    "# x_pass = tf.placeholder(dtype=tf.float32,  shape = (None, 30))\n",
    "# y_pass = tf.placeholder(dtype = tf.float32 , shape = (None))\n",
    "\n",
    "# forward_prop =  model_le(x_pass)\n",
    "\n",
    "# loss = tf.nn.sigmoid_cross_entropy_with_logits(labels = y_pass, logits=forward_prop)\n",
    "\n",
    "# total_loss = tf.reduce_mean(loss)\n",
    "\n",
    "# optimizer = tf.train.AdamOptimizer(learning_rate = learn_rate)\n",
    "\n",
    "# backward_prop = optimizer.minimize(total_loss)"
   ]
  },
  {
   "cell_type": "code",
   "execution_count": 30,
   "metadata": {},
   "outputs": [],
   "source": [
    "# correct_prediction = tf.equal(tf.cast(tf.greater_equal(loss,0.5), tf.float32) , y_pass)\n",
    "# #correct_prediction = tf.equal(tf.argmax(forward_prop, 1), tf.argmax(y_pass, 1))\n",
    "# accuracy_operation =  tf.reduce_mean(tf.cast(correct_prediction, tf.float32))"
   ]
  },
  {
   "cell_type": "code",
   "execution_count": 31,
   "metadata": {},
   "outputs": [],
   "source": [
    "# with tf.Session(config=tf.ConfigProto(gpu_options=gpu_options)) as sess:\n",
    "#     sess.run(tf.global_variables_initializer())\n",
    "#     print('Training...')\n",
    "#     for i in range(epochs):\n",
    "#         #log = sess.run(tf.cast(tf.greater_equal(loss,0.5), tf.float32) , feed_dict={x_pass: X_train , y_pass: y_train.reshape(y_train.shape[0],1)})\n",
    "#         #print(log, feed_dict={x_pass: X_train , y_pass: y_train.reshape(y_train.shape[0],1)}))\n",
    "#         #print(log.shape)\n",
    "#         #print(sess.run(tf.equal(log , y_train.reshape(y_train.shape[0],1))))\n",
    "#         sess.run( backward_prop , feed_dict={x_pass: X_train , y_pass: y_train})\n",
    "#         train_loss = sess.run(total_loss, feed_dict={x_pass:X_train , y_pass: y_train})\n",
    "#         validation_loss = sess.run(total_loss, feed_dict={x_pass:X_valid , y_pass: y_valid})\n",
    "#         train_accuracy = sess.run(accuracy_operation, feed_dict={x_pass:X_train, y_pass:y_train})\n",
    "#         accuracy = sess.run(accuracy_operation, feed_dict={x_pass:X_valid, y_pass:y_valid})\n",
    "#         print(train_loss ,\"  \",validation_loss,\"  \",train_accuracy,\" \", accuracy, \" \")"
   ]
  },
  {
   "cell_type": "code",
   "execution_count": 47,
   "metadata": {},
   "outputs": [],
   "source": [
    "def model_soft(x, dropout):\n",
    "   \n",
    "    #l1 = tf.layers.batch_normalization(x)\n",
    "    l1 = tf.layers.Dense(units=1000,activation=tf.nn.relu, kernel_initializer= tf.glorot_uniform_initializer())(x)\n",
    "    l1 =tf.layers.Dropout(rate=dropout)(l1)\n",
    "    \n",
    "    l1 = tf.layers.batch_normalization(l1)\n",
    "    \n",
    "    l2 = tf.layers.Dense(500, activation= tf.nn.relu, kernel_initializer=tf.glorot_uniform_initializer())(l1)\n",
    "    l2 =tf.layers.Dropout(rate=dropout)(l2)\n",
    "    l2 = tf.layers.batch_normalization(l2)\n",
    "    \n",
    "    l3 = tf.layers.Dense(50, activation= tf.nn.relu, kernel_initializer=tf.glorot_uniform_initializer())(l2)\n",
    "    #l3 = tf.layers.batch_normalization(l3)\n",
    "    l3 =tf.layers.Dropout(rate=dropout)(l3)\n",
    "    \n",
    "    l4 = tf.layers.Dense(2, kernel_initializer=tf.glorot_uniform_initializer())(l3)\n",
    "    \n",
    "    return l4"
   ]
  },
  {
   "cell_type": "code",
   "execution_count": 48,
   "metadata": {},
   "outputs": [],
   "source": [
    "learn_rate = 0.0001\n",
    "\n",
    "x_pass = tf.placeholder(dtype=tf.float32,  shape = (None, 30))\n",
    "y_pass = tf.placeholder(dtype = tf.float32 , shape = (None,2))\n",
    "dropout =  tf.placeholder(dtype=tf.float32)\n",
    "\n",
    "forward_prop =  model_soft(x_pass , dropout)\n",
    "\n",
    "loss = tf.nn.softmax_cross_entropy_with_logits(labels = y_pass, logits=forward_prop)\n",
    "\n",
    "total_loss = tf.reduce_mean(loss)\n",
    "\n",
    "optimizer = tf.train.AdamOptimizer(learning_rate = learn_rate)\n",
    "\n",
    "backward_prop = optimizer.minimize(total_loss)\n",
    "\n",
    "correct_prediction = tf.equal(tf.argmax(forward_prop,1) , tf.argmax(y_pass,1))\n",
    "#correct_prediction = tf.equal(tf.argmax(forward_prop, 1), tf.argmax(y_pass, 1))\n",
    "accuracy_operation =  tf.reduce_mean(tf.cast(correct_prediction, tf.float32))"
   ]
  },
  {
   "cell_type": "code",
   "execution_count": 49,
   "metadata": {},
   "outputs": [],
   "source": [
    "epochs =100"
   ]
  },
  {
   "cell_type": "code",
   "execution_count": 50,
   "metadata": {},
   "outputs": [],
   "source": [
    "saver = tf.train.Saver()"
   ]
  },
  {
   "cell_type": "code",
   "execution_count": 51,
   "metadata": {
    "scrolled": true
   },
   "outputs": [
    {
     "name": "stdout",
     "output_type": "stream",
     "text": [
      "Training...\n",
      "0.6840137    0.68174404    0.56527776   0.6333333  \n",
      "0.6722747    0.66915005    0.63611114   0.67777777  \n",
      "0.6623379    0.6589007    0.6875   0.7222222  \n",
      "0.6543195    0.6502943    0.7083333   0.74444443  \n",
      "0.64622504    0.6420336    0.7347222   0.76111114  \n",
      "0.6383381    0.6341696    0.75416666   0.78333336  \n",
      "0.6307886    0.6264403    0.7736111   0.78333336  \n",
      "0.6233053    0.6187269    0.78055555   0.7888889  \n",
      "0.6158569    0.6110201    0.78333336   0.7888889  \n",
      "0.608361    0.6032463    0.7861111   0.79444444  \n",
      "0.6008383    0.59546506    0.7888889   0.79444444  \n",
      "0.5933543    0.5876683    0.79583335   0.8055556  \n",
      "0.5859258    0.5800261    0.8041667   0.8055556  \n",
      "0.5786569    0.57261294    0.8125   0.81666666  \n",
      "0.57157016    0.56540936    0.8263889   0.82222223  \n",
      "0.5645877    0.5583542    0.8361111   0.8333333  \n",
      "0.55764896    0.55140275    0.84583336   0.84444445  \n",
      "0.5507092    0.54447937    0.8513889   0.84444445  \n",
      "0.54376477    0.5375443    0.85833335   0.85555553  \n",
      "0.5368093    0.5306007    0.86388886   0.8611111  \n",
      "0.52984613    0.5236871    0.86527777   0.8611111  \n",
      "0.5228536    0.5167214    0.8666667   0.8666667  \n",
      "0.51585686    0.50973415    0.87083334   0.8666667  \n",
      "0.5088414    0.5027621    0.87222224   0.8666667  \n",
      "0.5018043    0.49578917    0.8736111   0.8666667  \n",
      "0.49474326    0.48882174    0.8763889   0.8666667  \n",
      "0.48765644    0.48187906    0.87777776   0.8666667  \n",
      "0.4805547    0.47496125    0.8819444   0.87777776  \n",
      "0.47344482    0.4680806    0.8833333   0.87777776  \n",
      "0.46631563    0.4612147    0.8833333   0.87777776  \n",
      "0.4591498    0.45432007    0.88611114   0.8888889  \n",
      "0.4519669    0.44741473    0.8875   0.8888889  \n",
      "0.4447975    0.4405404    0.8902778   0.8888889  \n",
      "0.43767485    0.43375695    0.89166665   0.8888889  \n",
      "0.4305647    0.42705363    0.89166665   0.8888889  \n",
      "0.42344293    0.42038485    0.89166665   0.8888889  \n",
      "0.41633403    0.41375178    0.89166665   0.8888889  \n",
      "0.40929714    0.40715688    0.89305556   0.8888889  \n",
      "0.4023567    0.40061808    0.89305556   0.8888889  \n",
      "0.3954532    0.39405388    0.89305556   0.8888889  \n",
      "0.38857397    0.38750872    0.89444447   0.8888889  \n",
      "0.38168797    0.38100526    0.8958333   0.8888889  \n",
      "0.3748512    0.37456635    0.8972222   0.8888889  \n",
      "0.36807665    0.36819047    0.8972222   0.8888889  \n",
      "0.36110938    0.36169115    0.8972222   0.8888889  \n",
      "0.35405552    0.3551747    0.8986111   0.8888889  \n",
      "0.347499    0.34925637    0.9027778   0.9  \n",
      "0.34162948    0.34379765    0.9027778   0.9  \n",
      "0.33585414    0.3382117    0.9027778   0.9  \n",
      "0.33021563    0.33264032    0.9027778   0.9  \n",
      "0.32472682    0.32726902    0.9027778   0.9  \n",
      "0.3192976    0.3220801    0.90416664   0.9  \n",
      "0.31365097    0.31687266    0.90555555   0.9  \n",
      "0.3077596    0.31146142    0.9097222   0.90555555  \n",
      "0.30227524    0.30657214    0.9097222   0.90555555  \n",
      "0.29732704    0.30212963    0.9097222   0.90555555  \n",
      "0.29264942    0.29783577    0.9097222   0.90555555  \n",
      "0.288122    0.29362842    0.9097222   0.90555555  \n",
      "0.28373387    0.2895068    0.9097222   0.90555555  \n",
      "0.27946535    0.28546917    0.9111111   0.90555555  \n",
      "0.2753026    0.28153238    0.9111111   0.90555555  \n",
      "0.27123865    0.27772886    0.9125   0.90555555  \n",
      "0.26726168    0.27407154    0.9138889   0.90555555  \n",
      "0.26338837    0.27051556    0.9152778   0.90555555  \n",
      "0.25961047    0.2670294    0.9166667   0.90555555  \n",
      "0.25594708    0.2636058    0.91805553   0.90555555  \n",
      "0.25243542    0.260267    0.91805553   0.90555555  \n",
      "0.2490477    0.25705928    0.91805553   0.90555555  \n",
      "0.24575636    0.25395986    0.91805553   0.9111111  \n",
      "0.24254784    0.25098312    0.92083335   0.9111111  \n",
      "0.23943143    0.24810793    0.92083335   0.9111111  \n",
      "0.23639715    0.24529783    0.9222222   0.9111111  \n",
      "0.23344491    0.24254452    0.9222222   0.9111111  \n",
      "0.23057543    0.23982273    0.9222222   0.9111111  \n",
      "0.22778375    0.23718612    0.9236111   0.9111111  \n",
      "0.22507647    0.234665    0.92638886   0.9111111  \n",
      "0.2224604    0.2322681    0.92638886   0.9111111  \n",
      "0.21994853    0.2299493    0.92638886   0.9111111  \n",
      "0.21752866    0.22769397    0.9291667   0.9111111  \n",
      "0.21519415    0.22546458    0.9305556   0.9166667  \n",
      "0.21294227    0.2233015    0.9291667   0.9166667  \n",
      "0.21076857    0.22124134    0.9291667   0.9166667  \n",
      "0.2086638    0.21929105    0.9305556   0.9222222  \n",
      "0.2066235    0.21739396    0.9305556   0.9222222  \n",
      "0.20463651    0.21552216    0.9305556   0.92777777  \n",
      "0.2027064    0.2136851    0.9305556   0.92777777  \n",
      "0.20084311    0.21194012    0.9305556   0.92777777  \n",
      "0.19905011    0.21029317    0.9305556   0.92777777  \n",
      "0.19731541    0.2087037    0.9305556   0.92777777  \n",
      "0.19563445    0.20715587    0.93194443   0.92777777  \n",
      "0.19400446    0.20562924    0.93194443   0.92777777  \n",
      "0.1924204    0.20414437    0.93194443   0.92777777  \n",
      "0.19087268    0.20271774    0.93194443   0.92777777  \n",
      "0.1893646    0.20134765    0.93194443   0.92777777  \n",
      "0.18789785    0.20001808    0.93194443   0.93333334  \n",
      "0.18647097    0.19871391    0.93333334   0.93333334  \n",
      "0.18508682    0.19743463    0.93333334   0.93333334  \n",
      "0.1837413    0.19618617    0.93333334   0.93333334  \n",
      "0.18243508    0.19497082    0.93333334   0.93333334  \n",
      "0.18116769    0.19379984    0.93333334   0.93333334  \n"
     ]
    }
   ],
   "source": [
    "with tf.Session(config=tf.ConfigProto(gpu_options=gpu_options)) as sess:\n",
    "    sess.run(tf.global_variables_initializer())\n",
    "    print('Training...')\n",
    "    val_loss=[]\n",
    "    tra_loss = []\n",
    "    val_acc= []\n",
    "    tra_acc =[]\n",
    "    for i in range(epochs):\n",
    "        sess.run( backward_prop , feed_dict={x_pass: X_train , y_pass: y_train, dropout:0.2})\n",
    "        train_loss = sess.run(total_loss, feed_dict={x_pass:X_train , y_pass: y_train,  dropout:0.2})\n",
    "        tra_loss.append(train_loss)\n",
    "        validation_loss = sess.run(total_loss, feed_dict={x_pass:X_valid , y_pass: y_valid,  dropout:0})\n",
    "        val_loss.append(validation_loss)\n",
    "        train_accuracy = sess.run(accuracy_operation, feed_dict={x_pass:X_train, y_pass:y_train, dropout:0})\n",
    "        tra_acc.append(train_accuracy)\n",
    "        accuracy = sess.run(accuracy_operation, feed_dict={x_pass:X_valid, y_pass:y_valid, dropout:0.2})\n",
    "        val_acc.append(accuracy)\n",
    "        print(train_loss ,\"  \",validation_loss,\"  \",train_accuracy,\" \", accuracy, \" \")\n",
    "    saver.save(sess, './nn')\n",
    "    "
   ]
  },
  {
   "cell_type": "code",
   "execution_count": 52,
   "metadata": {},
   "outputs": [
    {
     "data": {
      "image/png": "[encoded data removed]",
      "text/plain": [
       "<matplotlib.figure.Figure at 0x7f8538233c18>"
      ]
     },
     "metadata": {},
     "output_type": "display_data"
    }
   ],
   "source": [
    "import matplotlib.pyplot as plt\n",
    "plt.plot(val_loss)\n",
    "plt.plot(tra_loss)\n",
    "plt.xlabel('Epoch')\n",
    "plt.ylabel('Loss')\n",
    "plt.title('Loss Curve')\n",
    "plt.legend(['Validation Loss', 'Training Loss'])\n",
    "plt.show()"
   ]
  },
  {
   "cell_type": "code",
   "execution_count": 53,
   "metadata": {},
   "outputs": [
    {
     "data": {
      "image/png": "[encoded data removed]",
      "text/plain": [
       "<matplotlib.figure.Figure at 0x7f8514560a20>"
      ]
     },
     "metadata": {},
     "output_type": "display_data"
    }
   ],
   "source": [
    "import matplotlib.pyplot as plt\n",
    "plt.plot(val_acc)\n",
    "plt.plot(tra_acc)\n",
    "plt.xlabel('Epoch')\n",
    "plt.ylabel('Accuracy')\n",
    "plt.title('Loss Curve')\n",
    "plt.legend(['Validation Accuracy', 'Training Accuracy'])\n",
    "plt.show()"
   ]
  },
  {
   "cell_type": "code",
   "execution_count": 58,
   "metadata": {},
   "outputs": [
    {
     "data": {
      "text/plain": [
       "((100, 30), (100,))"
      ]
     },
     "execution_count": 58,
     "metadata": {},
     "output_type": "execute_result"
    }
   ],
   "source": [
    "### Step 6: Inference on Test Set\n",
    "\n",
    "test_df = pd.read_csv('./test.csv')\n",
    "\n",
    "test_df.head()\n",
    "\n",
    "y_test = np.array(test_df['Class'])\n",
    "\n",
    "x_test =  np.array(test_df.drop(columns='Class'))\n",
    "\n",
    "x_test.shape, y_test.shape"
   ]
  },
  {
   "cell_type": "code",
   "execution_count": 59,
   "metadata": {},
   "outputs": [],
   "source": [
    "X_test = MinMaxScaler().fit_transform(x_test)"
   ]
  },
  {
   "cell_type": "code",
   "execution_count": 60,
   "metadata": {},
   "outputs": [
    {
     "data": {
      "text/plain": [
       "array([1., 0., 0., 0., 1., 0., 0., 1., 0., 0.])"
      ]
     },
     "execution_count": 60,
     "metadata": {},
     "output_type": "execute_result"
    }
   ],
   "source": [
    "y_test[0:10]"
   ]
  },
  {
   "cell_type": "code",
   "execution_count": 61,
   "metadata": {},
   "outputs": [],
   "source": [
    "y_test = OneHotEncoder(sparse=False).fit_transform(y_test.reshape(y_test.shape[0] , 1))"
   ]
  },
  {
   "cell_type": "code",
   "execution_count": 76,
   "metadata": {},
   "outputs": [
    {
     "name": "stdout",
     "output_type": "stream",
     "text": [
      "INFO:tensorflow:Restoring parameters from ./nn\n",
      "0.94\n"
     ]
    }
   ],
   "source": [
    "test_logits = tf.Variable(tf.zeros(shape=y_test.shape))\n",
    "\n",
    "with tf.Session() as sess:\n",
    "    saver.restore(sess, tf.train.latest_checkpoint('.'))\n",
    "    acc = sess.run( accuracy_operation , feed_dict={x_pass: X_test, y_pass: y_test, dropout:0})\n",
    "    print(acc)\n",
    "    logits = sess.run( forward_prop , feed_dict={x_pass: X_test, y_pass: y_test, dropout:0})\n",
    "    test_logits = logits\n",
    "    #train_loss = sess.run(total_loss, feed_dict={x_pass:X_train , y_pass: y_train})\n",
    "    #tra_loss.append(train_loss)"
   ]
  },
  {
   "cell_type": "code",
   "execution_count": 77,
   "metadata": {},
   "outputs": [
    {
     "name": "stdout",
     "output_type": "stream",
     "text": [
      "             precision    recall  f1-score   support\n",
      "\n",
      "          0       0.89      1.00      0.94        50\n",
      "          1       1.00      0.88      0.94        50\n",
      "\n",
      "avg / total       0.95      0.94      0.94       100\n",
      "\n",
      "[[50  0]\n",
      " [ 6 44]]\n"
     ]
    }
   ],
   "source": [
    "### Step 7: Checking Metrics for Performance\n",
    "\n",
    "from sklearn.metrics import classification_report, confusion_matrix\n",
    "\n",
    "\n",
    "\n",
    "#y_pred = (y_pred >= 0.5).astype(int)\n",
    "\n",
    "#y_pred.shape\n",
    "\n",
    "y_pred = np.argmax(test_logits,1)\n",
    "y_actual = np.argmax(y_test,1)\n",
    "\n",
    "print(classification_report(y_actual, y_pred))\n",
    "\n",
    "print(confusion_matrix(y_actual,y_pred))"
   ]
  },
  {
   "cell_type": "code",
   "execution_count": null,
   "metadata": {},
   "outputs": [],
   "source": [
    "\n",
    "# import keras\n",
    "# from keras.layers import BatchNormalization\n",
    "# from keras.layers.core import Flatten,Dense,Dropout, Activation, Lambda\n",
    "# from keras.models import Model, Sequential\n",
    "# from keras.optimizers import Adam,SGD\n",
    "# from keras.callbacks import TensorBoard"
   ]
  },
  {
   "cell_type": "code",
   "execution_count": null,
   "metadata": {},
   "outputs": [],
   "source": [
    "# model = Sequential()\n",
    "# #model.add(Lambda(lambda x: x , input_shape = (24)))\n",
    "# #model.add(Lambda(lambda x: x+0.1 , input_shape = (64,64,3)))\n",
    "# #model.add(Flatten())\n",
    "# model.add(BatchNormalization(input_shape=(30,)))\n",
    "# model.add(Dense(1000))\n",
    "# model.add(Activation('relu'))\n",
    "\n",
    "\n",
    "# model.add(Dropout(0.2))\n",
    "# model.add(BatchNormalization())\n",
    "# model.add(Dense(500))\n",
    "# model.add(Activation('relu'))\n",
    "# #model.add(Dropout(0.2))\n",
    "# model.add(BatchNormalization())\n",
    "# model.add(Dense(50))\n",
    "# model.add(Activation('relu'))\n",
    "\n",
    "# model.add(Dense(1))\n",
    "# model.add(Activation('sigmoid'))\n",
    "# model.compile(optimizer = Adam(lr=0.00001) , loss = 'binary_crossentropy', metrics=['accuracy'])"
   ]
  },
  {
   "cell_type": "code",
   "execution_count": null,
   "metadata": {},
   "outputs": [],
   "source": [
    "# model.summary()"
   ]
  },
  {
   "cell_type": "code",
   "execution_count": null,
   "metadata": {
    "scrolled": false
   },
   "outputs": [],
   "source": [
    "# model.fit(X_train, y_train, epochs=30, verbose =1, validation_data=(X_valid, y_valid))"
   ]
  },
  {
   "cell_type": "code",
   "execution_count": null,
   "metadata": {},
   "outputs": [],
   "source": [
    "# import matplotlib.pyplot as plt\n",
    "# plt.plot(model.history.history['loss'])\n",
    "# plt.xlabel('Epoch')\n",
    "# plt.ylabel('Loss')\n",
    "# plt.title('Loss Curve')\n",
    "# plt.show()"
   ]
  },
  {
   "cell_type": "code",
   "execution_count": null,
   "metadata": {},
   "outputs": [],
   "source": [
    "# plt.plot(model.history.history['acc'])\n",
    "# plt.xlabel('Epoch')\n",
    "# plt.ylabel('Accuracy')\n",
    "# plt.title('Training Accuracy Curve')\n",
    "# plt.show()"
   ]
  },
  {
   "cell_type": "markdown",
   "metadata": {},
   "source": [
    "### Step 6: Inference on Test Set"
   ]
  },
  {
   "cell_type": "code",
   "execution_count": null,
   "metadata": {},
   "outputs": [],
   "source": [
    "# test_df = pd.read_csv('./test.csv')"
   ]
  },
  {
   "cell_type": "code",
   "execution_count": null,
   "metadata": {},
   "outputs": [],
   "source": [
    "# test_df.head()"
   ]
  },
  {
   "cell_type": "code",
   "execution_count": null,
   "metadata": {},
   "outputs": [],
   "source": [
    "# y_test = np.array(test_df['Class'])"
   ]
  },
  {
   "cell_type": "code",
   "execution_count": null,
   "metadata": {},
   "outputs": [],
   "source": [
    "# x_test =  np.array(test_df.drop(columns='Class'))"
   ]
  },
  {
   "cell_type": "code",
   "execution_count": null,
   "metadata": {},
   "outputs": [],
   "source": [
    "# x_test.shape, y_test.shape"
   ]
  },
  {
   "cell_type": "markdown",
   "metadata": {},
   "source": [
    "### Step 7: Checking Metrics for Performance"
   ]
  },
  {
   "cell_type": "code",
   "execution_count": null,
   "metadata": {},
   "outputs": [],
   "source": [
    "# from sklearn.metrics import classification_report, confusion_matrix"
   ]
  },
  {
   "cell_type": "code",
   "execution_count": null,
   "metadata": {},
   "outputs": [],
   "source": [
    "# y_pred = model.predict(x_test)"
   ]
  },
  {
   "cell_type": "code",
   "execution_count": null,
   "metadata": {},
   "outputs": [],
   "source": [
    "# y_pred = (y_pred >= 0.5).astype(int)"
   ]
  },
  {
   "cell_type": "code",
   "execution_count": null,
   "metadata": {},
   "outputs": [],
   "source": [
    "# y_pred[0:5]"
   ]
  },
  {
   "cell_type": "code",
   "execution_count": null,
   "metadata": {},
   "outputs": [],
   "source": [
    "# print(classification_report(y_test, y_pred))"
   ]
  },
  {
   "cell_type": "code",
   "execution_count": null,
   "metadata": {},
   "outputs": [],
   "source": [
    "# print(confusion_matrix(y_test,y_pred))"
   ]
  },
  {
   "cell_type": "code",
   "execution_count": null,
   "metadata": {},
   "outputs": [],
   "source": []
  }
 ],
 "metadata": {
  "kernelspec": {
   "display_name": "Python 3",
   "language": "python",
   "name": "python3"
  },
  "language_info": {
   "codemirror_mode": {
    "name": "ipython",
    "version": 3
   },
   "file_extension": ".py",
   "mimetype": "text/x-python",
   "name": "python",
   "nbconvert_exporter": "python",
   "pygments_lexer": "ipython3",
   "version": "3.6.3"
  }
 },
 "nbformat": 4,
 "nbformat_minor": 2
}
