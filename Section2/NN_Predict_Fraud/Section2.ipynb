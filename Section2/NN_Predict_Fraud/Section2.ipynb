{
 "cells": [
  {
   "cell_type": "code",
   "execution_count": 1,
   "metadata": {},
   "outputs": [],
   "source": [
    "import pandas as pd\n",
    "import numpy as np"
   ]
  },
  {
   "cell_type": "markdown",
   "metadata": {},
   "source": [
    "### Step 1: Importing Data"
   ]
  },
  {
   "cell_type": "code",
   "execution_count": 2,
   "metadata": {},
   "outputs": [],
   "source": [
    "df= pd.read_csv('train.csv')"
   ]
  },
  {
   "cell_type": "code",
   "execution_count": 3,
   "metadata": {},
   "outputs": [
    {
     "data": {
      "text/html": [
       "<div>\n",
       "<style scoped>\n",
       "    .dataframe tbody tr th:only-of-type {\n",
       "        vertical-align: middle;\n",
       "    }\n",
       "\n",
       "    .dataframe tbody tr th {\n",
       "        vertical-align: top;\n",
       "    }\n",
       "\n",
       "    .dataframe thead th {\n",
       "        text-align: right;\n",
       "    }\n",
       "</style>\n",
       "<table border=\"1\" class=\"dataframe\">\n",
       "  <thead>\n",
       "    <tr style=\"text-align: right;\">\n",
       "      <th></th>\n",
       "      <th>Time</th>\n",
       "      <th>V1</th>\n",
       "      <th>V2</th>\n",
       "      <th>V3</th>\n",
       "      <th>V4</th>\n",
       "      <th>V5</th>\n",
       "      <th>V6</th>\n",
       "      <th>V7</th>\n",
       "      <th>V8</th>\n",
       "      <th>V9</th>\n",
       "      <th>...</th>\n",
       "      <th>V21</th>\n",
       "      <th>V22</th>\n",
       "      <th>V23</th>\n",
       "      <th>V24</th>\n",
       "      <th>V25</th>\n",
       "      <th>V26</th>\n",
       "      <th>V27</th>\n",
       "      <th>V28</th>\n",
       "      <th>Amount</th>\n",
       "      <th>Class</th>\n",
       "    </tr>\n",
       "  </thead>\n",
       "  <tbody>\n",
       "    <tr>\n",
       "      <th>0</th>\n",
       "      <td>144035</td>\n",
       "      <td>-0.795465</td>\n",
       "      <td>1.035145</td>\n",
       "      <td>0.629094</td>\n",
       "      <td>1.060550</td>\n",
       "      <td>0.185512</td>\n",
       "      <td>0.442982</td>\n",
       "      <td>0.367739</td>\n",
       "      <td>0.629104</td>\n",
       "      <td>-0.215407</td>\n",
       "      <td>...</td>\n",
       "      <td>-0.224165</td>\n",
       "      <td>-0.406332</td>\n",
       "      <td>-0.113468</td>\n",
       "      <td>-0.519506</td>\n",
       "      <td>0.062945</td>\n",
       "      <td>-0.625920</td>\n",
       "      <td>0.305893</td>\n",
       "      <td>0.130054</td>\n",
       "      <td>35.80</td>\n",
       "      <td>0</td>\n",
       "    </tr>\n",
       "    <tr>\n",
       "      <th>1</th>\n",
       "      <td>57027</td>\n",
       "      <td>-2.335655</td>\n",
       "      <td>2.225380</td>\n",
       "      <td>-3.379450</td>\n",
       "      <td>2.178538</td>\n",
       "      <td>-3.568264</td>\n",
       "      <td>0.316814</td>\n",
       "      <td>-1.734948</td>\n",
       "      <td>1.449139</td>\n",
       "      <td>-1.980033</td>\n",
       "      <td>...</td>\n",
       "      <td>0.785540</td>\n",
       "      <td>0.297412</td>\n",
       "      <td>0.308536</td>\n",
       "      <td>-0.598416</td>\n",
       "      <td>-0.121850</td>\n",
       "      <td>-0.491018</td>\n",
       "      <td>0.701606</td>\n",
       "      <td>0.206966</td>\n",
       "      <td>444.17</td>\n",
       "      <td>1</td>\n",
       "    </tr>\n",
       "    <tr>\n",
       "      <th>2</th>\n",
       "      <td>75347</td>\n",
       "      <td>1.485941</td>\n",
       "      <td>-0.325035</td>\n",
       "      <td>-0.551499</td>\n",
       "      <td>-0.845371</td>\n",
       "      <td>-0.216371</td>\n",
       "      <td>-0.917921</td>\n",
       "      <td>-0.011792</td>\n",
       "      <td>-0.375973</td>\n",
       "      <td>-1.136155</td>\n",
       "      <td>...</td>\n",
       "      <td>0.145207</td>\n",
       "      <td>0.346199</td>\n",
       "      <td>-0.281322</td>\n",
       "      <td>-0.404634</td>\n",
       "      <td>0.909394</td>\n",
       "      <td>-0.034868</td>\n",
       "      <td>-0.030328</td>\n",
       "      <td>-0.004064</td>\n",
       "      <td>25.00</td>\n",
       "      <td>0</td>\n",
       "    </tr>\n",
       "    <tr>\n",
       "      <th>3</th>\n",
       "      <td>75424</td>\n",
       "      <td>-0.804963</td>\n",
       "      <td>0.712653</td>\n",
       "      <td>1.360827</td>\n",
       "      <td>-0.332024</td>\n",
       "      <td>1.302313</td>\n",
       "      <td>1.623387</td>\n",
       "      <td>0.551873</td>\n",
       "      <td>0.637665</td>\n",
       "      <td>-0.844825</td>\n",
       "      <td>...</td>\n",
       "      <td>0.219177</td>\n",
       "      <td>0.644723</td>\n",
       "      <td>-0.258438</td>\n",
       "      <td>-1.357390</td>\n",
       "      <td>0.469040</td>\n",
       "      <td>-0.272856</td>\n",
       "      <td>0.023010</td>\n",
       "      <td>-0.053357</td>\n",
       "      <td>18.95</td>\n",
       "      <td>0</td>\n",
       "    </tr>\n",
       "    <tr>\n",
       "      <th>4</th>\n",
       "      <td>102676</td>\n",
       "      <td>-5.552122</td>\n",
       "      <td>5.678134</td>\n",
       "      <td>-9.775528</td>\n",
       "      <td>8.416295</td>\n",
       "      <td>-4.409844</td>\n",
       "      <td>-1.506235</td>\n",
       "      <td>-6.899839</td>\n",
       "      <td>3.750443</td>\n",
       "      <td>-3.879793</td>\n",
       "      <td>...</td>\n",
       "      <td>1.128472</td>\n",
       "      <td>0.228484</td>\n",
       "      <td>0.286258</td>\n",
       "      <td>-0.536294</td>\n",
       "      <td>-0.104925</td>\n",
       "      <td>0.420919</td>\n",
       "      <td>-0.297557</td>\n",
       "      <td>-0.946184</td>\n",
       "      <td>119.74</td>\n",
       "      <td>1</td>\n",
       "    </tr>\n",
       "  </tbody>\n",
       "</table>\n",
       "<p>5 rows × 31 columns</p>\n",
       "</div>"
      ],
      "text/plain": [
       "     Time        V1        V2        V3        V4        V5        V6  \\\n",
       "0  144035 -0.795465  1.035145  0.629094  1.060550  0.185512  0.442982   \n",
       "1   57027 -2.335655  2.225380 -3.379450  2.178538 -3.568264  0.316814   \n",
       "2   75347  1.485941 -0.325035 -0.551499 -0.845371 -0.216371 -0.917921   \n",
       "3   75424 -0.804963  0.712653  1.360827 -0.332024  1.302313  1.623387   \n",
       "4  102676 -5.552122  5.678134 -9.775528  8.416295 -4.409844 -1.506235   \n",
       "\n",
       "         V7        V8        V9  ...         V21       V22       V23  \\\n",
       "0  0.367739  0.629104 -0.215407  ...   -0.224165 -0.406332 -0.113468   \n",
       "1 -1.734948  1.449139 -1.980033  ...    0.785540  0.297412  0.308536   \n",
       "2 -0.011792 -0.375973 -1.136155  ...    0.145207  0.346199 -0.281322   \n",
       "3  0.551873  0.637665 -0.844825  ...    0.219177  0.644723 -0.258438   \n",
       "4 -6.899839  3.750443 -3.879793  ...    1.128472  0.228484  0.286258   \n",
       "\n",
       "        V24       V25       V26       V27       V28  Amount  Class  \n",
       "0 -0.519506  0.062945 -0.625920  0.305893  0.130054   35.80      0  \n",
       "1 -0.598416 -0.121850 -0.491018  0.701606  0.206966  444.17      1  \n",
       "2 -0.404634  0.909394 -0.034868 -0.030328 -0.004064   25.00      0  \n",
       "3 -1.357390  0.469040 -0.272856  0.023010 -0.053357   18.95      0  \n",
       "4 -0.536294 -0.104925  0.420919 -0.297557 -0.946184  119.74      1  \n",
       "\n",
       "[5 rows x 31 columns]"
      ]
     },
     "execution_count": 3,
     "metadata": {},
     "output_type": "execute_result"
    }
   ],
   "source": [
    "df.head()"
   ]
  },
  {
   "cell_type": "markdown",
   "metadata": {},
   "source": [
    "### Step 2: Cleaning Data"
   ]
  },
  {
   "cell_type": "code",
   "execution_count": 4,
   "metadata": {
    "scrolled": true
   },
   "outputs": [
    {
     "name": "stdout",
     "output_type": "stream",
     "text": [
      "<class 'pandas.core.frame.DataFrame'>\n",
      "RangeIndex: 902 entries, 0 to 901\n",
      "Data columns (total 31 columns):\n",
      "Time      902 non-null int64\n",
      "V1        902 non-null float64\n",
      "V2        902 non-null float64\n",
      "V3        902 non-null float64\n",
      "V4        901 non-null float64\n",
      "V5        901 non-null float64\n",
      "V6        901 non-null float64\n",
      "V7        901 non-null float64\n",
      "V8        901 non-null float64\n",
      "V9        902 non-null float64\n",
      "V10       902 non-null float64\n",
      "V11       902 non-null float64\n",
      "V12       902 non-null float64\n",
      "V13       902 non-null float64\n",
      "V14       901 non-null float64\n",
      "V15       901 non-null float64\n",
      "V16       901 non-null float64\n",
      "V17       901 non-null float64\n",
      "V18       901 non-null float64\n",
      "V19       901 non-null float64\n",
      "V20       902 non-null float64\n",
      "V21       902 non-null float64\n",
      "V22       902 non-null float64\n",
      "V23       902 non-null float64\n",
      "V24       902 non-null float64\n",
      "V25       902 non-null float64\n",
      "V26       902 non-null float64\n",
      "V27       902 non-null float64\n",
      "V28       902 non-null float64\n",
      "Amount    902 non-null float64\n",
      "Class     902 non-null int64\n",
      "dtypes: float64(29), int64(2)\n",
      "memory usage: 218.5 KB\n"
     ]
    }
   ],
   "source": [
    "df.info()"
   ]
  },
  {
   "cell_type": "code",
   "execution_count": 5,
   "metadata": {},
   "outputs": [
    {
     "data": {
      "text/plain": [
       "True"
      ]
     },
     "execution_count": 5,
     "metadata": {},
     "output_type": "execute_result"
    }
   ],
   "source": [
    "df.isnull().values.any()"
   ]
  },
  {
   "cell_type": "code",
   "execution_count": 6,
   "metadata": {
    "scrolled": true
   },
   "outputs": [
    {
     "data": {
      "text/plain": [
       "Time      0\n",
       "V1        0\n",
       "V2        0\n",
       "V3        0\n",
       "V4        1\n",
       "V5        1\n",
       "V6        1\n",
       "V7        1\n",
       "V8        1\n",
       "V9        0\n",
       "V10       0\n",
       "V11       0\n",
       "V12       0\n",
       "V13       0\n",
       "V14       1\n",
       "V15       1\n",
       "V16       1\n",
       "V17       1\n",
       "V18       1\n",
       "V19       1\n",
       "V20       0\n",
       "V21       0\n",
       "V22       0\n",
       "V23       0\n",
       "V24       0\n",
       "V25       0\n",
       "V26       0\n",
       "V27       0\n",
       "V28       0\n",
       "Amount    0\n",
       "Class     0\n",
       "dtype: int64"
      ]
     },
     "execution_count": 6,
     "metadata": {},
     "output_type": "execute_result"
    }
   ],
   "source": [
    "df.isnull().sum()"
   ]
  },
  {
   "cell_type": "code",
   "execution_count": 7,
   "metadata": {},
   "outputs": [
    {
     "data": {
      "text/html": [
       "<div>\n",
       "<style scoped>\n",
       "    .dataframe tbody tr th:only-of-type {\n",
       "        vertical-align: middle;\n",
       "    }\n",
       "\n",
       "    .dataframe tbody tr th {\n",
       "        vertical-align: top;\n",
       "    }\n",
       "\n",
       "    .dataframe thead th {\n",
       "        text-align: right;\n",
       "    }\n",
       "</style>\n",
       "<table border=\"1\" class=\"dataframe\">\n",
       "  <thead>\n",
       "    <tr style=\"text-align: right;\">\n",
       "      <th></th>\n",
       "      <th>Time</th>\n",
       "      <th>V1</th>\n",
       "      <th>V2</th>\n",
       "      <th>V3</th>\n",
       "      <th>V4</th>\n",
       "      <th>V5</th>\n",
       "      <th>V6</th>\n",
       "      <th>V7</th>\n",
       "      <th>V8</th>\n",
       "      <th>V9</th>\n",
       "      <th>...</th>\n",
       "      <th>V21</th>\n",
       "      <th>V22</th>\n",
       "      <th>V23</th>\n",
       "      <th>V24</th>\n",
       "      <th>V25</th>\n",
       "      <th>V26</th>\n",
       "      <th>V27</th>\n",
       "      <th>V28</th>\n",
       "      <th>Amount</th>\n",
       "      <th>Class</th>\n",
       "    </tr>\n",
       "  </thead>\n",
       "  <tbody>\n",
       "    <tr>\n",
       "      <th>900</th>\n",
       "      <td>11131</td>\n",
       "      <td>-1.426623</td>\n",
       "      <td>4.141986</td>\n",
       "      <td>-9.804103</td>\n",
       "      <td>NaN</td>\n",
       "      <td>NaN</td>\n",
       "      <td>NaN</td>\n",
       "      <td>NaN</td>\n",
       "      <td>NaN</td>\n",
       "      <td>-3.249516</td>\n",
       "      <td>...</td>\n",
       "      <td>1.865679</td>\n",
       "      <td>0.407809</td>\n",
       "      <td>0.605809</td>\n",
       "      <td>-0.769348</td>\n",
       "      <td>-1.746337</td>\n",
       "      <td>0.50204</td>\n",
       "      <td>1.977258</td>\n",
       "      <td>0.711607</td>\n",
       "      <td>1.0</td>\n",
       "      <td>1</td>\n",
       "    </tr>\n",
       "  </tbody>\n",
       "</table>\n",
       "<p>1 rows × 31 columns</p>\n",
       "</div>"
      ],
      "text/plain": [
       "      Time        V1        V2        V3  V4  V5  V6  V7  V8        V9  ...    \\\n",
       "900  11131 -1.426623  4.141986 -9.804103 NaN NaN NaN NaN NaN -3.249516  ...     \n",
       "\n",
       "          V21       V22       V23       V24       V25      V26       V27  \\\n",
       "900  1.865679  0.407809  0.605809 -0.769348 -1.746337  0.50204  1.977258   \n",
       "\n",
       "          V28  Amount  Class  \n",
       "900  0.711607     1.0      1  \n",
       "\n",
       "[1 rows x 31 columns]"
      ]
     },
     "execution_count": 7,
     "metadata": {},
     "output_type": "execute_result"
    }
   ],
   "source": [
    "df[df['V4'].isnull()]"
   ]
  },
  {
   "cell_type": "code",
   "execution_count": 8,
   "metadata": {},
   "outputs": [],
   "source": [
    "df.dropna(inplace=True)"
   ]
  },
  {
   "cell_type": "code",
   "execution_count": 9,
   "metadata": {},
   "outputs": [
    {
     "data": {
      "text/plain": [
       "False"
      ]
     },
     "execution_count": 9,
     "metadata": {},
     "output_type": "execute_result"
    }
   ],
   "source": [
    "df.isnull().values.any()"
   ]
  },
  {
   "cell_type": "markdown",
   "metadata": {},
   "source": [
    "### Step 3: Data Preprocessing"
   ]
  },
  {
   "cell_type": "code",
   "execution_count": 10,
   "metadata": {},
   "outputs": [
    {
     "data": {
      "text/html": [
       "<div>\n",
       "<style scoped>\n",
       "    .dataframe tbody tr th:only-of-type {\n",
       "        vertical-align: middle;\n",
       "    }\n",
       "\n",
       "    .dataframe tbody tr th {\n",
       "        vertical-align: top;\n",
       "    }\n",
       "\n",
       "    .dataframe thead th {\n",
       "        text-align: right;\n",
       "    }\n",
       "</style>\n",
       "<table border=\"1\" class=\"dataframe\">\n",
       "  <thead>\n",
       "    <tr style=\"text-align: right;\">\n",
       "      <th></th>\n",
       "      <th>Time</th>\n",
       "      <th>V1</th>\n",
       "      <th>V2</th>\n",
       "      <th>V3</th>\n",
       "      <th>V4</th>\n",
       "      <th>V5</th>\n",
       "      <th>V6</th>\n",
       "      <th>V7</th>\n",
       "      <th>V8</th>\n",
       "      <th>V9</th>\n",
       "      <th>...</th>\n",
       "      <th>V21</th>\n",
       "      <th>V22</th>\n",
       "      <th>V23</th>\n",
       "      <th>V24</th>\n",
       "      <th>V25</th>\n",
       "      <th>V26</th>\n",
       "      <th>V27</th>\n",
       "      <th>V28</th>\n",
       "      <th>Amount</th>\n",
       "      <th>Class</th>\n",
       "    </tr>\n",
       "  </thead>\n",
       "  <tbody>\n",
       "    <tr>\n",
       "      <th>count</th>\n",
       "      <td>900.000000</td>\n",
       "      <td>900.000000</td>\n",
       "      <td>900.000000</td>\n",
       "      <td>900.000000</td>\n",
       "      <td>900.000000</td>\n",
       "      <td>900.000000</td>\n",
       "      <td>900.000000</td>\n",
       "      <td>900.000000</td>\n",
       "      <td>900.000000</td>\n",
       "      <td>900.000000</td>\n",
       "      <td>...</td>\n",
       "      <td>900.000000</td>\n",
       "      <td>900.000000</td>\n",
       "      <td>900.000000</td>\n",
       "      <td>900.000000</td>\n",
       "      <td>900.000000</td>\n",
       "      <td>900.000000</td>\n",
       "      <td>900.000000</td>\n",
       "      <td>900.000000</td>\n",
       "      <td>900.000000</td>\n",
       "      <td>900.000000</td>\n",
       "    </tr>\n",
       "    <tr>\n",
       "      <th>mean</th>\n",
       "      <td>89579.985556</td>\n",
       "      <td>-2.302370</td>\n",
       "      <td>1.776772</td>\n",
       "      <td>-3.533859</td>\n",
       "      <td>2.210778</td>\n",
       "      <td>-1.613497</td>\n",
       "      <td>-0.699977</td>\n",
       "      <td>-2.703860</td>\n",
       "      <td>0.381013</td>\n",
       "      <td>-1.270022</td>\n",
       "      <td>...</td>\n",
       "      <td>0.366111</td>\n",
       "      <td>-0.005000</td>\n",
       "      <td>-0.031945</td>\n",
       "      <td>-0.038475</td>\n",
       "      <td>0.030377</td>\n",
       "      <td>0.025562</td>\n",
       "      <td>0.077531</td>\n",
       "      <td>0.036373</td>\n",
       "      <td>108.953633</td>\n",
       "      <td>0.500000</td>\n",
       "    </tr>\n",
       "    <tr>\n",
       "      <th>std</th>\n",
       "      <td>48739.857474</td>\n",
       "      <td>5.546627</td>\n",
       "      <td>3.672593</td>\n",
       "      <td>6.171931</td>\n",
       "      <td>3.174811</td>\n",
       "      <td>4.342731</td>\n",
       "      <td>1.890163</td>\n",
       "      <td>5.877914</td>\n",
       "      <td>4.853342</td>\n",
       "      <td>2.297901</td>\n",
       "      <td>...</td>\n",
       "      <td>2.702693</td>\n",
       "      <td>1.139523</td>\n",
       "      <td>1.196382</td>\n",
       "      <td>0.573055</td>\n",
       "      <td>0.661572</td>\n",
       "      <td>0.468758</td>\n",
       "      <td>0.989314</td>\n",
       "      <td>0.421468</td>\n",
       "      <td>308.928972</td>\n",
       "      <td>0.500278</td>\n",
       "    </tr>\n",
       "    <tr>\n",
       "      <th>min</th>\n",
       "      <td>406.000000</td>\n",
       "      <td>-30.552380</td>\n",
       "      <td>-8.402154</td>\n",
       "      <td>-31.103685</td>\n",
       "      <td>-4.401290</td>\n",
       "      <td>-29.730600</td>\n",
       "      <td>-6.406267</td>\n",
       "      <td>-43.557242</td>\n",
       "      <td>-41.044261</td>\n",
       "      <td>-13.434066</td>\n",
       "      <td>...</td>\n",
       "      <td>-22.797604</td>\n",
       "      <td>-8.887017</td>\n",
       "      <td>-19.254328</td>\n",
       "      <td>-2.028024</td>\n",
       "      <td>-4.781606</td>\n",
       "      <td>-1.149923</td>\n",
       "      <td>-7.263482</td>\n",
       "      <td>-1.869290</td>\n",
       "      <td>0.000000</td>\n",
       "      <td>0.000000</td>\n",
       "    </tr>\n",
       "    <tr>\n",
       "      <th>25%</th>\n",
       "      <td>47249.750000</td>\n",
       "      <td>-2.825991</td>\n",
       "      <td>-0.195431</td>\n",
       "      <td>-5.068730</td>\n",
       "      <td>-0.105275</td>\n",
       "      <td>-1.775001</td>\n",
       "      <td>-1.587624</td>\n",
       "      <td>-2.992775</td>\n",
       "      <td>-0.178557</td>\n",
       "      <td>-2.301580</td>\n",
       "      <td>...</td>\n",
       "      <td>-0.162558</td>\n",
       "      <td>-0.543180</td>\n",
       "      <td>-0.226998</td>\n",
       "      <td>-0.379574</td>\n",
       "      <td>-0.301918</td>\n",
       "      <td>-0.295559</td>\n",
       "      <td>-0.059425</td>\n",
       "      <td>-0.053411</td>\n",
       "      <td>1.625000</td>\n",
       "      <td>0.000000</td>\n",
       "    </tr>\n",
       "    <tr>\n",
       "      <th>50%</th>\n",
       "      <td>81674.500000</td>\n",
       "      <td>-0.712196</td>\n",
       "      <td>0.896925</td>\n",
       "      <td>-1.456225</td>\n",
       "      <td>1.206713</td>\n",
       "      <td>-0.458894</td>\n",
       "      <td>-0.672049</td>\n",
       "      <td>-0.602134</td>\n",
       "      <td>0.150282</td>\n",
       "      <td>-0.680745</td>\n",
       "      <td>...</td>\n",
       "      <td>0.130469</td>\n",
       "      <td>-0.017277</td>\n",
       "      <td>-0.025929</td>\n",
       "      <td>0.016212</td>\n",
       "      <td>0.049648</td>\n",
       "      <td>-0.026232</td>\n",
       "      <td>0.046411</td>\n",
       "      <td>0.027474</td>\n",
       "      <td>18.970000</td>\n",
       "      <td>0.500000</td>\n",
       "    </tr>\n",
       "    <tr>\n",
       "      <th>75%</th>\n",
       "      <td>138944.250000</td>\n",
       "      <td>1.138937</td>\n",
       "      <td>2.777569</td>\n",
       "      <td>0.366721</td>\n",
       "      <td>4.173330</td>\n",
       "      <td>0.529846</td>\n",
       "      <td>0.035199</td>\n",
       "      <td>0.266629</td>\n",
       "      <td>0.944850</td>\n",
       "      <td>0.213191</td>\n",
       "      <td>...</td>\n",
       "      <td>0.651412</td>\n",
       "      <td>0.570253</td>\n",
       "      <td>0.194164</td>\n",
       "      <td>0.382373</td>\n",
       "      <td>0.393059</td>\n",
       "      <td>0.350455</td>\n",
       "      <td>0.419129</td>\n",
       "      <td>0.206210</td>\n",
       "      <td>99.990000</td>\n",
       "      <td>1.000000</td>\n",
       "    </tr>\n",
       "    <tr>\n",
       "      <th>max</th>\n",
       "      <td>172622.000000</td>\n",
       "      <td>2.369906</td>\n",
       "      <td>22.057729</td>\n",
       "      <td>3.225532</td>\n",
       "      <td>12.114672</td>\n",
       "      <td>11.095089</td>\n",
       "      <td>21.307738</td>\n",
       "      <td>31.527244</td>\n",
       "      <td>20.007208</td>\n",
       "      <td>4.762324</td>\n",
       "      <td>...</td>\n",
       "      <td>27.202839</td>\n",
       "      <td>8.361985</td>\n",
       "      <td>5.466230</td>\n",
       "      <td>3.569702</td>\n",
       "      <td>2.208209</td>\n",
       "      <td>1.884741</td>\n",
       "      <td>4.655054</td>\n",
       "      <td>3.503999</td>\n",
       "      <td>6454.740000</td>\n",
       "      <td>1.000000</td>\n",
       "    </tr>\n",
       "  </tbody>\n",
       "</table>\n",
       "<p>8 rows × 31 columns</p>\n",
       "</div>"
      ],
      "text/plain": [
       "                Time          V1          V2          V3          V4  \\\n",
       "count     900.000000  900.000000  900.000000  900.000000  900.000000   \n",
       "mean    89579.985556   -2.302370    1.776772   -3.533859    2.210778   \n",
       "std     48739.857474    5.546627    3.672593    6.171931    3.174811   \n",
       "min       406.000000  -30.552380   -8.402154  -31.103685   -4.401290   \n",
       "25%     47249.750000   -2.825991   -0.195431   -5.068730   -0.105275   \n",
       "50%     81674.500000   -0.712196    0.896925   -1.456225    1.206713   \n",
       "75%    138944.250000    1.138937    2.777569    0.366721    4.173330   \n",
       "max    172622.000000    2.369906   22.057729    3.225532   12.114672   \n",
       "\n",
       "               V5          V6          V7          V8          V9     ...      \\\n",
       "count  900.000000  900.000000  900.000000  900.000000  900.000000     ...       \n",
       "mean    -1.613497   -0.699977   -2.703860    0.381013   -1.270022     ...       \n",
       "std      4.342731    1.890163    5.877914    4.853342    2.297901     ...       \n",
       "min    -29.730600   -6.406267  -43.557242  -41.044261  -13.434066     ...       \n",
       "25%     -1.775001   -1.587624   -2.992775   -0.178557   -2.301580     ...       \n",
       "50%     -0.458894   -0.672049   -0.602134    0.150282   -0.680745     ...       \n",
       "75%      0.529846    0.035199    0.266629    0.944850    0.213191     ...       \n",
       "max     11.095089   21.307738   31.527244   20.007208    4.762324     ...       \n",
       "\n",
       "              V21         V22         V23         V24         V25         V26  \\\n",
       "count  900.000000  900.000000  900.000000  900.000000  900.000000  900.000000   \n",
       "mean     0.366111   -0.005000   -0.031945   -0.038475    0.030377    0.025562   \n",
       "std      2.702693    1.139523    1.196382    0.573055    0.661572    0.468758   \n",
       "min    -22.797604   -8.887017  -19.254328   -2.028024   -4.781606   -1.149923   \n",
       "25%     -0.162558   -0.543180   -0.226998   -0.379574   -0.301918   -0.295559   \n",
       "50%      0.130469   -0.017277   -0.025929    0.016212    0.049648   -0.026232   \n",
       "75%      0.651412    0.570253    0.194164    0.382373    0.393059    0.350455   \n",
       "max     27.202839    8.361985    5.466230    3.569702    2.208209    1.884741   \n",
       "\n",
       "              V27         V28       Amount       Class  \n",
       "count  900.000000  900.000000   900.000000  900.000000  \n",
       "mean     0.077531    0.036373   108.953633    0.500000  \n",
       "std      0.989314    0.421468   308.928972    0.500278  \n",
       "min     -7.263482   -1.869290     0.000000    0.000000  \n",
       "25%     -0.059425   -0.053411     1.625000    0.000000  \n",
       "50%      0.046411    0.027474    18.970000    0.500000  \n",
       "75%      0.419129    0.206210    99.990000    1.000000  \n",
       "max      4.655054    3.503999  6454.740000    1.000000  \n",
       "\n",
       "[8 rows x 31 columns]"
      ]
     },
     "execution_count": 10,
     "metadata": {},
     "output_type": "execute_result"
    }
   ],
   "source": [
    "df.describe()"
   ]
  },
  {
   "cell_type": "code",
   "execution_count": 11,
   "metadata": {},
   "outputs": [
    {
     "data": {
      "text/html": [
       "<div>\n",
       "<style scoped>\n",
       "    .dataframe tbody tr th:only-of-type {\n",
       "        vertical-align: middle;\n",
       "    }\n",
       "\n",
       "    .dataframe tbody tr th {\n",
       "        vertical-align: top;\n",
       "    }\n",
       "\n",
       "    .dataframe thead th {\n",
       "        text-align: right;\n",
       "    }\n",
       "</style>\n",
       "<table border=\"1\" class=\"dataframe\">\n",
       "  <thead>\n",
       "    <tr style=\"text-align: right;\">\n",
       "      <th></th>\n",
       "      <th>Time</th>\n",
       "      <th>V1</th>\n",
       "      <th>V2</th>\n",
       "      <th>V3</th>\n",
       "      <th>V4</th>\n",
       "      <th>V5</th>\n",
       "      <th>V6</th>\n",
       "      <th>V7</th>\n",
       "      <th>V8</th>\n",
       "      <th>V9</th>\n",
       "      <th>...</th>\n",
       "      <th>V20</th>\n",
       "      <th>V21</th>\n",
       "      <th>V22</th>\n",
       "      <th>V23</th>\n",
       "      <th>V24</th>\n",
       "      <th>V25</th>\n",
       "      <th>V26</th>\n",
       "      <th>V27</th>\n",
       "      <th>V28</th>\n",
       "      <th>Amount</th>\n",
       "    </tr>\n",
       "    <tr>\n",
       "      <th>Class</th>\n",
       "      <th></th>\n",
       "      <th></th>\n",
       "      <th></th>\n",
       "      <th></th>\n",
       "      <th></th>\n",
       "      <th></th>\n",
       "      <th></th>\n",
       "      <th></th>\n",
       "      <th></th>\n",
       "      <th></th>\n",
       "      <th></th>\n",
       "      <th></th>\n",
       "      <th></th>\n",
       "      <th></th>\n",
       "      <th></th>\n",
       "      <th></th>\n",
       "      <th></th>\n",
       "      <th></th>\n",
       "      <th></th>\n",
       "      <th></th>\n",
       "      <th></th>\n",
       "    </tr>\n",
       "  </thead>\n",
       "  <tbody>\n",
       "    <tr>\n",
       "      <th>0</th>\n",
       "      <td>450</td>\n",
       "      <td>450</td>\n",
       "      <td>450</td>\n",
       "      <td>450</td>\n",
       "      <td>450</td>\n",
       "      <td>450</td>\n",
       "      <td>450</td>\n",
       "      <td>450</td>\n",
       "      <td>450</td>\n",
       "      <td>450</td>\n",
       "      <td>...</td>\n",
       "      <td>450</td>\n",
       "      <td>450</td>\n",
       "      <td>450</td>\n",
       "      <td>450</td>\n",
       "      <td>450</td>\n",
       "      <td>450</td>\n",
       "      <td>450</td>\n",
       "      <td>450</td>\n",
       "      <td>450</td>\n",
       "      <td>450</td>\n",
       "    </tr>\n",
       "    <tr>\n",
       "      <th>1</th>\n",
       "      <td>450</td>\n",
       "      <td>450</td>\n",
       "      <td>450</td>\n",
       "      <td>450</td>\n",
       "      <td>450</td>\n",
       "      <td>450</td>\n",
       "      <td>450</td>\n",
       "      <td>450</td>\n",
       "      <td>450</td>\n",
       "      <td>450</td>\n",
       "      <td>...</td>\n",
       "      <td>450</td>\n",
       "      <td>450</td>\n",
       "      <td>450</td>\n",
       "      <td>450</td>\n",
       "      <td>450</td>\n",
       "      <td>450</td>\n",
       "      <td>450</td>\n",
       "      <td>450</td>\n",
       "      <td>450</td>\n",
       "      <td>450</td>\n",
       "    </tr>\n",
       "  </tbody>\n",
       "</table>\n",
       "<p>2 rows × 30 columns</p>\n",
       "</div>"
      ],
      "text/plain": [
       "       Time   V1   V2   V3   V4   V5   V6   V7   V8   V9   ...    V20  V21  \\\n",
       "Class                                                      ...               \n",
       "0       450  450  450  450  450  450  450  450  450  450   ...    450  450   \n",
       "1       450  450  450  450  450  450  450  450  450  450   ...    450  450   \n",
       "\n",
       "       V22  V23  V24  V25  V26  V27  V28  Amount  \n",
       "Class                                             \n",
       "0      450  450  450  450  450  450  450     450  \n",
       "1      450  450  450  450  450  450  450     450  \n",
       "\n",
       "[2 rows x 30 columns]"
      ]
     },
     "execution_count": 11,
     "metadata": {},
     "output_type": "execute_result"
    }
   ],
   "source": [
    "df.groupby('Class').count()"
   ]
  },
  {
   "cell_type": "code",
   "execution_count": 12,
   "metadata": {},
   "outputs": [],
   "source": [
    "X_df = df.drop(columns=['Class'])\n",
    "y_df = df['Class']"
   ]
  },
  {
   "cell_type": "code",
   "execution_count": 13,
   "metadata": {},
   "outputs": [
    {
     "data": {
      "text/plain": [
       "((900, 30), (900,))"
      ]
     },
     "execution_count": 13,
     "metadata": {},
     "output_type": "execute_result"
    }
   ],
   "source": [
    "X_df.shape, y_df.shape"
   ]
  },
  {
   "cell_type": "code",
   "execution_count": 65,
   "metadata": {},
   "outputs": [],
   "source": [
    "X = np.array(X_df)\n",
    "y = np.array(y_df).astype(float)"
   ]
  },
  {
   "cell_type": "code",
   "execution_count": 66,
   "metadata": {},
   "outputs": [
    {
     "data": {
      "text/plain": [
       "array([[0.83400497, 0.90385325, 0.30982715, ..., 0.63509271, 0.37208942,\n",
       "        0.00554631],\n",
       "       [0.32877898, 0.85707065, 0.34890264, ..., 0.66829419, 0.38640329,\n",
       "        0.068813  ],\n",
       "       [0.43515701, 0.97314995, 0.26517236, ..., 0.60688275, 0.34712932,\n",
       "        0.00387312],\n",
       "       ...,\n",
       "       [0.9008919 , 0.89642356, 0.37783653, ..., 0.66606746, 0.41061749,\n",
       "        0.01468998],\n",
       "       [0.67160426, 0.95684792, 0.31962279, ..., 0.66189093, 0.40663504,\n",
       "        0.01007012],\n",
       "       [0.43882102, 0.77186794, 0.39300561, ..., 0.6243462 , 0.47100491,\n",
       "        0.015477  ]])"
      ]
     },
     "execution_count": 66,
     "metadata": {},
     "output_type": "execute_result"
    }
   ],
   "source": [
    "# #optional step\n",
    "from sklearn.preprocessing import MinMaxScaler\n",
    "scale = MinMaxScaler()\n",
    "scale.fit_transform(X)"
   ]
  },
  {
   "cell_type": "markdown",
   "metadata": {},
   "source": [
    "### Step 4: Splitting Data into Train and Valid Set"
   ]
  },
  {
   "cell_type": "code",
   "execution_count": 67,
   "metadata": {},
   "outputs": [],
   "source": [
    "from sklearn.model_selection import train_test_split"
   ]
  },
  {
   "cell_type": "code",
   "execution_count": 68,
   "metadata": {},
   "outputs": [],
   "source": [
    "X_train, X_valid, y_train, y_valid = train_test_split(X, y, test_size = 0.05, shuffle=True)"
   ]
  },
  {
   "cell_type": "code",
   "execution_count": 69,
   "metadata": {},
   "outputs": [
    {
     "data": {
      "text/plain": [
       "((855, 30), (45, 30), (855,), (45,))"
      ]
     },
     "execution_count": 69,
     "metadata": {},
     "output_type": "execute_result"
    }
   ],
   "source": [
    "X_train.shape , X_valid.shape, y_train.shape, y_valid.shape"
   ]
  },
  {
   "cell_type": "markdown",
   "metadata": {},
   "source": [
    "### Step 5: Modelling Data"
   ]
  },
  {
   "cell_type": "code",
   "execution_count": 70,
   "metadata": {},
   "outputs": [],
   "source": [
    "import tensorflow as tf"
   ]
  },
  {
   "cell_type": "code",
   "execution_count": 80,
   "metadata": {},
   "outputs": [],
   "source": [
    "gpu_options = tf.GPUOptions(per_process_gpu_memory_fraction=0.25)\n"
   ]
  },
  {
   "cell_type": "code",
   "execution_count": 104,
   "metadata": {},
   "outputs": [],
   "source": [
    "def model(x):\n",
    "    mu = 0\n",
    "    sigma = 0.05\n",
    "    \n",
    "    \n",
    "    \n",
    "    weights_1 = tf.Variable(tf.truncated_normal(shape=(30,1000) ,mean = mu, stddev= sigma))\n",
    "    bias_1 = tf.Variable(tf.zeros(1000))\n",
    "    product_1 = tf.matmul(x, weights_1 ) + bias_1\n",
    "    \n",
    "    layer_1 = tf.nn.relu(product_1)\n",
    "    \n",
    "    weights_2 = tf.Variable(tf.truncated_normal(shape=(1000,500) , mean= mu, stddev=sigma))\n",
    "    bias_2 = tf.Variable(tf.zeros(500))\n",
    "    product_2 = tf.matmul(layer_1 , weights_2  ) + bias_2 \n",
    "\n",
    "    layer_2 = tf.nn.relu(product_2)\n",
    "\n",
    "    weights_3 = tf.Variable(tf.truncated_normal(shape=(500,50) , mean= mu, stddev=sigma))\n",
    "    bias_3 = tf.Variable(tf.zeros(50))\n",
    "    product_3 = tf.matmul( layer_2 , weights_3  ) + bias_3\n",
    "    \n",
    "    layer_3= tf.nn.relu(product_3)\n",
    "    \n",
    "    weights_4 = tf.Variable(tf.truncated_normal(shape=(50,1) , mean= mu, stddev=sigma))\n",
    "    bias_4 = tf.Variable(tf.zeros(1))\n",
    "    product_4 = tf.matmul( layer_3 , weights_4  ) + bias_4\n",
    "\n",
    "    \n",
    "    return product_4\n",
    "    "
   ]
  },
  {
   "cell_type": "code",
   "execution_count": 140,
   "metadata": {},
   "outputs": [],
   "source": [
    "def model_xe(x):\n",
    "    mu = 0\n",
    "    sigma = 0.05\n",
    "    \n",
    "    \n",
    "    initializer = tf.contrib.layers.xavier_initializer()\n",
    "    weights_1 = tf.Variable(initializer(shape=(1000,30)))\n",
    "    bias_1 = tf.Variable(initializer(shape=(1000,1)))\n",
    "    product_1 = tf.matmul(weights_1 , tf.transpose(x)) + bias_1\n",
    "    \n",
    "    layer_1 = tf.nn.relu(product_1)\n",
    "    \n",
    "    weights_2 = tf.Variable(initializer(shape=(500,1000)))\n",
    "    bias_2 = tf.Variable(initializer((500,1)))\n",
    "    product_2 = tf.matmul(weights_2 , tf.transpose(layer_1) ) + bias_2 \n",
    "\n",
    "    layer_2 = tf.nn.relu(product_2)\n",
    "\n",
    "    weights_3 = tf.Variable(initializer(shape=(50,500) ))\n",
    "    bias_3 = tf.Variable(initializer((50,1)))\n",
    "    product_3 = tf.matmul(  weights_3 , tf.transpose(layer_2)  ) + bias_3\n",
    "    \n",
    "    layer_3= tf.nn.relu(product_3)\n",
    "    \n",
    "    weights_4 = tf.Variable(initializer(shape=(1,50) ))\n",
    "    bias_4 = tf.Variable(initializer((1)))\n",
    "    product_4 = tf.matmul(  weights_4 , tf.transpose(layer_3)  ) + bias_4\n",
    "\n",
    "    \n",
    "    return product_4\n",
    "    "
   ]
  },
  {
   "cell_type": "code",
   "execution_count": 141,
   "metadata": {},
   "outputs": [],
   "source": [
    "if 'session' in locals() and session is not None:\n",
    "    print('Close interactive session')\n",
    "    session.close()"
   ]
  },
  {
   "cell_type": "code",
   "execution_count": 142,
   "metadata": {},
   "outputs": [
    {
     "ename": "ValueError",
     "evalue": "Dimensions must be equal, but are 500 and 1000 for 'MatMul_39' (op: 'MatMul') with input shapes: [50,500], [1000,500].",
     "output_type": "error",
     "traceback": [
      "\u001b[0;31m---------------------------------------------------------------------------\u001b[0m",
      "\u001b[0;31mInvalidArgumentError\u001b[0m                      Traceback (most recent call last)",
      "\u001b[0;32m~/miniconda3/envs/tensorflow/lib/python3.6/site-packages/tensorflow/python/framework/common_shapes.py\u001b[0m in \u001b[0;36m_call_cpp_shape_fn_impl\u001b[0;34m(op, input_tensors_needed, input_tensors_as_shapes_needed, require_shape_fn)\u001b[0m\n\u001b[1;32m    685\u001b[0m           \u001b[0mgraph_def_version\u001b[0m\u001b[0;34m,\u001b[0m \u001b[0mnode_def_str\u001b[0m\u001b[0;34m,\u001b[0m \u001b[0minput_shapes\u001b[0m\u001b[0;34m,\u001b[0m \u001b[0minput_tensors\u001b[0m\u001b[0;34m,\u001b[0m\u001b[0;34m\u001b[0m\u001b[0m\n\u001b[0;32m--> 686\u001b[0;31m           input_tensors_as_shapes, status)\n\u001b[0m\u001b[1;32m    687\u001b[0m   \u001b[0;32mexcept\u001b[0m \u001b[0merrors\u001b[0m\u001b[0;34m.\u001b[0m\u001b[0mInvalidArgumentError\u001b[0m \u001b[0;32mas\u001b[0m \u001b[0merr\u001b[0m\u001b[0;34m:\u001b[0m\u001b[0;34m\u001b[0m\u001b[0m\n",
      "\u001b[0;32m~/miniconda3/envs/tensorflow/lib/python3.6/site-packages/tensorflow/python/framework/errors_impl.py\u001b[0m in \u001b[0;36m__exit__\u001b[0;34m(self, type_arg, value_arg, traceback_arg)\u001b[0m\n\u001b[1;32m    472\u001b[0m             \u001b[0mcompat\u001b[0m\u001b[0;34m.\u001b[0m\u001b[0mas_text\u001b[0m\u001b[0;34m(\u001b[0m\u001b[0mc_api\u001b[0m\u001b[0;34m.\u001b[0m\u001b[0mTF_Message\u001b[0m\u001b[0;34m(\u001b[0m\u001b[0mself\u001b[0m\u001b[0;34m.\u001b[0m\u001b[0mstatus\u001b[0m\u001b[0;34m.\u001b[0m\u001b[0mstatus\u001b[0m\u001b[0;34m)\u001b[0m\u001b[0;34m)\u001b[0m\u001b[0;34m,\u001b[0m\u001b[0;34m\u001b[0m\u001b[0m\n\u001b[0;32m--> 473\u001b[0;31m             c_api.TF_GetCode(self.status.status))\n\u001b[0m\u001b[1;32m    474\u001b[0m     \u001b[0;31m# Delete the underlying status object from memory otherwise it stays alive\u001b[0m\u001b[0;34m\u001b[0m\u001b[0;34m\u001b[0m\u001b[0m\n",
      "\u001b[0;31mInvalidArgumentError\u001b[0m: Dimensions must be equal, but are 500 and 1000 for 'MatMul_39' (op: 'MatMul') with input shapes: [50,500], [1000,500].",
      "\nDuring handling of the above exception, another exception occurred:\n",
      "\u001b[0;31mValueError\u001b[0m                                Traceback (most recent call last)",
      "\u001b[0;32m<ipython-input-142-1da1b60782dc>\u001b[0m in \u001b[0;36m<module>\u001b[0;34m()\u001b[0m\n\u001b[1;32m      7\u001b[0m \u001b[0my_pass\u001b[0m \u001b[0;34m=\u001b[0m \u001b[0mtf\u001b[0m\u001b[0;34m.\u001b[0m\u001b[0mplaceholder\u001b[0m\u001b[0;34m(\u001b[0m\u001b[0mdtype\u001b[0m \u001b[0;34m=\u001b[0m \u001b[0mtf\u001b[0m\u001b[0;34m.\u001b[0m\u001b[0mfloat32\u001b[0m \u001b[0;34m,\u001b[0m \u001b[0mshape\u001b[0m \u001b[0;34m=\u001b[0m \u001b[0;34m(\u001b[0m\u001b[0;32mNone\u001b[0m\u001b[0;34m,\u001b[0m\u001b[0;32mNone\u001b[0m\u001b[0;34m)\u001b[0m\u001b[0;34m)\u001b[0m\u001b[0;34m\u001b[0m\u001b[0m\n\u001b[1;32m      8\u001b[0m \u001b[0;34m\u001b[0m\u001b[0m\n\u001b[0;32m----> 9\u001b[0;31m \u001b[0mforward_prop\u001b[0m \u001b[0;34m=\u001b[0m  \u001b[0mmodel_xe\u001b[0m\u001b[0;34m(\u001b[0m\u001b[0mx_pass\u001b[0m\u001b[0;34m)\u001b[0m\u001b[0;34m\u001b[0m\u001b[0m\n\u001b[0m\u001b[1;32m     10\u001b[0m \u001b[0;34m\u001b[0m\u001b[0m\n\u001b[1;32m     11\u001b[0m \u001b[0mloss\u001b[0m \u001b[0;34m=\u001b[0m \u001b[0mtf\u001b[0m\u001b[0;34m.\u001b[0m\u001b[0mnn\u001b[0m\u001b[0;34m.\u001b[0m\u001b[0msigmoid_cross_entropy_with_logits\u001b[0m\u001b[0;34m(\u001b[0m\u001b[0mlabels\u001b[0m \u001b[0;34m=\u001b[0m \u001b[0my_pass\u001b[0m\u001b[0;34m,\u001b[0m \u001b[0mlogits\u001b[0m\u001b[0;34m=\u001b[0m\u001b[0mforward_prop\u001b[0m\u001b[0;34m)\u001b[0m\u001b[0;34m\u001b[0m\u001b[0m\n",
      "\u001b[0;32m<ipython-input-140-54c8ad297930>\u001b[0m in \u001b[0;36mmodel_xe\u001b[0;34m(x)\u001b[0m\n\u001b[1;32m     19\u001b[0m     \u001b[0mweights_3\u001b[0m \u001b[0;34m=\u001b[0m \u001b[0mtf\u001b[0m\u001b[0;34m.\u001b[0m\u001b[0mVariable\u001b[0m\u001b[0;34m(\u001b[0m\u001b[0minitializer\u001b[0m\u001b[0;34m(\u001b[0m\u001b[0mshape\u001b[0m\u001b[0;34m=\u001b[0m\u001b[0;34m(\u001b[0m\u001b[0;36m50\u001b[0m\u001b[0;34m,\u001b[0m\u001b[0;36m500\u001b[0m\u001b[0;34m)\u001b[0m \u001b[0;34m)\u001b[0m\u001b[0;34m)\u001b[0m\u001b[0;34m\u001b[0m\u001b[0m\n\u001b[1;32m     20\u001b[0m     \u001b[0mbias_3\u001b[0m \u001b[0;34m=\u001b[0m \u001b[0mtf\u001b[0m\u001b[0;34m.\u001b[0m\u001b[0mVariable\u001b[0m\u001b[0;34m(\u001b[0m\u001b[0minitializer\u001b[0m\u001b[0;34m(\u001b[0m\u001b[0;34m(\u001b[0m\u001b[0;36m50\u001b[0m\u001b[0;34m,\u001b[0m\u001b[0;36m1\u001b[0m\u001b[0;34m)\u001b[0m\u001b[0;34m)\u001b[0m\u001b[0;34m)\u001b[0m\u001b[0;34m\u001b[0m\u001b[0m\n\u001b[0;32m---> 21\u001b[0;31m     \u001b[0mproduct_3\u001b[0m \u001b[0;34m=\u001b[0m \u001b[0mtf\u001b[0m\u001b[0;34m.\u001b[0m\u001b[0mmatmul\u001b[0m\u001b[0;34m(\u001b[0m  \u001b[0mweights_3\u001b[0m \u001b[0;34m,\u001b[0m \u001b[0mtf\u001b[0m\u001b[0;34m.\u001b[0m\u001b[0mtranspose\u001b[0m\u001b[0;34m(\u001b[0m\u001b[0mlayer_2\u001b[0m\u001b[0;34m)\u001b[0m  \u001b[0;34m)\u001b[0m \u001b[0;34m+\u001b[0m \u001b[0mbias_3\u001b[0m\u001b[0;34m\u001b[0m\u001b[0m\n\u001b[0m\u001b[1;32m     22\u001b[0m \u001b[0;34m\u001b[0m\u001b[0m\n\u001b[1;32m     23\u001b[0m     \u001b[0mlayer_3\u001b[0m\u001b[0;34m=\u001b[0m \u001b[0mtf\u001b[0m\u001b[0;34m.\u001b[0m\u001b[0mnn\u001b[0m\u001b[0;34m.\u001b[0m\u001b[0mrelu\u001b[0m\u001b[0;34m(\u001b[0m\u001b[0mproduct_3\u001b[0m\u001b[0;34m)\u001b[0m\u001b[0;34m\u001b[0m\u001b[0m\n",
      "\u001b[0;32m~/miniconda3/envs/tensorflow/lib/python3.6/site-packages/tensorflow/python/ops/math_ops.py\u001b[0m in \u001b[0;36mmatmul\u001b[0;34m(a, b, transpose_a, transpose_b, adjoint_a, adjoint_b, a_is_sparse, b_is_sparse, name)\u001b[0m\n\u001b[1;32m   1889\u001b[0m     \u001b[0;32melse\u001b[0m\u001b[0;34m:\u001b[0m\u001b[0;34m\u001b[0m\u001b[0m\n\u001b[1;32m   1890\u001b[0m       return gen_math_ops._mat_mul(\n\u001b[0;32m-> 1891\u001b[0;31m           a, b, transpose_a=transpose_a, transpose_b=transpose_b, name=name)\n\u001b[0m\u001b[1;32m   1892\u001b[0m \u001b[0;34m\u001b[0m\u001b[0m\n\u001b[1;32m   1893\u001b[0m \u001b[0;34m\u001b[0m\u001b[0m\n",
      "\u001b[0;32m~/miniconda3/envs/tensorflow/lib/python3.6/site-packages/tensorflow/python/ops/gen_math_ops.py\u001b[0m in \u001b[0;36m_mat_mul\u001b[0;34m(a, b, transpose_a, transpose_b, name)\u001b[0m\n\u001b[1;32m   2435\u001b[0m     _, _, _op = _op_def_lib._apply_op_helper(\n\u001b[1;32m   2436\u001b[0m         \u001b[0;34m\"MatMul\"\u001b[0m\u001b[0;34m,\u001b[0m \u001b[0ma\u001b[0m\u001b[0;34m=\u001b[0m\u001b[0ma\u001b[0m\u001b[0;34m,\u001b[0m \u001b[0mb\u001b[0m\u001b[0;34m=\u001b[0m\u001b[0mb\u001b[0m\u001b[0;34m,\u001b[0m \u001b[0mtranspose_a\u001b[0m\u001b[0;34m=\u001b[0m\u001b[0mtranspose_a\u001b[0m\u001b[0;34m,\u001b[0m \u001b[0mtranspose_b\u001b[0m\u001b[0;34m=\u001b[0m\u001b[0mtranspose_b\u001b[0m\u001b[0;34m,\u001b[0m\u001b[0;34m\u001b[0m\u001b[0m\n\u001b[0;32m-> 2437\u001b[0;31m         name=name)\n\u001b[0m\u001b[1;32m   2438\u001b[0m     \u001b[0m_result\u001b[0m \u001b[0;34m=\u001b[0m \u001b[0m_op\u001b[0m\u001b[0;34m.\u001b[0m\u001b[0moutputs\u001b[0m\u001b[0;34m[\u001b[0m\u001b[0;34m:\u001b[0m\u001b[0;34m]\u001b[0m\u001b[0;34m\u001b[0m\u001b[0m\n\u001b[1;32m   2439\u001b[0m     \u001b[0m_inputs_flat\u001b[0m \u001b[0;34m=\u001b[0m \u001b[0m_op\u001b[0m\u001b[0;34m.\u001b[0m\u001b[0minputs\u001b[0m\u001b[0;34m\u001b[0m\u001b[0m\n",
      "\u001b[0;32m~/miniconda3/envs/tensorflow/lib/python3.6/site-packages/tensorflow/python/framework/op_def_library.py\u001b[0m in \u001b[0;36m_apply_op_helper\u001b[0;34m(self, op_type_name, name, **keywords)\u001b[0m\n\u001b[1;32m    785\u001b[0m         op = g.create_op(op_type_name, inputs, output_types, name=scope,\n\u001b[1;32m    786\u001b[0m                          \u001b[0minput_types\u001b[0m\u001b[0;34m=\u001b[0m\u001b[0minput_types\u001b[0m\u001b[0;34m,\u001b[0m \u001b[0mattrs\u001b[0m\u001b[0;34m=\u001b[0m\u001b[0mattr_protos\u001b[0m\u001b[0;34m,\u001b[0m\u001b[0;34m\u001b[0m\u001b[0m\n\u001b[0;32m--> 787\u001b[0;31m                          op_def=op_def)\n\u001b[0m\u001b[1;32m    788\u001b[0m       \u001b[0;32mreturn\u001b[0m \u001b[0moutput_structure\u001b[0m\u001b[0;34m,\u001b[0m \u001b[0mop_def\u001b[0m\u001b[0;34m.\u001b[0m\u001b[0mis_stateful\u001b[0m\u001b[0;34m,\u001b[0m \u001b[0mop\u001b[0m\u001b[0;34m\u001b[0m\u001b[0m\n\u001b[1;32m    789\u001b[0m \u001b[0;34m\u001b[0m\u001b[0m\n",
      "\u001b[0;32m~/miniconda3/envs/tensorflow/lib/python3.6/site-packages/tensorflow/python/framework/ops.py\u001b[0m in \u001b[0;36mcreate_op\u001b[0;34m(self, op_type, inputs, dtypes, input_types, name, attrs, op_def, compute_shapes, compute_device)\u001b[0m\n\u001b[1;32m   2956\u001b[0m         op_def=op_def)\n\u001b[1;32m   2957\u001b[0m     \u001b[0;32mif\u001b[0m \u001b[0mcompute_shapes\u001b[0m\u001b[0;34m:\u001b[0m\u001b[0;34m\u001b[0m\u001b[0m\n\u001b[0;32m-> 2958\u001b[0;31m       \u001b[0mset_shapes_for_outputs\u001b[0m\u001b[0;34m(\u001b[0m\u001b[0mret\u001b[0m\u001b[0;34m)\u001b[0m\u001b[0;34m\u001b[0m\u001b[0m\n\u001b[0m\u001b[1;32m   2959\u001b[0m     \u001b[0mself\u001b[0m\u001b[0;34m.\u001b[0m\u001b[0m_add_op\u001b[0m\u001b[0;34m(\u001b[0m\u001b[0mret\u001b[0m\u001b[0;34m)\u001b[0m\u001b[0;34m\u001b[0m\u001b[0m\n\u001b[1;32m   2960\u001b[0m     \u001b[0mself\u001b[0m\u001b[0;34m.\u001b[0m\u001b[0m_record_op_seen_by_control_dependencies\u001b[0m\u001b[0;34m(\u001b[0m\u001b[0mret\u001b[0m\u001b[0;34m)\u001b[0m\u001b[0;34m\u001b[0m\u001b[0m\n",
      "\u001b[0;32m~/miniconda3/envs/tensorflow/lib/python3.6/site-packages/tensorflow/python/framework/ops.py\u001b[0m in \u001b[0;36mset_shapes_for_outputs\u001b[0;34m(op)\u001b[0m\n\u001b[1;32m   2207\u001b[0m       \u001b[0mshape_func\u001b[0m \u001b[0;34m=\u001b[0m \u001b[0m_call_cpp_shape_fn_and_require_op\u001b[0m\u001b[0;34m\u001b[0m\u001b[0m\n\u001b[1;32m   2208\u001b[0m \u001b[0;34m\u001b[0m\u001b[0m\n\u001b[0;32m-> 2209\u001b[0;31m   \u001b[0mshapes\u001b[0m \u001b[0;34m=\u001b[0m \u001b[0mshape_func\u001b[0m\u001b[0;34m(\u001b[0m\u001b[0mop\u001b[0m\u001b[0;34m)\u001b[0m\u001b[0;34m\u001b[0m\u001b[0m\n\u001b[0m\u001b[1;32m   2210\u001b[0m   \u001b[0;32mif\u001b[0m \u001b[0mshapes\u001b[0m \u001b[0;32mis\u001b[0m \u001b[0;32mNone\u001b[0m\u001b[0;34m:\u001b[0m\u001b[0;34m\u001b[0m\u001b[0m\n\u001b[1;32m   2211\u001b[0m     raise RuntimeError(\n",
      "\u001b[0;32m~/miniconda3/envs/tensorflow/lib/python3.6/site-packages/tensorflow/python/framework/ops.py\u001b[0m in \u001b[0;36mcall_with_requiring\u001b[0;34m(op)\u001b[0m\n\u001b[1;32m   2157\u001b[0m \u001b[0;34m\u001b[0m\u001b[0m\n\u001b[1;32m   2158\u001b[0m   \u001b[0;32mdef\u001b[0m \u001b[0mcall_with_requiring\u001b[0m\u001b[0;34m(\u001b[0m\u001b[0mop\u001b[0m\u001b[0;34m)\u001b[0m\u001b[0;34m:\u001b[0m\u001b[0;34m\u001b[0m\u001b[0m\n\u001b[0;32m-> 2159\u001b[0;31m     \u001b[0;32mreturn\u001b[0m \u001b[0mcall_cpp_shape_fn\u001b[0m\u001b[0;34m(\u001b[0m\u001b[0mop\u001b[0m\u001b[0;34m,\u001b[0m \u001b[0mrequire_shape_fn\u001b[0m\u001b[0;34m=\u001b[0m\u001b[0;32mTrue\u001b[0m\u001b[0;34m)\u001b[0m\u001b[0;34m\u001b[0m\u001b[0m\n\u001b[0m\u001b[1;32m   2160\u001b[0m \u001b[0;34m\u001b[0m\u001b[0m\n\u001b[1;32m   2161\u001b[0m   \u001b[0m_call_cpp_shape_fn_and_require_op\u001b[0m \u001b[0;34m=\u001b[0m \u001b[0mcall_with_requiring\u001b[0m\u001b[0;34m\u001b[0m\u001b[0m\n",
      "\u001b[0;32m~/miniconda3/envs/tensorflow/lib/python3.6/site-packages/tensorflow/python/framework/common_shapes.py\u001b[0m in \u001b[0;36mcall_cpp_shape_fn\u001b[0;34m(op, require_shape_fn)\u001b[0m\n\u001b[1;32m    625\u001b[0m     res = _call_cpp_shape_fn_impl(op, input_tensors_needed,\n\u001b[1;32m    626\u001b[0m                                   \u001b[0minput_tensors_as_shapes_needed\u001b[0m\u001b[0;34m,\u001b[0m\u001b[0;34m\u001b[0m\u001b[0m\n\u001b[0;32m--> 627\u001b[0;31m                                   require_shape_fn)\n\u001b[0m\u001b[1;32m    628\u001b[0m     \u001b[0;32mif\u001b[0m \u001b[0;32mnot\u001b[0m \u001b[0misinstance\u001b[0m\u001b[0;34m(\u001b[0m\u001b[0mres\u001b[0m\u001b[0;34m,\u001b[0m \u001b[0mdict\u001b[0m\u001b[0;34m)\u001b[0m\u001b[0;34m:\u001b[0m\u001b[0;34m\u001b[0m\u001b[0m\n\u001b[1;32m    629\u001b[0m       \u001b[0;31m# Handles the case where _call_cpp_shape_fn_impl calls unknown_shape(op).\u001b[0m\u001b[0;34m\u001b[0m\u001b[0;34m\u001b[0m\u001b[0m\n",
      "\u001b[0;32m~/miniconda3/envs/tensorflow/lib/python3.6/site-packages/tensorflow/python/framework/common_shapes.py\u001b[0m in \u001b[0;36m_call_cpp_shape_fn_impl\u001b[0;34m(op, input_tensors_needed, input_tensors_as_shapes_needed, require_shape_fn)\u001b[0m\n\u001b[1;32m    689\u001b[0m       \u001b[0mmissing_shape_fn\u001b[0m \u001b[0;34m=\u001b[0m \u001b[0;32mTrue\u001b[0m\u001b[0;34m\u001b[0m\u001b[0m\n\u001b[1;32m    690\u001b[0m     \u001b[0;32melse\u001b[0m\u001b[0;34m:\u001b[0m\u001b[0;34m\u001b[0m\u001b[0m\n\u001b[0;32m--> 691\u001b[0;31m       \u001b[0;32mraise\u001b[0m \u001b[0mValueError\u001b[0m\u001b[0;34m(\u001b[0m\u001b[0merr\u001b[0m\u001b[0;34m.\u001b[0m\u001b[0mmessage\u001b[0m\u001b[0;34m)\u001b[0m\u001b[0;34m\u001b[0m\u001b[0m\n\u001b[0m\u001b[1;32m    692\u001b[0m \u001b[0;34m\u001b[0m\u001b[0m\n\u001b[1;32m    693\u001b[0m   \u001b[0;32mif\u001b[0m \u001b[0mmissing_shape_fn\u001b[0m\u001b[0;34m:\u001b[0m\u001b[0;34m\u001b[0m\u001b[0m\n",
      "\u001b[0;31mValueError\u001b[0m: Dimensions must be equal, but are 500 and 1000 for 'MatMul_39' (op: 'MatMul') with input shapes: [50,500], [1000,500]."
     ]
    }
   ],
   "source": [
    "# forward propagation \n",
    "# model(x)\n",
    "\n",
    "learn_rate = 0.001\n",
    "\n",
    "x_pass = tf.placeholder(dtype=tf.float32,  shape = (None, 30))\n",
    "y_pass = tf.placeholder(dtype = tf.float32 , shape = (None,None))\n",
    "\n",
    "forward_prop =  model_xe(x_pass)\n",
    "\n",
    "loss = tf.nn.sigmoid_cross_entropy_with_logits(labels = y_pass, logits=forward_prop)\n",
    "\n",
    "total_loss = tf.reduce_mean(loss)\n",
    "\n",
    "optimizer = tf.train.AdamOptimizer(learning_rate = learn_rate)\n",
    "\n",
    "backward_prop = optimizer.minimize(total_loss)"
   ]
  },
  {
   "cell_type": "code",
   "execution_count": 119,
   "metadata": {},
   "outputs": [],
   "source": [
    "epochs =100"
   ]
  },
  {
   "cell_type": "code",
   "execution_count": 120,
   "metadata": {},
   "outputs": [],
   "source": [
    "correct_prediction = tf.equal(tf.cast(tf.greater_equal(forward_prop,0.5), tf.float32) , y_pass)\n",
    "#correct_prediction = tf.equal(tf.argmax(forward_prop, 1), tf.argmax(y_pass, 1))\n",
    "accuracy_operation =  tf.reduce_mean(tf.cast(correct_prediction, tf.float32))"
   ]
  },
  {
   "cell_type": "code",
   "execution_count": 121,
   "metadata": {},
   "outputs": [
    {
     "name": "stdout",
     "output_type": "stream",
     "text": [
      "Training...\n",
      "8318.164    6830.824    0.5777778\n",
      "6531.4614    5363.8574    0.5777778\n",
      "3250.161    2669.3752    0.5777778\n",
      "433.79108    459.03455    0.42222223\n",
      "965.86786    1022.9171    0.42222223\n",
      "172.87743    142.74036    0.5777778\n",
      "110.68726    116.47221    0.42222223\n",
      "743.38727    610.8688    0.6\n",
      "608.51587    500.1831    0.6\n",
      "305.60605    322.99307    0.42222223\n",
      "184.90654    195.00919    0.42222223\n",
      "689.66064    566.97424    0.6\n",
      "784.0902    644.49805    0.6\n",
      "253.03377    208.65382    0.5777778\n",
      "903.95514    957.3129    0.42222223\n",
      "1176.4436    1246.0703    0.42222223\n",
      "683.6728    723.6954    0.42222223\n",
      "379.48407    312.4609    0.5777778\n",
      "728.3209    598.775    0.6\n",
      "543.2375    446.88797    0.6\n",
      "115.90699    121.71739    0.42222223\n",
      "127.64987    134.13719    0.42222223\n",
      "408.5714    336.4863    0.5777778\n",
      "421.62375    347.23157    0.5777778\n",
      "6.8918204    6.0302496    0.42222223\n",
      "116.964455    97.25113    0.5777778\n",
      "225.94951    238.14746    0.42222223\n",
      "18.803715    15.963983    0.62222224\n",
      "207.55307    218.58607    0.42222223\n",
      "138.23526    114.79642    0.5777778\n",
      "10.512932    8.724411    0.64444447\n",
      "524.3525    554.3205    0.42222223\n",
      "436.8916    461.55328    0.42222223\n",
      "163.7026    135.79636    0.5777778\n",
      "246.08052    203.4308    0.5777778\n",
      "86.55215    90.114494    0.42222223\n",
      "93.62394    78.144714    0.5777778\n",
      "159.12645    167.01015    0.42222223\n",
      "106.10748    88.447975    0.5777778\n",
      "60.19998    62.10755    0.42222223\n",
      "248.08542    205.101    0.5777778\n",
      "138.2999    114.92797    0.5777778\n",
      "391.71616    413.56982    0.42222223\n",
      "372.49994    393.18002    0.42222223\n",
      "131.40009    109.28916    0.5777778\n",
      "165.93437    137.67502    0.5777778\n",
      "197.77016    207.8787    0.42222223\n",
      "44.680893    45.559895    0.42222223\n",
      "503.91382    415.14566    0.5777778\n",
      "628.1279    517.0958    0.5777778\n",
      "371.8558    306.80847    0.5777778\n",
      "247.36125    260.37518    0.42222223\n",
      "356.6871    376.24088    0.42222223\n",
      "26.988186    22.678293    0.62222224\n",
      "5.954445    4.646129    0.8\n",
      "257.09085    270.62036    0.42222223\n",
      "6.525217    5.003639    0.42222223\n",
      "585.62177    482.22058    0.5777778\n",
      "772.0419    635.1949    0.5777778\n",
      "590.79205    486.45105    0.5777778\n",
      "84.92653    70.90747    0.5777778\n",
      "815.196    862.2394    0.42222223\n",
      "1175.8208    1244.5106    0.42222223\n",
      "1038.1096    1098.5284    0.42222223\n",
      "455.77454    481.20087    0.42222223\n",
      "425.02545    350.44284    0.5777778\n",
      "835.8687    687.60785    0.6\n",
      "878.72076    722.78674    0.6\n",
      "596.6942    491.34906    0.5777778\n",
      "33.55608    28.173615    0.62222224\n",
      "879.8981    930.7436    0.42222223\n",
      "1282.1111    1357.116    0.42222223\n",
      "1221.9128    1293.2977    0.42222223\n",
      "758.048    801.56824    0.42222223\n",
      "39.4699    33.16634    0.62222224\n",
      "382.88058    315.924    0.5777778\n",
      "403.7804    333.07715    0.5777778\n",
      "139.22934    115.81884    0.5777778\n",
      "424.7384    448.22134    0.42222223\n",
      "579.95715    612.7591    0.42222223\n",
      "342.57806    361.11487    0.42222223\n",
      "191.6983    158.97134    0.5777778\n",
      "367.22787    303.1034    0.5777778\n",
      "258.9794    214.24683    0.5777778\n",
      "101.62409    105.64954    0.42222223\n",
      "119.16892    124.23635    0.42222223\n",
      "173.73242    144.23917    0.5777778\n",
      "176.4012    146.44006    0.5777778\n",
      "71.77593    73.95391    0.42222223\n",
      "6.847778    5.492439    0.8\n",
      "79.95799    82.607765    0.42222223\n",
      "141.00386    117.304375    0.5777778\n",
      "94.26476    78.58005    0.5777778\n",
      "209.21365    219.61266    0.42222223\n",
      "170.62645    178.70071    0.42222223\n",
      "157.26825    130.72989    0.5777778\n",
      "198.60974    164.71202    0.5777778\n",
      "5.2376056    4.031126    0.8\n",
      "344.26016    362.74704    0.42222223\n",
      "327.8172    345.31845    0.42222223\n"
     ]
    }
   ],
   "source": [
    "with tf.Session(config=tf.ConfigProto(gpu_options=gpu_options)) as sess:\n",
    "    sess.run(tf.global_variables_initializer())\n",
    "    print('Training...')\n",
    "    for i in range(epochs):\n",
    "        log = sess.run(tf.cast(tf.greater_equal(loss,0.5), tf.float32) , feed_dict={x_pass: X_train , y_pass: y_train.reshape(y_train.shape[0],1)})\n",
    "        #print(log, feed_dict={x_pass: X_train , y_pass: y_train.reshape(y_train.shape[0],1)}))\n",
    "        #print(log.shape)\n",
    "        #print(sess.run(tf.equal(log , y_train.reshape(y_train.shape[0],1))))\n",
    "        sess.run( backward_prop , feed_dict={x_pass: X_train , y_pass: y_train.reshape(y_train.shape[0],1)})\n",
    "        train_loss = sess.run(total_loss, feed_dict={x_pass:X_train , y_pass: y_train.reshape(y_train.shape[0],1)})\n",
    "        validation_loss = sess.run(total_loss, feed_dict={x_pass:X_valid , y_pass: y_valid.reshape(y_valid.shape[0],1)})\n",
    "        accuracy = sess.run(accuracy_operation, feed_dict={x_pass:X_valid, y_pass:y_valid.reshape(y_valid.shape[0],1)})\n",
    "        print(train_loss ,\"  \",validation_loss,\"  \", accuracy)\n",
    "    "
   ]
  },
  {
   "cell_type": "code",
   "execution_count": 88,
   "metadata": {},
   "outputs": [
    {
     "name": "stderr",
     "output_type": "stream",
     "text": [
      "Using TensorFlow backend.\n"
     ]
    }
   ],
   "source": [
    "import keras\n",
    "from keras.layers import BatchNormalization\n",
    "from keras.layers.core import Flatten,Dense,Dropout, Activation, Lambda\n",
    "from keras.models import Model, Sequential\n",
    "from keras.optimizers import Adam,SGD\n",
    "from keras.callbacks import TensorBoard"
   ]
  },
  {
   "cell_type": "code",
   "execution_count": 90,
   "metadata": {},
   "outputs": [],
   "source": [
    "model = Sequential()\n",
    "#model.add(Lambda(lambda x: x , input_shape = (24)))\n",
    "#model.add(Lambda(lambda x: x+0.1 , input_shape = (64,64,3)))\n",
    "#model.add(Flatten())\n",
    "#model.add(BatchNormalization(input_shape=(30,)))\n",
    "model.add(Dense(1000, input_shape=(30,)))\n",
    "model.add(Activation('relu'))\n",
    "\n",
    "\n",
    "model.add(Dropout(0.2))\n",
    "#model.add(BatchNormalization())\n",
    "model.add(Dense(500))\n",
    "model.add(Activation('relu'))\n",
    "#model.add(Dropout(0.2))\n",
    "#model.add(BatchNormalization())\n",
    "model.add(Dense(50))\n",
    "model.add(Activation('relu'))\n",
    "\n",
    "model.add(Dense(1))\n",
    "model.add(Activation('sigmoid'))\n",
    "model.compile(optimizer = Adam(lr=0.00001) , loss = 'binary_crossentropy', metrics=['accuracy'])"
   ]
  },
  {
   "cell_type": "code",
   "execution_count": 91,
   "metadata": {},
   "outputs": [
    {
     "name": "stdout",
     "output_type": "stream",
     "text": [
      "_________________________________________________________________\n",
      "Layer (type)                 Output Shape              Param #   \n",
      "=================================================================\n",
      "dense_2 (Dense)              (None, 1000)              31000     \n",
      "_________________________________________________________________\n",
      "activation_1 (Activation)    (None, 1000)              0         \n",
      "_________________________________________________________________\n",
      "dropout_1 (Dropout)          (None, 1000)              0         \n",
      "_________________________________________________________________\n",
      "dense_3 (Dense)              (None, 500)               500500    \n",
      "_________________________________________________________________\n",
      "activation_2 (Activation)    (None, 500)               0         \n",
      "_________________________________________________________________\n",
      "dense_4 (Dense)              (None, 50)                25050     \n",
      "_________________________________________________________________\n",
      "activation_3 (Activation)    (None, 50)                0         \n",
      "_________________________________________________________________\n",
      "dense_5 (Dense)              (None, 1)                 51        \n",
      "_________________________________________________________________\n",
      "activation_4 (Activation)    (None, 1)                 0         \n",
      "=================================================================\n",
      "Total params: 556,601\n",
      "Trainable params: 556,601\n",
      "Non-trainable params: 0\n",
      "_________________________________________________________________\n"
     ]
    }
   ],
   "source": [
    "model.summary()"
   ]
  },
  {
   "cell_type": "code",
   "execution_count": 92,
   "metadata": {
    "scrolled": false
   },
   "outputs": [
    {
     "name": "stdout",
     "output_type": "stream",
     "text": [
      "Train on 855 samples, validate on 45 samples\n",
      "Epoch 1/30\n",
      "855/855 [==============================] - 1s 980us/step - loss: 8.1428 - acc: 0.4947 - val_loss: 6.8054 - val_acc: 0.5778\n",
      "Epoch 2/30\n",
      "855/855 [==============================] - 0s 524us/step - loss: 8.1365 - acc: 0.4947 - val_loss: 6.8054 - val_acc: 0.5778\n",
      "Epoch 3/30\n",
      "855/855 [==============================] - 1s 655us/step - loss: 8.1409 - acc: 0.4936 - val_loss: 6.7822 - val_acc: 0.5778\n",
      "Epoch 4/30\n",
      "855/855 [==============================] - 0s 521us/step - loss: 8.1883 - acc: 0.4912 - val_loss: 6.7198 - val_acc: 0.5778\n",
      "Epoch 5/30\n",
      "855/855 [==============================] - 0s 550us/step - loss: 8.0873 - acc: 0.4959 - val_loss: 6.6297 - val_acc: 0.5778\n",
      "Epoch 6/30\n",
      "855/855 [==============================] - 0s 500us/step - loss: 8.0773 - acc: 0.4982 - val_loss: 6.8054 - val_acc: 0.5778\n",
      "Epoch 7/30\n",
      "855/855 [==============================] - 0s 545us/step - loss: 8.1122 - acc: 0.4959 - val_loss: 6.8054 - val_acc: 0.5778\n",
      "Epoch 8/30\n",
      "855/855 [==============================] - 0s 510us/step - loss: 8.1248 - acc: 0.4959 - val_loss: 6.8054 - val_acc: 0.5778\n",
      "Epoch 9/30\n",
      "855/855 [==============================] - 0s 585us/step - loss: 8.1248 - acc: 0.4959 - val_loss: 6.8054 - val_acc: 0.5778\n",
      "Epoch 10/30\n",
      "855/855 [==============================] - 0s 534us/step - loss: 8.1234 - acc: 0.4959 - val_loss: 6.8054 - val_acc: 0.5778\n",
      "Epoch 11/30\n",
      "855/855 [==============================] - 1s 595us/step - loss: 8.1062 - acc: 0.4971 - val_loss: 6.8054 - val_acc: 0.5778\n",
      "Epoch 12/30\n",
      "855/855 [==============================] - 0s 515us/step - loss: 8.1384 - acc: 0.4947 - val_loss: 6.8054 - val_acc: 0.5778\n",
      "Epoch 13/30\n",
      "855/855 [==============================] - 0s 565us/step - loss: 8.1250 - acc: 0.4959 - val_loss: 6.8054 - val_acc: 0.5778\n",
      "Epoch 14/30\n",
      "855/855 [==============================] - 0s 506us/step - loss: 8.1062 - acc: 0.4971 - val_loss: 6.8054 - val_acc: 0.5778\n",
      "Epoch 15/30\n",
      "855/855 [==============================] - 0s 549us/step - loss: 8.1250 - acc: 0.4959 - val_loss: 6.8054 - val_acc: 0.5778\n",
      "Epoch 16/30\n",
      "855/855 [==============================] - 0s 499us/step - loss: 8.1238 - acc: 0.4959 - val_loss: 6.8054 - val_acc: 0.5778\n",
      "Epoch 17/30\n",
      "855/855 [==============================] - 0s 554us/step - loss: 8.1250 - acc: 0.4959 - val_loss: 6.8054 - val_acc: 0.5778\n",
      "Epoch 18/30\n",
      "855/855 [==============================] - 0s 515us/step - loss: 8.1250 - acc: 0.4959 - val_loss: 6.8054 - val_acc: 0.5778\n",
      "Epoch 19/30\n",
      "855/855 [==============================] - 0s 572us/step - loss: 8.1250 - acc: 0.4959 - val_loss: 6.8054 - val_acc: 0.5778\n",
      "Epoch 20/30\n",
      "855/855 [==============================] - 0s 492us/step - loss: 8.1250 - acc: 0.4959 - val_loss: 6.8054 - val_acc: 0.5778\n",
      "Epoch 21/30\n",
      "855/855 [==============================] - 1s 588us/step - loss: 8.1250 - acc: 0.4959 - val_loss: 6.8054 - val_acc: 0.5778\n",
      "Epoch 22/30\n",
      "855/855 [==============================] - 0s 490us/step - loss: 8.1424 - acc: 0.4947 - val_loss: 6.8054 - val_acc: 0.5778\n",
      "Epoch 23/30\n",
      "855/855 [==============================] - 0s 551us/step - loss: 8.1250 - acc: 0.4959 - val_loss: 6.8054 - val_acc: 0.5778\n",
      "Epoch 24/30\n",
      "855/855 [==============================] - 0s 578us/step - loss: 8.1250 - acc: 0.4959 - val_loss: 6.8054 - val_acc: 0.5778\n",
      "Epoch 25/30\n",
      "855/855 [==============================] - 0s 488us/step - loss: 8.1250 - acc: 0.4959 - val_loss: 6.8054 - val_acc: 0.5778\n",
      "Epoch 26/30\n",
      "855/855 [==============================] - 0s 518us/step - loss: 8.1250 - acc: 0.4959 - val_loss: 6.8054 - val_acc: 0.5778\n",
      "Epoch 27/30\n",
      "855/855 [==============================] - 0s 541us/step - loss: 8.1250 - acc: 0.4959 - val_loss: 6.8054 - val_acc: 0.5778\n",
      "Epoch 28/30\n",
      "855/855 [==============================] - 0s 498us/step - loss: 8.1250 - acc: 0.4959 - val_loss: 6.8054 - val_acc: 0.5778\n",
      "Epoch 29/30\n",
      "855/855 [==============================] - 0s 573us/step - loss: 8.1250 - acc: 0.4959 - val_loss: 6.8054 - val_acc: 0.5778\n",
      "Epoch 30/30\n",
      "855/855 [==============================] - 0s 508us/step - loss: 8.1250 - acc: 0.4959 - val_loss: 6.8054 - val_acc: 0.5778\n"
     ]
    },
    {
     "data": {
      "text/plain": [
       "<keras.callbacks.History at 0x7f94bc7535c0>"
      ]
     },
     "execution_count": 92,
     "metadata": {},
     "output_type": "execute_result"
    }
   ],
   "source": [
    "model.fit(X_train, y_train, epochs=30, verbose =1, validation_data=(X_valid, y_valid))"
   ]
  },
  {
   "cell_type": "code",
   "execution_count": 22,
   "metadata": {},
   "outputs": [
    {
     "data": {
      "text/plain": [
       "<Figure size 640x480 with 1 Axes>"
      ]
     },
     "metadata": {},
     "output_type": "display_data"
    }
   ],
   "source": [
    "import matplotlib.pyplot as plt\n",
    "plt.plot(model.history.history['loss'])\n",
    "plt.xlabel('Epoch')\n",
    "plt.ylabel('Loss')\n",
    "plt.title('Loss Curve')\n",
    "plt.show()"
   ]
  },
  {
   "cell_type": "code",
   "execution_count": 23,
   "metadata": {},
   "outputs": [
    {
     "data": {
      "image/png": "[encoded data removed]",
      "text/plain": [
       "<Figure size 432x288 with 1 Axes>"
      ]
     },
     "metadata": {},
     "output_type": "display_data"
    }
   ],
   "source": [
    "plt.plot(model.history.history['acc'])\n",
    "plt.xlabel('Epoch')\n",
    "plt.ylabel('Accuracy')\n",
    "plt.title('Training Accuracy Curve')\n",
    "plt.show()"
   ]
  },
  {
   "cell_type": "markdown",
   "metadata": {},
   "source": [
    "### Step 6: Inference on Test Set"
   ]
  },
  {
   "cell_type": "code",
   "execution_count": null,
   "metadata": {},
   "outputs": [],
   "source": [
    "test_df = pd.read_csv('./test.csv')"
   ]
  },
  {
   "cell_type": "code",
   "execution_count": null,
   "metadata": {},
   "outputs": [],
   "source": [
    "test_df.head()"
   ]
  },
  {
   "cell_type": "code",
   "execution_count": null,
   "metadata": {},
   "outputs": [],
   "source": [
    "y_test = np.array(test_df['Class'])"
   ]
  },
  {
   "cell_type": "code",
   "execution_count": null,
   "metadata": {},
   "outputs": [],
   "source": [
    "x_test =  np.array(test_df.drop(columns='Class'))"
   ]
  },
  {
   "cell_type": "code",
   "execution_count": null,
   "metadata": {},
   "outputs": [],
   "source": [
    "x_test.shape, y_test.shape"
   ]
  },
  {
   "cell_type": "markdown",
   "metadata": {},
   "source": [
    "### Step 7: Checking Metrics for Performance"
   ]
  },
  {
   "cell_type": "code",
   "execution_count": null,
   "metadata": {},
   "outputs": [],
   "source": [
    "from sklearn.metrics import classification_report, confusion_matrix"
   ]
  },
  {
   "cell_type": "code",
   "execution_count": null,
   "metadata": {},
   "outputs": [],
   "source": [
    "y_pred = model.predict(x_test)"
   ]
  },
  {
   "cell_type": "code",
   "execution_count": null,
   "metadata": {},
   "outputs": [],
   "source": [
    "y_pred = (y_pred >= 0.5).astype(int)"
   ]
  },
  {
   "cell_type": "code",
   "execution_count": null,
   "metadata": {},
   "outputs": [],
   "source": [
    "y_pred[0:5]"
   ]
  },
  {
   "cell_type": "code",
   "execution_count": null,
   "metadata": {},
   "outputs": [],
   "source": [
    "print(classification_report(y_test, y_pred))"
   ]
  },
  {
   "cell_type": "code",
   "execution_count": null,
   "metadata": {},
   "outputs": [],
   "source": [
    "print(confusion_matrix(y_test,y_pred))"
   ]
  },
  {
   "cell_type": "code",
   "execution_count": null,
   "metadata": {},
   "outputs": [],
   "source": []
  }
 ],
 "metadata": {
  "kernelspec": {
   "display_name": "Python 3",
   "language": "python",
   "name": "python3"
  },
  "language_info": {
   "codemirror_mode": {
    "name": "ipython",
    "version": 3
   },
   "file_extension": ".py",
   "mimetype": "text/x-python",
   "name": "python",
   "nbconvert_exporter": "python",
   "pygments_lexer": "ipython3",
   "version": "3.6.3"
  }
 },
 "nbformat": 4,
 "nbformat_minor": 2
}
