{
 "cells": [
  {
   "cell_type": "code",
   "execution_count": 1,
   "metadata": {},
   "outputs": [],
   "source": [
    "import pandas as pd\n",
    "import numpy as np"
   ]
  },
  {
   "cell_type": "markdown",
   "metadata": {},
   "source": [
    "### Step 1: Importing Data"
   ]
  },
  {
   "cell_type": "code",
   "execution_count": 2,
   "metadata": {},
   "outputs": [],
   "source": [
    "df= pd.read_csv('train.csv')"
   ]
  },
  {
   "cell_type": "code",
   "execution_count": 3,
   "metadata": {},
   "outputs": [
    {
     "data": {
      "text/html": [
       "<div>\n",
       "<style scoped>\n",
       "    .dataframe tbody tr th:only-of-type {\n",
       "        vertical-align: middle;\n",
       "    }\n",
       "\n",
       "    .dataframe tbody tr th {\n",
       "        vertical-align: top;\n",
       "    }\n",
       "\n",
       "    .dataframe thead th {\n",
       "        text-align: right;\n",
       "    }\n",
       "</style>\n",
       "<table border=\"1\" class=\"dataframe\">\n",
       "  <thead>\n",
       "    <tr style=\"text-align: right;\">\n",
       "      <th></th>\n",
       "      <th>Time</th>\n",
       "      <th>V1</th>\n",
       "      <th>V2</th>\n",
       "      <th>V3</th>\n",
       "      <th>V4</th>\n",
       "      <th>V5</th>\n",
       "      <th>V6</th>\n",
       "      <th>V7</th>\n",
       "      <th>V8</th>\n",
       "      <th>V9</th>\n",
       "      <th>...</th>\n",
       "      <th>V21</th>\n",
       "      <th>V22</th>\n",
       "      <th>V23</th>\n",
       "      <th>V24</th>\n",
       "      <th>V25</th>\n",
       "      <th>V26</th>\n",
       "      <th>V27</th>\n",
       "      <th>V28</th>\n",
       "      <th>Amount</th>\n",
       "      <th>Class</th>\n",
       "    </tr>\n",
       "  </thead>\n",
       "  <tbody>\n",
       "    <tr>\n",
       "      <th>0</th>\n",
       "      <td>144035</td>\n",
       "      <td>-0.795465</td>\n",
       "      <td>1.035145</td>\n",
       "      <td>0.629094</td>\n",
       "      <td>1.060550</td>\n",
       "      <td>0.185512</td>\n",
       "      <td>0.442982</td>\n",
       "      <td>0.367739</td>\n",
       "      <td>0.629104</td>\n",
       "      <td>-0.215407</td>\n",
       "      <td>...</td>\n",
       "      <td>-0.224165</td>\n",
       "      <td>-0.406332</td>\n",
       "      <td>-0.113468</td>\n",
       "      <td>-0.519506</td>\n",
       "      <td>0.062945</td>\n",
       "      <td>-0.625920</td>\n",
       "      <td>0.305893</td>\n",
       "      <td>0.130054</td>\n",
       "      <td>35.80</td>\n",
       "      <td>0</td>\n",
       "    </tr>\n",
       "    <tr>\n",
       "      <th>1</th>\n",
       "      <td>57027</td>\n",
       "      <td>-2.335655</td>\n",
       "      <td>2.225380</td>\n",
       "      <td>-3.379450</td>\n",
       "      <td>2.178538</td>\n",
       "      <td>-3.568264</td>\n",
       "      <td>0.316814</td>\n",
       "      <td>-1.734948</td>\n",
       "      <td>1.449139</td>\n",
       "      <td>-1.980033</td>\n",
       "      <td>...</td>\n",
       "      <td>0.785540</td>\n",
       "      <td>0.297412</td>\n",
       "      <td>0.308536</td>\n",
       "      <td>-0.598416</td>\n",
       "      <td>-0.121850</td>\n",
       "      <td>-0.491018</td>\n",
       "      <td>0.701606</td>\n",
       "      <td>0.206966</td>\n",
       "      <td>444.17</td>\n",
       "      <td>1</td>\n",
       "    </tr>\n",
       "    <tr>\n",
       "      <th>2</th>\n",
       "      <td>75347</td>\n",
       "      <td>1.485941</td>\n",
       "      <td>-0.325035</td>\n",
       "      <td>-0.551499</td>\n",
       "      <td>-0.845371</td>\n",
       "      <td>-0.216371</td>\n",
       "      <td>-0.917921</td>\n",
       "      <td>-0.011792</td>\n",
       "      <td>-0.375973</td>\n",
       "      <td>-1.136155</td>\n",
       "      <td>...</td>\n",
       "      <td>0.145207</td>\n",
       "      <td>0.346199</td>\n",
       "      <td>-0.281322</td>\n",
       "      <td>-0.404634</td>\n",
       "      <td>0.909394</td>\n",
       "      <td>-0.034868</td>\n",
       "      <td>-0.030328</td>\n",
       "      <td>-0.004064</td>\n",
       "      <td>25.00</td>\n",
       "      <td>0</td>\n",
       "    </tr>\n",
       "    <tr>\n",
       "      <th>3</th>\n",
       "      <td>75424</td>\n",
       "      <td>-0.804963</td>\n",
       "      <td>0.712653</td>\n",
       "      <td>1.360827</td>\n",
       "      <td>-0.332024</td>\n",
       "      <td>1.302313</td>\n",
       "      <td>1.623387</td>\n",
       "      <td>0.551873</td>\n",
       "      <td>0.637665</td>\n",
       "      <td>-0.844825</td>\n",
       "      <td>...</td>\n",
       "      <td>0.219177</td>\n",
       "      <td>0.644723</td>\n",
       "      <td>-0.258438</td>\n",
       "      <td>-1.357390</td>\n",
       "      <td>0.469040</td>\n",
       "      <td>-0.272856</td>\n",
       "      <td>0.023010</td>\n",
       "      <td>-0.053357</td>\n",
       "      <td>18.95</td>\n",
       "      <td>0</td>\n",
       "    </tr>\n",
       "    <tr>\n",
       "      <th>4</th>\n",
       "      <td>102676</td>\n",
       "      <td>-5.552122</td>\n",
       "      <td>5.678134</td>\n",
       "      <td>-9.775528</td>\n",
       "      <td>8.416295</td>\n",
       "      <td>-4.409844</td>\n",
       "      <td>-1.506235</td>\n",
       "      <td>-6.899839</td>\n",
       "      <td>3.750443</td>\n",
       "      <td>-3.879793</td>\n",
       "      <td>...</td>\n",
       "      <td>1.128472</td>\n",
       "      <td>0.228484</td>\n",
       "      <td>0.286258</td>\n",
       "      <td>-0.536294</td>\n",
       "      <td>-0.104925</td>\n",
       "      <td>0.420919</td>\n",
       "      <td>-0.297557</td>\n",
       "      <td>-0.946184</td>\n",
       "      <td>119.74</td>\n",
       "      <td>1</td>\n",
       "    </tr>\n",
       "  </tbody>\n",
       "</table>\n",
       "<p>5 rows × 31 columns</p>\n",
       "</div>"
      ],
      "text/plain": [
       "     Time        V1        V2        V3        V4        V5        V6  \\\n",
       "0  144035 -0.795465  1.035145  0.629094  1.060550  0.185512  0.442982   \n",
       "1   57027 -2.335655  2.225380 -3.379450  2.178538 -3.568264  0.316814   \n",
       "2   75347  1.485941 -0.325035 -0.551499 -0.845371 -0.216371 -0.917921   \n",
       "3   75424 -0.804963  0.712653  1.360827 -0.332024  1.302313  1.623387   \n",
       "4  102676 -5.552122  5.678134 -9.775528  8.416295 -4.409844 -1.506235   \n",
       "\n",
       "         V7        V8        V9  ...         V21       V22       V23  \\\n",
       "0  0.367739  0.629104 -0.215407  ...   -0.224165 -0.406332 -0.113468   \n",
       "1 -1.734948  1.449139 -1.980033  ...    0.785540  0.297412  0.308536   \n",
       "2 -0.011792 -0.375973 -1.136155  ...    0.145207  0.346199 -0.281322   \n",
       "3  0.551873  0.637665 -0.844825  ...    0.219177  0.644723 -0.258438   \n",
       "4 -6.899839  3.750443 -3.879793  ...    1.128472  0.228484  0.286258   \n",
       "\n",
       "        V24       V25       V26       V27       V28  Amount  Class  \n",
       "0 -0.519506  0.062945 -0.625920  0.305893  0.130054   35.80      0  \n",
       "1 -0.598416 -0.121850 -0.491018  0.701606  0.206966  444.17      1  \n",
       "2 -0.404634  0.909394 -0.034868 -0.030328 -0.004064   25.00      0  \n",
       "3 -1.357390  0.469040 -0.272856  0.023010 -0.053357   18.95      0  \n",
       "4 -0.536294 -0.104925  0.420919 -0.297557 -0.946184  119.74      1  \n",
       "\n",
       "[5 rows x 31 columns]"
      ]
     },
     "execution_count": 3,
     "metadata": {},
     "output_type": "execute_result"
    }
   ],
   "source": [
    "df.head()"
   ]
  },
  {
   "cell_type": "markdown",
   "metadata": {},
   "source": [
    "### Step 2: Cleaning Data"
   ]
  },
  {
   "cell_type": "code",
   "execution_count": 4,
   "metadata": {
    "scrolled": true
   },
   "outputs": [
    {
     "name": "stdout",
     "output_type": "stream",
     "text": [
      "<class 'pandas.core.frame.DataFrame'>\n",
      "RangeIndex: 902 entries, 0 to 901\n",
      "Data columns (total 31 columns):\n",
      "Time      902 non-null int64\n",
      "V1        902 non-null float64\n",
      "V2        902 non-null float64\n",
      "V3        902 non-null float64\n",
      "V4        901 non-null float64\n",
      "V5        901 non-null float64\n",
      "V6        901 non-null float64\n",
      "V7        901 non-null float64\n",
      "V8        901 non-null float64\n",
      "V9        902 non-null float64\n",
      "V10       902 non-null float64\n",
      "V11       902 non-null float64\n",
      "V12       902 non-null float64\n",
      "V13       902 non-null float64\n",
      "V14       901 non-null float64\n",
      "V15       901 non-null float64\n",
      "V16       901 non-null float64\n",
      "V17       901 non-null float64\n",
      "V18       901 non-null float64\n",
      "V19       901 non-null float64\n",
      "V20       902 non-null float64\n",
      "V21       902 non-null float64\n",
      "V22       902 non-null float64\n",
      "V23       902 non-null float64\n",
      "V24       902 non-null float64\n",
      "V25       902 non-null float64\n",
      "V26       902 non-null float64\n",
      "V27       902 non-null float64\n",
      "V28       902 non-null float64\n",
      "Amount    902 non-null float64\n",
      "Class     902 non-null int64\n",
      "dtypes: float64(29), int64(2)\n",
      "memory usage: 218.5 KB\n"
     ]
    }
   ],
   "source": [
    "df.info()"
   ]
  },
  {
   "cell_type": "code",
   "execution_count": 5,
   "metadata": {},
   "outputs": [
    {
     "data": {
      "text/plain": [
       "True"
      ]
     },
     "execution_count": 5,
     "metadata": {},
     "output_type": "execute_result"
    }
   ],
   "source": [
    "df.isnull().values.any()"
   ]
  },
  {
   "cell_type": "code",
   "execution_count": 6,
   "metadata": {
    "scrolled": true
   },
   "outputs": [
    {
     "data": {
      "text/plain": [
       "Time      0\n",
       "V1        0\n",
       "V2        0\n",
       "V3        0\n",
       "V4        1\n",
       "V5        1\n",
       "V6        1\n",
       "V7        1\n",
       "V8        1\n",
       "V9        0\n",
       "V10       0\n",
       "V11       0\n",
       "V12       0\n",
       "V13       0\n",
       "V14       1\n",
       "V15       1\n",
       "V16       1\n",
       "V17       1\n",
       "V18       1\n",
       "V19       1\n",
       "V20       0\n",
       "V21       0\n",
       "V22       0\n",
       "V23       0\n",
       "V24       0\n",
       "V25       0\n",
       "V26       0\n",
       "V27       0\n",
       "V28       0\n",
       "Amount    0\n",
       "Class     0\n",
       "dtype: int64"
      ]
     },
     "execution_count": 6,
     "metadata": {},
     "output_type": "execute_result"
    }
   ],
   "source": [
    "df.isnull().sum()"
   ]
  },
  {
   "cell_type": "code",
   "execution_count": 7,
   "metadata": {},
   "outputs": [
    {
     "data": {
      "text/html": [
       "<div>\n",
       "<style scoped>\n",
       "    .dataframe tbody tr th:only-of-type {\n",
       "        vertical-align: middle;\n",
       "    }\n",
       "\n",
       "    .dataframe tbody tr th {\n",
       "        vertical-align: top;\n",
       "    }\n",
       "\n",
       "    .dataframe thead th {\n",
       "        text-align: right;\n",
       "    }\n",
       "</style>\n",
       "<table border=\"1\" class=\"dataframe\">\n",
       "  <thead>\n",
       "    <tr style=\"text-align: right;\">\n",
       "      <th></th>\n",
       "      <th>Time</th>\n",
       "      <th>V1</th>\n",
       "      <th>V2</th>\n",
       "      <th>V3</th>\n",
       "      <th>V4</th>\n",
       "      <th>V5</th>\n",
       "      <th>V6</th>\n",
       "      <th>V7</th>\n",
       "      <th>V8</th>\n",
       "      <th>V9</th>\n",
       "      <th>...</th>\n",
       "      <th>V21</th>\n",
       "      <th>V22</th>\n",
       "      <th>V23</th>\n",
       "      <th>V24</th>\n",
       "      <th>V25</th>\n",
       "      <th>V26</th>\n",
       "      <th>V27</th>\n",
       "      <th>V28</th>\n",
       "      <th>Amount</th>\n",
       "      <th>Class</th>\n",
       "    </tr>\n",
       "  </thead>\n",
       "  <tbody>\n",
       "    <tr>\n",
       "      <th>900</th>\n",
       "      <td>11131</td>\n",
       "      <td>-1.426623</td>\n",
       "      <td>4.141986</td>\n",
       "      <td>-9.804103</td>\n",
       "      <td>NaN</td>\n",
       "      <td>NaN</td>\n",
       "      <td>NaN</td>\n",
       "      <td>NaN</td>\n",
       "      <td>NaN</td>\n",
       "      <td>-3.249516</td>\n",
       "      <td>...</td>\n",
       "      <td>1.865679</td>\n",
       "      <td>0.407809</td>\n",
       "      <td>0.605809</td>\n",
       "      <td>-0.769348</td>\n",
       "      <td>-1.746337</td>\n",
       "      <td>0.50204</td>\n",
       "      <td>1.977258</td>\n",
       "      <td>0.711607</td>\n",
       "      <td>1.0</td>\n",
       "      <td>1</td>\n",
       "    </tr>\n",
       "  </tbody>\n",
       "</table>\n",
       "<p>1 rows × 31 columns</p>\n",
       "</div>"
      ],
      "text/plain": [
       "      Time        V1        V2        V3  V4  V5  V6  V7  V8        V9  ...    \\\n",
       "900  11131 -1.426623  4.141986 -9.804103 NaN NaN NaN NaN NaN -3.249516  ...     \n",
       "\n",
       "          V21       V22       V23       V24       V25      V26       V27  \\\n",
       "900  1.865679  0.407809  0.605809 -0.769348 -1.746337  0.50204  1.977258   \n",
       "\n",
       "          V28  Amount  Class  \n",
       "900  0.711607     1.0      1  \n",
       "\n",
       "[1 rows x 31 columns]"
      ]
     },
     "execution_count": 7,
     "metadata": {},
     "output_type": "execute_result"
    }
   ],
   "source": [
    "df[df['V4'].isnull()]"
   ]
  },
  {
   "cell_type": "code",
   "execution_count": 8,
   "metadata": {},
   "outputs": [],
   "source": [
    "df.dropna(inplace=True)"
   ]
  },
  {
   "cell_type": "code",
   "execution_count": 9,
   "metadata": {},
   "outputs": [
    {
     "data": {
      "text/plain": [
       "False"
      ]
     },
     "execution_count": 9,
     "metadata": {},
     "output_type": "execute_result"
    }
   ],
   "source": [
    "df.isnull().values.any()"
   ]
  },
  {
   "cell_type": "markdown",
   "metadata": {},
   "source": [
    "### Step 3: Data Preprocessing"
   ]
  },
  {
   "cell_type": "code",
   "execution_count": 10,
   "metadata": {},
   "outputs": [
    {
     "data": {
      "text/html": [
       "<div>\n",
       "<style scoped>\n",
       "    .dataframe tbody tr th:only-of-type {\n",
       "        vertical-align: middle;\n",
       "    }\n",
       "\n",
       "    .dataframe tbody tr th {\n",
       "        vertical-align: top;\n",
       "    }\n",
       "\n",
       "    .dataframe thead th {\n",
       "        text-align: right;\n",
       "    }\n",
       "</style>\n",
       "<table border=\"1\" class=\"dataframe\">\n",
       "  <thead>\n",
       "    <tr style=\"text-align: right;\">\n",
       "      <th></th>\n",
       "      <th>Time</th>\n",
       "      <th>V1</th>\n",
       "      <th>V2</th>\n",
       "      <th>V3</th>\n",
       "      <th>V4</th>\n",
       "      <th>V5</th>\n",
       "      <th>V6</th>\n",
       "      <th>V7</th>\n",
       "      <th>V8</th>\n",
       "      <th>V9</th>\n",
       "      <th>...</th>\n",
       "      <th>V21</th>\n",
       "      <th>V22</th>\n",
       "      <th>V23</th>\n",
       "      <th>V24</th>\n",
       "      <th>V25</th>\n",
       "      <th>V26</th>\n",
       "      <th>V27</th>\n",
       "      <th>V28</th>\n",
       "      <th>Amount</th>\n",
       "      <th>Class</th>\n",
       "    </tr>\n",
       "  </thead>\n",
       "  <tbody>\n",
       "    <tr>\n",
       "      <th>count</th>\n",
       "      <td>900.000000</td>\n",
       "      <td>900.000000</td>\n",
       "      <td>900.000000</td>\n",
       "      <td>900.000000</td>\n",
       "      <td>900.000000</td>\n",
       "      <td>900.000000</td>\n",
       "      <td>900.000000</td>\n",
       "      <td>900.000000</td>\n",
       "      <td>900.000000</td>\n",
       "      <td>900.000000</td>\n",
       "      <td>...</td>\n",
       "      <td>900.000000</td>\n",
       "      <td>900.000000</td>\n",
       "      <td>900.000000</td>\n",
       "      <td>900.000000</td>\n",
       "      <td>900.000000</td>\n",
       "      <td>900.000000</td>\n",
       "      <td>900.000000</td>\n",
       "      <td>900.000000</td>\n",
       "      <td>900.000000</td>\n",
       "      <td>900.000000</td>\n",
       "    </tr>\n",
       "    <tr>\n",
       "      <th>mean</th>\n",
       "      <td>89579.985556</td>\n",
       "      <td>-2.302370</td>\n",
       "      <td>1.776772</td>\n",
       "      <td>-3.533859</td>\n",
       "      <td>2.210778</td>\n",
       "      <td>-1.613497</td>\n",
       "      <td>-0.699977</td>\n",
       "      <td>-2.703860</td>\n",
       "      <td>0.381013</td>\n",
       "      <td>-1.270022</td>\n",
       "      <td>...</td>\n",
       "      <td>0.366111</td>\n",
       "      <td>-0.005000</td>\n",
       "      <td>-0.031945</td>\n",
       "      <td>-0.038475</td>\n",
       "      <td>0.030377</td>\n",
       "      <td>0.025562</td>\n",
       "      <td>0.077531</td>\n",
       "      <td>0.036373</td>\n",
       "      <td>108.953633</td>\n",
       "      <td>0.500000</td>\n",
       "    </tr>\n",
       "    <tr>\n",
       "      <th>std</th>\n",
       "      <td>48739.857474</td>\n",
       "      <td>5.546627</td>\n",
       "      <td>3.672593</td>\n",
       "      <td>6.171931</td>\n",
       "      <td>3.174811</td>\n",
       "      <td>4.342731</td>\n",
       "      <td>1.890163</td>\n",
       "      <td>5.877914</td>\n",
       "      <td>4.853342</td>\n",
       "      <td>2.297901</td>\n",
       "      <td>...</td>\n",
       "      <td>2.702693</td>\n",
       "      <td>1.139523</td>\n",
       "      <td>1.196382</td>\n",
       "      <td>0.573055</td>\n",
       "      <td>0.661572</td>\n",
       "      <td>0.468758</td>\n",
       "      <td>0.989314</td>\n",
       "      <td>0.421468</td>\n",
       "      <td>308.928972</td>\n",
       "      <td>0.500278</td>\n",
       "    </tr>\n",
       "    <tr>\n",
       "      <th>min</th>\n",
       "      <td>406.000000</td>\n",
       "      <td>-30.552380</td>\n",
       "      <td>-8.402154</td>\n",
       "      <td>-31.103685</td>\n",
       "      <td>-4.401290</td>\n",
       "      <td>-29.730600</td>\n",
       "      <td>-6.406267</td>\n",
       "      <td>-43.557242</td>\n",
       "      <td>-41.044261</td>\n",
       "      <td>-13.434066</td>\n",
       "      <td>...</td>\n",
       "      <td>-22.797604</td>\n",
       "      <td>-8.887017</td>\n",
       "      <td>-19.254328</td>\n",
       "      <td>-2.028024</td>\n",
       "      <td>-4.781606</td>\n",
       "      <td>-1.149923</td>\n",
       "      <td>-7.263482</td>\n",
       "      <td>-1.869290</td>\n",
       "      <td>0.000000</td>\n",
       "      <td>0.000000</td>\n",
       "    </tr>\n",
       "    <tr>\n",
       "      <th>25%</th>\n",
       "      <td>47249.750000</td>\n",
       "      <td>-2.825991</td>\n",
       "      <td>-0.195431</td>\n",
       "      <td>-5.068730</td>\n",
       "      <td>-0.105275</td>\n",
       "      <td>-1.775001</td>\n",
       "      <td>-1.587624</td>\n",
       "      <td>-2.992775</td>\n",
       "      <td>-0.178557</td>\n",
       "      <td>-2.301580</td>\n",
       "      <td>...</td>\n",
       "      <td>-0.162558</td>\n",
       "      <td>-0.543180</td>\n",
       "      <td>-0.226998</td>\n",
       "      <td>-0.379574</td>\n",
       "      <td>-0.301918</td>\n",
       "      <td>-0.295559</td>\n",
       "      <td>-0.059425</td>\n",
       "      <td>-0.053411</td>\n",
       "      <td>1.625000</td>\n",
       "      <td>0.000000</td>\n",
       "    </tr>\n",
       "    <tr>\n",
       "      <th>50%</th>\n",
       "      <td>81674.500000</td>\n",
       "      <td>-0.712196</td>\n",
       "      <td>0.896925</td>\n",
       "      <td>-1.456225</td>\n",
       "      <td>1.206713</td>\n",
       "      <td>-0.458894</td>\n",
       "      <td>-0.672049</td>\n",
       "      <td>-0.602134</td>\n",
       "      <td>0.150282</td>\n",
       "      <td>-0.680745</td>\n",
       "      <td>...</td>\n",
       "      <td>0.130469</td>\n",
       "      <td>-0.017277</td>\n",
       "      <td>-0.025929</td>\n",
       "      <td>0.016212</td>\n",
       "      <td>0.049648</td>\n",
       "      <td>-0.026232</td>\n",
       "      <td>0.046411</td>\n",
       "      <td>0.027474</td>\n",
       "      <td>18.970000</td>\n",
       "      <td>0.500000</td>\n",
       "    </tr>\n",
       "    <tr>\n",
       "      <th>75%</th>\n",
       "      <td>138944.250000</td>\n",
       "      <td>1.138937</td>\n",
       "      <td>2.777569</td>\n",
       "      <td>0.366721</td>\n",
       "      <td>4.173330</td>\n",
       "      <td>0.529846</td>\n",
       "      <td>0.035199</td>\n",
       "      <td>0.266629</td>\n",
       "      <td>0.944850</td>\n",
       "      <td>0.213191</td>\n",
       "      <td>...</td>\n",
       "      <td>0.651412</td>\n",
       "      <td>0.570253</td>\n",
       "      <td>0.194164</td>\n",
       "      <td>0.382373</td>\n",
       "      <td>0.393059</td>\n",
       "      <td>0.350455</td>\n",
       "      <td>0.419129</td>\n",
       "      <td>0.206210</td>\n",
       "      <td>99.990000</td>\n",
       "      <td>1.000000</td>\n",
       "    </tr>\n",
       "    <tr>\n",
       "      <th>max</th>\n",
       "      <td>172622.000000</td>\n",
       "      <td>2.369906</td>\n",
       "      <td>22.057729</td>\n",
       "      <td>3.225532</td>\n",
       "      <td>12.114672</td>\n",
       "      <td>11.095089</td>\n",
       "      <td>21.307738</td>\n",
       "      <td>31.527244</td>\n",
       "      <td>20.007208</td>\n",
       "      <td>4.762324</td>\n",
       "      <td>...</td>\n",
       "      <td>27.202839</td>\n",
       "      <td>8.361985</td>\n",
       "      <td>5.466230</td>\n",
       "      <td>3.569702</td>\n",
       "      <td>2.208209</td>\n",
       "      <td>1.884741</td>\n",
       "      <td>4.655054</td>\n",
       "      <td>3.503999</td>\n",
       "      <td>6454.740000</td>\n",
       "      <td>1.000000</td>\n",
       "    </tr>\n",
       "  </tbody>\n",
       "</table>\n",
       "<p>8 rows × 31 columns</p>\n",
       "</div>"
      ],
      "text/plain": [
       "                Time          V1          V2          V3          V4  \\\n",
       "count     900.000000  900.000000  900.000000  900.000000  900.000000   \n",
       "mean    89579.985556   -2.302370    1.776772   -3.533859    2.210778   \n",
       "std     48739.857474    5.546627    3.672593    6.171931    3.174811   \n",
       "min       406.000000  -30.552380   -8.402154  -31.103685   -4.401290   \n",
       "25%     47249.750000   -2.825991   -0.195431   -5.068730   -0.105275   \n",
       "50%     81674.500000   -0.712196    0.896925   -1.456225    1.206713   \n",
       "75%    138944.250000    1.138937    2.777569    0.366721    4.173330   \n",
       "max    172622.000000    2.369906   22.057729    3.225532   12.114672   \n",
       "\n",
       "               V5          V6          V7          V8          V9     ...      \\\n",
       "count  900.000000  900.000000  900.000000  900.000000  900.000000     ...       \n",
       "mean    -1.613497   -0.699977   -2.703860    0.381013   -1.270022     ...       \n",
       "std      4.342731    1.890163    5.877914    4.853342    2.297901     ...       \n",
       "min    -29.730600   -6.406267  -43.557242  -41.044261  -13.434066     ...       \n",
       "25%     -1.775001   -1.587624   -2.992775   -0.178557   -2.301580     ...       \n",
       "50%     -0.458894   -0.672049   -0.602134    0.150282   -0.680745     ...       \n",
       "75%      0.529846    0.035199    0.266629    0.944850    0.213191     ...       \n",
       "max     11.095089   21.307738   31.527244   20.007208    4.762324     ...       \n",
       "\n",
       "              V21         V22         V23         V24         V25         V26  \\\n",
       "count  900.000000  900.000000  900.000000  900.000000  900.000000  900.000000   \n",
       "mean     0.366111   -0.005000   -0.031945   -0.038475    0.030377    0.025562   \n",
       "std      2.702693    1.139523    1.196382    0.573055    0.661572    0.468758   \n",
       "min    -22.797604   -8.887017  -19.254328   -2.028024   -4.781606   -1.149923   \n",
       "25%     -0.162558   -0.543180   -0.226998   -0.379574   -0.301918   -0.295559   \n",
       "50%      0.130469   -0.017277   -0.025929    0.016212    0.049648   -0.026232   \n",
       "75%      0.651412    0.570253    0.194164    0.382373    0.393059    0.350455   \n",
       "max     27.202839    8.361985    5.466230    3.569702    2.208209    1.884741   \n",
       "\n",
       "              V27         V28       Amount       Class  \n",
       "count  900.000000  900.000000   900.000000  900.000000  \n",
       "mean     0.077531    0.036373   108.953633    0.500000  \n",
       "std      0.989314    0.421468   308.928972    0.500278  \n",
       "min     -7.263482   -1.869290     0.000000    0.000000  \n",
       "25%     -0.059425   -0.053411     1.625000    0.000000  \n",
       "50%      0.046411    0.027474    18.970000    0.500000  \n",
       "75%      0.419129    0.206210    99.990000    1.000000  \n",
       "max      4.655054    3.503999  6454.740000    1.000000  \n",
       "\n",
       "[8 rows x 31 columns]"
      ]
     },
     "execution_count": 10,
     "metadata": {},
     "output_type": "execute_result"
    }
   ],
   "source": [
    "df.describe()"
   ]
  },
  {
   "cell_type": "code",
   "execution_count": 11,
   "metadata": {},
   "outputs": [
    {
     "data": {
      "text/html": [
       "<div>\n",
       "<style scoped>\n",
       "    .dataframe tbody tr th:only-of-type {\n",
       "        vertical-align: middle;\n",
       "    }\n",
       "\n",
       "    .dataframe tbody tr th {\n",
       "        vertical-align: top;\n",
       "    }\n",
       "\n",
       "    .dataframe thead th {\n",
       "        text-align: right;\n",
       "    }\n",
       "</style>\n",
       "<table border=\"1\" class=\"dataframe\">\n",
       "  <thead>\n",
       "    <tr style=\"text-align: right;\">\n",
       "      <th></th>\n",
       "      <th>Time</th>\n",
       "      <th>V1</th>\n",
       "      <th>V2</th>\n",
       "      <th>V3</th>\n",
       "      <th>V4</th>\n",
       "      <th>V5</th>\n",
       "      <th>V6</th>\n",
       "      <th>V7</th>\n",
       "      <th>V8</th>\n",
       "      <th>V9</th>\n",
       "      <th>...</th>\n",
       "      <th>V20</th>\n",
       "      <th>V21</th>\n",
       "      <th>V22</th>\n",
       "      <th>V23</th>\n",
       "      <th>V24</th>\n",
       "      <th>V25</th>\n",
       "      <th>V26</th>\n",
       "      <th>V27</th>\n",
       "      <th>V28</th>\n",
       "      <th>Amount</th>\n",
       "    </tr>\n",
       "    <tr>\n",
       "      <th>Class</th>\n",
       "      <th></th>\n",
       "      <th></th>\n",
       "      <th></th>\n",
       "      <th></th>\n",
       "      <th></th>\n",
       "      <th></th>\n",
       "      <th></th>\n",
       "      <th></th>\n",
       "      <th></th>\n",
       "      <th></th>\n",
       "      <th></th>\n",
       "      <th></th>\n",
       "      <th></th>\n",
       "      <th></th>\n",
       "      <th></th>\n",
       "      <th></th>\n",
       "      <th></th>\n",
       "      <th></th>\n",
       "      <th></th>\n",
       "      <th></th>\n",
       "      <th></th>\n",
       "    </tr>\n",
       "  </thead>\n",
       "  <tbody>\n",
       "    <tr>\n",
       "      <th>0</th>\n",
       "      <td>450</td>\n",
       "      <td>450</td>\n",
       "      <td>450</td>\n",
       "      <td>450</td>\n",
       "      <td>450</td>\n",
       "      <td>450</td>\n",
       "      <td>450</td>\n",
       "      <td>450</td>\n",
       "      <td>450</td>\n",
       "      <td>450</td>\n",
       "      <td>...</td>\n",
       "      <td>450</td>\n",
       "      <td>450</td>\n",
       "      <td>450</td>\n",
       "      <td>450</td>\n",
       "      <td>450</td>\n",
       "      <td>450</td>\n",
       "      <td>450</td>\n",
       "      <td>450</td>\n",
       "      <td>450</td>\n",
       "      <td>450</td>\n",
       "    </tr>\n",
       "    <tr>\n",
       "      <th>1</th>\n",
       "      <td>450</td>\n",
       "      <td>450</td>\n",
       "      <td>450</td>\n",
       "      <td>450</td>\n",
       "      <td>450</td>\n",
       "      <td>450</td>\n",
       "      <td>450</td>\n",
       "      <td>450</td>\n",
       "      <td>450</td>\n",
       "      <td>450</td>\n",
       "      <td>...</td>\n",
       "      <td>450</td>\n",
       "      <td>450</td>\n",
       "      <td>450</td>\n",
       "      <td>450</td>\n",
       "      <td>450</td>\n",
       "      <td>450</td>\n",
       "      <td>450</td>\n",
       "      <td>450</td>\n",
       "      <td>450</td>\n",
       "      <td>450</td>\n",
       "    </tr>\n",
       "  </tbody>\n",
       "</table>\n",
       "<p>2 rows × 30 columns</p>\n",
       "</div>"
      ],
      "text/plain": [
       "       Time   V1   V2   V3   V4   V5   V6   V7   V8   V9   ...    V20  V21  \\\n",
       "Class                                                      ...               \n",
       "0       450  450  450  450  450  450  450  450  450  450   ...    450  450   \n",
       "1       450  450  450  450  450  450  450  450  450  450   ...    450  450   \n",
       "\n",
       "       V22  V23  V24  V25  V26  V27  V28  Amount  \n",
       "Class                                             \n",
       "0      450  450  450  450  450  450  450     450  \n",
       "1      450  450  450  450  450  450  450     450  \n",
       "\n",
       "[2 rows x 30 columns]"
      ]
     },
     "execution_count": 11,
     "metadata": {},
     "output_type": "execute_result"
    }
   ],
   "source": [
    "df.groupby('Class').count()"
   ]
  },
  {
   "cell_type": "code",
   "execution_count": 12,
   "metadata": {},
   "outputs": [],
   "source": [
    "X_df = df.drop(columns=['Class'])\n",
    "y_df = df['Class']"
   ]
  },
  {
   "cell_type": "code",
   "execution_count": 13,
   "metadata": {},
   "outputs": [
    {
     "data": {
      "text/plain": [
       "((900, 30), (900,))"
      ]
     },
     "execution_count": 13,
     "metadata": {},
     "output_type": "execute_result"
    }
   ],
   "source": [
    "X_df.shape, y_df.shape"
   ]
  },
  {
   "cell_type": "code",
   "execution_count": 14,
   "metadata": {},
   "outputs": [],
   "source": [
    "X = np.array(X_df)\n",
    "y = np.array(y_df)"
   ]
  },
  {
   "cell_type": "code",
   "execution_count": 35,
   "metadata": {},
   "outputs": [
    {
     "data": {
      "text/plain": [
       "array([[0.83400497, 0.90385325, 0.30982715, ..., 0.63509271, 0.37208942,\n",
       "        0.00554631],\n",
       "       [0.32877898, 0.85707065, 0.34890264, ..., 0.66829419, 0.38640329,\n",
       "        0.068813  ],\n",
       "       [0.43515701, 0.97314995, 0.26517236, ..., 0.60688275, 0.34712932,\n",
       "        0.00387312],\n",
       "       ...,\n",
       "       [0.9008919 , 0.89642356, 0.37783653, ..., 0.66606746, 0.41061749,\n",
       "        0.01468998],\n",
       "       [0.67160426, 0.95684792, 0.31962279, ..., 0.66189093, 0.40663504,\n",
       "        0.01007012],\n",
       "       [0.43882102, 0.77186794, 0.39300561, ..., 0.6243462 , 0.47100491,\n",
       "        0.015477  ]])"
      ]
     },
     "execution_count": 35,
     "metadata": {},
     "output_type": "execute_result"
    }
   ],
   "source": [
    "from sklearn.preprocessing import MinMaxScaler\n",
    "scale = MinMaxScaler()\n",
    "scale.fit_transform(X)"
   ]
  },
  {
   "cell_type": "markdown",
   "metadata": {},
   "source": [
    "### Step 4: Splitting Data into Train and Valid Set"
   ]
  },
  {
   "cell_type": "code",
   "execution_count": 44,
   "metadata": {},
   "outputs": [],
   "source": [
    "from sklearn.model_selection import train_test_split"
   ]
  },
  {
   "cell_type": "code",
   "execution_count": 45,
   "metadata": {},
   "outputs": [],
   "source": [
    "X_train, X_valid, y_train, y_valid = train_test_split(X, y, test_size = 0.05, shuffle=True)"
   ]
  },
  {
   "cell_type": "code",
   "execution_count": 46,
   "metadata": {},
   "outputs": [
    {
     "data": {
      "text/plain": [
       "((855, 30), (45, 30), (855,), (45,))"
      ]
     },
     "execution_count": 46,
     "metadata": {},
     "output_type": "execute_result"
    }
   ],
   "source": [
    "X_train.shape , X_valid.shape, y_train.shape, y_valid.shape"
   ]
  },
  {
   "cell_type": "markdown",
   "metadata": {},
   "source": [
    "### Step 5: Modelling Data"
   ]
  },
  {
   "cell_type": "code",
   "execution_count": 47,
   "metadata": {},
   "outputs": [],
   "source": [
    "import tensorflow as tf"
   ]
  },
  {
   "cell_type": "code",
   "execution_count": 48,
   "metadata": {},
   "outputs": [],
   "source": [
    "import keras\n",
    "from keras.layers import BatchNormalization\n",
    "from keras.layers.core import Flatten,Dense,Dropout, Activation, Lambda\n",
    "from keras.models import Model, Sequential\n",
    "from keras.optimizers import Adam,SGD\n",
    "from keras.callbacks import TensorBoard"
   ]
  },
  {
   "cell_type": "code",
   "execution_count": 96,
   "metadata": {},
   "outputs": [],
   "source": [
    "model = Sequential()\n",
    "#model.add(Lambda(lambda x: x , input_shape = (24)))\n",
    "#model.add(Lambda(lambda x: x+0.1 , input_shape = (64,64,3)))\n",
    "#model.add(Flatten())\n",
    "model.add(BatchNormalization(input_shape=(30,)))\n",
    "model.add(Dense(1000))\n",
    "model.add(Activation('relu'))\n",
    "\n",
    "\n",
    "model.add(Dropout(0.2))\n",
    "model.add(BatchNormalization())\n",
    "model.add(Dense(500))\n",
    "model.add(Activation('relu'))\n",
    "model.add(Dropout(0.2))\n",
    "model.add(BatchNormalization())\n",
    "model.add(Dense(50))\n",
    "model.add(Activation('relu'))\n",
    "\n",
    "model.add(Dense(1))\n",
    "model.add(Activation('sigmoid'))\n",
    "model.compile(optimizer = Adam(lr=0.001) , loss = 'binary_crossentropy', metrics=['accuracy'])"
   ]
  },
  {
   "cell_type": "code",
   "execution_count": 97,
   "metadata": {
    "scrolled": true
   },
   "outputs": [
    {
     "name": "stdout",
     "output_type": "stream",
     "text": [
      "Train on 855 samples, validate on 45 samples\n",
      "Epoch 1/30\n",
      "855/855 [==============================] - 3s 4ms/step - loss: 0.2994 - acc: 0.8784 - val_loss: 0.1750 - val_acc: 0.9556\n",
      "Epoch 2/30\n",
      "855/855 [==============================] - 0s 440us/step - loss: 0.1615 - acc: 0.9380 - val_loss: 0.1140 - val_acc: 0.9556\n",
      "Epoch 3/30\n",
      "855/855 [==============================] - 0s 438us/step - loss: 0.1539 - acc: 0.9310 - val_loss: 0.0976 - val_acc: 0.9556\n",
      "Epoch 4/30\n",
      "855/855 [==============================] - 0s 448us/step - loss: 0.1345 - acc: 0.9532 - val_loss: 0.1273 - val_acc: 0.9778\n",
      "Epoch 5/30\n",
      "855/855 [==============================] - 0s 447us/step - loss: 0.1220 - acc: 0.9497 - val_loss: 0.0825 - val_acc: 0.9778\n",
      "Epoch 6/30\n",
      "855/855 [==============================] - 0s 449us/step - loss: 0.1331 - acc: 0.9556 - val_loss: 0.1283 - val_acc: 0.9778\n",
      "Epoch 7/30\n",
      "855/855 [==============================] - 0s 456us/step - loss: 0.1121 - acc: 0.9637 - val_loss: 0.1408 - val_acc: 0.9556\n",
      "Epoch 8/30\n",
      "855/855 [==============================] - 0s 464us/step - loss: 0.1108 - acc: 0.9556 - val_loss: 0.0979 - val_acc: 0.9778\n",
      "Epoch 9/30\n",
      "855/855 [==============================] - 0s 461us/step - loss: 0.0986 - acc: 0.9626 - val_loss: 0.0845 - val_acc: 0.9778\n",
      "Epoch 10/30\n",
      "855/855 [==============================] - 0s 455us/step - loss: 0.0849 - acc: 0.9614 - val_loss: 0.0690 - val_acc: 0.9556\n",
      "Epoch 11/30\n",
      "855/855 [==============================] - 0s 454us/step - loss: 0.0828 - acc: 0.9637 - val_loss: 0.0698 - val_acc: 1.0000\n",
      "Epoch 12/30\n",
      "855/855 [==============================] - 0s 446us/step - loss: 0.0852 - acc: 0.9637 - val_loss: 0.1250 - val_acc: 0.9556\n",
      "Epoch 13/30\n",
      "855/855 [==============================] - 0s 453us/step - loss: 0.0777 - acc: 0.9743 - val_loss: 0.0566 - val_acc: 0.9778\n",
      "Epoch 14/30\n",
      "855/855 [==============================] - 0s 467us/step - loss: 0.0916 - acc: 0.9637 - val_loss: 0.1461 - val_acc: 0.9556\n",
      "Epoch 15/30\n",
      "855/855 [==============================] - 0s 467us/step - loss: 0.0811 - acc: 0.9614 - val_loss: 0.0625 - val_acc: 0.9556\n",
      "Epoch 16/30\n",
      "855/855 [==============================] - 0s 452us/step - loss: 0.0896 - acc: 0.9684 - val_loss: 0.1174 - val_acc: 0.9778\n",
      "Epoch 17/30\n",
      "855/855 [==============================] - 0s 452us/step - loss: 0.0618 - acc: 0.9778 - val_loss: 0.0559 - val_acc: 0.9778\n",
      "Epoch 18/30\n",
      "855/855 [==============================] - 0s 461us/step - loss: 0.0629 - acc: 0.9766 - val_loss: 0.0712 - val_acc: 0.9778\n",
      "Epoch 19/30\n",
      "855/855 [==============================] - 0s 451us/step - loss: 0.0702 - acc: 0.9778 - val_loss: 0.0594 - val_acc: 0.9778\n",
      "Epoch 20/30\n",
      "855/855 [==============================] - 0s 465us/step - loss: 0.0594 - acc: 0.9789 - val_loss: 0.0960 - val_acc: 0.9778\n",
      "Epoch 21/30\n",
      "855/855 [==============================] - 0s 452us/step - loss: 0.0688 - acc: 0.9766 - val_loss: 0.0918 - val_acc: 0.9778\n",
      "Epoch 22/30\n",
      "855/855 [==============================] - 0s 451us/step - loss: 0.0480 - acc: 0.9848 - val_loss: 0.0689 - val_acc: 0.9778\n",
      "Epoch 23/30\n",
      "855/855 [==============================] - 0s 493us/step - loss: 0.0455 - acc: 0.9848 - val_loss: 0.0729 - val_acc: 0.9778\n",
      "Epoch 24/30\n",
      "855/855 [==============================] - 0s 457us/step - loss: 0.0627 - acc: 0.9801 - val_loss: 0.1233 - val_acc: 0.9556\n",
      "Epoch 25/30\n",
      "855/855 [==============================] - 0s 448us/step - loss: 0.0515 - acc: 0.9825 - val_loss: 0.0927 - val_acc: 0.9556\n",
      "Epoch 26/30\n",
      "855/855 [==============================] - 0s 462us/step - loss: 0.0529 - acc: 0.9801 - val_loss: 0.1090 - val_acc: 0.9778\n",
      "Epoch 27/30\n",
      "855/855 [==============================] - 0s 445us/step - loss: 0.0467 - acc: 0.9836 - val_loss: 0.1189 - val_acc: 0.9778\n",
      "Epoch 28/30\n",
      "855/855 [==============================] - 0s 452us/step - loss: 0.0768 - acc: 0.9684 - val_loss: 0.0740 - val_acc: 0.9778\n",
      "Epoch 29/30\n",
      "855/855 [==============================] - 0s 456us/step - loss: 0.0323 - acc: 0.9895 - val_loss: 0.0735 - val_acc: 0.9778\n",
      "Epoch 30/30\n",
      "855/855 [==============================] - 0s 448us/step - loss: 0.0576 - acc: 0.9766 - val_loss: 0.1290 - val_acc: 0.9556\n"
     ]
    },
    {
     "data": {
      "text/plain": [
       "<keras.callbacks.History at 0x2672df8f470>"
      ]
     },
     "execution_count": 97,
     "metadata": {},
     "output_type": "execute_result"
    }
   ],
   "source": [
    "model.fit(X_train, y_train, epochs=30, verbose =1, validation_data=(X_valid, y_valid))"
   ]
  },
  {
   "cell_type": "code",
   "execution_count": 98,
   "metadata": {},
   "outputs": [
    {
     "data": {
      "image/png": "[encoded data removed]",
      "text/plain": [
       "<Figure size 432x288 with 1 Axes>"
      ]
     },
     "metadata": {},
     "output_type": "display_data"
    }
   ],
   "source": [
    "import matplotlib.pyplot as plt\n",
    "plt.plot(model.history.history['loss'])\n",
    "plt.xlabel('Epoch')\n",
    "plt.ylabel('Loss')\n",
    "plt.title('Loss Curve')\n",
    "plt.show()"
   ]
  },
  {
   "cell_type": "code",
   "execution_count": 99,
   "metadata": {},
   "outputs": [
    {
     "data": {
      "image/png": "[encoded data removed]",
      "text/plain": [
       "<Figure size 432x288 with 1 Axes>"
      ]
     },
     "metadata": {},
     "output_type": "display_data"
    }
   ],
   "source": [
    "plt.plot(model.history.history['acc'])\n",
    "plt.xlabel('Epoch')\n",
    "plt.ylabel('Accuracy')\n",
    "plt.title('Training Accuracy Curve')\n",
    "plt.show()"
   ]
  },
  {
   "cell_type": "markdown",
   "metadata": {},
   "source": [
    "### Step 6: Inference on Test Set"
   ]
  },
  {
   "cell_type": "code",
   "execution_count": 100,
   "metadata": {},
   "outputs": [],
   "source": [
    "test_df = pd.read_csv('./test.csv')"
   ]
  },
  {
   "cell_type": "code",
   "execution_count": 101,
   "metadata": {},
   "outputs": [
    {
     "data": {
      "text/html": [
       "<div>\n",
       "<style scoped>\n",
       "    .dataframe tbody tr th:only-of-type {\n",
       "        vertical-align: middle;\n",
       "    }\n",
       "\n",
       "    .dataframe tbody tr th {\n",
       "        vertical-align: top;\n",
       "    }\n",
       "\n",
       "    .dataframe thead th {\n",
       "        text-align: right;\n",
       "    }\n",
       "</style>\n",
       "<table border=\"1\" class=\"dataframe\">\n",
       "  <thead>\n",
       "    <tr style=\"text-align: right;\">\n",
       "      <th></th>\n",
       "      <th>Time</th>\n",
       "      <th>V1</th>\n",
       "      <th>V2</th>\n",
       "      <th>V3</th>\n",
       "      <th>V4</th>\n",
       "      <th>V5</th>\n",
       "      <th>V6</th>\n",
       "      <th>V7</th>\n",
       "      <th>V8</th>\n",
       "      <th>V9</th>\n",
       "      <th>...</th>\n",
       "      <th>V21</th>\n",
       "      <th>V22</th>\n",
       "      <th>V23</th>\n",
       "      <th>V24</th>\n",
       "      <th>V25</th>\n",
       "      <th>V26</th>\n",
       "      <th>V27</th>\n",
       "      <th>V28</th>\n",
       "      <th>Amount</th>\n",
       "      <th>Class</th>\n",
       "    </tr>\n",
       "  </thead>\n",
       "  <tbody>\n",
       "    <tr>\n",
       "      <th>0</th>\n",
       "      <td>152036.0</td>\n",
       "      <td>-4.320609</td>\n",
       "      <td>3.199939</td>\n",
       "      <td>-5.799736</td>\n",
       "      <td>6.502330</td>\n",
       "      <td>0.378479</td>\n",
       "      <td>-1.948246</td>\n",
       "      <td>-2.167860</td>\n",
       "      <td>-0.728207</td>\n",
       "      <td>-1.977238</td>\n",
       "      <td>...</td>\n",
       "      <td>0.476660</td>\n",
       "      <td>0.434278</td>\n",
       "      <td>-0.136940</td>\n",
       "      <td>-0.620072</td>\n",
       "      <td>0.642531</td>\n",
       "      <td>0.280717</td>\n",
       "      <td>-2.649107</td>\n",
       "      <td>0.533641</td>\n",
       "      <td>1.00</td>\n",
       "      <td>1.0</td>\n",
       "    </tr>\n",
       "    <tr>\n",
       "      <th>1</th>\n",
       "      <td>169643.0</td>\n",
       "      <td>1.889860</td>\n",
       "      <td>-0.554576</td>\n",
       "      <td>-0.722602</td>\n",
       "      <td>0.322916</td>\n",
       "      <td>-0.363998</td>\n",
       "      <td>-0.125246</td>\n",
       "      <td>-0.436022</td>\n",
       "      <td>0.067011</td>\n",
       "      <td>1.363166</td>\n",
       "      <td>...</td>\n",
       "      <td>-0.220254</td>\n",
       "      <td>-0.716422</td>\n",
       "      <td>0.352202</td>\n",
       "      <td>0.337284</td>\n",
       "      <td>-0.448502</td>\n",
       "      <td>-0.678064</td>\n",
       "      <td>0.009806</td>\n",
       "      <td>-0.019339</td>\n",
       "      <td>70.56</td>\n",
       "      <td>0.0</td>\n",
       "    </tr>\n",
       "    <tr>\n",
       "      <th>2</th>\n",
       "      <td>72654.0</td>\n",
       "      <td>-1.116040</td>\n",
       "      <td>0.550557</td>\n",
       "      <td>1.999201</td>\n",
       "      <td>-0.730987</td>\n",
       "      <td>1.413172</td>\n",
       "      <td>0.628691</td>\n",
       "      <td>0.659579</td>\n",
       "      <td>0.256799</td>\n",
       "      <td>-0.536558</td>\n",
       "      <td>...</td>\n",
       "      <td>-0.119218</td>\n",
       "      <td>-0.220850</td>\n",
       "      <td>-0.019244</td>\n",
       "      <td>-0.681807</td>\n",
       "      <td>-0.094851</td>\n",
       "      <td>0.038987</td>\n",
       "      <td>-0.116611</td>\n",
       "      <td>-0.158067</td>\n",
       "      <td>1.98</td>\n",
       "      <td>0.0</td>\n",
       "    </tr>\n",
       "    <tr>\n",
       "      <th>3</th>\n",
       "      <td>76583.0</td>\n",
       "      <td>-0.918626</td>\n",
       "      <td>0.767762</td>\n",
       "      <td>0.651823</td>\n",
       "      <td>-1.579225</td>\n",
       "      <td>0.637903</td>\n",
       "      <td>1.255325</td>\n",
       "      <td>-0.070067</td>\n",
       "      <td>1.068195</td>\n",
       "      <td>-0.487999</td>\n",
       "      <td>...</td>\n",
       "      <td>0.121691</td>\n",
       "      <td>0.396274</td>\n",
       "      <td>0.059837</td>\n",
       "      <td>-1.302538</td>\n",
       "      <td>-0.483834</td>\n",
       "      <td>0.900092</td>\n",
       "      <td>0.129254</td>\n",
       "      <td>-0.005489</td>\n",
       "      <td>3.80</td>\n",
       "      <td>0.0</td>\n",
       "    </tr>\n",
       "    <tr>\n",
       "      <th>4</th>\n",
       "      <td>75581.0</td>\n",
       "      <td>-2.866364</td>\n",
       "      <td>2.346949</td>\n",
       "      <td>-4.053307</td>\n",
       "      <td>3.983359</td>\n",
       "      <td>-3.463186</td>\n",
       "      <td>-1.280953</td>\n",
       "      <td>-4.474764</td>\n",
       "      <td>1.216655</td>\n",
       "      <td>-2.309829</td>\n",
       "      <td>...</td>\n",
       "      <td>1.049732</td>\n",
       "      <td>0.475840</td>\n",
       "      <td>0.404480</td>\n",
       "      <td>0.282030</td>\n",
       "      <td>-0.506901</td>\n",
       "      <td>-0.371741</td>\n",
       "      <td>0.615257</td>\n",
       "      <td>0.803163</td>\n",
       "      <td>124.53</td>\n",
       "      <td>1.0</td>\n",
       "    </tr>\n",
       "  </tbody>\n",
       "</table>\n",
       "<p>5 rows × 31 columns</p>\n",
       "</div>"
      ],
      "text/plain": [
       "       Time        V1        V2        V3        V4        V5        V6  \\\n",
       "0  152036.0 -4.320609  3.199939 -5.799736  6.502330  0.378479 -1.948246   \n",
       "1  169643.0  1.889860 -0.554576 -0.722602  0.322916 -0.363998 -0.125246   \n",
       "2   72654.0 -1.116040  0.550557  1.999201 -0.730987  1.413172  0.628691   \n",
       "3   76583.0 -0.918626  0.767762  0.651823 -1.579225  0.637903  1.255325   \n",
       "4   75581.0 -2.866364  2.346949 -4.053307  3.983359 -3.463186 -1.280953   \n",
       "\n",
       "         V7        V8        V9  ...         V21       V22       V23  \\\n",
       "0 -2.167860 -0.728207 -1.977238  ...    0.476660  0.434278 -0.136940   \n",
       "1 -0.436022  0.067011  1.363166  ...   -0.220254 -0.716422  0.352202   \n",
       "2  0.659579  0.256799 -0.536558  ...   -0.119218 -0.220850 -0.019244   \n",
       "3 -0.070067  1.068195 -0.487999  ...    0.121691  0.396274  0.059837   \n",
       "4 -4.474764  1.216655 -2.309829  ...    1.049732  0.475840  0.404480   \n",
       "\n",
       "        V24       V25       V26       V27       V28  Amount  Class  \n",
       "0 -0.620072  0.642531  0.280717 -2.649107  0.533641    1.00    1.0  \n",
       "1  0.337284 -0.448502 -0.678064  0.009806 -0.019339   70.56    0.0  \n",
       "2 -0.681807 -0.094851  0.038987 -0.116611 -0.158067    1.98    0.0  \n",
       "3 -1.302538 -0.483834  0.900092  0.129254 -0.005489    3.80    0.0  \n",
       "4  0.282030 -0.506901 -0.371741  0.615257  0.803163  124.53    1.0  \n",
       "\n",
       "[5 rows x 31 columns]"
      ]
     },
     "execution_count": 101,
     "metadata": {},
     "output_type": "execute_result"
    }
   ],
   "source": [
    "test_df.head()"
   ]
  },
  {
   "cell_type": "code",
   "execution_count": 102,
   "metadata": {},
   "outputs": [],
   "source": [
    "y_test = np.array(test_df['Class'])"
   ]
  },
  {
   "cell_type": "code",
   "execution_count": 103,
   "metadata": {},
   "outputs": [],
   "source": [
    "x_test =  np.array(test_df.drop(columns='Class'))"
   ]
  },
  {
   "cell_type": "code",
   "execution_count": 104,
   "metadata": {},
   "outputs": [
    {
     "data": {
      "text/plain": [
       "((100, 30), (100,))"
      ]
     },
     "execution_count": 104,
     "metadata": {},
     "output_type": "execute_result"
    }
   ],
   "source": [
    "x_test.shape, y_test.shape"
   ]
  },
  {
   "cell_type": "markdown",
   "metadata": {},
   "source": [
    "### Step 7: Checking Metrics for Performance"
   ]
  },
  {
   "cell_type": "code",
   "execution_count": 105,
   "metadata": {},
   "outputs": [],
   "source": [
    "from sklearn.metrics import classification_report, confusion_matrix"
   ]
  },
  {
   "cell_type": "code",
   "execution_count": 106,
   "metadata": {},
   "outputs": [],
   "source": [
    "y_pred = model.predict(x_test)"
   ]
  },
  {
   "cell_type": "code",
   "execution_count": 107,
   "metadata": {},
   "outputs": [],
   "source": [
    "y_pred = (y_pred >= 0.5).astype(int)"
   ]
  },
  {
   "cell_type": "code",
   "execution_count": 108,
   "metadata": {},
   "outputs": [
    {
     "data": {
      "text/plain": [
       "array([[1],\n",
       "       [0],\n",
       "       [0],\n",
       "       [0],\n",
       "       [1]])"
      ]
     },
     "execution_count": 108,
     "metadata": {},
     "output_type": "execute_result"
    }
   ],
   "source": [
    "y_pred[0:5]"
   ]
  },
  {
   "cell_type": "code",
   "execution_count": 109,
   "metadata": {},
   "outputs": [
    {
     "name": "stdout",
     "output_type": "stream",
     "text": [
      "             precision    recall  f1-score   support\n",
      "\n",
      "        0.0       0.92      0.96      0.94        50\n",
      "        1.0       0.96      0.92      0.94        50\n",
      "\n",
      "avg / total       0.94      0.94      0.94       100\n",
      "\n"
     ]
    }
   ],
   "source": [
    "print(classification_report(y_test, y_pred))"
   ]
  },
  {
   "cell_type": "code",
   "execution_count": 110,
   "metadata": {},
   "outputs": [
    {
     "name": "stdout",
     "output_type": "stream",
     "text": [
      "[[48  2]\n",
      " [ 4 46]]\n"
     ]
    }
   ],
   "source": [
    "print(confusion_matrix(y_test,y_pred))"
   ]
  },
  {
   "cell_type": "code",
   "execution_count": null,
   "metadata": {},
   "outputs": [],
   "source": []
  }
 ],
 "metadata": {
  "kernelspec": {
   "display_name": "Python 3",
   "language": "python",
   "name": "python3"
  },
  "language_info": {
   "codemirror_mode": {
    "name": "ipython",
    "version": 3
   },
   "file_extension": ".py",
   "mimetype": "text/x-python",
   "name": "python",
   "nbconvert_exporter": "python",
   "pygments_lexer": "ipython3",
   "version": "3.6.5"
  }
 },
 "nbformat": 4,
 "nbformat_minor": 2
}
