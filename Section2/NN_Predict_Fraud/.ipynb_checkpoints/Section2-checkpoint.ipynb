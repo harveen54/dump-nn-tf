{
 "cells": [
  {
   "cell_type": "code",
   "execution_count": 15,
   "metadata": {},
   "outputs": [],
   "source": [
    "import pandas as pd\n",
    "import numpy as np"
   ]
  },
  {
   "cell_type": "markdown",
   "metadata": {},
   "source": [
    "### Step 1: Importing Data"
   ]
  },
  {
   "cell_type": "code",
   "execution_count": 16,
   "metadata": {},
   "outputs": [],
   "source": [
    "df= pd.read_csv('train.csv')"
   ]
  },
  {
   "cell_type": "code",
   "execution_count": 65,
   "metadata": {},
   "outputs": [
    {
     "data": {
      "text/html": [
       "<div>\n",
       "<style scoped>\n",
       "    .dataframe tbody tr th:only-of-type {\n",
       "        vertical-align: middle;\n",
       "    }\n",
       "\n",
       "    .dataframe tbody tr th {\n",
       "        vertical-align: top;\n",
       "    }\n",
       "\n",
       "    .dataframe thead th {\n",
       "        text-align: right;\n",
       "    }\n",
       "</style>\n",
       "<table border=\"1\" class=\"dataframe\">\n",
       "  <thead>\n",
       "    <tr style=\"text-align: right;\">\n",
       "      <th></th>\n",
       "      <th>Time</th>\n",
       "      <th>V1</th>\n",
       "      <th>V2</th>\n",
       "      <th>V3</th>\n",
       "      <th>V4</th>\n",
       "      <th>V5</th>\n",
       "      <th>V6</th>\n",
       "      <th>V7</th>\n",
       "      <th>V8</th>\n",
       "      <th>V9</th>\n",
       "      <th>...</th>\n",
       "      <th>V21</th>\n",
       "      <th>V22</th>\n",
       "      <th>V23</th>\n",
       "      <th>V24</th>\n",
       "      <th>V25</th>\n",
       "      <th>V26</th>\n",
       "      <th>V27</th>\n",
       "      <th>V28</th>\n",
       "      <th>Amount</th>\n",
       "      <th>Class</th>\n",
       "    </tr>\n",
       "  </thead>\n",
       "  <tbody>\n",
       "    <tr>\n",
       "      <th>0</th>\n",
       "      <td>144035</td>\n",
       "      <td>-0.795465</td>\n",
       "      <td>1.035145</td>\n",
       "      <td>0.629094</td>\n",
       "      <td>1.060550</td>\n",
       "      <td>0.185512</td>\n",
       "      <td>0.442982</td>\n",
       "      <td>0.367739</td>\n",
       "      <td>0.629104</td>\n",
       "      <td>-0.215407</td>\n",
       "      <td>...</td>\n",
       "      <td>-0.224165</td>\n",
       "      <td>-0.406332</td>\n",
       "      <td>-0.113468</td>\n",
       "      <td>-0.519506</td>\n",
       "      <td>0.062945</td>\n",
       "      <td>-0.625920</td>\n",
       "      <td>0.305893</td>\n",
       "      <td>0.130054</td>\n",
       "      <td>35.80</td>\n",
       "      <td>0</td>\n",
       "    </tr>\n",
       "    <tr>\n",
       "      <th>1</th>\n",
       "      <td>57027</td>\n",
       "      <td>-2.335655</td>\n",
       "      <td>2.225380</td>\n",
       "      <td>-3.379450</td>\n",
       "      <td>2.178538</td>\n",
       "      <td>-3.568264</td>\n",
       "      <td>0.316814</td>\n",
       "      <td>-1.734948</td>\n",
       "      <td>1.449139</td>\n",
       "      <td>-1.980033</td>\n",
       "      <td>...</td>\n",
       "      <td>0.785540</td>\n",
       "      <td>0.297412</td>\n",
       "      <td>0.308536</td>\n",
       "      <td>-0.598416</td>\n",
       "      <td>-0.121850</td>\n",
       "      <td>-0.491018</td>\n",
       "      <td>0.701606</td>\n",
       "      <td>0.206966</td>\n",
       "      <td>444.17</td>\n",
       "      <td>1</td>\n",
       "    </tr>\n",
       "    <tr>\n",
       "      <th>2</th>\n",
       "      <td>75347</td>\n",
       "      <td>1.485941</td>\n",
       "      <td>-0.325035</td>\n",
       "      <td>-0.551499</td>\n",
       "      <td>-0.845371</td>\n",
       "      <td>-0.216371</td>\n",
       "      <td>-0.917921</td>\n",
       "      <td>-0.011792</td>\n",
       "      <td>-0.375973</td>\n",
       "      <td>-1.136155</td>\n",
       "      <td>...</td>\n",
       "      <td>0.145207</td>\n",
       "      <td>0.346199</td>\n",
       "      <td>-0.281322</td>\n",
       "      <td>-0.404634</td>\n",
       "      <td>0.909394</td>\n",
       "      <td>-0.034868</td>\n",
       "      <td>-0.030328</td>\n",
       "      <td>-0.004064</td>\n",
       "      <td>25.00</td>\n",
       "      <td>0</td>\n",
       "    </tr>\n",
       "    <tr>\n",
       "      <th>3</th>\n",
       "      <td>75424</td>\n",
       "      <td>-0.804963</td>\n",
       "      <td>0.712653</td>\n",
       "      <td>1.360827</td>\n",
       "      <td>-0.332024</td>\n",
       "      <td>1.302313</td>\n",
       "      <td>1.623387</td>\n",
       "      <td>0.551873</td>\n",
       "      <td>0.637665</td>\n",
       "      <td>-0.844825</td>\n",
       "      <td>...</td>\n",
       "      <td>0.219177</td>\n",
       "      <td>0.644723</td>\n",
       "      <td>-0.258438</td>\n",
       "      <td>-1.357390</td>\n",
       "      <td>0.469040</td>\n",
       "      <td>-0.272856</td>\n",
       "      <td>0.023010</td>\n",
       "      <td>-0.053357</td>\n",
       "      <td>18.95</td>\n",
       "      <td>0</td>\n",
       "    </tr>\n",
       "    <tr>\n",
       "      <th>4</th>\n",
       "      <td>102676</td>\n",
       "      <td>-5.552122</td>\n",
       "      <td>5.678134</td>\n",
       "      <td>-9.775528</td>\n",
       "      <td>8.416295</td>\n",
       "      <td>-4.409844</td>\n",
       "      <td>-1.506235</td>\n",
       "      <td>-6.899839</td>\n",
       "      <td>3.750443</td>\n",
       "      <td>-3.879793</td>\n",
       "      <td>...</td>\n",
       "      <td>1.128472</td>\n",
       "      <td>0.228484</td>\n",
       "      <td>0.286258</td>\n",
       "      <td>-0.536294</td>\n",
       "      <td>-0.104925</td>\n",
       "      <td>0.420919</td>\n",
       "      <td>-0.297557</td>\n",
       "      <td>-0.946184</td>\n",
       "      <td>119.74</td>\n",
       "      <td>1</td>\n",
       "    </tr>\n",
       "  </tbody>\n",
       "</table>\n",
       "<p>5 rows × 31 columns</p>\n",
       "</div>"
      ],
      "text/plain": [
       "     Time        V1        V2        V3        V4        V5        V6  \\\n",
       "0  144035 -0.795465  1.035145  0.629094  1.060550  0.185512  0.442982   \n",
       "1   57027 -2.335655  2.225380 -3.379450  2.178538 -3.568264  0.316814   \n",
       "2   75347  1.485941 -0.325035 -0.551499 -0.845371 -0.216371 -0.917921   \n",
       "3   75424 -0.804963  0.712653  1.360827 -0.332024  1.302313  1.623387   \n",
       "4  102676 -5.552122  5.678134 -9.775528  8.416295 -4.409844 -1.506235   \n",
       "\n",
       "         V7        V8        V9  ...         V21       V22       V23  \\\n",
       "0  0.367739  0.629104 -0.215407  ...   -0.224165 -0.406332 -0.113468   \n",
       "1 -1.734948  1.449139 -1.980033  ...    0.785540  0.297412  0.308536   \n",
       "2 -0.011792 -0.375973 -1.136155  ...    0.145207  0.346199 -0.281322   \n",
       "3  0.551873  0.637665 -0.844825  ...    0.219177  0.644723 -0.258438   \n",
       "4 -6.899839  3.750443 -3.879793  ...    1.128472  0.228484  0.286258   \n",
       "\n",
       "        V24       V25       V26       V27       V28  Amount  Class  \n",
       "0 -0.519506  0.062945 -0.625920  0.305893  0.130054   35.80      0  \n",
       "1 -0.598416 -0.121850 -0.491018  0.701606  0.206966  444.17      1  \n",
       "2 -0.404634  0.909394 -0.034868 -0.030328 -0.004064   25.00      0  \n",
       "3 -1.357390  0.469040 -0.272856  0.023010 -0.053357   18.95      0  \n",
       "4 -0.536294 -0.104925  0.420919 -0.297557 -0.946184  119.74      1  \n",
       "\n",
       "[5 rows x 31 columns]"
      ]
     },
     "execution_count": 65,
     "metadata": {},
     "output_type": "execute_result"
    }
   ],
   "source": [
    "df.head()"
   ]
  },
  {
   "cell_type": "markdown",
   "metadata": {},
   "source": [
    "### Step 2: Cleaning Data"
   ]
  },
  {
   "cell_type": "code",
   "execution_count": 66,
   "metadata": {
    "scrolled": true
   },
   "outputs": [
    {
     "name": "stdout",
     "output_type": "stream",
     "text": [
      "<class 'pandas.core.frame.DataFrame'>\n",
      "Int64Index: 900 entries, 0 to 899\n",
      "Data columns (total 31 columns):\n",
      "Time      900 non-null int64\n",
      "V1        900 non-null float64\n",
      "V2        900 non-null float64\n",
      "V3        900 non-null float64\n",
      "V4        900 non-null float64\n",
      "V5        900 non-null float64\n",
      "V6        900 non-null float64\n",
      "V7        900 non-null float64\n",
      "V8        900 non-null float64\n",
      "V9        900 non-null float64\n",
      "V10       900 non-null float64\n",
      "V11       900 non-null float64\n",
      "V12       900 non-null float64\n",
      "V13       900 non-null float64\n",
      "V14       900 non-null float64\n",
      "V15       900 non-null float64\n",
      "V16       900 non-null float64\n",
      "V17       900 non-null float64\n",
      "V18       900 non-null float64\n",
      "V19       900 non-null float64\n",
      "V20       900 non-null float64\n",
      "V21       900 non-null float64\n",
      "V22       900 non-null float64\n",
      "V23       900 non-null float64\n",
      "V24       900 non-null float64\n",
      "V25       900 non-null float64\n",
      "V26       900 non-null float64\n",
      "V27       900 non-null float64\n",
      "V28       900 non-null float64\n",
      "Amount    900 non-null float64\n",
      "Class     900 non-null int64\n",
      "dtypes: float64(29), int64(2)\n",
      "memory usage: 225.0 KB\n"
     ]
    }
   ],
   "source": [
    "df.info()"
   ]
  },
  {
   "cell_type": "code",
   "execution_count": 27,
   "metadata": {},
   "outputs": [
    {
     "data": {
      "text/plain": [
       "False"
      ]
     },
     "execution_count": 27,
     "metadata": {},
     "output_type": "execute_result"
    }
   ],
   "source": [
    "df.isnull().values.any()"
   ]
  },
  {
   "cell_type": "code",
   "execution_count": 26,
   "metadata": {
    "scrolled": true
   },
   "outputs": [
    {
     "data": {
      "text/plain": [
       "Time      0\n",
       "V1        0\n",
       "V2        0\n",
       "V3        0\n",
       "V4        0\n",
       "V5        0\n",
       "V6        0\n",
       "V7        0\n",
       "V8        0\n",
       "V9        0\n",
       "V10       0\n",
       "V11       0\n",
       "V12       0\n",
       "V13       0\n",
       "V14       0\n",
       "V15       0\n",
       "V16       0\n",
       "V17       0\n",
       "V18       0\n",
       "V19       0\n",
       "V20       0\n",
       "V21       0\n",
       "V22       0\n",
       "V23       0\n",
       "V24       0\n",
       "V25       0\n",
       "V26       0\n",
       "V27       0\n",
       "V28       0\n",
       "Amount    0\n",
       "Class     0\n",
       "dtype: int64"
      ]
     },
     "execution_count": 26,
     "metadata": {},
     "output_type": "execute_result"
    }
   ],
   "source": [
    "df.isnull().sum()"
   ]
  },
  {
   "cell_type": "code",
   "execution_count": 22,
   "metadata": {},
   "outputs": [
    {
     "data": {
      "text/html": [
       "<div>\n",
       "<style scoped>\n",
       "    .dataframe tbody tr th:only-of-type {\n",
       "        vertical-align: middle;\n",
       "    }\n",
       "\n",
       "    .dataframe tbody tr th {\n",
       "        vertical-align: top;\n",
       "    }\n",
       "\n",
       "    .dataframe thead th {\n",
       "        text-align: right;\n",
       "    }\n",
       "</style>\n",
       "<table border=\"1\" class=\"dataframe\">\n",
       "  <thead>\n",
       "    <tr style=\"text-align: right;\">\n",
       "      <th></th>\n",
       "      <th>Time</th>\n",
       "      <th>V1</th>\n",
       "      <th>V2</th>\n",
       "      <th>V3</th>\n",
       "      <th>V4</th>\n",
       "      <th>V5</th>\n",
       "      <th>V6</th>\n",
       "      <th>V7</th>\n",
       "      <th>V8</th>\n",
       "      <th>V9</th>\n",
       "      <th>...</th>\n",
       "      <th>V21</th>\n",
       "      <th>V22</th>\n",
       "      <th>V23</th>\n",
       "      <th>V24</th>\n",
       "      <th>V25</th>\n",
       "      <th>V26</th>\n",
       "      <th>V27</th>\n",
       "      <th>V28</th>\n",
       "      <th>Amount</th>\n",
       "      <th>Class</th>\n",
       "    </tr>\n",
       "  </thead>\n",
       "  <tbody>\n",
       "    <tr>\n",
       "      <th>900</th>\n",
       "      <td>11131</td>\n",
       "      <td>-1.426623</td>\n",
       "      <td>4.141986</td>\n",
       "      <td>-9.804103</td>\n",
       "      <td>NaN</td>\n",
       "      <td>NaN</td>\n",
       "      <td>NaN</td>\n",
       "      <td>NaN</td>\n",
       "      <td>NaN</td>\n",
       "      <td>-3.249516</td>\n",
       "      <td>...</td>\n",
       "      <td>1.865679</td>\n",
       "      <td>0.407809</td>\n",
       "      <td>0.605809</td>\n",
       "      <td>-0.769348</td>\n",
       "      <td>-1.746337</td>\n",
       "      <td>0.50204</td>\n",
       "      <td>1.977258</td>\n",
       "      <td>0.711607</td>\n",
       "      <td>1.0</td>\n",
       "      <td>1</td>\n",
       "    </tr>\n",
       "  </tbody>\n",
       "</table>\n",
       "<p>1 rows × 31 columns</p>\n",
       "</div>"
      ],
      "text/plain": [
       "      Time        V1        V2        V3  V4  V5  V6  V7  V8        V9  ...    \\\n",
       "900  11131 -1.426623  4.141986 -9.804103 NaN NaN NaN NaN NaN -3.249516  ...     \n",
       "\n",
       "          V21       V22       V23       V24       V25      V26       V27  \\\n",
       "900  1.865679  0.407809  0.605809 -0.769348 -1.746337  0.50204  1.977258   \n",
       "\n",
       "          V28  Amount  Class  \n",
       "900  0.711607     1.0      1  \n",
       "\n",
       "[1 rows x 31 columns]"
      ]
     },
     "execution_count": 22,
     "metadata": {},
     "output_type": "execute_result"
    }
   ],
   "source": [
    "df[df['V4'].isnull()]"
   ]
  },
  {
   "cell_type": "code",
   "execution_count": 25,
   "metadata": {},
   "outputs": [],
   "source": [
    "df.dropna(inplace=True)"
   ]
  },
  {
   "cell_type": "code",
   "execution_count": 67,
   "metadata": {},
   "outputs": [
    {
     "data": {
      "text/plain": [
       "False"
      ]
     },
     "execution_count": 67,
     "metadata": {},
     "output_type": "execute_result"
    }
   ],
   "source": [
    "df.isnull().values.any()"
   ]
  },
  {
   "cell_type": "markdown",
   "metadata": {},
   "source": [
    "### Step 3: Data Preprocessing"
   ]
  },
  {
   "cell_type": "code",
   "execution_count": 28,
   "metadata": {},
   "outputs": [
    {
     "data": {
      "text/html": [
       "<div>\n",
       "<style scoped>\n",
       "    .dataframe tbody tr th:only-of-type {\n",
       "        vertical-align: middle;\n",
       "    }\n",
       "\n",
       "    .dataframe tbody tr th {\n",
       "        vertical-align: top;\n",
       "    }\n",
       "\n",
       "    .dataframe thead th {\n",
       "        text-align: right;\n",
       "    }\n",
       "</style>\n",
       "<table border=\"1\" class=\"dataframe\">\n",
       "  <thead>\n",
       "    <tr style=\"text-align: right;\">\n",
       "      <th></th>\n",
       "      <th>Time</th>\n",
       "      <th>V1</th>\n",
       "      <th>V2</th>\n",
       "      <th>V3</th>\n",
       "      <th>V4</th>\n",
       "      <th>V5</th>\n",
       "      <th>V6</th>\n",
       "      <th>V7</th>\n",
       "      <th>V8</th>\n",
       "      <th>V9</th>\n",
       "      <th>...</th>\n",
       "      <th>V21</th>\n",
       "      <th>V22</th>\n",
       "      <th>V23</th>\n",
       "      <th>V24</th>\n",
       "      <th>V25</th>\n",
       "      <th>V26</th>\n",
       "      <th>V27</th>\n",
       "      <th>V28</th>\n",
       "      <th>Amount</th>\n",
       "      <th>Class</th>\n",
       "    </tr>\n",
       "  </thead>\n",
       "  <tbody>\n",
       "    <tr>\n",
       "      <th>count</th>\n",
       "      <td>900.000000</td>\n",
       "      <td>900.000000</td>\n",
       "      <td>900.000000</td>\n",
       "      <td>900.000000</td>\n",
       "      <td>900.000000</td>\n",
       "      <td>900.000000</td>\n",
       "      <td>900.000000</td>\n",
       "      <td>900.000000</td>\n",
       "      <td>900.000000</td>\n",
       "      <td>900.000000</td>\n",
       "      <td>...</td>\n",
       "      <td>900.000000</td>\n",
       "      <td>900.000000</td>\n",
       "      <td>900.000000</td>\n",
       "      <td>900.000000</td>\n",
       "      <td>900.000000</td>\n",
       "      <td>900.000000</td>\n",
       "      <td>900.000000</td>\n",
       "      <td>900.000000</td>\n",
       "      <td>900.000000</td>\n",
       "      <td>900.000000</td>\n",
       "    </tr>\n",
       "    <tr>\n",
       "      <th>mean</th>\n",
       "      <td>89579.985556</td>\n",
       "      <td>-2.302370</td>\n",
       "      <td>1.776772</td>\n",
       "      <td>-3.533859</td>\n",
       "      <td>2.210778</td>\n",
       "      <td>-1.613497</td>\n",
       "      <td>-0.699977</td>\n",
       "      <td>-2.703860</td>\n",
       "      <td>0.381013</td>\n",
       "      <td>-1.270022</td>\n",
       "      <td>...</td>\n",
       "      <td>0.366111</td>\n",
       "      <td>-0.005000</td>\n",
       "      <td>-0.031945</td>\n",
       "      <td>-0.038475</td>\n",
       "      <td>0.030377</td>\n",
       "      <td>0.025562</td>\n",
       "      <td>0.077531</td>\n",
       "      <td>0.036373</td>\n",
       "      <td>108.953633</td>\n",
       "      <td>0.500000</td>\n",
       "    </tr>\n",
       "    <tr>\n",
       "      <th>std</th>\n",
       "      <td>48739.857474</td>\n",
       "      <td>5.546627</td>\n",
       "      <td>3.672593</td>\n",
       "      <td>6.171931</td>\n",
       "      <td>3.174811</td>\n",
       "      <td>4.342731</td>\n",
       "      <td>1.890163</td>\n",
       "      <td>5.877914</td>\n",
       "      <td>4.853342</td>\n",
       "      <td>2.297901</td>\n",
       "      <td>...</td>\n",
       "      <td>2.702693</td>\n",
       "      <td>1.139523</td>\n",
       "      <td>1.196382</td>\n",
       "      <td>0.573055</td>\n",
       "      <td>0.661572</td>\n",
       "      <td>0.468758</td>\n",
       "      <td>0.989314</td>\n",
       "      <td>0.421468</td>\n",
       "      <td>308.928972</td>\n",
       "      <td>0.500278</td>\n",
       "    </tr>\n",
       "    <tr>\n",
       "      <th>min</th>\n",
       "      <td>406.000000</td>\n",
       "      <td>-30.552380</td>\n",
       "      <td>-8.402154</td>\n",
       "      <td>-31.103685</td>\n",
       "      <td>-4.401290</td>\n",
       "      <td>-29.730600</td>\n",
       "      <td>-6.406267</td>\n",
       "      <td>-43.557242</td>\n",
       "      <td>-41.044261</td>\n",
       "      <td>-13.434066</td>\n",
       "      <td>...</td>\n",
       "      <td>-22.797604</td>\n",
       "      <td>-8.887017</td>\n",
       "      <td>-19.254328</td>\n",
       "      <td>-2.028024</td>\n",
       "      <td>-4.781606</td>\n",
       "      <td>-1.149923</td>\n",
       "      <td>-7.263482</td>\n",
       "      <td>-1.869290</td>\n",
       "      <td>0.000000</td>\n",
       "      <td>0.000000</td>\n",
       "    </tr>\n",
       "    <tr>\n",
       "      <th>25%</th>\n",
       "      <td>47249.750000</td>\n",
       "      <td>-2.825991</td>\n",
       "      <td>-0.195431</td>\n",
       "      <td>-5.068730</td>\n",
       "      <td>-0.105275</td>\n",
       "      <td>-1.775001</td>\n",
       "      <td>-1.587624</td>\n",
       "      <td>-2.992775</td>\n",
       "      <td>-0.178557</td>\n",
       "      <td>-2.301580</td>\n",
       "      <td>...</td>\n",
       "      <td>-0.162558</td>\n",
       "      <td>-0.543180</td>\n",
       "      <td>-0.226998</td>\n",
       "      <td>-0.379574</td>\n",
       "      <td>-0.301918</td>\n",
       "      <td>-0.295559</td>\n",
       "      <td>-0.059425</td>\n",
       "      <td>-0.053411</td>\n",
       "      <td>1.625000</td>\n",
       "      <td>0.000000</td>\n",
       "    </tr>\n",
       "    <tr>\n",
       "      <th>50%</th>\n",
       "      <td>81674.500000</td>\n",
       "      <td>-0.712196</td>\n",
       "      <td>0.896925</td>\n",
       "      <td>-1.456225</td>\n",
       "      <td>1.206713</td>\n",
       "      <td>-0.458894</td>\n",
       "      <td>-0.672049</td>\n",
       "      <td>-0.602134</td>\n",
       "      <td>0.150282</td>\n",
       "      <td>-0.680745</td>\n",
       "      <td>...</td>\n",
       "      <td>0.130469</td>\n",
       "      <td>-0.017277</td>\n",
       "      <td>-0.025929</td>\n",
       "      <td>0.016212</td>\n",
       "      <td>0.049648</td>\n",
       "      <td>-0.026232</td>\n",
       "      <td>0.046411</td>\n",
       "      <td>0.027474</td>\n",
       "      <td>18.970000</td>\n",
       "      <td>0.500000</td>\n",
       "    </tr>\n",
       "    <tr>\n",
       "      <th>75%</th>\n",
       "      <td>138944.250000</td>\n",
       "      <td>1.138937</td>\n",
       "      <td>2.777569</td>\n",
       "      <td>0.366721</td>\n",
       "      <td>4.173330</td>\n",
       "      <td>0.529846</td>\n",
       "      <td>0.035199</td>\n",
       "      <td>0.266629</td>\n",
       "      <td>0.944850</td>\n",
       "      <td>0.213191</td>\n",
       "      <td>...</td>\n",
       "      <td>0.651412</td>\n",
       "      <td>0.570253</td>\n",
       "      <td>0.194164</td>\n",
       "      <td>0.382373</td>\n",
       "      <td>0.393059</td>\n",
       "      <td>0.350455</td>\n",
       "      <td>0.419129</td>\n",
       "      <td>0.206210</td>\n",
       "      <td>99.990000</td>\n",
       "      <td>1.000000</td>\n",
       "    </tr>\n",
       "    <tr>\n",
       "      <th>max</th>\n",
       "      <td>172622.000000</td>\n",
       "      <td>2.369906</td>\n",
       "      <td>22.057729</td>\n",
       "      <td>3.225532</td>\n",
       "      <td>12.114672</td>\n",
       "      <td>11.095089</td>\n",
       "      <td>21.307738</td>\n",
       "      <td>31.527244</td>\n",
       "      <td>20.007208</td>\n",
       "      <td>4.762324</td>\n",
       "      <td>...</td>\n",
       "      <td>27.202839</td>\n",
       "      <td>8.361985</td>\n",
       "      <td>5.466230</td>\n",
       "      <td>3.569702</td>\n",
       "      <td>2.208209</td>\n",
       "      <td>1.884741</td>\n",
       "      <td>4.655054</td>\n",
       "      <td>3.503999</td>\n",
       "      <td>6454.740000</td>\n",
       "      <td>1.000000</td>\n",
       "    </tr>\n",
       "  </tbody>\n",
       "</table>\n",
       "<p>8 rows × 31 columns</p>\n",
       "</div>"
      ],
      "text/plain": [
       "                Time          V1          V2          V3          V4  \\\n",
       "count     900.000000  900.000000  900.000000  900.000000  900.000000   \n",
       "mean    89579.985556   -2.302370    1.776772   -3.533859    2.210778   \n",
       "std     48739.857474    5.546627    3.672593    6.171931    3.174811   \n",
       "min       406.000000  -30.552380   -8.402154  -31.103685   -4.401290   \n",
       "25%     47249.750000   -2.825991   -0.195431   -5.068730   -0.105275   \n",
       "50%     81674.500000   -0.712196    0.896925   -1.456225    1.206713   \n",
       "75%    138944.250000    1.138937    2.777569    0.366721    4.173330   \n",
       "max    172622.000000    2.369906   22.057729    3.225532   12.114672   \n",
       "\n",
       "               V5          V6          V7          V8          V9     ...      \\\n",
       "count  900.000000  900.000000  900.000000  900.000000  900.000000     ...       \n",
       "mean    -1.613497   -0.699977   -2.703860    0.381013   -1.270022     ...       \n",
       "std      4.342731    1.890163    5.877914    4.853342    2.297901     ...       \n",
       "min    -29.730600   -6.406267  -43.557242  -41.044261  -13.434066     ...       \n",
       "25%     -1.775001   -1.587624   -2.992775   -0.178557   -2.301580     ...       \n",
       "50%     -0.458894   -0.672049   -0.602134    0.150282   -0.680745     ...       \n",
       "75%      0.529846    0.035199    0.266629    0.944850    0.213191     ...       \n",
       "max     11.095089   21.307738   31.527244   20.007208    4.762324     ...       \n",
       "\n",
       "              V21         V22         V23         V24         V25         V26  \\\n",
       "count  900.000000  900.000000  900.000000  900.000000  900.000000  900.000000   \n",
       "mean     0.366111   -0.005000   -0.031945   -0.038475    0.030377    0.025562   \n",
       "std      2.702693    1.139523    1.196382    0.573055    0.661572    0.468758   \n",
       "min    -22.797604   -8.887017  -19.254328   -2.028024   -4.781606   -1.149923   \n",
       "25%     -0.162558   -0.543180   -0.226998   -0.379574   -0.301918   -0.295559   \n",
       "50%      0.130469   -0.017277   -0.025929    0.016212    0.049648   -0.026232   \n",
       "75%      0.651412    0.570253    0.194164    0.382373    0.393059    0.350455   \n",
       "max     27.202839    8.361985    5.466230    3.569702    2.208209    1.884741   \n",
       "\n",
       "              V27         V28       Amount       Class  \n",
       "count  900.000000  900.000000   900.000000  900.000000  \n",
       "mean     0.077531    0.036373   108.953633    0.500000  \n",
       "std      0.989314    0.421468   308.928972    0.500278  \n",
       "min     -7.263482   -1.869290     0.000000    0.000000  \n",
       "25%     -0.059425   -0.053411     1.625000    0.000000  \n",
       "50%      0.046411    0.027474    18.970000    0.500000  \n",
       "75%      0.419129    0.206210    99.990000    1.000000  \n",
       "max      4.655054    3.503999  6454.740000    1.000000  \n",
       "\n",
       "[8 rows x 31 columns]"
      ]
     },
     "execution_count": 28,
     "metadata": {},
     "output_type": "execute_result"
    }
   ],
   "source": [
    "df.describe()"
   ]
  },
  {
   "cell_type": "code",
   "execution_count": 68,
   "metadata": {},
   "outputs": [
    {
     "data": {
      "text/html": [
       "<div>\n",
       "<style scoped>\n",
       "    .dataframe tbody tr th:only-of-type {\n",
       "        vertical-align: middle;\n",
       "    }\n",
       "\n",
       "    .dataframe tbody tr th {\n",
       "        vertical-align: top;\n",
       "    }\n",
       "\n",
       "    .dataframe thead th {\n",
       "        text-align: right;\n",
       "    }\n",
       "</style>\n",
       "<table border=\"1\" class=\"dataframe\">\n",
       "  <thead>\n",
       "    <tr style=\"text-align: right;\">\n",
       "      <th></th>\n",
       "      <th>Time</th>\n",
       "      <th>V1</th>\n",
       "      <th>V2</th>\n",
       "      <th>V3</th>\n",
       "      <th>V4</th>\n",
       "      <th>V5</th>\n",
       "      <th>V6</th>\n",
       "      <th>V7</th>\n",
       "      <th>V8</th>\n",
       "      <th>V9</th>\n",
       "      <th>...</th>\n",
       "      <th>V20</th>\n",
       "      <th>V21</th>\n",
       "      <th>V22</th>\n",
       "      <th>V23</th>\n",
       "      <th>V24</th>\n",
       "      <th>V25</th>\n",
       "      <th>V26</th>\n",
       "      <th>V27</th>\n",
       "      <th>V28</th>\n",
       "      <th>Amount</th>\n",
       "    </tr>\n",
       "    <tr>\n",
       "      <th>Class</th>\n",
       "      <th></th>\n",
       "      <th></th>\n",
       "      <th></th>\n",
       "      <th></th>\n",
       "      <th></th>\n",
       "      <th></th>\n",
       "      <th></th>\n",
       "      <th></th>\n",
       "      <th></th>\n",
       "      <th></th>\n",
       "      <th></th>\n",
       "      <th></th>\n",
       "      <th></th>\n",
       "      <th></th>\n",
       "      <th></th>\n",
       "      <th></th>\n",
       "      <th></th>\n",
       "      <th></th>\n",
       "      <th></th>\n",
       "      <th></th>\n",
       "      <th></th>\n",
       "    </tr>\n",
       "  </thead>\n",
       "  <tbody>\n",
       "    <tr>\n",
       "      <th>0</th>\n",
       "      <td>450</td>\n",
       "      <td>450</td>\n",
       "      <td>450</td>\n",
       "      <td>450</td>\n",
       "      <td>450</td>\n",
       "      <td>450</td>\n",
       "      <td>450</td>\n",
       "      <td>450</td>\n",
       "      <td>450</td>\n",
       "      <td>450</td>\n",
       "      <td>...</td>\n",
       "      <td>450</td>\n",
       "      <td>450</td>\n",
       "      <td>450</td>\n",
       "      <td>450</td>\n",
       "      <td>450</td>\n",
       "      <td>450</td>\n",
       "      <td>450</td>\n",
       "      <td>450</td>\n",
       "      <td>450</td>\n",
       "      <td>450</td>\n",
       "    </tr>\n",
       "    <tr>\n",
       "      <th>1</th>\n",
       "      <td>450</td>\n",
       "      <td>450</td>\n",
       "      <td>450</td>\n",
       "      <td>450</td>\n",
       "      <td>450</td>\n",
       "      <td>450</td>\n",
       "      <td>450</td>\n",
       "      <td>450</td>\n",
       "      <td>450</td>\n",
       "      <td>450</td>\n",
       "      <td>...</td>\n",
       "      <td>450</td>\n",
       "      <td>450</td>\n",
       "      <td>450</td>\n",
       "      <td>450</td>\n",
       "      <td>450</td>\n",
       "      <td>450</td>\n",
       "      <td>450</td>\n",
       "      <td>450</td>\n",
       "      <td>450</td>\n",
       "      <td>450</td>\n",
       "    </tr>\n",
       "  </tbody>\n",
       "</table>\n",
       "<p>2 rows × 30 columns</p>\n",
       "</div>"
      ],
      "text/plain": [
       "       Time   V1   V2   V3   V4   V5   V6   V7   V8   V9   ...    V20  V21  \\\n",
       "Class                                                      ...               \n",
       "0       450  450  450  450  450  450  450  450  450  450   ...    450  450   \n",
       "1       450  450  450  450  450  450  450  450  450  450   ...    450  450   \n",
       "\n",
       "       V22  V23  V24  V25  V26  V27  V28  Amount  \n",
       "Class                                             \n",
       "0      450  450  450  450  450  450  450     450  \n",
       "1      450  450  450  450  450  450  450     450  \n",
       "\n",
       "[2 rows x 30 columns]"
      ]
     },
     "execution_count": 68,
     "metadata": {},
     "output_type": "execute_result"
    }
   ],
   "source": [
    "df.groupby('Class').count()"
   ]
  },
  {
   "cell_type": "code",
   "execution_count": 30,
   "metadata": {},
   "outputs": [],
   "source": [
    "X_df = df.drop(columns=['Class'])\n",
    "y_df = df['Class']"
   ]
  },
  {
   "cell_type": "code",
   "execution_count": 31,
   "metadata": {},
   "outputs": [
    {
     "data": {
      "text/plain": [
       "((900, 30), (900,))"
      ]
     },
     "execution_count": 31,
     "metadata": {},
     "output_type": "execute_result"
    }
   ],
   "source": [
    "X_df.shape, y_df.shape"
   ]
  },
  {
   "cell_type": "code",
   "execution_count": 32,
   "metadata": {},
   "outputs": [],
   "source": [
    "X = np.array(X_df)\n",
    "y = np.array(y_df)"
   ]
  },
  {
   "cell_type": "markdown",
   "metadata": {},
   "source": [
    "### Step 4: Splitting Data into Train and Valid Set"
   ]
  },
  {
   "cell_type": "code",
   "execution_count": 33,
   "metadata": {},
   "outputs": [],
   "source": [
    "from sklearn.model_selection import train_test_split"
   ]
  },
  {
   "cell_type": "code",
   "execution_count": 34,
   "metadata": {},
   "outputs": [],
   "source": [
    "X_train, X_valid, y_train, y_valid = train_test_split(X, y, test_size = 0.05, shuffle=True)"
   ]
  },
  {
   "cell_type": "code",
   "execution_count": 35,
   "metadata": {},
   "outputs": [
    {
     "data": {
      "text/plain": [
       "((855, 30), (45, 30), (855,), (45,))"
      ]
     },
     "execution_count": 35,
     "metadata": {},
     "output_type": "execute_result"
    }
   ],
   "source": [
    "X_train.shape , X_valid.shape, y_train.shape, y_valid.shape"
   ]
  },
  {
   "cell_type": "markdown",
   "metadata": {},
   "source": [
    "### Step 5: Modelling Data"
   ]
  },
  {
   "cell_type": "code",
   "execution_count": 36,
   "metadata": {},
   "outputs": [],
   "source": [
    "import tensorflow as tf"
   ]
  },
  {
   "cell_type": "code",
   "execution_count": 37,
   "metadata": {},
   "outputs": [
    {
     "name": "stderr",
     "output_type": "stream",
     "text": [
      "Using TensorFlow backend.\n"
     ]
    }
   ],
   "source": [
    "import keras\n",
    "from keras.layers import BatchNormalization\n",
    "from keras.layers.core import Flatten,Dense,Dropout, Activation, Lambda\n",
    "from keras.models import Model, Sequential\n",
    "from keras.optimizers import Adam,SGD\n",
    "from keras.callbacks import TensorBoard"
   ]
  },
  {
   "cell_type": "code",
   "execution_count": 69,
   "metadata": {},
   "outputs": [],
   "source": [
    "model = Sequential()\n",
    "#model.add(Lambda(lambda x: x , input_shape = (24)))\n",
    "#model.add(Lambda(lambda x: x+0.1 , input_shape = (64,64,3)))\n",
    "#model.add(Flatten())\n",
    "#model.add(BatchNormalization(input_shape=(30,)))\n",
    "model.add(Dense(1000,input_shape=(30,)))\n",
    "model.add(Activation('relu'))\n",
    "\n",
    "\n",
    "model.add(Dropout(0.2))\n",
    "#model.add(BatchNormalization())\n",
    "model.add(Dense(500))\n",
    "model.add(Activation('relu'))\n",
    "model.add(Dropout(0.2))\n",
    "#model.add(BatchNormalization())\n",
    "model.add(Dense(50))\n",
    "model.add(Activation('relu'))\n",
    "\n",
    "model.add(Dense(1))\n",
    "model.add(Activation('sigmoid'))\n",
    "model.compile(optimizer = 'Adam' , loss = 'binary_crossentropy', metrics=['accuracy'])"
   ]
  },
  {
   "cell_type": "code",
   "execution_count": 70,
   "metadata": {
    "scrolled": true
   },
   "outputs": [
    {
     "ename": "ValueError",
     "evalue": "Input arrays should have the same number of samples as target arrays. Found 45 input samples and 100 target samples.",
     "output_type": "error",
     "traceback": [
      "\u001b[1;31m---------------------------------------------------------------------------\u001b[0m",
      "\u001b[1;31mValueError\u001b[0m                                Traceback (most recent call last)",
      "\u001b[1;32m<ipython-input-70-6fa905e680fc>\u001b[0m in \u001b[0;36m<module>\u001b[1;34m()\u001b[0m\n\u001b[1;32m----> 1\u001b[1;33m \u001b[0mmodel\u001b[0m\u001b[1;33m.\u001b[0m\u001b[0mfit\u001b[0m\u001b[1;33m(\u001b[0m\u001b[0mX_train\u001b[0m\u001b[1;33m,\u001b[0m \u001b[0my_train\u001b[0m\u001b[1;33m,\u001b[0m \u001b[0mepochs\u001b[0m\u001b[1;33m=\u001b[0m\u001b[1;36m50\u001b[0m\u001b[1;33m,\u001b[0m \u001b[0mverbose\u001b[0m \u001b[1;33m=\u001b[0m\u001b[1;36m1\u001b[0m\u001b[1;33m,\u001b[0m \u001b[0mvalidation_data\u001b[0m\u001b[1;33m=\u001b[0m\u001b[1;33m(\u001b[0m\u001b[0mX_test\u001b[0m\u001b[1;33m,\u001b[0m \u001b[0my_test\u001b[0m\u001b[1;33m)\u001b[0m\u001b[1;33m,\u001b[0m \u001b[0mbatch_size\u001b[0m \u001b[1;33m=\u001b[0m\u001b[1;36m64\u001b[0m\u001b[1;33m)\u001b[0m\u001b[1;33m\u001b[0m\u001b[0m\n\u001b[0m",
      "\u001b[1;32mc:\\users\\kanwal\\miniconda3\\lib\\site-packages\\keras\\engine\\training.py\u001b[0m in \u001b[0;36mfit\u001b[1;34m(self, x, y, batch_size, epochs, verbose, callbacks, validation_split, validation_data, shuffle, class_weight, sample_weight, initial_epoch, steps_per_epoch, validation_steps, **kwargs)\u001b[0m\n\u001b[0;32m    973\u001b[0m                 \u001b[0mval_x\u001b[0m\u001b[1;33m,\u001b[0m \u001b[0mval_y\u001b[0m\u001b[1;33m,\u001b[0m\u001b[1;33m\u001b[0m\u001b[0m\n\u001b[0;32m    974\u001b[0m                 \u001b[0msample_weight\u001b[0m\u001b[1;33m=\u001b[0m\u001b[0mval_sample_weight\u001b[0m\u001b[1;33m,\u001b[0m\u001b[1;33m\u001b[0m\u001b[0m\n\u001b[1;32m--> 975\u001b[1;33m                 batch_size=batch_size)\n\u001b[0m\u001b[0;32m    976\u001b[0m             \u001b[1;32mif\u001b[0m \u001b[0mself\u001b[0m\u001b[1;33m.\u001b[0m\u001b[0m_uses_dynamic_learning_phase\u001b[0m\u001b[1;33m(\u001b[0m\u001b[1;33m)\u001b[0m\u001b[1;33m:\u001b[0m\u001b[1;33m\u001b[0m\u001b[0m\n\u001b[0;32m    977\u001b[0m                 \u001b[0mval_ins\u001b[0m \u001b[1;33m=\u001b[0m \u001b[0mval_x\u001b[0m \u001b[1;33m+\u001b[0m \u001b[0mval_y\u001b[0m \u001b[1;33m+\u001b[0m \u001b[0mval_sample_weights\u001b[0m \u001b[1;33m+\u001b[0m \u001b[1;33m[\u001b[0m\u001b[1;36m0.\u001b[0m\u001b[1;33m]\u001b[0m\u001b[1;33m\u001b[0m\u001b[0m\n",
      "\u001b[1;32mc:\\users\\kanwal\\miniconda3\\lib\\site-packages\\keras\\engine\\training.py\u001b[0m in \u001b[0;36m_standardize_user_data\u001b[1;34m(self, x, y, sample_weight, class_weight, check_array_lengths, batch_size)\u001b[0m\n\u001b[0;32m    805\u001b[0m             ]\n\u001b[0;32m    806\u001b[0m             \u001b[1;31m# Check that all arrays have the same length.\u001b[0m\u001b[1;33m\u001b[0m\u001b[1;33m\u001b[0m\u001b[0m\n\u001b[1;32m--> 807\u001b[1;33m             \u001b[0mcheck_array_length_consistency\u001b[0m\u001b[1;33m(\u001b[0m\u001b[0mx\u001b[0m\u001b[1;33m,\u001b[0m \u001b[0my\u001b[0m\u001b[1;33m,\u001b[0m \u001b[0msample_weights\u001b[0m\u001b[1;33m)\u001b[0m\u001b[1;33m\u001b[0m\u001b[0m\n\u001b[0m\u001b[0;32m    808\u001b[0m             \u001b[1;32mif\u001b[0m \u001b[0mself\u001b[0m\u001b[1;33m.\u001b[0m\u001b[0m_is_graph_network\u001b[0m\u001b[1;33m:\u001b[0m\u001b[1;33m\u001b[0m\u001b[0m\n\u001b[0;32m    809\u001b[0m                 \u001b[1;31m# Additional checks to avoid users mistakenly\u001b[0m\u001b[1;33m\u001b[0m\u001b[1;33m\u001b[0m\u001b[0m\n",
      "\u001b[1;32mc:\\users\\kanwal\\miniconda3\\lib\\site-packages\\keras\\engine\\training_utils.py\u001b[0m in \u001b[0;36mcheck_array_length_consistency\u001b[1;34m(inputs, targets, weights)\u001b[0m\n\u001b[0;32m    233\u001b[0m                          \u001b[1;34m'the same number of samples as target arrays. '\u001b[0m\u001b[1;33m\u001b[0m\u001b[0m\n\u001b[0;32m    234\u001b[0m                          \u001b[1;34m'Found '\u001b[0m \u001b[1;33m+\u001b[0m \u001b[0mstr\u001b[0m\u001b[1;33m(\u001b[0m\u001b[0mlist\u001b[0m\u001b[1;33m(\u001b[0m\u001b[0mset_x\u001b[0m\u001b[1;33m)\u001b[0m\u001b[1;33m[\u001b[0m\u001b[1;36m0\u001b[0m\u001b[1;33m]\u001b[0m\u001b[1;33m)\u001b[0m \u001b[1;33m+\u001b[0m \u001b[1;34m' input samples '\u001b[0m\u001b[1;33m\u001b[0m\u001b[0m\n\u001b[1;32m--> 235\u001b[1;33m                          'and ' + str(list(set_y)[0]) + ' target samples.')\n\u001b[0m\u001b[0;32m    236\u001b[0m     \u001b[1;32mif\u001b[0m \u001b[0mlen\u001b[0m\u001b[1;33m(\u001b[0m\u001b[0mset_w\u001b[0m\u001b[1;33m)\u001b[0m \u001b[1;33m>\u001b[0m \u001b[1;36m1\u001b[0m\u001b[1;33m:\u001b[0m\u001b[1;33m\u001b[0m\u001b[0m\n\u001b[0;32m    237\u001b[0m         raise ValueError('All sample_weight arrays should have '\n",
      "\u001b[1;31mValueError\u001b[0m: Input arrays should have the same number of samples as target arrays. Found 45 input samples and 100 target samples."
     ]
    }
   ],
   "source": [
    "model.fit(X_train, y_train, epochs=50, verbose =1, validation_data=(X_valid, y_valid), batch_size =64)"
   ]
  },
  {
   "cell_type": "markdown",
   "metadata": {},
   "source": [
    "### Step 6: Inference on Test Set"
   ]
  },
  {
   "cell_type": "code",
   "execution_count": 43,
   "metadata": {},
   "outputs": [],
   "source": [
    "test_df = pd.read_csv('./test.csv')"
   ]
  },
  {
   "cell_type": "code",
   "execution_count": 44,
   "metadata": {},
   "outputs": [
    {
     "data": {
      "text/html": [
       "<div>\n",
       "<style scoped>\n",
       "    .dataframe tbody tr th:only-of-type {\n",
       "        vertical-align: middle;\n",
       "    }\n",
       "\n",
       "    .dataframe tbody tr th {\n",
       "        vertical-align: top;\n",
       "    }\n",
       "\n",
       "    .dataframe thead th {\n",
       "        text-align: right;\n",
       "    }\n",
       "</style>\n",
       "<table border=\"1\" class=\"dataframe\">\n",
       "  <thead>\n",
       "    <tr style=\"text-align: right;\">\n",
       "      <th></th>\n",
       "      <th>Time</th>\n",
       "      <th>V1</th>\n",
       "      <th>V2</th>\n",
       "      <th>V3</th>\n",
       "      <th>V4</th>\n",
       "      <th>V5</th>\n",
       "      <th>V6</th>\n",
       "      <th>V7</th>\n",
       "      <th>V8</th>\n",
       "      <th>V9</th>\n",
       "      <th>...</th>\n",
       "      <th>V21</th>\n",
       "      <th>V22</th>\n",
       "      <th>V23</th>\n",
       "      <th>V24</th>\n",
       "      <th>V25</th>\n",
       "      <th>V26</th>\n",
       "      <th>V27</th>\n",
       "      <th>V28</th>\n",
       "      <th>Amount</th>\n",
       "      <th>Class</th>\n",
       "    </tr>\n",
       "  </thead>\n",
       "  <tbody>\n",
       "    <tr>\n",
       "      <th>0</th>\n",
       "      <td>152036.0</td>\n",
       "      <td>-4.320609</td>\n",
       "      <td>3.199939</td>\n",
       "      <td>-5.799736</td>\n",
       "      <td>6.502330</td>\n",
       "      <td>0.378479</td>\n",
       "      <td>-1.948246</td>\n",
       "      <td>-2.167860</td>\n",
       "      <td>-0.728207</td>\n",
       "      <td>-1.977238</td>\n",
       "      <td>...</td>\n",
       "      <td>0.476660</td>\n",
       "      <td>0.434278</td>\n",
       "      <td>-0.136940</td>\n",
       "      <td>-0.620072</td>\n",
       "      <td>0.642531</td>\n",
       "      <td>0.280717</td>\n",
       "      <td>-2.649107</td>\n",
       "      <td>0.533641</td>\n",
       "      <td>1.00</td>\n",
       "      <td>1.0</td>\n",
       "    </tr>\n",
       "    <tr>\n",
       "      <th>1</th>\n",
       "      <td>169643.0</td>\n",
       "      <td>1.889860</td>\n",
       "      <td>-0.554576</td>\n",
       "      <td>-0.722602</td>\n",
       "      <td>0.322916</td>\n",
       "      <td>-0.363998</td>\n",
       "      <td>-0.125246</td>\n",
       "      <td>-0.436022</td>\n",
       "      <td>0.067011</td>\n",
       "      <td>1.363166</td>\n",
       "      <td>...</td>\n",
       "      <td>-0.220254</td>\n",
       "      <td>-0.716422</td>\n",
       "      <td>0.352202</td>\n",
       "      <td>0.337284</td>\n",
       "      <td>-0.448502</td>\n",
       "      <td>-0.678064</td>\n",
       "      <td>0.009806</td>\n",
       "      <td>-0.019339</td>\n",
       "      <td>70.56</td>\n",
       "      <td>0.0</td>\n",
       "    </tr>\n",
       "    <tr>\n",
       "      <th>2</th>\n",
       "      <td>72654.0</td>\n",
       "      <td>-1.116040</td>\n",
       "      <td>0.550557</td>\n",
       "      <td>1.999201</td>\n",
       "      <td>-0.730987</td>\n",
       "      <td>1.413172</td>\n",
       "      <td>0.628691</td>\n",
       "      <td>0.659579</td>\n",
       "      <td>0.256799</td>\n",
       "      <td>-0.536558</td>\n",
       "      <td>...</td>\n",
       "      <td>-0.119218</td>\n",
       "      <td>-0.220850</td>\n",
       "      <td>-0.019244</td>\n",
       "      <td>-0.681807</td>\n",
       "      <td>-0.094851</td>\n",
       "      <td>0.038987</td>\n",
       "      <td>-0.116611</td>\n",
       "      <td>-0.158067</td>\n",
       "      <td>1.98</td>\n",
       "      <td>0.0</td>\n",
       "    </tr>\n",
       "    <tr>\n",
       "      <th>3</th>\n",
       "      <td>76583.0</td>\n",
       "      <td>-0.918626</td>\n",
       "      <td>0.767762</td>\n",
       "      <td>0.651823</td>\n",
       "      <td>-1.579225</td>\n",
       "      <td>0.637903</td>\n",
       "      <td>1.255325</td>\n",
       "      <td>-0.070067</td>\n",
       "      <td>1.068195</td>\n",
       "      <td>-0.487999</td>\n",
       "      <td>...</td>\n",
       "      <td>0.121691</td>\n",
       "      <td>0.396274</td>\n",
       "      <td>0.059837</td>\n",
       "      <td>-1.302538</td>\n",
       "      <td>-0.483834</td>\n",
       "      <td>0.900092</td>\n",
       "      <td>0.129254</td>\n",
       "      <td>-0.005489</td>\n",
       "      <td>3.80</td>\n",
       "      <td>0.0</td>\n",
       "    </tr>\n",
       "    <tr>\n",
       "      <th>4</th>\n",
       "      <td>75581.0</td>\n",
       "      <td>-2.866364</td>\n",
       "      <td>2.346949</td>\n",
       "      <td>-4.053307</td>\n",
       "      <td>3.983359</td>\n",
       "      <td>-3.463186</td>\n",
       "      <td>-1.280953</td>\n",
       "      <td>-4.474764</td>\n",
       "      <td>1.216655</td>\n",
       "      <td>-2.309829</td>\n",
       "      <td>...</td>\n",
       "      <td>1.049732</td>\n",
       "      <td>0.475840</td>\n",
       "      <td>0.404480</td>\n",
       "      <td>0.282030</td>\n",
       "      <td>-0.506901</td>\n",
       "      <td>-0.371741</td>\n",
       "      <td>0.615257</td>\n",
       "      <td>0.803163</td>\n",
       "      <td>124.53</td>\n",
       "      <td>1.0</td>\n",
       "    </tr>\n",
       "  </tbody>\n",
       "</table>\n",
       "<p>5 rows × 31 columns</p>\n",
       "</div>"
      ],
      "text/plain": [
       "       Time        V1        V2        V3        V4        V5        V6  \\\n",
       "0  152036.0 -4.320609  3.199939 -5.799736  6.502330  0.378479 -1.948246   \n",
       "1  169643.0  1.889860 -0.554576 -0.722602  0.322916 -0.363998 -0.125246   \n",
       "2   72654.0 -1.116040  0.550557  1.999201 -0.730987  1.413172  0.628691   \n",
       "3   76583.0 -0.918626  0.767762  0.651823 -1.579225  0.637903  1.255325   \n",
       "4   75581.0 -2.866364  2.346949 -4.053307  3.983359 -3.463186 -1.280953   \n",
       "\n",
       "         V7        V8        V9  ...         V21       V22       V23  \\\n",
       "0 -2.167860 -0.728207 -1.977238  ...    0.476660  0.434278 -0.136940   \n",
       "1 -0.436022  0.067011  1.363166  ...   -0.220254 -0.716422  0.352202   \n",
       "2  0.659579  0.256799 -0.536558  ...   -0.119218 -0.220850 -0.019244   \n",
       "3 -0.070067  1.068195 -0.487999  ...    0.121691  0.396274  0.059837   \n",
       "4 -4.474764  1.216655 -2.309829  ...    1.049732  0.475840  0.404480   \n",
       "\n",
       "        V24       V25       V26       V27       V28  Amount  Class  \n",
       "0 -0.620072  0.642531  0.280717 -2.649107  0.533641    1.00    1.0  \n",
       "1  0.337284 -0.448502 -0.678064  0.009806 -0.019339   70.56    0.0  \n",
       "2 -0.681807 -0.094851  0.038987 -0.116611 -0.158067    1.98    0.0  \n",
       "3 -1.302538 -0.483834  0.900092  0.129254 -0.005489    3.80    0.0  \n",
       "4  0.282030 -0.506901 -0.371741  0.615257  0.803163  124.53    1.0  \n",
       "\n",
       "[5 rows x 31 columns]"
      ]
     },
     "execution_count": 44,
     "metadata": {},
     "output_type": "execute_result"
    }
   ],
   "source": [
    "test_df.head()"
   ]
  },
  {
   "cell_type": "code",
   "execution_count": 50,
   "metadata": {},
   "outputs": [],
   "source": [
    "y_test = np.array(test_df['Class'])"
   ]
  },
  {
   "cell_type": "code",
   "execution_count": 51,
   "metadata": {},
   "outputs": [],
   "source": [
    "x_test =  np.array(test_df.drop(columns='Class'))"
   ]
  },
  {
   "cell_type": "code",
   "execution_count": 52,
   "metadata": {},
   "outputs": [
    {
     "data": {
      "text/plain": [
       "((100, 30), (100,))"
      ]
     },
     "execution_count": 52,
     "metadata": {},
     "output_type": "execute_result"
    }
   ],
   "source": [
    "x_test.shape, y_test.shape"
   ]
  },
  {
   "cell_type": "markdown",
   "metadata": {},
   "source": [
    "### Step 7: Checking Metrics for Performance"
   ]
  },
  {
   "cell_type": "code",
   "execution_count": 63,
   "metadata": {},
   "outputs": [],
   "source": [
    "from sklearn.metrics import classification_report, confusion_matrix"
   ]
  },
  {
   "cell_type": "code",
   "execution_count": 55,
   "metadata": {},
   "outputs": [],
   "source": [
    "y_pred = model.predict(x_test)"
   ]
  },
  {
   "cell_type": "code",
   "execution_count": 59,
   "metadata": {},
   "outputs": [],
   "source": [
    "y_pred = (y_pred >= 0.5).astype(int)"
   ]
  },
  {
   "cell_type": "code",
   "execution_count": 60,
   "metadata": {},
   "outputs": [
    {
     "data": {
      "text/plain": [
       "array([[1],\n",
       "       [0],\n",
       "       [0],\n",
       "       [0],\n",
       "       [1]])"
      ]
     },
     "execution_count": 60,
     "metadata": {},
     "output_type": "execute_result"
    }
   ],
   "source": [
    "y_pred[0:5]"
   ]
  },
  {
   "cell_type": "code",
   "execution_count": 62,
   "metadata": {},
   "outputs": [
    {
     "name": "stdout",
     "output_type": "stream",
     "text": [
      "             precision    recall  f1-score   support\n",
      "\n",
      "        0.0       0.94      0.96      0.95        50\n",
      "        1.0       0.96      0.94      0.95        50\n",
      "\n",
      "avg / total       0.95      0.95      0.95       100\n",
      "\n"
     ]
    }
   ],
   "source": [
    "print(classification_report(y_test, y_pred))"
   ]
  },
  {
   "cell_type": "code",
   "execution_count": 64,
   "metadata": {},
   "outputs": [
    {
     "name": "stdout",
     "output_type": "stream",
     "text": [
      "[[48  2]\n",
      " [ 3 47]]\n"
     ]
    }
   ],
   "source": [
    "print(confusion_matrix(y_test,y_pred))"
   ]
  }
 ],
 "metadata": {
  "kernelspec": {
   "display_name": "Python 3",
   "language": "python",
   "name": "python3"
  },
  "language_info": {
   "codemirror_mode": {
    "name": "ipython",
    "version": 3
   },
   "file_extension": ".py",
   "mimetype": "text/x-python",
   "name": "python",
   "nbconvert_exporter": "python",
   "pygments_lexer": "ipython3",
   "version": "3.6.5"
  }
 },
 "nbformat": 4,
 "nbformat_minor": 2
}
