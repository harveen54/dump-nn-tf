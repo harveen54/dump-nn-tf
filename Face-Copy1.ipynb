{
 "cells": [
  {
   "cell_type": "code",
   "execution_count": 1,
   "metadata": {},
   "outputs": [],
   "source": [
    "import glob\n",
    "import numpy as np\n",
    "import pandas as pd"
   ]
  },
  {
   "cell_type": "code",
   "execution_count": 2,
   "metadata": {},
   "outputs": [],
   "source": [
    "files = glob.glob('./data/*')"
   ]
  },
  {
   "cell_type": "code",
   "execution_count": 3,
   "metadata": {},
   "outputs": [
    {
     "data": {
      "text/plain": [
       "(5749,\n",
       " ['./data/Marlon_Devonish',\n",
       "  './data/Dolly_Parton',\n",
       "  './data/Rocco_Buttiglione',\n",
       "  './data/Brandon_Lloyd',\n",
       "  './data/Anastasia_Myskina'])"
      ]
     },
     "execution_count": 3,
     "metadata": {},
     "output_type": "execute_result"
    }
   ],
   "source": [
    "len(files) , files[0:5]"
   ]
  },
  {
   "cell_type": "code",
   "execution_count": 4,
   "metadata": {},
   "outputs": [],
   "source": [
    "files_images = glob.glob('./data/*/*.jpg')    "
   ]
  },
  {
   "cell_type": "code",
   "execution_count": 5,
   "metadata": {},
   "outputs": [
    {
     "data": {
      "text/plain": [
       "(13233,\n",
       " ['./data/Marlon_Devonish/Marlon_Devonish_0001.jpg',\n",
       "  './data/Dolly_Parton/Dolly_Parton_0002.jpg',\n",
       "  './data/Dolly_Parton/Dolly_Parton_0001.jpg',\n",
       "  './data/Rocco_Buttiglione/Rocco_Buttiglione_0001.jpg',\n",
       "  './data/Brandon_Lloyd/Brandon_Lloyd_0001.jpg'])"
      ]
     },
     "execution_count": 5,
     "metadata": {},
     "output_type": "execute_result"
    }
   ],
   "source": [
    "len(files_images) , files_images[0:5] "
   ]
  },
  {
   "cell_type": "code",
   "execution_count": 6,
   "metadata": {},
   "outputs": [],
   "source": [
    "raw_X = []\n",
    "raw_y = []\n",
    "for my_image in files_images:\n",
    "    split_arr = my_image.split('/')\n",
    "    raw_y.append(split_arr[-2])\n",
    "    raw_X.append(my_image)"
   ]
  },
  {
   "cell_type": "code",
   "execution_count": 7,
   "metadata": {},
   "outputs": [
    {
     "data": {
      "text/plain": [
       "(['./data/Marlon_Devonish/Marlon_Devonish_0001.jpg',\n",
       "  './data/Dolly_Parton/Dolly_Parton_0002.jpg',\n",
       "  './data/Dolly_Parton/Dolly_Parton_0001.jpg',\n",
       "  './data/Rocco_Buttiglione/Rocco_Buttiglione_0001.jpg',\n",
       "  './data/Brandon_Lloyd/Brandon_Lloyd_0001.jpg'],\n",
       " ['Marlon_Devonish',\n",
       "  'Dolly_Parton',\n",
       "  'Dolly_Parton',\n",
       "  'Rocco_Buttiglione',\n",
       "  'Brandon_Lloyd'],\n",
       " 13233,\n",
       " 13233)"
      ]
     },
     "execution_count": 7,
     "metadata": {},
     "output_type": "execute_result"
    }
   ],
   "source": [
    "raw_X[0:5] , raw_y[0:5] , len(raw_X) , len(raw_y)"
   ]
  },
  {
   "cell_type": "code",
   "execution_count": 8,
   "metadata": {},
   "outputs": [],
   "source": [
    "df = pd.concat([pd.DataFrame(raw_X) , pd.DataFrame(raw_y)], axis=1) \n",
    "df.columns = ['Image','Label']"
   ]
  },
  {
   "cell_type": "code",
   "execution_count": 9,
   "metadata": {},
   "outputs": [
    {
     "data": {
      "text/html": [
       "<div>\n",
       "<style scoped>\n",
       "    .dataframe tbody tr th:only-of-type {\n",
       "        vertical-align: middle;\n",
       "    }\n",
       "\n",
       "    .dataframe tbody tr th {\n",
       "        vertical-align: top;\n",
       "    }\n",
       "\n",
       "    .dataframe thead th {\n",
       "        text-align: right;\n",
       "    }\n",
       "</style>\n",
       "<table border=\"1\" class=\"dataframe\">\n",
       "  <thead>\n",
       "    <tr style=\"text-align: right;\">\n",
       "      <th></th>\n",
       "      <th>Image</th>\n",
       "      <th>Label</th>\n",
       "    </tr>\n",
       "  </thead>\n",
       "  <tbody>\n",
       "    <tr>\n",
       "      <th>0</th>\n",
       "      <td>./data/Marlon_Devonish/Marlon_Devonish_0001.jpg</td>\n",
       "      <td>Marlon_Devonish</td>\n",
       "    </tr>\n",
       "    <tr>\n",
       "      <th>1</th>\n",
       "      <td>./data/Dolly_Parton/Dolly_Parton_0002.jpg</td>\n",
       "      <td>Dolly_Parton</td>\n",
       "    </tr>\n",
       "    <tr>\n",
       "      <th>2</th>\n",
       "      <td>./data/Dolly_Parton/Dolly_Parton_0001.jpg</td>\n",
       "      <td>Dolly_Parton</td>\n",
       "    </tr>\n",
       "    <tr>\n",
       "      <th>3</th>\n",
       "      <td>./data/Rocco_Buttiglione/Rocco_Buttiglione_000...</td>\n",
       "      <td>Rocco_Buttiglione</td>\n",
       "    </tr>\n",
       "    <tr>\n",
       "      <th>4</th>\n",
       "      <td>./data/Brandon_Lloyd/Brandon_Lloyd_0001.jpg</td>\n",
       "      <td>Brandon_Lloyd</td>\n",
       "    </tr>\n",
       "  </tbody>\n",
       "</table>\n",
       "</div>"
      ],
      "text/plain": [
       "                                               Image              Label\n",
       "0    ./data/Marlon_Devonish/Marlon_Devonish_0001.jpg    Marlon_Devonish\n",
       "1          ./data/Dolly_Parton/Dolly_Parton_0002.jpg       Dolly_Parton\n",
       "2          ./data/Dolly_Parton/Dolly_Parton_0001.jpg       Dolly_Parton\n",
       "3  ./data/Rocco_Buttiglione/Rocco_Buttiglione_000...  Rocco_Buttiglione\n",
       "4        ./data/Brandon_Lloyd/Brandon_Lloyd_0001.jpg      Brandon_Lloyd"
      ]
     },
     "execution_count": 9,
     "metadata": {},
     "output_type": "execute_result"
    }
   ],
   "source": [
    "df.head()"
   ]
  },
  {
   "cell_type": "code",
   "execution_count": 10,
   "metadata": {
    "scrolled": true
   },
   "outputs": [],
   "source": [
    "df_count = df.groupby('Label').count()\n",
    "df_count.columns = ['ImageCount']"
   ]
  },
  {
   "cell_type": "code",
   "execution_count": 11,
   "metadata": {
    "scrolled": true
   },
   "outputs": [
    {
     "data": {
      "text/html": [
       "<div>\n",
       "<style scoped>\n",
       "    .dataframe tbody tr th:only-of-type {\n",
       "        vertical-align: middle;\n",
       "    }\n",
       "\n",
       "    .dataframe tbody tr th {\n",
       "        vertical-align: top;\n",
       "    }\n",
       "\n",
       "    .dataframe thead th {\n",
       "        text-align: right;\n",
       "    }\n",
       "</style>\n",
       "<table border=\"1\" class=\"dataframe\">\n",
       "  <thead>\n",
       "    <tr style=\"text-align: right;\">\n",
       "      <th></th>\n",
       "      <th>ImageCount</th>\n",
       "    </tr>\n",
       "    <tr>\n",
       "      <th>Label</th>\n",
       "      <th></th>\n",
       "    </tr>\n",
       "  </thead>\n",
       "  <tbody>\n",
       "    <tr>\n",
       "      <th>George_W_Bush</th>\n",
       "      <td>530</td>\n",
       "    </tr>\n",
       "    <tr>\n",
       "      <th>Colin_Powell</th>\n",
       "      <td>236</td>\n",
       "    </tr>\n",
       "    <tr>\n",
       "      <th>Tony_Blair</th>\n",
       "      <td>144</td>\n",
       "    </tr>\n",
       "    <tr>\n",
       "      <th>Donald_Rumsfeld</th>\n",
       "      <td>121</td>\n",
       "    </tr>\n",
       "    <tr>\n",
       "      <th>Gerhard_Schroeder</th>\n",
       "      <td>109</td>\n",
       "    </tr>\n",
       "    <tr>\n",
       "      <th>Ariel_Sharon</th>\n",
       "      <td>77</td>\n",
       "    </tr>\n",
       "    <tr>\n",
       "      <th>Hugo_Chavez</th>\n",
       "      <td>71</td>\n",
       "    </tr>\n",
       "    <tr>\n",
       "      <th>Junichiro_Koizumi</th>\n",
       "      <td>60</td>\n",
       "    </tr>\n",
       "    <tr>\n",
       "      <th>Jean_Chretien</th>\n",
       "      <td>55</td>\n",
       "    </tr>\n",
       "    <tr>\n",
       "      <th>John_Ashcroft</th>\n",
       "      <td>53</td>\n",
       "    </tr>\n",
       "    <tr>\n",
       "      <th>Jacques_Chirac</th>\n",
       "      <td>52</td>\n",
       "    </tr>\n",
       "    <tr>\n",
       "      <th>Serena_Williams</th>\n",
       "      <td>52</td>\n",
       "    </tr>\n",
       "    <tr>\n",
       "      <th>Vladimir_Putin</th>\n",
       "      <td>49</td>\n",
       "    </tr>\n",
       "    <tr>\n",
       "      <th>Luiz_Inacio_Lula_da_Silva</th>\n",
       "      <td>48</td>\n",
       "    </tr>\n",
       "    <tr>\n",
       "      <th>Gloria_Macapagal_Arroyo</th>\n",
       "      <td>44</td>\n",
       "    </tr>\n",
       "    <tr>\n",
       "      <th>Jennifer_Capriati</th>\n",
       "      <td>42</td>\n",
       "    </tr>\n",
       "    <tr>\n",
       "      <th>Arnold_Schwarzenegger</th>\n",
       "      <td>42</td>\n",
       "    </tr>\n",
       "    <tr>\n",
       "      <th>Laura_Bush</th>\n",
       "      <td>41</td>\n",
       "    </tr>\n",
       "    <tr>\n",
       "      <th>Lleyton_Hewitt</th>\n",
       "      <td>41</td>\n",
       "    </tr>\n",
       "    <tr>\n",
       "      <th>Hans_Blix</th>\n",
       "      <td>39</td>\n",
       "    </tr>\n",
       "    <tr>\n",
       "      <th>Alejandro_Toledo</th>\n",
       "      <td>39</td>\n",
       "    </tr>\n",
       "    <tr>\n",
       "      <th>Nestor_Kirchner</th>\n",
       "      <td>37</td>\n",
       "    </tr>\n",
       "    <tr>\n",
       "      <th>Andre_Agassi</th>\n",
       "      <td>36</td>\n",
       "    </tr>\n",
       "    <tr>\n",
       "      <th>Alvaro_Uribe</th>\n",
       "      <td>35</td>\n",
       "    </tr>\n",
       "    <tr>\n",
       "      <th>Silvio_Berlusconi</th>\n",
       "      <td>33</td>\n",
       "    </tr>\n",
       "    <tr>\n",
       "      <th>Tom_Ridge</th>\n",
       "      <td>33</td>\n",
       "    </tr>\n",
       "    <tr>\n",
       "      <th>Megawati_Sukarnoputri</th>\n",
       "      <td>33</td>\n",
       "    </tr>\n",
       "    <tr>\n",
       "      <th>Vicente_Fox</th>\n",
       "      <td>32</td>\n",
       "    </tr>\n",
       "    <tr>\n",
       "      <th>Roh_Moo-hyun</th>\n",
       "      <td>32</td>\n",
       "    </tr>\n",
       "    <tr>\n",
       "      <th>Kofi_Annan</th>\n",
       "      <td>32</td>\n",
       "    </tr>\n",
       "    <tr>\n",
       "      <th>...</th>\n",
       "      <td>...</td>\n",
       "    </tr>\n",
       "    <tr>\n",
       "      <th>Ilie_Nastase</th>\n",
       "      <td>1</td>\n",
       "    </tr>\n",
       "    <tr>\n",
       "      <th>Ilham_Aliev</th>\n",
       "      <td>1</td>\n",
       "    </tr>\n",
       "    <tr>\n",
       "      <th>Ilan_Goldfajn</th>\n",
       "      <td>1</td>\n",
       "    </tr>\n",
       "    <tr>\n",
       "      <th>Igor_Trunov</th>\n",
       "      <td>1</td>\n",
       "    </tr>\n",
       "    <tr>\n",
       "      <th>Ignatius_Wang</th>\n",
       "      <td>1</td>\n",
       "    </tr>\n",
       "    <tr>\n",
       "      <th>Ignacio_Antonio_Velasco</th>\n",
       "      <td>1</td>\n",
       "    </tr>\n",
       "    <tr>\n",
       "      <th>Idi_Amin</th>\n",
       "      <td>1</td>\n",
       "    </tr>\n",
       "    <tr>\n",
       "      <th>Ibrahim_Rugova</th>\n",
       "      <td>1</td>\n",
       "    </tr>\n",
       "    <tr>\n",
       "      <th>Ibrahim_Hilal</th>\n",
       "      <td>1</td>\n",
       "    </tr>\n",
       "    <tr>\n",
       "      <th>Ibrahim_Haddad</th>\n",
       "      <td>1</td>\n",
       "    </tr>\n",
       "    <tr>\n",
       "      <th>Ibrahim_Al-Marashi</th>\n",
       "      <td>1</td>\n",
       "    </tr>\n",
       "    <tr>\n",
       "      <th>Imre_Kertasz</th>\n",
       "      <td>1</td>\n",
       "    </tr>\n",
       "    <tr>\n",
       "      <th>Infanta_Cristina</th>\n",
       "      <td>1</td>\n",
       "    </tr>\n",
       "    <tr>\n",
       "      <th>Inga_Hall</th>\n",
       "      <td>1</td>\n",
       "    </tr>\n",
       "    <tr>\n",
       "      <th>Irina_Lobacheva</th>\n",
       "      <td>1</td>\n",
       "    </tr>\n",
       "    <tr>\n",
       "      <th>Isidro_Pastor</th>\n",
       "      <td>1</td>\n",
       "    </tr>\n",
       "    <tr>\n",
       "      <th>Isabela_Moraes</th>\n",
       "      <td>1</td>\n",
       "    </tr>\n",
       "    <tr>\n",
       "      <th>Isabel_Orellana</th>\n",
       "      <td>1</td>\n",
       "    </tr>\n",
       "    <tr>\n",
       "      <th>Irwan_Fadzi_Idris</th>\n",
       "      <td>1</td>\n",
       "    </tr>\n",
       "    <tr>\n",
       "      <th>Irv_Nathan</th>\n",
       "      <td>1</td>\n",
       "    </tr>\n",
       "    <tr>\n",
       "      <th>Irina_Yatchenko</th>\n",
       "      <td>1</td>\n",
       "    </tr>\n",
       "    <tr>\n",
       "      <th>Irina_Framtsova</th>\n",
       "      <td>1</td>\n",
       "    </tr>\n",
       "    <tr>\n",
       "      <th>Ingrid_Betancourt</th>\n",
       "      <td>1</td>\n",
       "    </tr>\n",
       "    <tr>\n",
       "      <th>Irfan_Ahmed</th>\n",
       "      <td>1</td>\n",
       "    </tr>\n",
       "    <tr>\n",
       "      <th>Irene_Kahn</th>\n",
       "      <td>1</td>\n",
       "    </tr>\n",
       "    <tr>\n",
       "      <th>Iran_Brown</th>\n",
       "      <td>1</td>\n",
       "    </tr>\n",
       "    <tr>\n",
       "      <th>Ira_Einhorn</th>\n",
       "      <td>1</td>\n",
       "    </tr>\n",
       "    <tr>\n",
       "      <th>Ion_Tiriac</th>\n",
       "      <td>1</td>\n",
       "    </tr>\n",
       "    <tr>\n",
       "      <th>Ion_Iliescu</th>\n",
       "      <td>1</td>\n",
       "    </tr>\n",
       "    <tr>\n",
       "      <th>Zydrunas_Ilgauskas</th>\n",
       "      <td>1</td>\n",
       "    </tr>\n",
       "  </tbody>\n",
       "</table>\n",
       "<p>5749 rows × 1 columns</p>\n",
       "</div>"
      ],
      "text/plain": [
       "                           ImageCount\n",
       "Label                                \n",
       "George_W_Bush                     530\n",
       "Colin_Powell                      236\n",
       "Tony_Blair                        144\n",
       "Donald_Rumsfeld                   121\n",
       "Gerhard_Schroeder                 109\n",
       "Ariel_Sharon                       77\n",
       "Hugo_Chavez                        71\n",
       "Junichiro_Koizumi                  60\n",
       "Jean_Chretien                      55\n",
       "John_Ashcroft                      53\n",
       "Jacques_Chirac                     52\n",
       "Serena_Williams                    52\n",
       "Vladimir_Putin                     49\n",
       "Luiz_Inacio_Lula_da_Silva          48\n",
       "Gloria_Macapagal_Arroyo            44\n",
       "Jennifer_Capriati                  42\n",
       "Arnold_Schwarzenegger              42\n",
       "Laura_Bush                         41\n",
       "Lleyton_Hewitt                     41\n",
       "Hans_Blix                          39\n",
       "Alejandro_Toledo                   39\n",
       "Nestor_Kirchner                    37\n",
       "Andre_Agassi                       36\n",
       "Alvaro_Uribe                       35\n",
       "Silvio_Berlusconi                  33\n",
       "Tom_Ridge                          33\n",
       "Megawati_Sukarnoputri              33\n",
       "Vicente_Fox                        32\n",
       "Roh_Moo-hyun                       32\n",
       "Kofi_Annan                         32\n",
       "...                               ...\n",
       "Ilie_Nastase                        1\n",
       "Ilham_Aliev                         1\n",
       "Ilan_Goldfajn                       1\n",
       "Igor_Trunov                         1\n",
       "Ignatius_Wang                       1\n",
       "Ignacio_Antonio_Velasco             1\n",
       "Idi_Amin                            1\n",
       "Ibrahim_Rugova                      1\n",
       "Ibrahim_Hilal                       1\n",
       "Ibrahim_Haddad                      1\n",
       "Ibrahim_Al-Marashi                  1\n",
       "Imre_Kertasz                        1\n",
       "Infanta_Cristina                    1\n",
       "Inga_Hall                           1\n",
       "Irina_Lobacheva                     1\n",
       "Isidro_Pastor                       1\n",
       "Isabela_Moraes                      1\n",
       "Isabel_Orellana                     1\n",
       "Irwan_Fadzi_Idris                   1\n",
       "Irv_Nathan                          1\n",
       "Irina_Yatchenko                     1\n",
       "Irina_Framtsova                     1\n",
       "Ingrid_Betancourt                   1\n",
       "Irfan_Ahmed                         1\n",
       "Irene_Kahn                          1\n",
       "Iran_Brown                          1\n",
       "Ira_Einhorn                         1\n",
       "Ion_Tiriac                          1\n",
       "Ion_Iliescu                         1\n",
       "Zydrunas_Ilgauskas                  1\n",
       "\n",
       "[5749 rows x 1 columns]"
      ]
     },
     "execution_count": 11,
     "metadata": {},
     "output_type": "execute_result"
    }
   ],
   "source": [
    "df_count.sort_values('ImageCount' , ascending=False)"
   ]
  },
  {
   "cell_type": "code",
   "execution_count": 12,
   "metadata": {},
   "outputs": [],
   "source": [
    "df_filter = df_count[ (df_count['ImageCount']) >= 50 ]"
   ]
  },
  {
   "cell_type": "code",
   "execution_count": 13,
   "metadata": {},
   "outputs": [
    {
     "data": {
      "text/plain": [
       "Index(['Ariel_Sharon', 'Colin_Powell', 'Donald_Rumsfeld', 'George_W_Bush',\n",
       "       'Gerhard_Schroeder', 'Hugo_Chavez', 'Jacques_Chirac', 'Jean_Chretien',\n",
       "       'John_Ashcroft', 'Junichiro_Koizumi', 'Serena_Williams', 'Tony_Blair'],\n",
       "      dtype='object', name='Label')"
      ]
     },
     "execution_count": 13,
     "metadata": {},
     "output_type": "execute_result"
    }
   ],
   "source": [
    "df_filter.index"
   ]
  },
  {
   "cell_type": "code",
   "execution_count": 14,
   "metadata": {},
   "outputs": [],
   "source": [
    "list_index = df_filter.index.tolist()"
   ]
  },
  {
   "cell_type": "code",
   "execution_count": 15,
   "metadata": {},
   "outputs": [
    {
     "data": {
      "text/plain": [
       "Index(['Image', 'Label'], dtype='object')"
      ]
     },
     "execution_count": 15,
     "metadata": {},
     "output_type": "execute_result"
    }
   ],
   "source": [
    "df.columns"
   ]
  },
  {
   "cell_type": "code",
   "execution_count": 16,
   "metadata": {},
   "outputs": [],
   "source": [
    "#bush = df.loc[df['Label'] == 'George_W_Bush']"
   ]
  },
  {
   "cell_type": "code",
   "execution_count": 17,
   "metadata": {},
   "outputs": [],
   "source": [
    "#bush.head()"
   ]
  },
  {
   "cell_type": "code",
   "execution_count": 18,
   "metadata": {},
   "outputs": [],
   "source": [
    "#colin =  df.loc[df['Label'] == 'Colin_Powell']"
   ]
  },
  {
   "cell_type": "code",
   "execution_count": 19,
   "metadata": {},
   "outputs": [],
   "source": [
    "#list_index.remove('George_W_Bush')\n",
    "#list_index.remove('Colin_Powell')"
   ]
  },
  {
   "cell_type": "code",
   "execution_count": 20,
   "metadata": {},
   "outputs": [
    {
     "data": {
      "text/plain": [
       "['Ariel_Sharon',\n",
       " 'Colin_Powell',\n",
       " 'Donald_Rumsfeld',\n",
       " 'George_W_Bush',\n",
       " 'Gerhard_Schroeder',\n",
       " 'Hugo_Chavez',\n",
       " 'Jacques_Chirac',\n",
       " 'Jean_Chretien',\n",
       " 'John_Ashcroft',\n",
       " 'Junichiro_Koizumi',\n",
       " 'Serena_Williams',\n",
       " 'Tony_Blair']"
      ]
     },
     "execution_count": 20,
     "metadata": {},
     "output_type": "execute_result"
    }
   ],
   "source": [
    "list_index"
   ]
  },
  {
   "cell_type": "code",
   "execution_count": 21,
   "metadata": {},
   "outputs": [],
   "source": [
    "final_df = df.loc[df['Label'].isin(list_index)]"
   ]
  },
  {
   "cell_type": "code",
   "execution_count": 22,
   "metadata": {},
   "outputs": [
    {
     "data": {
      "text/plain": [
       "(1560, 2)"
      ]
     },
     "execution_count": 22,
     "metadata": {},
     "output_type": "execute_result"
    }
   ],
   "source": [
    "final_df.shape"
   ]
  },
  {
   "cell_type": "code",
   "execution_count": 23,
   "metadata": {},
   "outputs": [],
   "source": [
    "#final_df = pd.concat( [final_df , bush.sample(250)] , axis = 0)"
   ]
  },
  {
   "cell_type": "code",
   "execution_count": 24,
   "metadata": {},
   "outputs": [
    {
     "data": {
      "text/html": [
       "<div>\n",
       "<style scoped>\n",
       "    .dataframe tbody tr th:only-of-type {\n",
       "        vertical-align: middle;\n",
       "    }\n",
       "\n",
       "    .dataframe tbody tr th {\n",
       "        vertical-align: top;\n",
       "    }\n",
       "\n",
       "    .dataframe thead th {\n",
       "        text-align: right;\n",
       "    }\n",
       "</style>\n",
       "<table border=\"1\" class=\"dataframe\">\n",
       "  <thead>\n",
       "    <tr style=\"text-align: right;\">\n",
       "      <th></th>\n",
       "      <th>Image</th>\n",
       "      <th>Label</th>\n",
       "    </tr>\n",
       "  </thead>\n",
       "  <tbody>\n",
       "    <tr>\n",
       "      <th>489</th>\n",
       "      <td>./data/George_W_Bush/George_W_Bush_0394.jpg</td>\n",
       "      <td>George_W_Bush</td>\n",
       "    </tr>\n",
       "    <tr>\n",
       "      <th>490</th>\n",
       "      <td>./data/George_W_Bush/George_W_Bush_0377.jpg</td>\n",
       "      <td>George_W_Bush</td>\n",
       "    </tr>\n",
       "    <tr>\n",
       "      <th>491</th>\n",
       "      <td>./data/George_W_Bush/George_W_Bush_0204.jpg</td>\n",
       "      <td>George_W_Bush</td>\n",
       "    </tr>\n",
       "    <tr>\n",
       "      <th>492</th>\n",
       "      <td>./data/George_W_Bush/George_W_Bush_0203.jpg</td>\n",
       "      <td>George_W_Bush</td>\n",
       "    </tr>\n",
       "    <tr>\n",
       "      <th>493</th>\n",
       "      <td>./data/George_W_Bush/George_W_Bush_0416.jpg</td>\n",
       "      <td>George_W_Bush</td>\n",
       "    </tr>\n",
       "  </tbody>\n",
       "</table>\n",
       "</div>"
      ],
      "text/plain": [
       "                                           Image          Label\n",
       "489  ./data/George_W_Bush/George_W_Bush_0394.jpg  George_W_Bush\n",
       "490  ./data/George_W_Bush/George_W_Bush_0377.jpg  George_W_Bush\n",
       "491  ./data/George_W_Bush/George_W_Bush_0204.jpg  George_W_Bush\n",
       "492  ./data/George_W_Bush/George_W_Bush_0203.jpg  George_W_Bush\n",
       "493  ./data/George_W_Bush/George_W_Bush_0416.jpg  George_W_Bush"
      ]
     },
     "execution_count": 24,
     "metadata": {},
     "output_type": "execute_result"
    }
   ],
   "source": [
    "final_df.head()"
   ]
  },
  {
   "cell_type": "code",
   "execution_count": 25,
   "metadata": {},
   "outputs": [
    {
     "data": {
      "text/plain": [
       "(1560, 2)"
      ]
     },
     "execution_count": 25,
     "metadata": {},
     "output_type": "execute_result"
    }
   ],
   "source": [
    "final_df.shape"
   ]
  },
  {
   "cell_type": "markdown",
   "metadata": {},
   "source": [
    "### Image Augmentation"
   ]
  },
  {
   "cell_type": "code",
   "execution_count": 26,
   "metadata": {},
   "outputs": [],
   "source": [
    "import cv2 as cv2"
   ]
  },
  {
   "cell_type": "code",
   "execution_count": 27,
   "metadata": {},
   "outputs": [],
   "source": [
    "X = []\n",
    "y = []\n",
    "X_dict = {}\n",
    "for index, row in final_df.iterrows():\n",
    "    #print(i)\n",
    "    local_image =cv2.cvtColor( cv2.imread(row[0]) , cv2.COLOR_BGR2RGB)\n",
    "    resized_image = cv2.resize(local_image, (96, 96))\n",
    "    resized_image = resized_image[10:86,10:86]\n",
    "    if row[1] not in X_dict:\n",
    "        X_dict[row[1]] = [resized_image]\n",
    "    else:\n",
    "        X_dict[row[1]].append(resized_image)\n",
    "    X.append( resized_image)\n",
    "    y.append(row[1])"
   ]
  },
  {
   "cell_type": "code",
   "execution_count": 28,
   "metadata": {},
   "outputs": [],
   "source": [
    "import seaborn as sns\n"
   ]
  },
  {
   "cell_type": "code",
   "execution_count": 29,
   "metadata": {},
   "outputs": [
    {
     "data": {
      "text/plain": [
       "<matplotlib.axes._subplots.AxesSubplot at 0x7f475e1700f0>"
      ]
     },
     "execution_count": 29,
     "metadata": {},
     "output_type": "execute_result"
    },
    {
     "data": {
      "image/png": "[encoded data removed]",
      "text/plain": [
       "<matplotlib.figure.Figure at 0x7f475e15f860>"
      ]
     },
     "metadata": {},
     "output_type": "display_data"
    }
   ],
   "source": [
    "sns.countplot(y = y)"
   ]
  },
  {
   "cell_type": "code",
   "execution_count": 30,
   "metadata": {},
   "outputs": [],
   "source": [
    "from skimage import transform"
   ]
  },
  {
   "cell_type": "code",
   "execution_count": 31,
   "metadata": {},
   "outputs": [],
   "source": [
    "def imgAug(img):\n",
    "    result  = 255 *  transform.rotate(img, angle=np.random.uniform(-30,30), mode='edge')\n",
    "    result = result.astype(np.uint8)\n",
    "    return result"
   ]
  },
  {
   "cell_type": "code",
   "execution_count": 32,
   "metadata": {},
   "outputs": [],
   "source": [
    "median = 400\n",
    "X_updated = {}\n",
    "X_augmented = []\n",
    "y_augmented = []\n",
    "for key, value in X_dict.items():\n",
    "    if len(value) < 400:\n",
    "        temp_values  = []\n",
    "        for every_value in value:\n",
    "            temp_values.append(every_value)\n",
    "        i=0\n",
    "        while(len(temp_values) != 400):\n",
    "            if(i< len(value)):\n",
    "                temp_image = imgAug(value[i])\n",
    "                temp_values.append(temp_image)\n",
    "                i=i+1\n",
    "            else:\n",
    "                i=0\n",
    "        for every_value in temp_values:\n",
    "            X_augmented.append(every_value)\n",
    "            \n",
    "        for j in range(len(temp_values)):\n",
    "            y_augmented.append(key)\n",
    "    else:\n",
    "        temp_values = value[:400]\n",
    "        for every_value in temp_values:\n",
    "            X_augmented.append(every_value)\n",
    "        for j in range(len(temp_values)):\n",
    "            y_augmented.append(key)"
   ]
  },
  {
   "cell_type": "code",
   "execution_count": 33,
   "metadata": {},
   "outputs": [
    {
     "data": {
      "text/plain": [
       "(4800, 76, 76, 3)"
      ]
     },
     "execution_count": 33,
     "metadata": {},
     "output_type": "execute_result"
    }
   ],
   "source": [
    "np.array(X_augmented).shape"
   ]
  },
  {
   "cell_type": "code",
   "execution_count": 34,
   "metadata": {},
   "outputs": [
    {
     "data": {
      "text/plain": [
       "<matplotlib.axes._subplots.AxesSubplot at 0x7f4757015240>"
      ]
     },
     "execution_count": 34,
     "metadata": {},
     "output_type": "execute_result"
    },
    {
     "data": {
      "image/png": "[encoded data removed]",
      "text/plain": [
       "<matplotlib.figure.Figure at 0x7f4757003c50>"
      ]
     },
     "metadata": {},
     "output_type": "display_data"
    }
   ],
   "source": [
    "sns.countplot(y=y_augmented)"
   ]
  },
  {
   "cell_type": "code",
   "execution_count": 35,
   "metadata": {},
   "outputs": [],
   "source": [
    "X = np.array(X_augmented)\n",
    "y = np.array(y_augmented)"
   ]
  },
  {
   "cell_type": "code",
   "execution_count": 36,
   "metadata": {},
   "outputs": [],
   "source": [
    "# X_Aug=[]\n",
    "# y_aug=[]\n",
    "# for image, label in zip(X,y):\n",
    "#     if(label!='George_W_Bush' and label!='Colin_Powell'):\n",
    "#         img1 = imgAug(image)\n",
    "#         img2 = imgAug(image)\n",
    "#         X_Aug.append(img1)\n",
    "#         X_Aug.append(img2)\n",
    "#         y_aug.append(label)\n",
    "#         y_aug.append(label)\n",
    "#     X_Aug.append(image)\n",
    "#     y_aug.append(label)"
   ]
  },
  {
   "cell_type": "code",
   "execution_count": 37,
   "metadata": {},
   "outputs": [],
   "source": [
    "# sns.countplot(y = y_aug)"
   ]
  },
  {
   "cell_type": "code",
   "execution_count": 38,
   "metadata": {},
   "outputs": [],
   "source": [
    "import matplotlib.pyplot as plt"
   ]
  },
  {
   "cell_type": "code",
   "execution_count": 39,
   "metadata": {},
   "outputs": [
    {
     "data": {
      "text/plain": [
       "<matplotlib.image.AxesImage at 0x7f4751a81f28>"
      ]
     },
     "execution_count": 39,
     "metadata": {},
     "output_type": "execute_result"
    },
    {
     "data": {
      "image/png": "[encoded data removed]",
      "text/plain": [
       "<matplotlib.figure.Figure at 0x7f4756a8f1d0>"
      ]
     },
     "metadata": {},
     "output_type": "display_data"
    }
   ],
   "source": [
    "#plt.title(y[0])\n",
    "plt.imshow(X[0])\n"
   ]
  },
  {
   "cell_type": "code",
   "execution_count": 40,
   "metadata": {},
   "outputs": [
    {
     "data": {
      "text/plain": [
       "<matplotlib.image.AxesImage at 0x7f4751a15320>"
      ]
     },
     "execution_count": 40,
     "metadata": {},
     "output_type": "execute_result"
    },
    {
     "data": {
      "image/png": "[encoded data removed]",
      "text/plain": [
       "<matplotlib.figure.Figure at 0x7f4751aa6438>"
      ]
     },
     "metadata": {},
     "output_type": "display_data"
    }
   ],
   "source": [
    "#plt.title(y[789])\n",
    "plt.imshow(X[789])\n"
   ]
  },
  {
   "cell_type": "code",
   "execution_count": 41,
   "metadata": {},
   "outputs": [],
   "source": [
    "#one hot encoding labels\n",
    "#final_df = pd.get_dummies(final_df, columns=['Label'])"
   ]
  },
  {
   "cell_type": "code",
   "execution_count": 42,
   "metadata": {},
   "outputs": [
    {
     "name": "stdout",
     "output_type": "stream",
     "text": [
      "(4800,)\n",
      "(4800, 1)\n",
      "(4800, 12)\n"
     ]
    }
   ],
   "source": [
    "from sklearn.preprocessing import OneHotEncoder, LabelEncoder\n",
    "lblEncoder = LabelEncoder()\n",
    "y = lblEncoder.fit_transform(y)\n",
    "print(y.shape)\n",
    "y = y.reshape(len(y), 1)\n",
    "print(y.shape)\n",
    "onehot = OneHotEncoder(sparse=False)\n",
    "y = onehot.fit_transform(y)\n",
    "print(y.shape)"
   ]
  },
  {
   "cell_type": "code",
   "execution_count": 43,
   "metadata": {},
   "outputs": [
    {
     "data": {
      "text/plain": [
       "(76, 76, 3)"
      ]
     },
     "execution_count": 43,
     "metadata": {},
     "output_type": "execute_result"
    }
   ],
   "source": [
    "X[0].shape"
   ]
  },
  {
   "cell_type": "code",
   "execution_count": 44,
   "metadata": {},
   "outputs": [],
   "source": [
    "_X = X\n",
    "_y = y"
   ]
  },
  {
   "cell_type": "code",
   "execution_count": 45,
   "metadata": {},
   "outputs": [
    {
     "data": {
      "text/plain": [
       "array([0., 0., 0., 1., 0., 0., 0., 0., 0., 0., 0., 0.])"
      ]
     },
     "execution_count": 45,
     "metadata": {},
     "output_type": "execute_result"
    }
   ],
   "source": [
    "_y[0]"
   ]
  },
  {
   "cell_type": "code",
   "execution_count": 46,
   "metadata": {},
   "outputs": [],
   "source": [
    "from sklearn.model_selection import train_test_split\n",
    "X_train, X_valid , y_train, y_valid = train_test_split(_X, _y, test_size = 0.1, shuffle=True)"
   ]
  },
  {
   "cell_type": "code",
   "execution_count": 47,
   "metadata": {},
   "outputs": [
    {
     "name": "stderr",
     "output_type": "stream",
     "text": [
      "/root/miniconda3/envs/tensorflow/lib/python3.6/importlib/_bootstrap.py:219: RuntimeWarning: compiletime version 3.5 of module 'tensorflow.python.framework.fast_tensor_util' does not match runtime version 3.6\n",
      "  return f(*args, **kwds)\n"
     ]
    }
   ],
   "source": [
    "import tensorflow as tf"
   ]
  },
  {
   "cell_type": "code",
   "execution_count": 48,
   "metadata": {},
   "outputs": [],
   "source": [
    "EPOCHS = 20\n",
    "BATCH_SIZE = 8"
   ]
  },
  {
   "cell_type": "code",
   "execution_count": 49,
   "metadata": {},
   "outputs": [],
   "source": [
    "from sklearn.utils import shuffle"
   ]
  },
  {
   "cell_type": "code",
   "execution_count": 50,
   "metadata": {},
   "outputs": [],
   "source": [
    "from tensorflow.contrib.layers import flatten\n",
    "\n",
    "\n",
    "\n",
    "def LeNet(x):    \n",
    "    # Arguments used for tf.truncated_normal, randomly defines variables for the weights and biases for each layer\n",
    "    mu = 0\n",
    "    sigma = 0.1\n",
    "    \n",
    "    x = x/255.0 - 0.5\n",
    "    #x = tf.image.central_crop(x, 0.9)\n",
    "    #x = x[10:86 , 10:86]\n",
    "   # Layer 1: Convolutional. Input = 32x32x1. Output = 28x28x6.\n",
    "    conv0_W= tf.Variable(tf.truncated_normal(shape=(3,3,3,3), mean=mu, stddev=sigma))\n",
    "    conv0_b= tf.Variable(tf.zeros(3))\n",
    "    conv0= tf.nn.conv2d(x,conv0_W,strides=[1,1,1,1],padding='SAME',use_cudnn_on_gpu=True) + conv0_b\n",
    "\n",
    "    # Activation.\n",
    "    conv0= tf.nn.relu(conv0)\n",
    "\n",
    "\n",
    "    \n",
    "    # Layer 1: Convolutional. Input = 32x32x1. Output = 28x28x6.\n",
    "    conv1_W= tf.Variable(tf.truncated_normal(shape=(3,3,3,8), mean=mu, stddev=sigma))\n",
    "    conv1_b= tf.Variable(tf.zeros(8))\n",
    "    conv1= tf.nn.conv2d(conv0,conv1_W,strides=[1,1,1,1],padding='VALID',use_cudnn_on_gpu=True) + conv1_b\n",
    "\n",
    "    # Activation.\n",
    "    conv1= tf.nn.relu(conv1)\n",
    "\n",
    "\n",
    "    \n",
    "    # Layer 2: Convolutional. Input = 28x28x6. Output = 14x14x10.\n",
    "    conv3_W= tf.Variable(tf.truncated_normal(shape=(3,3,8,32), mean=mu, stddev=sigma))\n",
    "    conv3_b= tf.Variable(tf.zeros(32))\n",
    "    conv3= tf.nn.conv2d(conv1,conv3_W,strides=[1,1,1,1],padding='VALID',use_cudnn_on_gpu=True) + conv3_b\n",
    "\n",
    "    # Activation.\n",
    "    conv3= tf.nn.relu(conv3)\n",
    "    \n",
    "     # Pooling. Input = 8x8x16. Output = 4x4x16.\n",
    "    conv3= tf.nn.max_pool(conv3,ksize=[1,2,2,1],strides=[1,2,2,1],padding='VALID')\n",
    "   \n",
    "\n",
    "    # Layer 3: Convolutional. Input = 14x14x10. Output = 8x8x16.\n",
    "    conv2_W= tf.Variable(tf.truncated_normal(shape=(3,3,32,64),mean=mu,stddev=sigma))\n",
    "    conv2_b=tf.Variable(tf.zeros(64))\n",
    "    conv2= tf.nn.conv2d(conv3,conv2_W,strides=[1,1,1,1],padding='VALID',use_cudnn_on_gpu=True) + conv2_b\n",
    "    \n",
    "    # Activation.\n",
    "    conv2= tf.nn.relu(conv2)\n",
    "\n",
    "    # Pooling. Input = 8x8x16. Output = 4x4x16.\n",
    "    #conv2= tf.nn.max_pool(conv2,ksize=[1,2,2,1],strides=[1,2,2,1],padding='VALID')\n",
    "\n",
    "    # Flatten. Input = 4x4x16. Output = 256.\n",
    "    f= flatten(conv2)\n",
    "\n",
    "    # Layer 4: Fully Connected. Input = 256. Output = 120.\n",
    "    fc1_W= tf.Variable(tf.truncated_normal(shape=(int(np.shape(f)[1]),1024),mean=mu,stddev=sigma))\n",
    "    fc1_b= tf.Variable(tf.zeros(shape=1024))\n",
    "    fc1= tf.matmul(f,fc1_W) + fc1_b\n",
    "    \n",
    "    # Activation.\n",
    "    fc1= tf.nn.relu(fc1)\n",
    "    \n",
    "    # Introduce Dropout after first fully connected layer\n",
    "    #fc1 = tf.nn.dropout(fc1, keep_prob)\n",
    "\n",
    "    # Layer 5: Fully Connected. Input = 120. Output = 100.\n",
    "    fc2_W= tf.Variable(tf.truncated_normal(shape=(1024,256),mean=mu,stddev=sigma))\n",
    "    fc2_b= tf.Variable(tf.zeros(256))\n",
    "    fc2= tf.matmul(fc1,fc2_W) + fc2_b\n",
    "    \n",
    "    # Activation.\n",
    "    fc2= tf.nn.relu(fc2)\n",
    "    \n",
    "    # Layer 6: Fully Connected. Input = 100. Output = 84.\n",
    "    fc4_W= tf.Variable(tf.truncated_normal(shape=(256,64),mean=mu,stddev=sigma))\n",
    "    fc4_b= tf.Variable(tf.zeros(64))\n",
    "    fc4= tf.matmul(fc2,fc4_W) + fc4_b\n",
    "    \n",
    "    # Activation.\n",
    "    fc4= tf.nn.relu(fc4)\n",
    "    \n",
    "    # Layer 7: Fully Connected. Input = 84. Output = 43.\n",
    "    fc3_W= tf.Variable(tf.truncated_normal(shape=(64,12),mean=mu,stddev=sigma))\n",
    "    fc3_b= tf.Variable(tf.zeros(12))\n",
    "    fc3= tf.matmul(fc4,fc3_W) + fc3_b\n",
    "    \n",
    "    #fc3= tf.nn.softmax(fc3)\n",
    "    logits=fc3\n",
    "        \n",
    "    return logits"
   ]
  },
  {
   "cell_type": "code",
   "execution_count": 51,
   "metadata": {},
   "outputs": [
    {
     "name": "stdout",
     "output_type": "stream",
     "text": [
      "Variables initialized successfully\n"
     ]
    }
   ],
   "source": [
    "x = tf.placeholder(tf.float32, (None, 76, 76, 3))\n",
    "y = tf.placeholder(tf.int32, (None,12))\n",
    "#one_hot_y = tf.one_hot(y, 12) # one hot encoding for output labels\n",
    "keep_prob = tf.placeholder(tf.float32) # defining the dropout probability after fully connected layer in the architecture\n",
    "print('Variables initialized successfully')"
   ]
  },
  {
   "cell_type": "code",
   "execution_count": 52,
   "metadata": {},
   "outputs": [],
   "source": [
    "rate = 0.00005 #learning rate\n",
    "\n",
    "#defining various operations\n",
    "logits = LeNet(x)\n",
    "cross_entropy = tf.nn.softmax_cross_entropy_with_logits(labels=y, logits=logits)\n",
    "loss_operation = tf.reduce_mean(cross_entropy)\n",
    "optimizer = tf.train.AdamOptimizer(learning_rate = rate)\n",
    "training_operation = optimizer.minimize(loss_operation)"
   ]
  },
  {
   "cell_type": "code",
   "execution_count": 53,
   "metadata": {},
   "outputs": [],
   "source": [
    "correct_prediction = tf.equal(tf.argmax(logits, 1), tf.argmax(y, 1))\n",
    "accuracy_operation = tf.reduce_mean(tf.cast(correct_prediction, tf.float32))\n",
    "saver = tf.train.Saver()\n",
    "\n",
    "def evaluate(X_data, y_data):\n",
    "    num_examples = len(X_data)\n",
    "    total_accuracy = 0\n",
    "    total_loss=0\n",
    "    sess = tf.get_default_session()\n",
    "    for offset in range(0, num_examples, BATCH_SIZE):\n",
    "        batch_x, batch_y = X_data[offset:offset+BATCH_SIZE], y_data[offset:offset+BATCH_SIZE]\n",
    "        accuracy,loss = sess.run([accuracy_operation,loss_operation],feed_dict={x: batch_x, y: batch_y,keep_prob:1})\n",
    "        total_accuracy += (accuracy * len(batch_x))\n",
    "        total_loss+= (loss*len(batch_x)) # getting the total loss to plot a graph later\n",
    "    return total_accuracy / num_examples, total_loss/num_examples"
   ]
  },
  {
   "cell_type": "code",
   "execution_count": 54,
   "metadata": {
    "scrolled": true
   },
   "outputs": [
    {
     "name": "stdout",
     "output_type": "stream",
     "text": [
      "Training...\n",
      "\n",
      "EPOCH 1 ...\n",
      "Validation Loss = 1.517 Validation Accuracy = 0.508\n",
      "\n",
      "EPOCH 2 ...\n",
      "Validation Loss = 0.993 Validation Accuracy = 0.685\n",
      "\n",
      "EPOCH 3 ...\n",
      "Validation Loss = 0.732 Validation Accuracy = 0.769\n",
      "\n",
      "EPOCH 4 ...\n",
      "Validation Loss = 0.471 Validation Accuracy = 0.860\n",
      "\n",
      "EPOCH 5 ...\n",
      "Validation Loss = 0.395 Validation Accuracy = 0.896\n",
      "\n",
      "EPOCH 6 ...\n",
      "Validation Loss = 0.339 Validation Accuracy = 0.904\n",
      "\n",
      "EPOCH 7 ...\n",
      "Validation Loss = 0.299 Validation Accuracy = 0.921\n",
      "\n",
      "EPOCH 8 ...\n",
      "Validation Loss = 0.304 Validation Accuracy = 0.910\n",
      "\n",
      "EPOCH 9 ...\n",
      "Validation Loss = 0.301 Validation Accuracy = 0.919\n",
      "\n",
      "EPOCH 10 ...\n",
      "Validation Loss = 0.284 Validation Accuracy = 0.927\n",
      "\n",
      "EPOCH 11 ...\n",
      "Validation Loss = 0.288 Validation Accuracy = 0.931\n",
      "\n",
      "EPOCH 12 ...\n",
      "Validation Loss = 0.294 Validation Accuracy = 0.933\n",
      "\n",
      "EPOCH 13 ...\n",
      "Validation Loss = 0.301 Validation Accuracy = 0.931\n",
      "\n",
      "EPOCH 14 ...\n",
      "Validation Loss = 0.307 Validation Accuracy = 0.931\n",
      "\n",
      "EPOCH 15 ...\n",
      "Validation Loss = 0.313 Validation Accuracy = 0.933\n",
      "\n",
      "EPOCH 16 ...\n",
      "Validation Loss = 0.318 Validation Accuracy = 0.931\n",
      "\n",
      "EPOCH 17 ...\n",
      "Validation Loss = 0.325 Validation Accuracy = 0.933\n",
      "\n",
      "EPOCH 18 ...\n",
      "Validation Loss = 0.331 Validation Accuracy = 0.933\n",
      "\n",
      "EPOCH 19 ...\n",
      "Validation Loss = 0.338 Validation Accuracy = 0.933\n",
      "\n",
      "EPOCH 20 ...\n",
      "Validation Loss = 0.344 Validation Accuracy = 0.933\n",
      "\n"
     ]
    },
    {
     "data": {
      "image/png": "[encoded data removed]",
      "text/plain": [
       "<matplotlib.figure.Figure at 0x7f470b298b70>"
      ]
     },
     "metadata": {},
     "output_type": "display_data"
    },
    {
     "name": "stdout",
     "output_type": "stream",
     "text": [
      "Model saved\n"
     ]
    }
   ],
   "source": [
    "with tf.Session() as sess:\n",
    "    sess.run(tf.global_variables_initializer())\n",
    "    num_examples = len(X_train)\n",
    "    \n",
    "    print(\"Training...\")\n",
    "    print()\n",
    "    loss_Acc=[]\n",
    "    for i in range(EPOCHS):\n",
    "        #X_train, y_train = shuffle(X_train, y_train)\n",
    "        for offset in range(0, num_examples, BATCH_SIZE):\n",
    "            end = offset + BATCH_SIZE\n",
    "            batch_x, batch_y = X_train[offset:end], y_train[offset:end]\n",
    "            #print(batch_x.shape, batch_y.shape)\n",
    "            sess.run(training_operation, feed_dict={x: batch_x, y: batch_y,keep_prob:0.5})\n",
    "            \n",
    "        validation_accuracy,loss_acc = evaluate(X_valid, y_valid)\n",
    "       \n",
    "        print(\"EPOCH {} ...\".format(i+1))\n",
    "        loss_Acc.append(loss_acc)\n",
    "        print(\"Validation Loss = {:.3f}\".format(loss_acc) , \"Validation Accuracy = {:.3f}\".format(validation_accuracy))\n",
    "        print()\n",
    "    plt.plot(range(0,EPOCHS),loss_Acc)\n",
    "    plt.ylabel('loss')\n",
    "    plt.xlabel('Epochs')\n",
    "    plt.grid(True)\n",
    "    plt.show()\n",
    "    saver.save(sess, './trafficTest')\n",
    "    print(\"Model saved\")"
   ]
  },
  {
   "cell_type": "code",
   "execution_count": null,
   "metadata": {},
   "outputs": [],
   "source": []
  },
  {
   "cell_type": "code",
   "execution_count": null,
   "metadata": {},
   "outputs": [],
   "source": []
  },
  {
   "cell_type": "code",
   "execution_count": null,
   "metadata": {},
   "outputs": [],
   "source": []
  }
 ],
 "metadata": {
  "kernelspec": {
   "display_name": "Python 3",
   "language": "python",
   "name": "python3"
  },
  "language_info": {
   "codemirror_mode": {
    "name": "ipython",
    "version": 3
   },
   "file_extension": ".py",
   "mimetype": "text/x-python",
   "name": "python",
   "nbconvert_exporter": "python",
   "pygments_lexer": "ipython3",
   "version": "3.6.3"
  }
 },
 "nbformat": 4,
 "nbformat_minor": 2
}
