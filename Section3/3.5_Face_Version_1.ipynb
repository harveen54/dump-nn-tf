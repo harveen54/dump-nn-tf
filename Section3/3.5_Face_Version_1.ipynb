{
 "cells": [
  {
   "cell_type": "markdown",
   "metadata": {},
   "source": [
    "## Step 0: Importing Libraries"
   ]
  },
  {
   "cell_type": "code",
   "execution_count": 1,
   "metadata": {},
   "outputs": [],
   "source": [
    "import glob\n",
    "import numpy as np\n",
    "import pandas as pd\n",
    "import matplotlib.pyplot as plt\n",
    "from skimage import transform\n",
    "import cv2 as cv2\n",
    "import seaborn as sns"
   ]
  },
  {
   "cell_type": "markdown",
   "metadata": {},
   "source": [
    "## Step 1: Importing Data"
   ]
  },
  {
   "cell_type": "code",
   "execution_count": 2,
   "metadata": {},
   "outputs": [
    {
     "data": {
      "text/html": [
       "<div>\n",
       "<style scoped>\n",
       "    .dataframe tbody tr th:only-of-type {\n",
       "        vertical-align: middle;\n",
       "    }\n",
       "\n",
       "    .dataframe tbody tr th {\n",
       "        vertical-align: top;\n",
       "    }\n",
       "\n",
       "    .dataframe thead th {\n",
       "        text-align: right;\n",
       "    }\n",
       "</style>\n",
       "<table border=\"1\" class=\"dataframe\">\n",
       "  <thead>\n",
       "    <tr style=\"text-align: right;\">\n",
       "      <th></th>\n",
       "      <th>Image</th>\n",
       "      <th>Label</th>\n",
       "    </tr>\n",
       "  </thead>\n",
       "  <tbody>\n",
       "    <tr>\n",
       "      <th>0</th>\n",
       "      <td>./data/Marlon_Devonish/Marlon_Devonish_0001.jpg</td>\n",
       "      <td>Marlon_Devonish</td>\n",
       "    </tr>\n",
       "    <tr>\n",
       "      <th>1</th>\n",
       "      <td>./data/Dolly_Parton/Dolly_Parton_0002.jpg</td>\n",
       "      <td>Dolly_Parton</td>\n",
       "    </tr>\n",
       "    <tr>\n",
       "      <th>2</th>\n",
       "      <td>./data/Dolly_Parton/Dolly_Parton_0001.jpg</td>\n",
       "      <td>Dolly_Parton</td>\n",
       "    </tr>\n",
       "    <tr>\n",
       "      <th>3</th>\n",
       "      <td>./data/Rocco_Buttiglione/Rocco_Buttiglione_000...</td>\n",
       "      <td>Rocco_Buttiglione</td>\n",
       "    </tr>\n",
       "    <tr>\n",
       "      <th>4</th>\n",
       "      <td>./data/Brandon_Lloyd/Brandon_Lloyd_0001.jpg</td>\n",
       "      <td>Brandon_Lloyd</td>\n",
       "    </tr>\n",
       "  </tbody>\n",
       "</table>\n",
       "</div>"
      ],
      "text/plain": [
       "                                               Image              Label\n",
       "0    ./data/Marlon_Devonish/Marlon_Devonish_0001.jpg    Marlon_Devonish\n",
       "1          ./data/Dolly_Parton/Dolly_Parton_0002.jpg       Dolly_Parton\n",
       "2          ./data/Dolly_Parton/Dolly_Parton_0001.jpg       Dolly_Parton\n",
       "3  ./data/Rocco_Buttiglione/Rocco_Buttiglione_000...  Rocco_Buttiglione\n",
       "4        ./data/Brandon_Lloyd/Brandon_Lloyd_0001.jpg      Brandon_Lloyd"
      ]
     },
     "execution_count": 2,
     "metadata": {},
     "output_type": "execute_result"
    }
   ],
   "source": [
    "df = pd.read_csv('section3.csv')\n",
    "df.head()"
   ]
  },
  {
   "cell_type": "markdown",
   "metadata": {},
   "source": [
    "## Step 2: Data Preprocessing"
   ]
  },
  {
   "cell_type": "markdown",
   "metadata": {},
   "source": [
    "### Step 2.1: Cleaning Data"
   ]
  },
  {
   "cell_type": "code",
   "execution_count": 3,
   "metadata": {
    "scrolled": true
   },
   "outputs": [
    {
     "data": {
      "text/html": [
       "<div>\n",
       "<style scoped>\n",
       "    .dataframe tbody tr th:only-of-type {\n",
       "        vertical-align: middle;\n",
       "    }\n",
       "\n",
       "    .dataframe tbody tr th {\n",
       "        vertical-align: top;\n",
       "    }\n",
       "\n",
       "    .dataframe thead th {\n",
       "        text-align: right;\n",
       "    }\n",
       "</style>\n",
       "<table border=\"1\" class=\"dataframe\">\n",
       "  <thead>\n",
       "    <tr style=\"text-align: right;\">\n",
       "      <th></th>\n",
       "      <th>ImageCount</th>\n",
       "    </tr>\n",
       "    <tr>\n",
       "      <th>Label</th>\n",
       "      <th></th>\n",
       "    </tr>\n",
       "  </thead>\n",
       "  <tbody>\n",
       "    <tr>\n",
       "      <th>George_W_Bush</th>\n",
       "      <td>530</td>\n",
       "    </tr>\n",
       "    <tr>\n",
       "      <th>Colin_Powell</th>\n",
       "      <td>236</td>\n",
       "    </tr>\n",
       "    <tr>\n",
       "      <th>Tony_Blair</th>\n",
       "      <td>144</td>\n",
       "    </tr>\n",
       "    <tr>\n",
       "      <th>Donald_Rumsfeld</th>\n",
       "      <td>121</td>\n",
       "    </tr>\n",
       "    <tr>\n",
       "      <th>Gerhard_Schroeder</th>\n",
       "      <td>109</td>\n",
       "    </tr>\n",
       "    <tr>\n",
       "      <th>Ariel_Sharon</th>\n",
       "      <td>77</td>\n",
       "    </tr>\n",
       "    <tr>\n",
       "      <th>Hugo_Chavez</th>\n",
       "      <td>71</td>\n",
       "    </tr>\n",
       "    <tr>\n",
       "      <th>Junichiro_Koizumi</th>\n",
       "      <td>60</td>\n",
       "    </tr>\n",
       "    <tr>\n",
       "      <th>Jean_Chretien</th>\n",
       "      <td>55</td>\n",
       "    </tr>\n",
       "    <tr>\n",
       "      <th>John_Ashcroft</th>\n",
       "      <td>53</td>\n",
       "    </tr>\n",
       "    <tr>\n",
       "      <th>Jacques_Chirac</th>\n",
       "      <td>52</td>\n",
       "    </tr>\n",
       "    <tr>\n",
       "      <th>Serena_Williams</th>\n",
       "      <td>52</td>\n",
       "    </tr>\n",
       "    <tr>\n",
       "      <th>Vladimir_Putin</th>\n",
       "      <td>49</td>\n",
       "    </tr>\n",
       "    <tr>\n",
       "      <th>Luiz_Inacio_Lula_da_Silva</th>\n",
       "      <td>48</td>\n",
       "    </tr>\n",
       "    <tr>\n",
       "      <th>Gloria_Macapagal_Arroyo</th>\n",
       "      <td>44</td>\n",
       "    </tr>\n",
       "    <tr>\n",
       "      <th>Jennifer_Capriati</th>\n",
       "      <td>42</td>\n",
       "    </tr>\n",
       "    <tr>\n",
       "      <th>Arnold_Schwarzenegger</th>\n",
       "      <td>42</td>\n",
       "    </tr>\n",
       "    <tr>\n",
       "      <th>Laura_Bush</th>\n",
       "      <td>41</td>\n",
       "    </tr>\n",
       "    <tr>\n",
       "      <th>Lleyton_Hewitt</th>\n",
       "      <td>41</td>\n",
       "    </tr>\n",
       "    <tr>\n",
       "      <th>Hans_Blix</th>\n",
       "      <td>39</td>\n",
       "    </tr>\n",
       "    <tr>\n",
       "      <th>Alejandro_Toledo</th>\n",
       "      <td>39</td>\n",
       "    </tr>\n",
       "    <tr>\n",
       "      <th>Nestor_Kirchner</th>\n",
       "      <td>37</td>\n",
       "    </tr>\n",
       "    <tr>\n",
       "      <th>Andre_Agassi</th>\n",
       "      <td>36</td>\n",
       "    </tr>\n",
       "    <tr>\n",
       "      <th>Alvaro_Uribe</th>\n",
       "      <td>35</td>\n",
       "    </tr>\n",
       "    <tr>\n",
       "      <th>Silvio_Berlusconi</th>\n",
       "      <td>33</td>\n",
       "    </tr>\n",
       "    <tr>\n",
       "      <th>Tom_Ridge</th>\n",
       "      <td>33</td>\n",
       "    </tr>\n",
       "    <tr>\n",
       "      <th>Megawati_Sukarnoputri</th>\n",
       "      <td>33</td>\n",
       "    </tr>\n",
       "    <tr>\n",
       "      <th>Vicente_Fox</th>\n",
       "      <td>32</td>\n",
       "    </tr>\n",
       "    <tr>\n",
       "      <th>Roh_Moo-hyun</th>\n",
       "      <td>32</td>\n",
       "    </tr>\n",
       "    <tr>\n",
       "      <th>Kofi_Annan</th>\n",
       "      <td>32</td>\n",
       "    </tr>\n",
       "    <tr>\n",
       "      <th>...</th>\n",
       "      <td>...</td>\n",
       "    </tr>\n",
       "    <tr>\n",
       "      <th>Ilie_Nastase</th>\n",
       "      <td>1</td>\n",
       "    </tr>\n",
       "    <tr>\n",
       "      <th>Ilham_Aliev</th>\n",
       "      <td>1</td>\n",
       "    </tr>\n",
       "    <tr>\n",
       "      <th>Ilan_Goldfajn</th>\n",
       "      <td>1</td>\n",
       "    </tr>\n",
       "    <tr>\n",
       "      <th>Igor_Trunov</th>\n",
       "      <td>1</td>\n",
       "    </tr>\n",
       "    <tr>\n",
       "      <th>Ignatius_Wang</th>\n",
       "      <td>1</td>\n",
       "    </tr>\n",
       "    <tr>\n",
       "      <th>Ignacio_Antonio_Velasco</th>\n",
       "      <td>1</td>\n",
       "    </tr>\n",
       "    <tr>\n",
       "      <th>Idi_Amin</th>\n",
       "      <td>1</td>\n",
       "    </tr>\n",
       "    <tr>\n",
       "      <th>Ibrahim_Rugova</th>\n",
       "      <td>1</td>\n",
       "    </tr>\n",
       "    <tr>\n",
       "      <th>Ibrahim_Hilal</th>\n",
       "      <td>1</td>\n",
       "    </tr>\n",
       "    <tr>\n",
       "      <th>Ibrahim_Haddad</th>\n",
       "      <td>1</td>\n",
       "    </tr>\n",
       "    <tr>\n",
       "      <th>Ibrahim_Al-Marashi</th>\n",
       "      <td>1</td>\n",
       "    </tr>\n",
       "    <tr>\n",
       "      <th>Imre_Kertasz</th>\n",
       "      <td>1</td>\n",
       "    </tr>\n",
       "    <tr>\n",
       "      <th>Infanta_Cristina</th>\n",
       "      <td>1</td>\n",
       "    </tr>\n",
       "    <tr>\n",
       "      <th>Inga_Hall</th>\n",
       "      <td>1</td>\n",
       "    </tr>\n",
       "    <tr>\n",
       "      <th>Irina_Lobacheva</th>\n",
       "      <td>1</td>\n",
       "    </tr>\n",
       "    <tr>\n",
       "      <th>Isidro_Pastor</th>\n",
       "      <td>1</td>\n",
       "    </tr>\n",
       "    <tr>\n",
       "      <th>Isabela_Moraes</th>\n",
       "      <td>1</td>\n",
       "    </tr>\n",
       "    <tr>\n",
       "      <th>Isabel_Orellana</th>\n",
       "      <td>1</td>\n",
       "    </tr>\n",
       "    <tr>\n",
       "      <th>Irwan_Fadzi_Idris</th>\n",
       "      <td>1</td>\n",
       "    </tr>\n",
       "    <tr>\n",
       "      <th>Irv_Nathan</th>\n",
       "      <td>1</td>\n",
       "    </tr>\n",
       "    <tr>\n",
       "      <th>Irina_Yatchenko</th>\n",
       "      <td>1</td>\n",
       "    </tr>\n",
       "    <tr>\n",
       "      <th>Irina_Framtsova</th>\n",
       "      <td>1</td>\n",
       "    </tr>\n",
       "    <tr>\n",
       "      <th>Ingrid_Betancourt</th>\n",
       "      <td>1</td>\n",
       "    </tr>\n",
       "    <tr>\n",
       "      <th>Irfan_Ahmed</th>\n",
       "      <td>1</td>\n",
       "    </tr>\n",
       "    <tr>\n",
       "      <th>Irene_Kahn</th>\n",
       "      <td>1</td>\n",
       "    </tr>\n",
       "    <tr>\n",
       "      <th>Iran_Brown</th>\n",
       "      <td>1</td>\n",
       "    </tr>\n",
       "    <tr>\n",
       "      <th>Ira_Einhorn</th>\n",
       "      <td>1</td>\n",
       "    </tr>\n",
       "    <tr>\n",
       "      <th>Ion_Tiriac</th>\n",
       "      <td>1</td>\n",
       "    </tr>\n",
       "    <tr>\n",
       "      <th>Ion_Iliescu</th>\n",
       "      <td>1</td>\n",
       "    </tr>\n",
       "    <tr>\n",
       "      <th>Zydrunas_Ilgauskas</th>\n",
       "      <td>1</td>\n",
       "    </tr>\n",
       "  </tbody>\n",
       "</table>\n",
       "<p>5749 rows × 1 columns</p>\n",
       "</div>"
      ],
      "text/plain": [
       "                           ImageCount\n",
       "Label                                \n",
       "George_W_Bush                     530\n",
       "Colin_Powell                      236\n",
       "Tony_Blair                        144\n",
       "Donald_Rumsfeld                   121\n",
       "Gerhard_Schroeder                 109\n",
       "Ariel_Sharon                       77\n",
       "Hugo_Chavez                        71\n",
       "Junichiro_Koizumi                  60\n",
       "Jean_Chretien                      55\n",
       "John_Ashcroft                      53\n",
       "Jacques_Chirac                     52\n",
       "Serena_Williams                    52\n",
       "Vladimir_Putin                     49\n",
       "Luiz_Inacio_Lula_da_Silva          48\n",
       "Gloria_Macapagal_Arroyo            44\n",
       "Jennifer_Capriati                  42\n",
       "Arnold_Schwarzenegger              42\n",
       "Laura_Bush                         41\n",
       "Lleyton_Hewitt                     41\n",
       "Hans_Blix                          39\n",
       "Alejandro_Toledo                   39\n",
       "Nestor_Kirchner                    37\n",
       "Andre_Agassi                       36\n",
       "Alvaro_Uribe                       35\n",
       "Silvio_Berlusconi                  33\n",
       "Tom_Ridge                          33\n",
       "Megawati_Sukarnoputri              33\n",
       "Vicente_Fox                        32\n",
       "Roh_Moo-hyun                       32\n",
       "Kofi_Annan                         32\n",
       "...                               ...\n",
       "Ilie_Nastase                        1\n",
       "Ilham_Aliev                         1\n",
       "Ilan_Goldfajn                       1\n",
       "Igor_Trunov                         1\n",
       "Ignatius_Wang                       1\n",
       "Ignacio_Antonio_Velasco             1\n",
       "Idi_Amin                            1\n",
       "Ibrahim_Rugova                      1\n",
       "Ibrahim_Hilal                       1\n",
       "Ibrahim_Haddad                      1\n",
       "Ibrahim_Al-Marashi                  1\n",
       "Imre_Kertasz                        1\n",
       "Infanta_Cristina                    1\n",
       "Inga_Hall                           1\n",
       "Irina_Lobacheva                     1\n",
       "Isidro_Pastor                       1\n",
       "Isabela_Moraes                      1\n",
       "Isabel_Orellana                     1\n",
       "Irwan_Fadzi_Idris                   1\n",
       "Irv_Nathan                          1\n",
       "Irina_Yatchenko                     1\n",
       "Irina_Framtsova                     1\n",
       "Ingrid_Betancourt                   1\n",
       "Irfan_Ahmed                         1\n",
       "Irene_Kahn                          1\n",
       "Iran_Brown                          1\n",
       "Ira_Einhorn                         1\n",
       "Ion_Tiriac                          1\n",
       "Ion_Iliescu                         1\n",
       "Zydrunas_Ilgauskas                  1\n",
       "\n",
       "[5749 rows x 1 columns]"
      ]
     },
     "execution_count": 3,
     "metadata": {},
     "output_type": "execute_result"
    }
   ],
   "source": [
    "df_count = df.groupby('Label').count().sort_values(by = df.columns[0], ascending=False)\n",
    "df_count.columns = ['ImageCount']\n",
    "df_count"
   ]
  },
  {
   "cell_type": "code",
   "execution_count": 4,
   "metadata": {},
   "outputs": [
    {
     "data": {
      "text/html": [
       "<div>\n",
       "<style scoped>\n",
       "    .dataframe tbody tr th:only-of-type {\n",
       "        vertical-align: middle;\n",
       "    }\n",
       "\n",
       "    .dataframe tbody tr th {\n",
       "        vertical-align: top;\n",
       "    }\n",
       "\n",
       "    .dataframe thead th {\n",
       "        text-align: right;\n",
       "    }\n",
       "</style>\n",
       "<table border=\"1\" class=\"dataframe\">\n",
       "  <thead>\n",
       "    <tr style=\"text-align: right;\">\n",
       "      <th></th>\n",
       "      <th>ImageCount</th>\n",
       "    </tr>\n",
       "    <tr>\n",
       "      <th>Label</th>\n",
       "      <th></th>\n",
       "    </tr>\n",
       "  </thead>\n",
       "  <tbody>\n",
       "    <tr>\n",
       "      <th>George_W_Bush</th>\n",
       "      <td>530</td>\n",
       "    </tr>\n",
       "    <tr>\n",
       "      <th>Colin_Powell</th>\n",
       "      <td>236</td>\n",
       "    </tr>\n",
       "    <tr>\n",
       "      <th>Tony_Blair</th>\n",
       "      <td>144</td>\n",
       "    </tr>\n",
       "    <tr>\n",
       "      <th>Donald_Rumsfeld</th>\n",
       "      <td>121</td>\n",
       "    </tr>\n",
       "    <tr>\n",
       "      <th>Gerhard_Schroeder</th>\n",
       "      <td>109</td>\n",
       "    </tr>\n",
       "    <tr>\n",
       "      <th>Ariel_Sharon</th>\n",
       "      <td>77</td>\n",
       "    </tr>\n",
       "    <tr>\n",
       "      <th>Hugo_Chavez</th>\n",
       "      <td>71</td>\n",
       "    </tr>\n",
       "    <tr>\n",
       "      <th>Junichiro_Koizumi</th>\n",
       "      <td>60</td>\n",
       "    </tr>\n",
       "    <tr>\n",
       "      <th>Jean_Chretien</th>\n",
       "      <td>55</td>\n",
       "    </tr>\n",
       "    <tr>\n",
       "      <th>John_Ashcroft</th>\n",
       "      <td>53</td>\n",
       "    </tr>\n",
       "    <tr>\n",
       "      <th>Jacques_Chirac</th>\n",
       "      <td>52</td>\n",
       "    </tr>\n",
       "    <tr>\n",
       "      <th>Serena_Williams</th>\n",
       "      <td>52</td>\n",
       "    </tr>\n",
       "  </tbody>\n",
       "</table>\n",
       "</div>"
      ],
      "text/plain": [
       "                   ImageCount\n",
       "Label                        \n",
       "George_W_Bush             530\n",
       "Colin_Powell              236\n",
       "Tony_Blair                144\n",
       "Donald_Rumsfeld           121\n",
       "Gerhard_Schroeder         109\n",
       "Ariel_Sharon               77\n",
       "Hugo_Chavez                71\n",
       "Junichiro_Koizumi          60\n",
       "Jean_Chretien              55\n",
       "John_Ashcroft              53\n",
       "Jacques_Chirac             52\n",
       "Serena_Williams            52"
      ]
     },
     "execution_count": 4,
     "metadata": {},
     "output_type": "execute_result"
    }
   ],
   "source": [
    "df_filter = df_count[(df_count['ImageCount']) >= 50 ]\n",
    "df_filter"
   ]
  },
  {
   "cell_type": "code",
   "execution_count": 5,
   "metadata": {},
   "outputs": [
    {
     "data": {
      "text/plain": [
       "Index(['George_W_Bush', 'Colin_Powell', 'Tony_Blair', 'Donald_Rumsfeld',\n",
       "       'Gerhard_Schroeder', 'Ariel_Sharon', 'Hugo_Chavez', 'Junichiro_Koizumi',\n",
       "       'Jean_Chretien', 'John_Ashcroft', 'Jacques_Chirac', 'Serena_Williams'],\n",
       "      dtype='object', name='Label')"
      ]
     },
     "execution_count": 5,
     "metadata": {},
     "output_type": "execute_result"
    }
   ],
   "source": [
    "list_index = df_filter.index.tolist()\n",
    "df_filter.index"
   ]
  },
  {
   "cell_type": "code",
   "execution_count": 6,
   "metadata": {},
   "outputs": [
    {
     "data": {
      "text/plain": [
       "(1560, 2)"
      ]
     },
     "execution_count": 6,
     "metadata": {},
     "output_type": "execute_result"
    }
   ],
   "source": [
    "final_df = df.loc[df['Label'].isin(list_index)]\n",
    "final_df.shape"
   ]
  },
  {
   "cell_type": "code",
   "execution_count": 7,
   "metadata": {},
   "outputs": [
    {
     "data": {
      "text/html": [
       "<div>\n",
       "<style scoped>\n",
       "    .dataframe tbody tr th:only-of-type {\n",
       "        vertical-align: middle;\n",
       "    }\n",
       "\n",
       "    .dataframe tbody tr th {\n",
       "        vertical-align: top;\n",
       "    }\n",
       "\n",
       "    .dataframe thead th {\n",
       "        text-align: right;\n",
       "    }\n",
       "</style>\n",
       "<table border=\"1\" class=\"dataframe\">\n",
       "  <thead>\n",
       "    <tr style=\"text-align: right;\">\n",
       "      <th></th>\n",
       "      <th>Image</th>\n",
       "      <th>Label</th>\n",
       "    </tr>\n",
       "  </thead>\n",
       "  <tbody>\n",
       "    <tr>\n",
       "      <th>489</th>\n",
       "      <td>./data/George_W_Bush/George_W_Bush_0394.jpg</td>\n",
       "      <td>George_W_Bush</td>\n",
       "    </tr>\n",
       "    <tr>\n",
       "      <th>490</th>\n",
       "      <td>./data/George_W_Bush/George_W_Bush_0377.jpg</td>\n",
       "      <td>George_W_Bush</td>\n",
       "    </tr>\n",
       "    <tr>\n",
       "      <th>491</th>\n",
       "      <td>./data/George_W_Bush/George_W_Bush_0204.jpg</td>\n",
       "      <td>George_W_Bush</td>\n",
       "    </tr>\n",
       "    <tr>\n",
       "      <th>492</th>\n",
       "      <td>./data/George_W_Bush/George_W_Bush_0203.jpg</td>\n",
       "      <td>George_W_Bush</td>\n",
       "    </tr>\n",
       "    <tr>\n",
       "      <th>493</th>\n",
       "      <td>./data/George_W_Bush/George_W_Bush_0416.jpg</td>\n",
       "      <td>George_W_Bush</td>\n",
       "    </tr>\n",
       "  </tbody>\n",
       "</table>\n",
       "</div>"
      ],
      "text/plain": [
       "                                           Image          Label\n",
       "489  ./data/George_W_Bush/George_W_Bush_0394.jpg  George_W_Bush\n",
       "490  ./data/George_W_Bush/George_W_Bush_0377.jpg  George_W_Bush\n",
       "491  ./data/George_W_Bush/George_W_Bush_0204.jpg  George_W_Bush\n",
       "492  ./data/George_W_Bush/George_W_Bush_0203.jpg  George_W_Bush\n",
       "493  ./data/George_W_Bush/George_W_Bush_0416.jpg  George_W_Bush"
      ]
     },
     "execution_count": 7,
     "metadata": {},
     "output_type": "execute_result"
    }
   ],
   "source": [
    "final_df.head()"
   ]
  },
  {
   "cell_type": "markdown",
   "metadata": {},
   "source": [
    "### Step 2.2: Image Cropping"
   ]
  },
  {
   "cell_type": "code",
   "execution_count": 8,
   "metadata": {},
   "outputs": [],
   "source": [
    "X = []\n",
    "y = []\n",
    "X_dict = {}\n",
    "\n",
    "for index, row in final_df.iterrows():\n",
    "    local_image =cv2.cvtColor( cv2.imread(row[0]) , cv2.COLOR_BGR2RGB)\n",
    "    resized_image = cv2.resize(local_image, (96, 96))\n",
    "    resized_image = resized_image[10:86,10:86]\n",
    "    if row[1] not in X_dict:\n",
    "        X_dict[row[1]] = [resized_image]\n",
    "    else:\n",
    "        X_dict[row[1]].append(resized_image)\n",
    "    X.append( resized_image)\n",
    "    y.append(row[1])"
   ]
  },
  {
   "cell_type": "code",
   "execution_count": 9,
   "metadata": {},
   "outputs": [
    {
     "data": {
      "text/plain": [
       "<matplotlib.axes._subplots.AxesSubplot at 0x7fc3110be128>"
      ]
     },
     "execution_count": 9,
     "metadata": {},
     "output_type": "execute_result"
    },
    {
     "data": {
      "image/png": "[encoded data removed]",
      "text/plain": [
       "<matplotlib.figure.Figure at 0x7fc31111ad30>"
      ]
     },
     "metadata": {},
     "output_type": "display_data"
    }
   ],
   "source": [
    "sns.countplot(y = y)"
   ]
  },
  {
   "cell_type": "markdown",
   "metadata": {},
   "source": [
    "### Step 2.3 Image Augmentation and Class Balancing"
   ]
  },
  {
   "cell_type": "code",
   "execution_count": 10,
   "metadata": {},
   "outputs": [],
   "source": [
    "def imgAug(img):\n",
    "    result  = 255 *  transform.rotate(img, angle=np.random.uniform(-30,30), mode='edge')\n",
    "    result = result.astype(np.uint8)\n",
    "    return result"
   ]
  },
  {
   "cell_type": "code",
   "execution_count": 11,
   "metadata": {},
   "outputs": [],
   "source": [
    "median = 400\n",
    "X_updated = {}\n",
    "X_augmented = []\n",
    "y_augmented = []\n",
    "for key, value in X_dict.items():\n",
    "    if len(value) < 400:\n",
    "        temp_values  = []\n",
    "        for every_value in value:\n",
    "            temp_values.append(every_value)\n",
    "        i=0\n",
    "        while(len(temp_values) != 400):\n",
    "            if(i< len(value)):\n",
    "                temp_image = imgAug(value[i])\n",
    "                temp_values.append(temp_image)\n",
    "                i=i+1\n",
    "            else:\n",
    "                i=0\n",
    "        for every_value in temp_values:\n",
    "            X_augmented.append(every_value)\n",
    "            \n",
    "        for j in range(len(temp_values)):\n",
    "            y_augmented.append(key)\n",
    "    else:\n",
    "        temp_values = value[:400]\n",
    "        for every_value in temp_values:\n",
    "            X_augmented.append(every_value)\n",
    "        for j in range(len(temp_values)):\n",
    "            y_augmented.append(key)"
   ]
  },
  {
   "cell_type": "code",
   "execution_count": 12,
   "metadata": {},
   "outputs": [
    {
     "data": {
      "text/plain": [
       "(4800, 76, 76, 3)"
      ]
     },
     "execution_count": 12,
     "metadata": {},
     "output_type": "execute_result"
    }
   ],
   "source": [
    "np.array(X_augmented).shape"
   ]
  },
  {
   "cell_type": "code",
   "execution_count": 13,
   "metadata": {},
   "outputs": [
    {
     "data": {
      "text/plain": [
       "<matplotlib.axes._subplots.AxesSubplot at 0x7fc310fda4a8>"
      ]
     },
     "execution_count": 13,
     "metadata": {},
     "output_type": "execute_result"
    },
    {
     "data": {
      "image/png": "[encoded data removed]",
      "text/plain": [
       "<matplotlib.figure.Figure at 0x7fc31109ba58>"
      ]
     },
     "metadata": {},
     "output_type": "display_data"
    }
   ],
   "source": [
    "sns.countplot(y=y_augmented)"
   ]
  },
  {
   "cell_type": "code",
   "execution_count": 14,
   "metadata": {},
   "outputs": [],
   "source": [
    "X = np.array(X_augmented)\n",
    "y = np.array(y_augmented)"
   ]
  },
  {
   "cell_type": "code",
   "execution_count": 15,
   "metadata": {},
   "outputs": [
    {
     "data": {
      "text/plain": [
       "<matplotlib.image.AxesImage at 0x7fc30be1e828>"
      ]
     },
     "execution_count": 15,
     "metadata": {},
     "output_type": "execute_result"
    },
    {
     "data": {
      "image/png": "[encoded data removed]",
      "text/plain": [
       "<matplotlib.figure.Figure at 0x7fc310e8f0f0>"
      ]
     },
     "metadata": {},
     "output_type": "display_data"
    }
   ],
   "source": [
    "plt.imshow(X[0])"
   ]
  },
  {
   "cell_type": "code",
   "execution_count": 16,
   "metadata": {},
   "outputs": [
    {
     "data": {
      "text/plain": [
       "(4800, 76, 76, 3)"
      ]
     },
     "execution_count": 16,
     "metadata": {},
     "output_type": "execute_result"
    },
    {
     "data": {
      "image/png": "[encoded data removed]",
      "text/plain": [
       "<matplotlib.figure.Figure at 0x7fc30be669e8>"
      ]
     },
     "metadata": {},
     "output_type": "display_data"
    }
   ],
   "source": [
    "plt.imshow(X[789])\n",
    "X.shape"
   ]
  },
  {
   "cell_type": "markdown",
   "metadata": {},
   "source": [
    "## Step 3: One Hot Encoding Labels"
   ]
  },
  {
   "cell_type": "code",
   "execution_count": 17,
   "metadata": {},
   "outputs": [
    {
     "name": "stdout",
     "output_type": "stream",
     "text": [
      "(4800,)\n",
      "(4800, 1)\n",
      "(4800, 12)\n"
     ]
    }
   ],
   "source": [
    "from sklearn.preprocessing import OneHotEncoder, LabelEncoder\n",
    "lblEncoder = LabelEncoder()\n",
    "y = lblEncoder.fit_transform(y)\n",
    "print(y.shape)\n",
    "y = y.reshape(len(y), 1)\n",
    "print(y.shape)\n",
    "onehot = OneHotEncoder(sparse=False)\n",
    "y = onehot.fit_transform(y)\n",
    "print(y.shape)"
   ]
  },
  {
   "cell_type": "code",
   "execution_count": 18,
   "metadata": {},
   "outputs": [
    {
     "data": {
      "text/plain": [
       "(76, 76, 3)"
      ]
     },
     "execution_count": 18,
     "metadata": {},
     "output_type": "execute_result"
    }
   ],
   "source": [
    "X[0].shape"
   ]
  },
  {
   "cell_type": "markdown",
   "metadata": {},
   "source": [
    "## Step 4: Train Test Split"
   ]
  },
  {
   "cell_type": "code",
   "execution_count": 20,
   "metadata": {},
   "outputs": [],
   "source": [
    "from sklearn.model_selection import train_test_split\n",
    "X_train, X_test , y_train, y_test = train_test_split(X, y, test_size = 0.1, shuffle=True)"
   ]
  },
  {
   "cell_type": "markdown",
   "metadata": {},
   "source": [
    "## Step 5: Modelling Data using CNN"
   ]
  },
  {
   "cell_type": "code",
   "execution_count": 55,
   "metadata": {},
   "outputs": [],
   "source": [
    "import tensorflow as tf\n",
    "from tensorflow import keras\n",
    "from keras.models import Sequential\n",
    "from keras.layers import Dense, MaxPool2D, Convolution2D, Lambda, Flatten, Dropout\n",
    "from keras.callbacks import History\n",
    "from keras.optimizers import Adam"
   ]
  },
  {
   "cell_type": "code",
   "execution_count": 29,
   "metadata": {},
   "outputs": [],
   "source": [
    "model = Sequential()\n",
    "model.add(Lambda(lambda x: x / 255.0 - 0.5, input_shape= (76,76,3)))\n",
    "model.add(Convolution2D(filters= 3 , kernel_size= 3 , strides= (1,1) , padding='same', activation='relu' ))\n",
    "model.add(Convolution2D(filters= 8 , kernel_size= 3 , strides= (1,1) , padding='valid', activation='relu' ))\n",
    "model.add(Convolution2D(filters= 32 , kernel_size= 3 , strides= (1,1) , padding='valid', activation='relu' ))\n",
    "model.add(MaxPool2D(pool_size=(2,2) , strides=2))\n",
    "model.add(Convolution2D(filters= 64 , kernel_size= 3 , strides= (1,1) , padding='valid', activation='relu' ))\n",
    "model.add(Flatten())\n",
    "model.add(Dense(256, activation='relu'))\n",
    "model.add(Dropout(0.2))\n",
    "\n",
    "model.add(Dense(32, activation='relu'))\n",
    "model.add(Dropout(0.2))\n",
    "model.add(Dense(12, activation='softmax'))"
   ]
  },
  {
   "cell_type": "code",
   "execution_count": 30,
   "metadata": {},
   "outputs": [],
   "source": [
    "model.compile(optimizer=Adam(lr = 0.0001), loss = 'categorical_crossentropy', metrics = ['accuracy'])"
   ]
  },
  {
   "cell_type": "code",
   "execution_count": 32,
   "metadata": {},
   "outputs": [
    {
     "name": "stdout",
     "output_type": "stream",
     "text": [
      "Train on 3888 samples, validate on 432 samples\n",
      "Epoch 1/10\n",
      "3888/3888 [==============================] - 5s 1ms/step - loss: 1.9289 - acc: 0.3387 - val_loss: 1.5046 - val_acc: 0.5556\n",
      "Epoch 2/10\n",
      "3888/3888 [==============================] - 5s 1ms/step - loss: 1.4286 - acc: 0.5244 - val_loss: 1.0158 - val_acc: 0.7060\n",
      "Epoch 3/10\n",
      "3888/3888 [==============================] - 5s 1ms/step - loss: 1.0594 - acc: 0.6548 - val_loss: 0.7003 - val_acc: 0.8125\n",
      "Epoch 4/10\n",
      "3888/3888 [==============================] - 5s 1ms/step - loss: 0.7486 - acc: 0.7572 - val_loss: 0.5624 - val_acc: 0.8565\n",
      "Epoch 5/10\n",
      "3888/3888 [==============================] - 5s 1ms/step - loss: 0.5838 - acc: 0.8089 - val_loss: 0.4227 - val_acc: 0.8843\n",
      "Epoch 6/10\n",
      "3888/3888 [==============================] - 5s 1ms/step - loss: 0.4444 - acc: 0.8516 - val_loss: 0.4054 - val_acc: 0.8704\n",
      "Epoch 7/10\n",
      "3888/3888 [==============================] - 5s 1ms/step - loss: 0.3639 - acc: 0.8755 - val_loss: 0.3655 - val_acc: 0.8912\n",
      "Epoch 8/10\n",
      "3888/3888 [==============================] - 5s 1ms/step - loss: 0.2986 - acc: 0.9020 - val_loss: 0.3483 - val_acc: 0.9120\n",
      "Epoch 9/10\n",
      "3888/3888 [==============================] - 5s 1ms/step - loss: 0.2452 - acc: 0.9198 - val_loss: 0.3686 - val_acc: 0.8866\n",
      "Epoch 10/10\n",
      "3888/3888 [==============================] - 5s 1ms/step - loss: 0.2024 - acc: 0.9352 - val_loss: 0.3312 - val_acc: 0.9120\n"
     ]
    },
    {
     "data": {
      "text/plain": [
       "<keras.callbacks.History at 0x7fc2654eda58>"
      ]
     },
     "execution_count": 32,
     "metadata": {},
     "output_type": "execute_result"
    }
   ],
   "source": [
    "model.fit(X_train,y_train , validation_split= 0.1 , verbose=1, epochs= 10, batch_size=16)"
   ]
  },
  {
   "cell_type": "markdown",
   "metadata": {},
   "source": [
    "## Step 6: Saving Model for Later Use"
   ]
  },
  {
   "cell_type": "code",
   "execution_count": 33,
   "metadata": {},
   "outputs": [
    {
     "name": "stdout",
     "output_type": "stream",
     "text": [
      "_________________________________________________________________\n",
      "Layer (type)                 Output Shape              Param #   \n",
      "=================================================================\n",
      "lambda_4 (Lambda)            (None, 76, 76, 3)         0         \n",
      "_________________________________________________________________\n",
      "conv2d_13 (Conv2D)           (None, 76, 76, 3)         84        \n",
      "_________________________________________________________________\n",
      "conv2d_14 (Conv2D)           (None, 74, 74, 8)         224       \n",
      "_________________________________________________________________\n",
      "conv2d_15 (Conv2D)           (None, 72, 72, 32)        2336      \n",
      "_________________________________________________________________\n",
      "max_pooling2d_4 (MaxPooling2 (None, 36, 36, 32)        0         \n",
      "_________________________________________________________________\n",
      "conv2d_16 (Conv2D)           (None, 34, 34, 64)        18496     \n",
      "_________________________________________________________________\n",
      "flatten_3 (Flatten)          (None, 73984)             0         \n",
      "_________________________________________________________________\n",
      "dense_5 (Dense)              (None, 256)               18940160  \n",
      "_________________________________________________________________\n",
      "dropout_1 (Dropout)          (None, 256)               0         \n",
      "_________________________________________________________________\n",
      "dense_6 (Dense)              (None, 32)                8224      \n",
      "_________________________________________________________________\n",
      "dropout_2 (Dropout)          (None, 32)                0         \n",
      "_________________________________________________________________\n",
      "dense_7 (Dense)              (None, 12)                396       \n",
      "=================================================================\n",
      "Total params: 18,969,920\n",
      "Trainable params: 18,969,920\n",
      "Non-trainable params: 0\n",
      "_________________________________________________________________\n"
     ]
    }
   ],
   "source": [
    "model.summary()"
   ]
  },
  {
   "cell_type": "code",
   "execution_count": 34,
   "metadata": {},
   "outputs": [],
   "source": [
    "model.save('model_v1.h5')"
   ]
  },
  {
   "cell_type": "markdown",
   "metadata": {},
   "source": [
    "## Step 8: Visualizing Losses and Accuracy"
   ]
  },
  {
   "cell_type": "code",
   "execution_count": 66,
   "metadata": {},
   "outputs": [
    {
     "data": {
      "image/png": "[encoded data removed]",
      "text/plain": [
       "<matplotlib.figure.Figure at 0x7fc25eb8c588>"
      ]
     },
     "metadata": {},
     "output_type": "display_data"
    }
   ],
   "source": [
    "val_loss = model.model.history.history['val_loss']\n",
    "tra_loss = model.model.history.history['loss']\n",
    "\n",
    "plt.plot(val_loss)\n",
    "plt.plot(tra_loss)\n",
    "plt.xlabel('Epoch')\n",
    "plt.ylabel('Loss')\n",
    "plt.title('Loss Curve')\n",
    "plt.legend(['Validation Loss', 'Training Loss'])\n",
    "plt.show()"
   ]
  },
  {
   "cell_type": "code",
   "execution_count": 67,
   "metadata": {},
   "outputs": [
    {
     "data": {
      "image/png": "[encoded data removed]",
      "text/plain": [
       "<matplotlib.figure.Figure at 0x7fc25c2ca400>"
      ]
     },
     "metadata": {},
     "output_type": "display_data"
    }
   ],
   "source": [
    "val_acc = model.model.history.history['val_acc']\n",
    "tra_acc = model.model.history.history['acc']\n",
    "\n",
    "plt.plot(val_acc)\n",
    "plt.plot(tra_acc)\n",
    "plt.xlabel('Epoch')\n",
    "plt.ylabel('Accuracy')\n",
    "plt.title('Loss Curve')\n",
    "plt.legend(['Validation Accuracy', 'Training Accuracy'])\n",
    "plt.show()"
   ]
  },
  {
   "cell_type": "markdown",
   "metadata": {},
   "source": [
    "## Step 9: Testing Trained Neural Network"
   ]
  },
  {
   "cell_type": "code",
   "execution_count": 39,
   "metadata": {},
   "outputs": [],
   "source": [
    "from tensorflow import keras\n",
    "from keras.models import load_model"
   ]
  },
  {
   "cell_type": "code",
   "execution_count": 40,
   "metadata": {},
   "outputs": [],
   "source": [
    "saved_model = load_model('model_v1.h5')"
   ]
  },
  {
   "cell_type": "code",
   "execution_count": 45,
   "metadata": {},
   "outputs": [],
   "source": [
    "y_pred = saved_model.predict(x = X_test , batch_size= 16)"
   ]
  },
  {
   "cell_type": "code",
   "execution_count": 50,
   "metadata": {},
   "outputs": [],
   "source": [
    "from sklearn.metrics import classification_report, confusion_matrix, accuracy_score"
   ]
  },
  {
   "cell_type": "code",
   "execution_count": 49,
   "metadata": {},
   "outputs": [
    {
     "name": "stdout",
     "output_type": "stream",
     "text": [
      "             precision    recall  f1-score   support\n",
      "\n",
      "          0       0.84      0.97      0.90        38\n",
      "          1       0.88      0.82      0.85        55\n",
      "          2       0.87      0.79      0.82        42\n",
      "          3       0.83      0.92      0.87        37\n",
      "          4       0.88      0.91      0.89        56\n",
      "          5       0.85      0.91      0.88        32\n",
      "          6       0.89      1.00      0.94        32\n",
      "          7       0.91      0.94      0.92        51\n",
      "          8       0.91      0.97      0.94        31\n",
      "          9       0.94      0.97      0.95        30\n",
      "         10       0.97      1.00      0.98        30\n",
      "         11       0.90      0.59      0.71        46\n",
      "\n",
      "avg / total       0.89      0.89      0.88       480\n",
      "\n"
     ]
    }
   ],
   "source": [
    "print(classification_report( np.argmax(y_test,1) , np.argmax(y_pred,1)))"
   ]
  },
  {
   "cell_type": "code",
   "execution_count": 52,
   "metadata": {},
   "outputs": [
    {
     "name": "stdout",
     "output_type": "stream",
     "text": [
      "Test Accuracy: 0.8854166666666666\n"
     ]
    }
   ],
   "source": [
    "print('Test Accuracy:',accuracy_score(np.argmax(y_test,1) , np.argmax(y_pred,1)))"
   ]
  },
  {
   "cell_type": "code",
   "execution_count": 53,
   "metadata": {},
   "outputs": [
    {
     "name": "stdout",
     "output_type": "stream",
     "text": [
      "[[37  0  0  0  0  0  0  1  0  0  0  0]\n",
      " [ 2 45  3  1  0  0  2  0  0  0  0  2]\n",
      " [ 2  3 33  1  0  1  0  2  0  0  0  0]\n",
      " [ 0  1  1 34  0  1  0  0  0  0  0  0]\n",
      " [ 0  0  0  1 51  2  1  0  1  0  0  0]\n",
      " [ 0  1  0  0  2 29  0  0  0  0  0  0]\n",
      " [ 0  0  0  0  0  0 32  0  0  0  0  0]\n",
      " [ 2  0  0  0  0  0  1 48  0  0  0  0]\n",
      " [ 0  0  0  0  0  0  0  0 30  0  0  1]\n",
      " [ 0  0  0  0  1  0  0  0  0 29  0  0]\n",
      " [ 0  0  0  0  0  0  0  0  0  0 30  0]\n",
      " [ 1  1  1  4  4  1  0  2  2  2  1 27]]\n"
     ]
    }
   ],
   "source": [
    "print(confusion_matrix(np.argmax(y_test,1) , np.argmax(y_pred,1)))"
   ]
  },
  {
   "cell_type": "code",
   "execution_count": null,
   "metadata": {},
   "outputs": [],
   "source": []
  }
 ],
 "metadata": {
  "kernelspec": {
   "display_name": "Python 3",
   "language": "python",
   "name": "python3"
  },
  "language_info": {
   "codemirror_mode": {
    "name": "ipython",
    "version": 3
   },
   "file_extension": ".py",
   "mimetype": "text/x-python",
   "name": "python",
   "nbconvert_exporter": "python",
   "pygments_lexer": "ipython3",
   "version": "3.6.3"
  }
 },
 "nbformat": 4,
 "nbformat_minor": 2
}
